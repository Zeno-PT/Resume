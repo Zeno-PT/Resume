{
  "nbformat": 4,
  "nbformat_minor": 0,
  "metadata": {
    "colab": {
      "name": "X-ray-image.ipynb",
      "provenance": [],
      "collapsed_sections": [
        "QnKnpB1xDe0U",
        "DgKuTCMZLBPV",
        "CNeviRZQ6483",
        "QGoGuON_RYQU",
        "PY_FPQhXEeiO",
        "uyzuoKUyI7r-",
        "Cag9lVN8C7vx",
        "A18nkaZn26P3",
        "NhUXsh533inM"
      ]
    },
    "kernelspec": {
      "name": "python3",
      "display_name": "Python 3"
    },
    "language_info": {
      "name": "python"
    },
    "accelerator": "GPU"
  },
  "cells": [
    {
      "cell_type": "code",
      "metadata": {
        "id": "PC9cyqQRB6RV",
        "colab": {
          "base_uri": "https://localhost:8080/"
        },
        "outputId": "ed3e71c6-0d80-4f63-b86d-1bceea71bf18"
      },
      "source": [
        "from google.colab import drive\n",
        "drive.mount('/content/gdrive/')"
      ],
      "execution_count": 1,
      "outputs": [
        {
          "output_type": "stream",
          "name": "stdout",
          "text": [
            "Drive already mounted at /content/gdrive/; to attempt to forcibly remount, call drive.mount(\"/content/gdrive/\", force_remount=True).\n"
          ]
        }
      ]
    },
    {
      "cell_type": "markdown",
      "metadata": {
        "id": "QnKnpB1xDe0U"
      },
      "source": [
        "# Download data from kaggle"
      ]
    },
    {
      "cell_type": "code",
      "metadata": {
        "id": "2ecWvItCDeYE"
      },
      "source": [
        "! pip install kaggle\n",
        "! mkdir ~/.kaggle\n",
        "! cp kaggle.json ~/.kaggle/\n",
        "! chmod 600 ~/.kaggle/kaggle.json"
      ],
      "execution_count": null,
      "outputs": []
    },
    {
      "cell_type": "code",
      "metadata": {
        "id": "JzHbad8yDyZ1"
      },
      "source": [
        "! kaggle datasets download raddar/tuberculosis-chest-xrays-shenzhen"
      ],
      "execution_count": null,
      "outputs": []
    },
    {
      "cell_type": "code",
      "metadata": {
        "id": "OCJrPNOTEte-"
      },
      "source": [
        "!unzip \"/content/tuberculosis-chest-xrays-shenzhen.zip\" -d \"/content/gdrive/MyDrive/Year3/Indiv/\""
      ],
      "execution_count": null,
      "outputs": []
    },
    {
      "cell_type": "markdown",
      "metadata": {
        "id": "cOCM-4TKK7Fl"
      },
      "source": [
        "# Import"
      ]
    },
    {
      "cell_type": "code",
      "metadata": {
        "id": "Z5oia9XtK1GM"
      },
      "source": [
        "import copy\n",
        "import cv2\n",
        "import matplotlib.pyplot as plt\n",
        "import numpy as np\n",
        "import os\n",
        "import pandas as pd\n",
        "import seaborn as sns\n",
        "import time\n",
        "import torch\n",
        "import torch.nn as nn\n",
        "import torch.nn.functional as F\n",
        "import torch.optim as optim\n",
        "import torchvision\n",
        "import torchvision.models as models\n",
        "from numpy import savetxt\n",
        "%matplotlib inline\n",
        "from sklearn import metrics\n",
        "from sklearn.linear_model import LogisticRegression\n",
        "from sklearn.neighbors import KNeighborsClassifier\n",
        "from sklearn.metrics import accuracy_score,confusion_matrix,ConfusionMatrixDisplay # metrics error\n",
        "from sklearn.model_selection import train_test_split # resampling method\n",
        "from torch.autograd import Variable\n",
        "from torch.nn import Linear, ReLU, CrossEntropyLoss, Sequential, Conv2d, MaxPool2d, Module, Softmax, BatchNorm2d, Dropout, AdaptiveAvgPool2d, Flatten\n",
        "from torch.optim import Adam, SGD\n",
        "from torch.optim.lr_scheduler import ReduceLROnPlateau\n",
        "from torch.utils.data import Dataset, DataLoader\n",
        "from torchvision.utils import make_grid\n",
        "from torchvision import *"
      ],
      "execution_count": 2,
      "outputs": []
    },
    {
      "cell_type": "code",
      "metadata": {
        "colab": {
          "base_uri": "https://localhost:8080/"
        },
        "id": "at3WMhXJ40mn",
        "outputId": "fce15ea2-14fa-4e8b-b39c-9a6de49786d9"
      },
      "source": [
        "def format_cuda_version(version):\n",
        "    return 'cu' + version.replace('.', '')\n",
        "CUDA_version = torch.version.cuda\n",
        "CUDA = format_cuda_version(CUDA_version)\n",
        "device = torch.device('cuda' if torch.cuda.is_available() else 'cpu')\n",
        "device"
      ],
      "execution_count": 3,
      "outputs": [
        {
          "output_type": "execute_result",
          "data": {
            "text/plain": [
              "device(type='cuda')"
            ]
          },
          "metadata": {},
          "execution_count": 3
        }
      ]
    },
    {
      "cell_type": "markdown",
      "metadata": {
        "id": "DgKuTCMZLBPV"
      },
      "source": [
        "# Create dataframe"
      ]
    },
    {
      "cell_type": "code",
      "metadata": {
        "id": "nDEVeA_jFrY9",
        "colab": {
          "base_uri": "https://localhost:8080/"
        },
        "outputId": "e925a61c-60b4-48e6-f1de-9107ab955142"
      },
      "source": [
        "# creating a data frame\n",
        "df = pd.read_csv(\"/content/gdrive/MyDrive/Year3/Indiv/shenzhen_metadata.csv\")\n",
        "print(df.head())\n",
        "print(df.tail())"
      ],
      "execution_count": null,
      "outputs": [
        {
          "output_type": "stream",
          "name": "stdout",
          "text": [
            "            study_id     sex  age findings\n",
            "0  CHNCXR_0001_0.png    Male   45   normal\n",
            "1  CHNCXR_0002_0.png    Male   63   normal\n",
            "2  CHNCXR_0003_0.png  Female   48   normal\n",
            "3  CHNCXR_0004_0.png    Male   58   normal\n",
            "4  CHNCXR_0005_0.png    Male   28   normal\n",
            "              study_id  ...                                           findings\n",
            "657  CHNCXR_0658_1.png  ...   bilateral secondary PTB  with right pneumothorax\n",
            "658  CHNCXR_0659_1.png  ...             secondary PTB  in the left upper field\n",
            "659  CHNCXR_0660_1.png  ...  1.bilateral secondary PTB  with right upper at...\n",
            "660  CHNCXR_0661_1.png  ...  bilateral secondary PTB  with right pleural th...\n",
            "661  CHNCXR_0662_1.png  ...            secondary PTB  in the right upper field\n",
            "\n",
            "[5 rows x 4 columns]\n"
          ]
        }
      ]
    },
    {
      "cell_type": "code",
      "metadata": {
        "id": "OHnzVV4ZOyXu"
      },
      "source": [
        "row = len(df)\n",
        "column = len(df.columns)"
      ],
      "execution_count": null,
      "outputs": []
    },
    {
      "cell_type": "code",
      "metadata": {
        "id": "i3Jf6GUCLhxV",
        "colab": {
          "base_uri": "https://localhost:8080/",
          "height": 35
        },
        "outputId": "c06239ea-32a8-41e3-cd18-bc6af523ba16"
      },
      "source": [
        "df['study_id'][0]"
      ],
      "execution_count": null,
      "outputs": [
        {
          "output_type": "execute_result",
          "data": {
            "application/vnd.google.colaboratory.intrinsic+json": {
              "type": "string"
            },
            "text/plain": [
              "'CHNCXR_0001_0.png'"
            ]
          },
          "metadata": {},
          "execution_count": 5
        }
      ]
    },
    {
      "cell_type": "code",
      "metadata": {
        "id": "Yydz9GQP1gzW"
      },
      "source": [
        "ex = cv2.imread(\"/content/gdrive/MyDrive/Year3/Indiv/images/images/\"+df['study_id'][200],0)\n",
        "ex1 = ex.shape[0]\n",
        "ex2 = ex.shape[1]"
      ],
      "execution_count": null,
      "outputs": []
    },
    {
      "cell_type": "code",
      "metadata": {
        "colab": {
          "base_uri": "https://localhost:8080/"
        },
        "id": "sOrEc8XC2GHR",
        "outputId": "9c1a49d7-a8bd-4c5d-efee-081ba4051cd7"
      },
      "source": [
        "ex1"
      ],
      "execution_count": null,
      "outputs": [
        {
          "output_type": "execute_result",
          "data": {
            "text/plain": [
              "1583"
            ]
          },
          "metadata": {},
          "execution_count": 7
        }
      ]
    },
    {
      "cell_type": "code",
      "metadata": {
        "colab": {
          "base_uri": "https://localhost:8080/"
        },
        "id": "FKatid8GHQtG",
        "outputId": "dfa3626c-0485-4671-9617-d96b5e14c92e"
      },
      "source": [
        "# add image to dataframe\n",
        "image = np.ndarray(shape=(row,224,224),dtype=np.uint8)\n",
        "for i in range(row):\n",
        "  a = cv2.imread(\"/content/gdrive/MyDrive/Year3/Indiv/images/images/\"+df['study_id'][i],0) # each image has different size\n",
        "  print(df['study_id'][i],a.shape)\n",
        "  are = cv2.resize(a, (224,224), interpolation = cv2.INTER_AREA) # reshape all image to (224,224)\n",
        "  #a = cv2.cvtColor(a, cv2.COLOR_BGR2RGB)\n",
        "  filename = \"/content/gdrive/MyDrive/Year3/Indiv/images/images_224/\"+df['study_id'][i]+\"_224\"\n",
        "  cv2.imwrite(filename, are)\n",
        "  image[i,:,:]=are\n",
        "#df['image']=image"
      ],
      "execution_count": null,
      "outputs": [
        {
          "output_type": "stream",
          "name": "stdout",
          "text": [
            "CHNCXR_0001_0.png (2919, 3000)\n",
            "CHNCXR_0002_0.png (2951, 3000)\n",
            "CHNCXR_0003_0.png (2945, 2987)\n",
            "CHNCXR_0004_0.png (2933, 3000)\n",
            "CHNCXR_0005_0.png (2933, 3000)\n",
            "CHNCXR_0006_0.png (2948, 2775)\n",
            "CHNCXR_0007_0.png (2320, 2306)\n",
            "CHNCXR_0008_0.png (2937, 3000)\n",
            "CHNCXR_0009_0.png (2942, 2516)\n",
            "CHNCXR_0010_0.png (2947, 3000)\n",
            "CHNCXR_0011_0.png (2921, 3000)\n",
            "CHNCXR_0012_0.png (2959, 3000)\n",
            "CHNCXR_0013_0.png (2937, 3000)\n",
            "CHNCXR_0014_0.png (2919, 3000)\n",
            "CHNCXR_0015_0.png (2941, 3000)\n",
            "CHNCXR_0016_0.png (2943, 3000)\n",
            "CHNCXR_0017_0.png (2908, 2789)\n",
            "CHNCXR_0018_0.png (2907, 2991)\n",
            "CHNCXR_0019_0.png (2941, 3000)\n",
            "CHNCXR_0020_0.png (2555, 2760)\n",
            "CHNCXR_0021_0.png (2953, 2868)\n",
            "CHNCXR_0022_0.png (2951, 3000)\n",
            "CHNCXR_0023_0.png (2937, 3000)\n",
            "CHNCXR_0024_0.png (2951, 3000)\n",
            "CHNCXR_0025_0.png (2937, 3000)\n",
            "CHNCXR_0026_0.png (2933, 3000)\n",
            "CHNCXR_0027_0.png (2925, 2997)\n",
            "CHNCXR_0028_0.png (2941, 3000)\n",
            "CHNCXR_0029_0.png (2935, 3000)\n",
            "CHNCXR_0030_0.png (2461, 2357)\n",
            "CHNCXR_0031_0.png (2939, 2989)\n",
            "CHNCXR_0032_0.png (2927, 3000)\n",
            "CHNCXR_0033_0.png (2957, 3000)\n",
            "CHNCXR_0034_0.png (2600, 2395)\n",
            "CHNCXR_0035_0.png (2933, 3000)\n",
            "CHNCXR_0036_0.png (2951, 3000)\n",
            "CHNCXR_0037_0.png (2963, 3000)\n",
            "CHNCXR_0038_0.png (3000, 2744)\n",
            "CHNCXR_0039_0.png (3001, 2844)\n",
            "CHNCXR_0040_0.png (2941, 3000)\n",
            "CHNCXR_0041_0.png (2481, 2498)\n",
            "CHNCXR_0042_0.png (2943, 3000)\n",
            "CHNCXR_0043_0.png (2939, 3000)\n",
            "CHNCXR_0044_0.png (2308, 2308)\n",
            "CHNCXR_0045_0.png (2941, 3000)\n",
            "CHNCXR_0046_0.png (2931, 3000)\n",
            "CHNCXR_0047_0.png (2927, 2699)\n",
            "CHNCXR_0048_0.png (2949, 3000)\n",
            "CHNCXR_0049_0.png (2931, 2996)\n",
            "CHNCXR_0050_0.png (2947, 3000)\n",
            "CHNCXR_0051_0.png (2935, 2985)\n",
            "CHNCXR_0052_0.png (2548, 2419)\n",
            "CHNCXR_0053_0.png (2890, 2531)\n",
            "CHNCXR_0054_0.png (2933, 3000)\n",
            "CHNCXR_0055_0.png (2941, 2739)\n",
            "CHNCXR_0056_0.png (2947, 3000)\n",
            "CHNCXR_0057_0.png (2941, 3000)\n",
            "CHNCXR_0058_0.png (2937, 3000)\n",
            "CHNCXR_0059_0.png (2947, 3000)\n",
            "CHNCXR_0060_0.png (2931, 3000)\n",
            "CHNCXR_0061_0.png (2955, 3000)\n",
            "CHNCXR_0062_0.png (2943, 3000)\n",
            "CHNCXR_0063_0.png (2939, 3000)\n",
            "CHNCXR_0064_0.png (2943, 3000)\n",
            "CHNCXR_0065_0.png (2945, 2996)\n",
            "CHNCXR_0066_0.png (2941, 3000)\n",
            "CHNCXR_0067_0.png (2941, 2996)\n",
            "CHNCXR_0068_0.png (2939, 3000)\n",
            "CHNCXR_0069_0.png (2406, 2631)\n",
            "CHNCXR_0070_0.png (2617, 2486)\n",
            "CHNCXR_0071_0.png (2452, 2384)\n",
            "CHNCXR_0072_0.png (2731, 2733)\n",
            "CHNCXR_0073_0.png (2949, 3000)\n",
            "CHNCXR_0074_0.png (989, 1255)\n",
            "CHNCXR_0075_0.png (1110, 1233)\n",
            "CHNCXR_0076_0.png (1136, 1250)\n",
            "CHNCXR_0077_0.png (2939, 3000)\n",
            "CHNCXR_0078_0.png (2967, 3000)\n",
            "CHNCXR_0079_0.png (2943, 3000)\n",
            "CHNCXR_0080_0.png (2955, 3000)\n",
            "CHNCXR_0081_0.png (2947, 3000)\n",
            "CHNCXR_0082_0.png (2945, 3000)\n",
            "CHNCXR_0083_0.png (2947, 3000)\n",
            "CHNCXR_0084_0.png (2944, 2739)\n",
            "CHNCXR_0085_0.png (2949, 3000)\n",
            "CHNCXR_0086_0.png (2951, 3000)\n",
            "CHNCXR_0087_0.png (3001, 2679)\n",
            "CHNCXR_0088_0.png (2954, 2788)\n",
            "CHNCXR_0089_0.png (2685, 2674)\n",
            "CHNCXR_0090_0.png (2931, 2786)\n",
            "CHNCXR_0091_0.png (2968, 2587)\n",
            "CHNCXR_0092_0.png (2652, 2796)\n",
            "CHNCXR_0093_0.png (2960, 2776)\n",
            "CHNCXR_0094_0.png (2945, 3000)\n",
            "CHNCXR_0095_0.png (2949, 3000)\n",
            "CHNCXR_0096_0.png (2080, 2119)\n",
            "CHNCXR_0097_0.png (2203, 2260)\n",
            "CHNCXR_0098_0.png (2951, 3000)\n",
            "CHNCXR_0099_0.png (2804, 2415)\n",
            "CHNCXR_0100_0.png (2562, 2419)\n",
            "CHNCXR_0101_0.png (3001, 3000)\n",
            "CHNCXR_0102_0.png (2405, 2128)\n",
            "CHNCXR_0103_0.png (2946, 2238)\n",
            "CHNCXR_0104_0.png (2989, 2990)\n",
            "CHNCXR_0105_0.png (2988, 2602)\n",
            "CHNCXR_0106_0.png (2943, 3000)\n",
            "CHNCXR_0107_0.png (2317, 2464)\n",
            "CHNCXR_0108_0.png (2953, 2897)\n",
            "CHNCXR_0109_0.png (2942, 2369)\n",
            "CHNCXR_0110_0.png (2946, 2715)\n",
            "CHNCXR_0111_0.png (2489, 2609)\n",
            "CHNCXR_0112_0.png (2667, 2589)\n",
            "CHNCXR_0113_0.png (2876, 2724)\n",
            "CHNCXR_0114_0.png (2933, 3000)\n",
            "CHNCXR_0115_0.png (1149, 1225)\n",
            "CHNCXR_0116_0.png (2931, 3000)\n",
            "CHNCXR_0117_0.png (2959, 2521)\n",
            "CHNCXR_0118_0.png (2996, 2990)\n",
            "CHNCXR_0119_0.png (2869, 2682)\n",
            "CHNCXR_0120_0.png (2945, 3000)\n",
            "CHNCXR_0121_0.png (2990, 2751)\n",
            "CHNCXR_0122_0.png (2843, 2536)\n",
            "CHNCXR_0123_0.png (2945, 3000)\n",
            "CHNCXR_0124_0.png (2889, 2365)\n",
            "CHNCXR_0125_0.png (2993, 2991)\n",
            "CHNCXR_0126_0.png (2933, 2997)\n",
            "CHNCXR_0127_0.png (2382, 2478)\n",
            "CHNCXR_0128_0.png (2992, 2991)\n",
            "CHNCXR_0129_0.png (2947, 2452)\n",
            "CHNCXR_0130_0.png (2994, 2991)\n",
            "CHNCXR_0131_0.png (2994, 2600)\n",
            "CHNCXR_0132_0.png (2943, 2997)\n",
            "CHNCXR_0133_0.png (2953, 3000)\n",
            "CHNCXR_0134_0.png (2957, 2493)\n",
            "CHNCXR_0135_0.png (2949, 3000)\n",
            "CHNCXR_0136_0.png (2937, 2997)\n",
            "CHNCXR_0137_0.png (2939, 3000)\n",
            "CHNCXR_0138_0.png (2943, 3000)\n",
            "CHNCXR_0139_0.png (2931, 3000)\n",
            "CHNCXR_0140_0.png (2066, 2227)\n",
            "CHNCXR_0141_0.png (2927, 3000)\n",
            "CHNCXR_0142_0.png (2388, 2407)\n",
            "CHNCXR_0143_0.png (2854, 2791)\n",
            "CHNCXR_0144_0.png (2768, 2271)\n",
            "CHNCXR_0145_0.png (2990, 2990)\n",
            "CHNCXR_0146_0.png (2975, 2985)\n",
            "CHNCXR_0147_0.png (2951, 3000)\n",
            "CHNCXR_0148_0.png (2930, 2692)\n",
            "CHNCXR_0149_0.png (2995, 2993)\n",
            "CHNCXR_0150_0.png (2941, 2730)\n",
            "CHNCXR_0151_0.png (2931, 2985)\n",
            "CHNCXR_0152_0.png (2638, 2512)\n",
            "CHNCXR_0153_0.png (2939, 3000)\n",
            "CHNCXR_0154_0.png (2943, 3000)\n",
            "CHNCXR_0155_0.png (1737, 2253)\n",
            "CHNCXR_0156_0.png (2957, 2997)\n",
            "CHNCXR_0157_0.png (2953, 2985)\n",
            "CHNCXR_0158_0.png (2904, 2655)\n",
            "CHNCXR_0159_0.png (2989, 2991)\n",
            "CHNCXR_0160_0.png (2786, 2529)\n",
            "CHNCXR_0161_0.png (2880, 2697)\n",
            "CHNCXR_0162_0.png (2945, 3000)\n",
            "CHNCXR_0163_0.png (2951, 2989)\n",
            "CHNCXR_0164_0.png (2939, 3000)\n",
            "CHNCXR_0165_0.png (2993, 2967)\n",
            "CHNCXR_0166_0.png (2527, 2443)\n",
            "CHNCXR_0167_0.png (2961, 2761)\n",
            "CHNCXR_0168_0.png (2931, 3000)\n",
            "CHNCXR_0169_0.png (1761, 1671)\n",
            "CHNCXR_0170_0.png (2953, 3000)\n",
            "CHNCXR_0171_0.png (2991, 2991)\n",
            "CHNCXR_0172_0.png (2556, 2434)\n",
            "CHNCXR_0173_0.png (2903, 2566)\n",
            "CHNCXR_0174_0.png (2970, 2585)\n",
            "CHNCXR_0175_0.png (2009, 2205)\n",
            "CHNCXR_0176_0.png (2929, 2987)\n",
            "CHNCXR_0177_0.png (2530, 2504)\n",
            "CHNCXR_0178_0.png (1341, 1521)\n",
            "CHNCXR_0179_0.png (2941, 3000)\n",
            "CHNCXR_0180_0.png (2457, 2997)\n",
            "CHNCXR_0181_0.png (2937, 3000)\n",
            "CHNCXR_0182_0.png (2925, 3000)\n",
            "CHNCXR_0183_0.png (2945, 3000)\n",
            "CHNCXR_0184_0.png (2947, 3000)\n",
            "CHNCXR_0185_0.png (2929, 2793)\n",
            "CHNCXR_0186_0.png (2861, 2464)\n",
            "CHNCXR_0187_0.png (2940, 2339)\n",
            "CHNCXR_0188_0.png (2989, 2992)\n",
            "CHNCXR_0189_0.png (2758, 2478)\n",
            "CHNCXR_0190_0.png (2933, 3000)\n",
            "CHNCXR_0191_0.png (2947, 3000)\n",
            "CHNCXR_0192_0.png (2989, 2992)\n",
            "CHNCXR_0193_0.png (2601, 2512)\n",
            "CHNCXR_0194_0.png (2992, 2991)\n",
            "CHNCXR_0195_0.png (2993, 2990)\n",
            "CHNCXR_0196_0.png (2989, 2988)\n",
            "CHNCXR_0197_0.png (2939, 3000)\n",
            "CHNCXR_0198_0.png (2978, 2990)\n",
            "CHNCXR_0199_0.png (2174, 2136)\n",
            "CHNCXR_0200_0.png (2985, 2989)\n",
            "CHNCXR_0201_0.png (1583, 1571)\n",
            "CHNCXR_0202_0.png (948, 1130)\n",
            "CHNCXR_0203_0.png (2993, 2990)\n",
            "CHNCXR_0204_0.png (2990, 2987)\n",
            "CHNCXR_0205_0.png (1811, 1836)\n",
            "CHNCXR_0206_0.png (1679, 1893)\n",
            "CHNCXR_0207_0.png (2991, 2990)\n",
            "CHNCXR_0208_0.png (2843, 2622)\n",
            "CHNCXR_0209_0.png (2982, 2991)\n",
            "CHNCXR_0210_0.png (2990, 2988)\n",
            "CHNCXR_0211_0.png (2992, 2986)\n",
            "CHNCXR_0212_0.png (2585, 2792)\n",
            "CHNCXR_0213_0.png (2941, 3000)\n",
            "CHNCXR_0214_0.png (2750, 2627)\n",
            "CHNCXR_0215_0.png (1993, 1954)\n",
            "CHNCXR_0216_0.png (3001, 3000)\n",
            "CHNCXR_0217_0.png (2713, 2763)\n",
            "CHNCXR_0218_0.png (2978, 2989)\n",
            "CHNCXR_0219_0.png (2985, 2992)\n",
            "CHNCXR_0220_0.png (2575, 2554)\n",
            "CHNCXR_0221_0.png (2928, 2464)\n",
            "CHNCXR_0222_0.png (2998, 2989)\n",
            "CHNCXR_0223_0.png (2939, 3000)\n",
            "CHNCXR_0224_0.png (2978, 2988)\n",
            "CHNCXR_0225_0.png (2999, 3000)\n",
            "CHNCXR_0226_0.png (2992, 2991)\n",
            "CHNCXR_0227_0.png (2993, 2991)\n",
            "CHNCXR_0228_0.png (1252, 1286)\n",
            "CHNCXR_0229_0.png (2992, 2982)\n",
            "CHNCXR_0230_0.png (2989, 2993)\n",
            "CHNCXR_0231_0.png (2994, 2987)\n",
            "CHNCXR_0232_0.png (2993, 2988)\n",
            "CHNCXR_0233_0.png (2939, 3000)\n",
            "CHNCXR_0234_0.png (2992, 2992)\n",
            "CHNCXR_0235_0.png (2488, 2383)\n",
            "CHNCXR_0236_0.png (2988, 2759)\n",
            "CHNCXR_0237_0.png (2937, 3000)\n",
            "CHNCXR_0238_0.png (2951, 3000)\n",
            "CHNCXR_0239_0.png (2995, 2991)\n",
            "CHNCXR_0240_0.png (2995, 2988)\n",
            "CHNCXR_0241_0.png (2344, 2324)\n",
            "CHNCXR_0242_0.png (2366, 2461)\n",
            "CHNCXR_0243_0.png (2939, 3000)\n",
            "CHNCXR_0244_0.png (2386, 2282)\n",
            "CHNCXR_0245_0.png (2993, 2991)\n",
            "CHNCXR_0246_0.png (2945, 3000)\n",
            "CHNCXR_0247_0.png (2939, 3000)\n",
            "CHNCXR_0248_0.png (1468, 1285)\n",
            "CHNCXR_0249_0.png (2982, 2990)\n",
            "CHNCXR_0250_0.png (2953, 3000)\n",
            "CHNCXR_0251_0.png (2537, 2501)\n",
            "CHNCXR_0252_0.png (3001, 2990)\n",
            "CHNCXR_0253_0.png (2939, 3000)\n",
            "CHNCXR_0254_0.png (2941, 2975)\n",
            "CHNCXR_0255_0.png (2930, 2600)\n",
            "CHNCXR_0256_0.png (1772, 1615)\n",
            "CHNCXR_0257_0.png (2992, 2986)\n",
            "CHNCXR_0258_0.png (2943, 2997)\n",
            "CHNCXR_0259_0.png (2202, 1964)\n",
            "CHNCXR_0260_0.png (2935, 3000)\n",
            "CHNCXR_0261_0.png (2956, 3001)\n",
            "CHNCXR_0262_0.png (2937, 3000)\n",
            "CHNCXR_0263_0.png (2941, 3000)\n",
            "CHNCXR_0264_0.png (2994, 2992)\n",
            "CHNCXR_0265_0.png (2205, 1936)\n",
            "CHNCXR_0266_0.png (2995, 2991)\n",
            "CHNCXR_0267_0.png (2921, 2997)\n",
            "CHNCXR_0268_0.png (2994, 2588)\n",
            "CHNCXR_0269_0.png (3001, 2967)\n",
            "CHNCXR_0270_0.png (2992, 2991)\n",
            "CHNCXR_0271_0.png (2995, 2989)\n",
            "CHNCXR_0272_0.png (2283, 2272)\n",
            "CHNCXR_0273_0.png (2374, 2048)\n",
            "CHNCXR_0274_0.png (2733, 2423)\n",
            "CHNCXR_0275_0.png (2994, 2992)\n",
            "CHNCXR_0276_0.png (2980, 3001)\n",
            "CHNCXR_0277_0.png (2979, 2609)\n",
            "CHNCXR_0278_0.png (2582, 2316)\n",
            "CHNCXR_0279_0.png (2710, 2549)\n",
            "CHNCXR_0280_0.png (2945, 2793)\n",
            "CHNCXR_0281_0.png (2945, 3000)\n",
            "CHNCXR_0282_0.png (2967, 3000)\n",
            "CHNCXR_0283_0.png (2993, 3000)\n",
            "CHNCXR_0284_0.png (2959, 3000)\n",
            "CHNCXR_0285_0.png (3001, 3001)\n",
            "CHNCXR_0286_0.png (2943, 2989)\n",
            "CHNCXR_0287_0.png (2838, 2617)\n",
            "CHNCXR_0288_0.png (2940, 2324)\n",
            "CHNCXR_0289_0.png (2945, 3000)\n",
            "CHNCXR_0290_0.png (2933, 2987)\n",
            "CHNCXR_0291_0.png (2449, 2403)\n",
            "CHNCXR_0292_0.png (2935, 2987)\n",
            "CHNCXR_0293_0.png (2949, 3000)\n",
            "CHNCXR_0294_0.png (2945, 3000)\n",
            "CHNCXR_0295_0.png (2482, 2344)\n",
            "CHNCXR_0296_0.png (2571, 2430)\n",
            "CHNCXR_0297_0.png (1551, 1418)\n",
            "CHNCXR_0298_0.png (2947, 3000)\n",
            "CHNCXR_0299_0.png (2143, 1767)\n",
            "CHNCXR_0300_0.png (2951, 3000)\n",
            "CHNCXR_0301_0.png (2949, 3000)\n",
            "CHNCXR_0302_0.png (2968, 2604)\n",
            "CHNCXR_0303_0.png (1887, 1872)\n",
            "CHNCXR_0304_0.png (2945, 3000)\n",
            "CHNCXR_0305_0.png (3001, 2689)\n",
            "CHNCXR_0306_0.png (2931, 3000)\n",
            "CHNCXR_0307_0.png (2947, 3000)\n",
            "CHNCXR_0308_0.png (2943, 2997)\n",
            "CHNCXR_0309_0.png (2915, 3000)\n",
            "CHNCXR_0310_0.png (2278, 2301)\n",
            "CHNCXR_0311_0.png (2955, 3000)\n",
            "CHNCXR_0312_0.png (2935, 3000)\n",
            "CHNCXR_0313_0.png (2034, 1814)\n",
            "CHNCXR_0314_0.png (2955, 2689)\n",
            "CHNCXR_0315_0.png (2985, 3000)\n",
            "CHNCXR_0316_0.png (2658, 2377)\n",
            "CHNCXR_0317_0.png (2937, 3000)\n",
            "CHNCXR_0318_0.png (2935, 3000)\n",
            "CHNCXR_0319_0.png (2949, 3000)\n",
            "CHNCXR_0320_0.png (2937, 3000)\n",
            "CHNCXR_0321_0.png (2953, 3000)\n",
            "CHNCXR_0322_0.png (2949, 3000)\n",
            "CHNCXR_0323_0.png (2951, 3000)\n",
            "CHNCXR_0324_0.png (2945, 3000)\n",
            "CHNCXR_0325_0.png (2943, 3000)\n",
            "CHNCXR_0326_0.png (2939, 3000)\n",
            "CHNCXR_0327_1.png (2566, 2566)\n",
            "CHNCXR_0328_1.png (2939, 2985)\n",
            "CHNCXR_0329_1.png (2303, 2383)\n",
            "CHNCXR_0330_1.png (2787, 2632)\n",
            "CHNCXR_0331_1.png (2261, 2282)\n",
            "CHNCXR_0332_1.png (2639, 2749)\n",
            "CHNCXR_0333_1.png (2595, 2613)\n",
            "CHNCXR_0334_1.png (2925, 3000)\n",
            "CHNCXR_0335_1.png (2424, 2569)\n",
            "CHNCXR_0336_1.png (2742, 2472)\n",
            "CHNCXR_0337_1.png (2562, 2464)\n",
            "CHNCXR_0338_1.png (2924, 2397)\n",
            "CHNCXR_0339_1.png (2493, 2573)\n",
            "CHNCXR_0340_1.png (2810, 2808)\n",
            "CHNCXR_0341_1.png (2945, 3000)\n",
            "CHNCXR_0342_1.png (2916, 2746)\n",
            "CHNCXR_0343_1.png (2958, 2800)\n",
            "CHNCXR_0344_1.png (2485, 2499)\n",
            "CHNCXR_0345_1.png (2638, 2495)\n",
            "CHNCXR_0346_1.png (2334, 2128)\n",
            "CHNCXR_0347_1.png (2916, 2678)\n",
            "CHNCXR_0348_1.png (2787, 2485)\n",
            "CHNCXR_0349_1.png (2949, 3000)\n",
            "CHNCXR_0350_1.png (2889, 2776)\n",
            "CHNCXR_0351_1.png (2951, 3000)\n",
            "CHNCXR_0352_1.png (2921, 2573)\n",
            "CHNCXR_0353_1.png (2550, 2307)\n",
            "CHNCXR_0354_1.png (2931, 2618)\n",
            "CHNCXR_0355_1.png (2967, 3001)\n",
            "CHNCXR_0356_1.png (2700, 2416)\n",
            "CHNCXR_0357_1.png (2921, 2849)\n",
            "CHNCXR_0358_1.png (2939, 2542)\n",
            "CHNCXR_0359_1.png (2892, 2552)\n",
            "CHNCXR_0360_1.png (2783, 2562)\n",
            "CHNCXR_0361_1.png (2690, 2646)\n",
            "CHNCXR_0362_1.png (2963, 3001)\n",
            "CHNCXR_0363_1.png (2788, 2460)\n",
            "CHNCXR_0364_1.png (2971, 3000)\n",
            "CHNCXR_0365_1.png (2808, 2458)\n",
            "CHNCXR_0366_1.png (2960, 2804)\n",
            "CHNCXR_0367_1.png (2944, 2485)\n",
            "CHNCXR_0368_1.png (2400, 2039)\n",
            "CHNCXR_0369_1.png (2945, 2814)\n",
            "CHNCXR_0370_1.png (2941, 2996)\n",
            "CHNCXR_0371_1.png (2945, 3000)\n",
            "CHNCXR_0372_1.png (2949, 3000)\n",
            "CHNCXR_0373_1.png (2833, 2638)\n",
            "CHNCXR_0374_1.png (2927, 3000)\n",
            "CHNCXR_0375_1.png (2995, 2990)\n",
            "CHNCXR_0376_1.png (2958, 2991)\n",
            "CHNCXR_0377_1.png (2730, 2344)\n",
            "CHNCXR_0378_1.png (2959, 2983)\n",
            "CHNCXR_0379_1.png (2240, 2377)\n",
            "CHNCXR_0380_1.png (2977, 2978)\n",
            "CHNCXR_0381_1.png (2958, 3001)\n",
            "CHNCXR_0382_1.png (2897, 2499)\n",
            "CHNCXR_0383_1.png (2639, 2709)\n",
            "CHNCXR_0384_1.png (2935, 2991)\n",
            "CHNCXR_0385_1.png (2947, 2804)\n",
            "CHNCXR_0386_1.png (2947, 3000)\n",
            "CHNCXR_0387_1.png (2603, 2516)\n",
            "CHNCXR_0388_1.png (2925, 2773)\n",
            "CHNCXR_0389_1.png (3001, 2763)\n",
            "CHNCXR_0390_1.png (2951, 2824)\n",
            "CHNCXR_0391_1.png (2611, 2227)\n",
            "CHNCXR_0392_1.png (2722, 2572)\n",
            "CHNCXR_0393_1.png (2417, 2479)\n",
            "CHNCXR_0394_1.png (2955, 2994)\n",
            "CHNCXR_0395_1.png (2904, 2715)\n",
            "CHNCXR_0396_1.png (2900, 2624)\n",
            "CHNCXR_0397_1.png (2788, 2537)\n",
            "CHNCXR_0398_1.png (2854, 2344)\n",
            "CHNCXR_0399_1.png (2948, 2704)\n",
            "CHNCXR_0400_1.png (2750, 2710)\n",
            "CHNCXR_0401_1.png (2843, 2370)\n",
            "CHNCXR_0402_1.png (2948, 2610)\n",
            "CHNCXR_0403_1.png (2959, 2792)\n",
            "CHNCXR_0404_1.png (2926, 2460)\n",
            "CHNCXR_0405_1.png (2914, 2801)\n",
            "CHNCXR_0406_1.png (2733, 2384)\n",
            "CHNCXR_0407_1.png (2967, 2983)\n",
            "CHNCXR_0408_1.png (2970, 3001)\n",
            "CHNCXR_0409_1.png (2938, 2758)\n",
            "CHNCXR_0410_1.png (2691, 2545)\n",
            "CHNCXR_0411_1.png (2944, 2994)\n",
            "CHNCXR_0412_1.png (2943, 2993)\n",
            "CHNCXR_0413_1.png (2990, 2493)\n",
            "CHNCXR_0414_1.png (2693, 2544)\n",
            "CHNCXR_0415_1.png (2988, 2517)\n",
            "CHNCXR_0416_1.png (2875, 2523)\n",
            "CHNCXR_0417_1.png (2957, 2747)\n",
            "CHNCXR_0418_1.png (2944, 2720)\n",
            "CHNCXR_0419_1.png (2954, 2477)\n",
            "CHNCXR_0420_1.png (3000, 2844)\n",
            "CHNCXR_0421_1.png (2995, 3000)\n",
            "CHNCXR_0422_1.png (2953, 3001)\n",
            "CHNCXR_0423_1.png (2951, 2993)\n",
            "CHNCXR_0424_1.png (2944, 2980)\n",
            "CHNCXR_0425_1.png (2946, 2994)\n",
            "CHNCXR_0426_1.png (2813, 2540)\n",
            "CHNCXR_0427_1.png (2945, 2993)\n",
            "CHNCXR_0428_1.png (2948, 2962)\n",
            "CHNCXR_0429_1.png (2947, 2990)\n",
            "CHNCXR_0430_1.png (2944, 2995)\n",
            "CHNCXR_0431_1.png (2952, 2993)\n",
            "CHNCXR_0432_1.png (2940, 2980)\n",
            "CHNCXR_0433_1.png (2942, 3001)\n",
            "CHNCXR_0434_1.png (2943, 2972)\n",
            "CHNCXR_0435_1.png (2416, 2533)\n",
            "CHNCXR_0436_1.png (2954, 2851)\n",
            "CHNCXR_0437_1.png (2308, 2184)\n",
            "CHNCXR_0438_1.png (2417, 2618)\n",
            "CHNCXR_0439_1.png (2949, 2989)\n",
            "CHNCXR_0440_1.png (2620, 2435)\n",
            "CHNCXR_0441_1.png (2974, 2631)\n",
            "CHNCXR_0442_1.png (2951, 2879)\n",
            "CHNCXR_0443_1.png (2990, 2997)\n",
            "CHNCXR_0444_1.png (2987, 2980)\n",
            "CHNCXR_0445_1.png (2989, 2996)\n",
            "CHNCXR_0446_1.png (2925, 3000)\n",
            "CHNCXR_0447_1.png (2958, 2630)\n",
            "CHNCXR_0448_1.png (2521, 2107)\n",
            "CHNCXR_0449_1.png (2999, 2996)\n",
            "CHNCXR_0450_1.png (2945, 2992)\n",
            "CHNCXR_0451_1.png (2951, 2831)\n",
            "CHNCXR_0452_1.png (2804, 2423)\n",
            "CHNCXR_0453_1.png (2958, 2992)\n",
            "CHNCXR_0454_1.png (2896, 2599)\n",
            "CHNCXR_0455_1.png (2960, 2986)\n",
            "CHNCXR_0456_1.png (2599, 2400)\n",
            "CHNCXR_0457_1.png (2795, 2598)\n",
            "CHNCXR_0458_1.png (2955, 2744)\n",
            "CHNCXR_0459_1.png (2867, 2408)\n",
            "CHNCXR_0460_1.png (2930, 2773)\n",
            "CHNCXR_0461_1.png (2939, 3000)\n",
            "CHNCXR_0462_1.png (2978, 2542)\n",
            "CHNCXR_0463_1.png (2914, 2571)\n",
            "CHNCXR_0464_1.png (2990, 2797)\n",
            "CHNCXR_0465_1.png (2792, 2713)\n",
            "CHNCXR_0466_1.png (2684, 2493)\n",
            "CHNCXR_0467_1.png (2581, 2281)\n",
            "CHNCXR_0468_1.png (2690, 2441)\n",
            "CHNCXR_0469_1.png (2629, 2163)\n",
            "CHNCXR_0470_1.png (2549, 2096)\n",
            "CHNCXR_0471_1.png (2622, 2276)\n",
            "CHNCXR_0472_1.png (2818, 2488)\n",
            "CHNCXR_0473_1.png (2989, 2743)\n",
            "CHNCXR_0474_1.png (2559, 2599)\n",
            "CHNCXR_0475_1.png (2947, 2576)\n",
            "CHNCXR_0476_1.png (2581, 2331)\n",
            "CHNCXR_0477_1.png (2873, 2500)\n",
            "CHNCXR_0478_1.png (2365, 2556)\n",
            "CHNCXR_0479_1.png (2986, 2739)\n",
            "CHNCXR_0480_1.png (2688, 2581)\n",
            "CHNCXR_0481_1.png (2943, 3000)\n",
            "CHNCXR_0482_1.png (2363, 2146)\n",
            "CHNCXR_0483_1.png (2943, 3000)\n",
            "CHNCXR_0484_1.png (2999, 2793)\n",
            "CHNCXR_0485_1.png (2945, 3000)\n",
            "CHNCXR_0486_1.png (2889, 2716)\n",
            "CHNCXR_0487_1.png (2947, 2991)\n",
            "CHNCXR_0488_1.png (2660, 2416)\n",
            "CHNCXR_0489_1.png (2608, 2401)\n",
            "CHNCXR_0490_1.png (3001, 3001)\n",
            "CHNCXR_0491_1.png (2989, 2729)\n",
            "CHNCXR_0492_1.png (2651, 2430)\n",
            "CHNCXR_0493_1.png (2805, 2409)\n",
            "CHNCXR_0494_1.png (2626, 2252)\n",
            "CHNCXR_0495_1.png (2640, 2503)\n",
            "CHNCXR_0496_1.png (2782, 2422)\n",
            "CHNCXR_0497_1.png (2826, 2504)\n",
            "CHNCXR_0498_1.png (2854, 2495)\n",
            "CHNCXR_0499_1.png (2475, 2442)\n",
            "CHNCXR_0500_1.png (2751, 2346)\n",
            "CHNCXR_0501_1.png (2906, 2408)\n",
            "CHNCXR_0502_1.png (2752, 2328)\n",
            "CHNCXR_0503_1.png (2987, 2779)\n",
            "CHNCXR_0504_1.png (2965, 3000)\n",
            "CHNCXR_0505_1.png (2903, 2599)\n",
            "CHNCXR_0506_1.png (2945, 2621)\n",
            "CHNCXR_0507_1.png (2711, 2248)\n",
            "CHNCXR_0508_1.png (2959, 2985)\n",
            "CHNCXR_0509_1.png (2854, 2536)\n",
            "CHNCXR_0510_1.png (2677, 2389)\n",
            "CHNCXR_0511_1.png (2963, 2987)\n",
            "CHNCXR_0512_1.png (2990, 2993)\n",
            "CHNCXR_0513_1.png (2793, 2387)\n",
            "CHNCXR_0514_1.png (2466, 2358)\n",
            "CHNCXR_0515_1.png (2945, 2450)\n",
            "CHNCXR_0516_1.png (2987, 2628)\n",
            "CHNCXR_0517_1.png (2694, 2452)\n",
            "CHNCXR_0518_1.png (2931, 2594)\n",
            "CHNCXR_0519_1.png (2732, 2411)\n",
            "CHNCXR_0520_1.png (2981, 2997)\n",
            "CHNCXR_0521_1.png (2954, 2678)\n",
            "CHNCXR_0522_1.png (2988, 2659)\n",
            "CHNCXR_0523_1.png (2834, 2653)\n",
            "CHNCXR_0524_1.png (2989, 2786)\n",
            "CHNCXR_0525_1.png (2815, 2464)\n",
            "CHNCXR_0526_1.png (2942, 2427)\n",
            "CHNCXR_0527_1.png (2666, 2511)\n",
            "CHNCXR_0528_1.png (2324, 2266)\n",
            "CHNCXR_0529_1.png (2631, 2537)\n",
            "CHNCXR_0530_1.png (2614, 2560)\n",
            "CHNCXR_0531_1.png (2528, 2515)\n",
            "CHNCXR_0532_1.png (2304, 2464)\n",
            "CHNCXR_0533_1.png (2320, 3001)\n",
            "CHNCXR_0534_1.png (2937, 2772)\n",
            "CHNCXR_0535_1.png (2897, 2671)\n",
            "CHNCXR_0536_1.png (2533, 2396)\n",
            "CHNCXR_0537_1.png (2868, 2632)\n",
            "CHNCXR_0538_1.png (2937, 2509)\n",
            "CHNCXR_0539_1.png (2905, 2520)\n",
            "CHNCXR_0540_1.png (2726, 2351)\n",
            "CHNCXR_0541_1.png (2977, 2658)\n",
            "CHNCXR_0542_1.png (2406, 2372)\n",
            "CHNCXR_0543_1.png (2572, 2607)\n",
            "CHNCXR_0544_1.png (2953, 2693)\n",
            "CHNCXR_0545_1.png (3001, 2674)\n",
            "CHNCXR_0546_1.png (2743, 2524)\n",
            "CHNCXR_0547_1.png (2823, 2610)\n",
            "CHNCXR_0548_1.png (2947, 3000)\n",
            "CHNCXR_0549_1.png (2448, 2371)\n",
            "CHNCXR_0550_1.png (2751, 2521)\n",
            "CHNCXR_0551_1.png (2614, 2481)\n",
            "CHNCXR_0552_1.png (2988, 2996)\n",
            "CHNCXR_0553_1.png (2868, 2491)\n",
            "CHNCXR_0554_1.png (2771, 2612)\n",
            "CHNCXR_0555_1.png (2606, 2497)\n",
            "CHNCXR_0556_1.png (2567, 2599)\n",
            "CHNCXR_0557_1.png (2955, 2792)\n",
            "CHNCXR_0558_1.png (2986, 2537)\n",
            "CHNCXR_0559_1.png (2883, 2735)\n",
            "CHNCXR_0560_1.png (2898, 2662)\n",
            "CHNCXR_0561_1.png (2967, 2679)\n",
            "CHNCXR_0562_1.png (2590, 2516)\n",
            "CHNCXR_0563_1.png (2639, 2615)\n",
            "CHNCXR_0564_1.png (2935, 3000)\n",
            "CHNCXR_0565_1.png (2228, 2532)\n",
            "CHNCXR_0566_1.png (2998, 2573)\n",
            "CHNCXR_0567_1.png (2986, 2995)\n",
            "CHNCXR_0568_1.png (2992, 2646)\n",
            "CHNCXR_0569_1.png (2988, 2503)\n",
            "CHNCXR_0570_1.png (2959, 2524)\n",
            "CHNCXR_0571_1.png (2987, 2725)\n",
            "CHNCXR_0572_1.png (2289, 2400)\n",
            "CHNCXR_0573_1.png (2988, 2519)\n",
            "CHNCXR_0574_1.png (2991, 2609)\n",
            "CHNCXR_0575_1.png (2453, 2443)\n",
            "CHNCXR_0576_1.png (2806, 2437)\n",
            "CHNCXR_0577_1.png (2319, 2384)\n",
            "CHNCXR_0578_1.png (2990, 2903)\n",
            "CHNCXR_0579_1.png (2743, 2312)\n",
            "CHNCXR_0580_1.png (2976, 2628)\n",
            "CHNCXR_0581_1.png (2829, 2550)\n",
            "CHNCXR_0582_1.png (2894, 2761)\n",
            "CHNCXR_0583_1.png (2977, 2996)\n",
            "CHNCXR_0584_1.png (2735, 2643)\n",
            "CHNCXR_0585_1.png (2988, 3001)\n",
            "CHNCXR_0586_1.png (2609, 2419)\n",
            "CHNCXR_0587_1.png (2989, 2996)\n",
            "CHNCXR_0588_1.png (2789, 2554)\n",
            "CHNCXR_0589_1.png (2645, 2421)\n",
            "CHNCXR_0590_1.png (2698, 2427)\n",
            "CHNCXR_0591_1.png (2977, 3001)\n",
            "CHNCXR_0592_1.png (2701, 2629)\n",
            "CHNCXR_0593_1.png (2418, 2330)\n",
            "CHNCXR_0594_1.png (2506, 2356)\n",
            "CHNCXR_0595_1.png (2525, 2234)\n",
            "CHNCXR_0596_1.png (2970, 2406)\n",
            "CHNCXR_0597_1.png (2991, 2996)\n",
            "CHNCXR_0598_1.png (2179, 2221)\n",
            "CHNCXR_0599_1.png (2975, 3000)\n",
            "CHNCXR_0600_1.png (2857, 2998)\n",
            "CHNCXR_0601_1.png (2988, 2698)\n",
            "CHNCXR_0602_1.png (2539, 2299)\n",
            "CHNCXR_0603_1.png (2953, 2324)\n",
            "CHNCXR_0604_1.png (2967, 3000)\n",
            "CHNCXR_0605_1.png (2962, 2410)\n",
            "CHNCXR_0606_1.png (2641, 2619)\n",
            "CHNCXR_0607_1.png (2987, 2997)\n",
            "CHNCXR_0608_1.png (2986, 2995)\n",
            "CHNCXR_0609_1.png (2776, 2725)\n",
            "CHNCXR_0610_1.png (2493, 2525)\n",
            "CHNCXR_0611_1.png (2680, 2479)\n",
            "CHNCXR_0612_1.png (2929, 2735)\n",
            "CHNCXR_0613_1.png (2672, 2546)\n",
            "CHNCXR_0614_1.png (2334, 2401)\n",
            "CHNCXR_0615_1.png (2730, 2387)\n",
            "CHNCXR_0616_1.png (2465, 2235)\n",
            "CHNCXR_0617_1.png (2843, 2679)\n",
            "CHNCXR_0618_1.png (2427, 2268)\n",
            "CHNCXR_0619_1.png (2398, 2254)\n",
            "CHNCXR_0620_1.png (2511, 2339)\n",
            "CHNCXR_0621_1.png (2630, 2584)\n",
            "CHNCXR_0622_1.png (2403, 2420)\n",
            "CHNCXR_0623_1.png (2554, 2238)\n",
            "CHNCXR_0624_1.png (2670, 2623)\n",
            "CHNCXR_0625_1.png (2841, 2350)\n",
            "CHNCXR_0626_1.png (2989, 3001)\n",
            "CHNCXR_0627_1.png (2871, 2607)\n",
            "CHNCXR_0628_1.png (2987, 3001)\n",
            "CHNCXR_0629_1.png (2501, 2457)\n",
            "CHNCXR_0630_1.png (2985, 2997)\n",
            "CHNCXR_0631_1.png (2705, 2406)\n",
            "CHNCXR_0632_1.png (2588, 2497)\n",
            "CHNCXR_0633_1.png (2533, 2610)\n",
            "CHNCXR_0634_1.png (2917, 2573)\n",
            "CHNCXR_0635_1.png (2952, 2399)\n",
            "CHNCXR_0636_1.png (2929, 2896)\n",
            "CHNCXR_0637_1.png (2931, 2511)\n",
            "CHNCXR_0638_1.png (2503, 2400)\n",
            "CHNCXR_0639_1.png (2460, 2202)\n",
            "CHNCXR_0640_1.png (2937, 3000)\n",
            "CHNCXR_0641_1.png (2977, 2450)\n",
            "CHNCXR_0642_1.png (2568, 2110)\n",
            "CHNCXR_0643_1.png (2804, 2368)\n",
            "CHNCXR_0644_1.png (2248, 2300)\n",
            "CHNCXR_0645_1.png (2735, 2421)\n",
            "CHNCXR_0646_1.png (2929, 3001)\n",
            "CHNCXR_0647_1.png (2935, 3001)\n",
            "CHNCXR_0648_1.png (2917, 2580)\n",
            "CHNCXR_0649_1.png (2965, 3000)\n",
            "CHNCXR_0650_1.png (2988, 2676)\n",
            "CHNCXR_0651_1.png (2635, 2459)\n",
            "CHNCXR_0652_1.png (2750, 2707)\n",
            "CHNCXR_0653_1.png (2550, 2336)\n",
            "CHNCXR_0654_1.png (2283, 2057)\n",
            "CHNCXR_0655_1.png (2933, 2734)\n",
            "CHNCXR_0656_1.png (2988, 3001)\n",
            "CHNCXR_0657_1.png (2977, 2738)\n",
            "CHNCXR_0658_1.png (2955, 2611)\n",
            "CHNCXR_0659_1.png (2989, 3001)\n",
            "CHNCXR_0660_1.png (2933, 2997)\n",
            "CHNCXR_0661_1.png (2608, 2495)\n",
            "CHNCXR_0662_1.png (2988, 2619)\n"
          ]
        }
      ]
    },
    {
      "cell_type": "code",
      "metadata": {
        "id": "GoIT_BVTL_bG",
        "colab": {
          "base_uri": "https://localhost:8080/"
        },
        "outputId": "68823560-ca8d-4320-c5eb-9143b93578d5"
      },
      "source": [
        "# add image to dataframe\n",
        "image = np.ndarray(shape=(row,256,256),dtype=np.uint8)\n",
        "for i in range(row):\n",
        "  a = cv2.imread(\"/content/gdrive/MyDrive/Year3/Indiv/images/images/\"+df['study_id'][i],0) # each image has different size\n",
        "  print(df['study_id'][i],a.shape)\n",
        "  are = cv2.resize(a, (256,256), interpolation = cv2.INTER_AREA) # reshape all image to (256,256)\n",
        "  #a = cv2.cvtColor(a, cv2.COLOR_BGR2RGB)\n",
        "  filename = \"/content/gdrive/MyDrive/Year3/Indiv/images/images_256/\"+df['study_id'][i]+\"_256\"\n",
        "  cv2.imwrite(filename, are)\n",
        "  image[i,:,:]=are\n",
        "#df['image']=image"
      ],
      "execution_count": null,
      "outputs": [
        {
          "output_type": "stream",
          "name": "stdout",
          "text": [
            "CHNCXR_0001_0.png (2919, 3000)\n",
            "CHNCXR_0002_0.png (2951, 3000)\n",
            "CHNCXR_0003_0.png (2945, 2987)\n",
            "CHNCXR_0004_0.png (2933, 3000)\n",
            "CHNCXR_0005_0.png (2933, 3000)\n",
            "CHNCXR_0006_0.png (2948, 2775)\n",
            "CHNCXR_0007_0.png (2320, 2306)\n",
            "CHNCXR_0008_0.png (2937, 3000)\n",
            "CHNCXR_0009_0.png (2942, 2516)\n",
            "CHNCXR_0010_0.png (2947, 3000)\n",
            "CHNCXR_0011_0.png (2921, 3000)\n",
            "CHNCXR_0012_0.png (2959, 3000)\n",
            "CHNCXR_0013_0.png (2937, 3000)\n",
            "CHNCXR_0014_0.png (2919, 3000)\n",
            "CHNCXR_0015_0.png (2941, 3000)\n",
            "CHNCXR_0016_0.png (2943, 3000)\n",
            "CHNCXR_0017_0.png (2908, 2789)\n",
            "CHNCXR_0018_0.png (2907, 2991)\n",
            "CHNCXR_0019_0.png (2941, 3000)\n",
            "CHNCXR_0020_0.png (2555, 2760)\n",
            "CHNCXR_0021_0.png (2953, 2868)\n",
            "CHNCXR_0022_0.png (2951, 3000)\n",
            "CHNCXR_0023_0.png (2937, 3000)\n",
            "CHNCXR_0024_0.png (2951, 3000)\n",
            "CHNCXR_0025_0.png (2937, 3000)\n",
            "CHNCXR_0026_0.png (2933, 3000)\n",
            "CHNCXR_0027_0.png (2925, 2997)\n",
            "CHNCXR_0028_0.png (2941, 3000)\n",
            "CHNCXR_0029_0.png (2935, 3000)\n",
            "CHNCXR_0030_0.png (2461, 2357)\n",
            "CHNCXR_0031_0.png (2939, 2989)\n",
            "CHNCXR_0032_0.png (2927, 3000)\n",
            "CHNCXR_0033_0.png (2957, 3000)\n",
            "CHNCXR_0034_0.png (2600, 2395)\n",
            "CHNCXR_0035_0.png (2933, 3000)\n",
            "CHNCXR_0036_0.png (2951, 3000)\n",
            "CHNCXR_0037_0.png (2963, 3000)\n",
            "CHNCXR_0038_0.png (3000, 2744)\n",
            "CHNCXR_0039_0.png (3001, 2844)\n",
            "CHNCXR_0040_0.png (2941, 3000)\n",
            "CHNCXR_0041_0.png (2481, 2498)\n",
            "CHNCXR_0042_0.png (2943, 3000)\n",
            "CHNCXR_0043_0.png (2939, 3000)\n",
            "CHNCXR_0044_0.png (2308, 2308)\n",
            "CHNCXR_0045_0.png (2941, 3000)\n",
            "CHNCXR_0046_0.png (2931, 3000)\n",
            "CHNCXR_0047_0.png (2927, 2699)\n",
            "CHNCXR_0048_0.png (2949, 3000)\n",
            "CHNCXR_0049_0.png (2931, 2996)\n",
            "CHNCXR_0050_0.png (2947, 3000)\n",
            "CHNCXR_0051_0.png (2935, 2985)\n",
            "CHNCXR_0052_0.png (2548, 2419)\n",
            "CHNCXR_0053_0.png (2890, 2531)\n",
            "CHNCXR_0054_0.png (2933, 3000)\n",
            "CHNCXR_0055_0.png (2941, 2739)\n",
            "CHNCXR_0056_0.png (2947, 3000)\n",
            "CHNCXR_0057_0.png (2941, 3000)\n",
            "CHNCXR_0058_0.png (2937, 3000)\n",
            "CHNCXR_0059_0.png (2947, 3000)\n",
            "CHNCXR_0060_0.png (2931, 3000)\n",
            "CHNCXR_0061_0.png (2955, 3000)\n",
            "CHNCXR_0062_0.png (2943, 3000)\n",
            "CHNCXR_0063_0.png (2939, 3000)\n",
            "CHNCXR_0064_0.png (2943, 3000)\n",
            "CHNCXR_0065_0.png (2945, 2996)\n",
            "CHNCXR_0066_0.png (2941, 3000)\n",
            "CHNCXR_0067_0.png (2941, 2996)\n",
            "CHNCXR_0068_0.png (2939, 3000)\n",
            "CHNCXR_0069_0.png (2406, 2631)\n",
            "CHNCXR_0070_0.png (2617, 2486)\n",
            "CHNCXR_0071_0.png (2452, 2384)\n",
            "CHNCXR_0072_0.png (2731, 2733)\n",
            "CHNCXR_0073_0.png (2949, 3000)\n",
            "CHNCXR_0074_0.png (989, 1255)\n",
            "CHNCXR_0075_0.png (1110, 1233)\n",
            "CHNCXR_0076_0.png (1136, 1250)\n",
            "CHNCXR_0077_0.png (2939, 3000)\n",
            "CHNCXR_0078_0.png (2967, 3000)\n",
            "CHNCXR_0079_0.png (2943, 3000)\n",
            "CHNCXR_0080_0.png (2955, 3000)\n",
            "CHNCXR_0081_0.png (2947, 3000)\n",
            "CHNCXR_0082_0.png (2945, 3000)\n",
            "CHNCXR_0083_0.png (2947, 3000)\n",
            "CHNCXR_0084_0.png (2944, 2739)\n",
            "CHNCXR_0085_0.png (2949, 3000)\n",
            "CHNCXR_0086_0.png (2951, 3000)\n",
            "CHNCXR_0087_0.png (3001, 2679)\n",
            "CHNCXR_0088_0.png (2954, 2788)\n",
            "CHNCXR_0089_0.png (2685, 2674)\n",
            "CHNCXR_0090_0.png (2931, 2786)\n",
            "CHNCXR_0091_0.png (2968, 2587)\n",
            "CHNCXR_0092_0.png (2652, 2796)\n",
            "CHNCXR_0093_0.png (2960, 2776)\n",
            "CHNCXR_0094_0.png (2945, 3000)\n",
            "CHNCXR_0095_0.png (2949, 3000)\n",
            "CHNCXR_0096_0.png (2080, 2119)\n",
            "CHNCXR_0097_0.png (2203, 2260)\n",
            "CHNCXR_0098_0.png (2951, 3000)\n",
            "CHNCXR_0099_0.png (2804, 2415)\n",
            "CHNCXR_0100_0.png (2562, 2419)\n",
            "CHNCXR_0101_0.png (3001, 3000)\n",
            "CHNCXR_0102_0.png (2405, 2128)\n",
            "CHNCXR_0103_0.png (2946, 2238)\n",
            "CHNCXR_0104_0.png (2989, 2990)\n",
            "CHNCXR_0105_0.png (2988, 2602)\n",
            "CHNCXR_0106_0.png (2943, 3000)\n",
            "CHNCXR_0107_0.png (2317, 2464)\n",
            "CHNCXR_0108_0.png (2953, 2897)\n",
            "CHNCXR_0109_0.png (2942, 2369)\n",
            "CHNCXR_0110_0.png (2946, 2715)\n",
            "CHNCXR_0111_0.png (2489, 2609)\n",
            "CHNCXR_0112_0.png (2667, 2589)\n",
            "CHNCXR_0113_0.png (2876, 2724)\n",
            "CHNCXR_0114_0.png (2933, 3000)\n",
            "CHNCXR_0115_0.png (1149, 1225)\n",
            "CHNCXR_0116_0.png (2931, 3000)\n",
            "CHNCXR_0117_0.png (2959, 2521)\n",
            "CHNCXR_0118_0.png (2996, 2990)\n",
            "CHNCXR_0119_0.png (2869, 2682)\n",
            "CHNCXR_0120_0.png (2945, 3000)\n",
            "CHNCXR_0121_0.png (2990, 2751)\n",
            "CHNCXR_0122_0.png (2843, 2536)\n",
            "CHNCXR_0123_0.png (2945, 3000)\n",
            "CHNCXR_0124_0.png (2889, 2365)\n",
            "CHNCXR_0125_0.png (2993, 2991)\n",
            "CHNCXR_0126_0.png (2933, 2997)\n",
            "CHNCXR_0127_0.png (2382, 2478)\n",
            "CHNCXR_0128_0.png (2992, 2991)\n",
            "CHNCXR_0129_0.png (2947, 2452)\n",
            "CHNCXR_0130_0.png (2994, 2991)\n",
            "CHNCXR_0131_0.png (2994, 2600)\n",
            "CHNCXR_0132_0.png (2943, 2997)\n",
            "CHNCXR_0133_0.png (2953, 3000)\n",
            "CHNCXR_0134_0.png (2957, 2493)\n",
            "CHNCXR_0135_0.png (2949, 3000)\n",
            "CHNCXR_0136_0.png (2937, 2997)\n",
            "CHNCXR_0137_0.png (2939, 3000)\n",
            "CHNCXR_0138_0.png (2943, 3000)\n",
            "CHNCXR_0139_0.png (2931, 3000)\n",
            "CHNCXR_0140_0.png (2066, 2227)\n",
            "CHNCXR_0141_0.png (2927, 3000)\n",
            "CHNCXR_0142_0.png (2388, 2407)\n",
            "CHNCXR_0143_0.png (2854, 2791)\n",
            "CHNCXR_0144_0.png (2768, 2271)\n",
            "CHNCXR_0145_0.png (2990, 2990)\n",
            "CHNCXR_0146_0.png (2975, 2985)\n",
            "CHNCXR_0147_0.png (2951, 3000)\n",
            "CHNCXR_0148_0.png (2930, 2692)\n",
            "CHNCXR_0149_0.png (2995, 2993)\n",
            "CHNCXR_0150_0.png (2941, 2730)\n",
            "CHNCXR_0151_0.png (2931, 2985)\n",
            "CHNCXR_0152_0.png (2638, 2512)\n",
            "CHNCXR_0153_0.png (2939, 3000)\n",
            "CHNCXR_0154_0.png (2943, 3000)\n",
            "CHNCXR_0155_0.png (1737, 2253)\n",
            "CHNCXR_0156_0.png (2957, 2997)\n",
            "CHNCXR_0157_0.png (2953, 2985)\n",
            "CHNCXR_0158_0.png (2904, 2655)\n",
            "CHNCXR_0159_0.png (2989, 2991)\n",
            "CHNCXR_0160_0.png (2786, 2529)\n",
            "CHNCXR_0161_0.png (2880, 2697)\n",
            "CHNCXR_0162_0.png (2945, 3000)\n",
            "CHNCXR_0163_0.png (2951, 2989)\n",
            "CHNCXR_0164_0.png (2939, 3000)\n",
            "CHNCXR_0165_0.png (2993, 2967)\n",
            "CHNCXR_0166_0.png (2527, 2443)\n",
            "CHNCXR_0167_0.png (2961, 2761)\n",
            "CHNCXR_0168_0.png (2931, 3000)\n",
            "CHNCXR_0169_0.png (1761, 1671)\n",
            "CHNCXR_0170_0.png (2953, 3000)\n",
            "CHNCXR_0171_0.png (2991, 2991)\n",
            "CHNCXR_0172_0.png (2556, 2434)\n",
            "CHNCXR_0173_0.png (2903, 2566)\n",
            "CHNCXR_0174_0.png (2970, 2585)\n",
            "CHNCXR_0175_0.png (2009, 2205)\n",
            "CHNCXR_0176_0.png (2929, 2987)\n",
            "CHNCXR_0177_0.png (2530, 2504)\n",
            "CHNCXR_0178_0.png (1341, 1521)\n",
            "CHNCXR_0179_0.png (2941, 3000)\n",
            "CHNCXR_0180_0.png (2457, 2997)\n",
            "CHNCXR_0181_0.png (2937, 3000)\n",
            "CHNCXR_0182_0.png (2925, 3000)\n",
            "CHNCXR_0183_0.png (2945, 3000)\n",
            "CHNCXR_0184_0.png (2947, 3000)\n",
            "CHNCXR_0185_0.png (2929, 2793)\n",
            "CHNCXR_0186_0.png (2861, 2464)\n",
            "CHNCXR_0187_0.png (2940, 2339)\n",
            "CHNCXR_0188_0.png (2989, 2992)\n",
            "CHNCXR_0189_0.png (2758, 2478)\n",
            "CHNCXR_0190_0.png (2933, 3000)\n",
            "CHNCXR_0191_0.png (2947, 3000)\n",
            "CHNCXR_0192_0.png (2989, 2992)\n",
            "CHNCXR_0193_0.png (2601, 2512)\n",
            "CHNCXR_0194_0.png (2992, 2991)\n",
            "CHNCXR_0195_0.png (2993, 2990)\n",
            "CHNCXR_0196_0.png (2989, 2988)\n",
            "CHNCXR_0197_0.png (2939, 3000)\n",
            "CHNCXR_0198_0.png (2978, 2990)\n",
            "CHNCXR_0199_0.png (2174, 2136)\n",
            "CHNCXR_0200_0.png (2985, 2989)\n",
            "CHNCXR_0201_0.png (1583, 1571)\n",
            "CHNCXR_0202_0.png (948, 1130)\n",
            "CHNCXR_0203_0.png (2993, 2990)\n",
            "CHNCXR_0204_0.png (2990, 2987)\n",
            "CHNCXR_0205_0.png (1811, 1836)\n",
            "CHNCXR_0206_0.png (1679, 1893)\n",
            "CHNCXR_0207_0.png (2991, 2990)\n",
            "CHNCXR_0208_0.png (2843, 2622)\n",
            "CHNCXR_0209_0.png (2982, 2991)\n",
            "CHNCXR_0210_0.png (2990, 2988)\n",
            "CHNCXR_0211_0.png (2992, 2986)\n",
            "CHNCXR_0212_0.png (2585, 2792)\n",
            "CHNCXR_0213_0.png (2941, 3000)\n",
            "CHNCXR_0214_0.png (2750, 2627)\n",
            "CHNCXR_0215_0.png (1993, 1954)\n",
            "CHNCXR_0216_0.png (3001, 3000)\n",
            "CHNCXR_0217_0.png (2713, 2763)\n",
            "CHNCXR_0218_0.png (2978, 2989)\n",
            "CHNCXR_0219_0.png (2985, 2992)\n",
            "CHNCXR_0220_0.png (2575, 2554)\n",
            "CHNCXR_0221_0.png (2928, 2464)\n",
            "CHNCXR_0222_0.png (2998, 2989)\n",
            "CHNCXR_0223_0.png (2939, 3000)\n",
            "CHNCXR_0224_0.png (2978, 2988)\n",
            "CHNCXR_0225_0.png (2999, 3000)\n",
            "CHNCXR_0226_0.png (2992, 2991)\n",
            "CHNCXR_0227_0.png (2993, 2991)\n",
            "CHNCXR_0228_0.png (1252, 1286)\n",
            "CHNCXR_0229_0.png (2992, 2982)\n",
            "CHNCXR_0230_0.png (2989, 2993)\n",
            "CHNCXR_0231_0.png (2994, 2987)\n",
            "CHNCXR_0232_0.png (2993, 2988)\n",
            "CHNCXR_0233_0.png (2939, 3000)\n",
            "CHNCXR_0234_0.png (2992, 2992)\n",
            "CHNCXR_0235_0.png (2488, 2383)\n",
            "CHNCXR_0236_0.png (2988, 2759)\n",
            "CHNCXR_0237_0.png (2937, 3000)\n",
            "CHNCXR_0238_0.png (2951, 3000)\n",
            "CHNCXR_0239_0.png (2995, 2991)\n",
            "CHNCXR_0240_0.png (2995, 2988)\n",
            "CHNCXR_0241_0.png (2344, 2324)\n",
            "CHNCXR_0242_0.png (2366, 2461)\n",
            "CHNCXR_0243_0.png (2939, 3000)\n",
            "CHNCXR_0244_0.png (2386, 2282)\n",
            "CHNCXR_0245_0.png (2993, 2991)\n",
            "CHNCXR_0246_0.png (2945, 3000)\n",
            "CHNCXR_0247_0.png (2939, 3000)\n",
            "CHNCXR_0248_0.png (1468, 1285)\n",
            "CHNCXR_0249_0.png (2982, 2990)\n",
            "CHNCXR_0250_0.png (2953, 3000)\n",
            "CHNCXR_0251_0.png (2537, 2501)\n",
            "CHNCXR_0252_0.png (3001, 2990)\n",
            "CHNCXR_0253_0.png (2939, 3000)\n",
            "CHNCXR_0254_0.png (2941, 2975)\n",
            "CHNCXR_0255_0.png (2930, 2600)\n",
            "CHNCXR_0256_0.png (1772, 1615)\n",
            "CHNCXR_0257_0.png (2992, 2986)\n",
            "CHNCXR_0258_0.png (2943, 2997)\n",
            "CHNCXR_0259_0.png (2202, 1964)\n",
            "CHNCXR_0260_0.png (2935, 3000)\n",
            "CHNCXR_0261_0.png (2956, 3001)\n",
            "CHNCXR_0262_0.png (2937, 3000)\n",
            "CHNCXR_0263_0.png (2941, 3000)\n",
            "CHNCXR_0264_0.png (2994, 2992)\n",
            "CHNCXR_0265_0.png (2205, 1936)\n",
            "CHNCXR_0266_0.png (2995, 2991)\n",
            "CHNCXR_0267_0.png (2921, 2997)\n",
            "CHNCXR_0268_0.png (2994, 2588)\n",
            "CHNCXR_0269_0.png (3001, 2967)\n",
            "CHNCXR_0270_0.png (2992, 2991)\n",
            "CHNCXR_0271_0.png (2995, 2989)\n",
            "CHNCXR_0272_0.png (2283, 2272)\n",
            "CHNCXR_0273_0.png (2374, 2048)\n",
            "CHNCXR_0274_0.png (2733, 2423)\n",
            "CHNCXR_0275_0.png (2994, 2992)\n",
            "CHNCXR_0276_0.png (2980, 3001)\n",
            "CHNCXR_0277_0.png (2979, 2609)\n",
            "CHNCXR_0278_0.png (2582, 2316)\n",
            "CHNCXR_0279_0.png (2710, 2549)\n",
            "CHNCXR_0280_0.png (2945, 2793)\n",
            "CHNCXR_0281_0.png (2945, 3000)\n",
            "CHNCXR_0282_0.png (2967, 3000)\n",
            "CHNCXR_0283_0.png (2993, 3000)\n",
            "CHNCXR_0284_0.png (2959, 3000)\n",
            "CHNCXR_0285_0.png (3001, 3001)\n",
            "CHNCXR_0286_0.png (2943, 2989)\n",
            "CHNCXR_0287_0.png (2838, 2617)\n",
            "CHNCXR_0288_0.png (2940, 2324)\n",
            "CHNCXR_0289_0.png (2945, 3000)\n",
            "CHNCXR_0290_0.png (2933, 2987)\n",
            "CHNCXR_0291_0.png (2449, 2403)\n",
            "CHNCXR_0292_0.png (2935, 2987)\n",
            "CHNCXR_0293_0.png (2949, 3000)\n",
            "CHNCXR_0294_0.png (2945, 3000)\n",
            "CHNCXR_0295_0.png (2482, 2344)\n",
            "CHNCXR_0296_0.png (2571, 2430)\n",
            "CHNCXR_0297_0.png (1551, 1418)\n",
            "CHNCXR_0298_0.png (2947, 3000)\n",
            "CHNCXR_0299_0.png (2143, 1767)\n",
            "CHNCXR_0300_0.png (2951, 3000)\n",
            "CHNCXR_0301_0.png (2949, 3000)\n",
            "CHNCXR_0302_0.png (2968, 2604)\n",
            "CHNCXR_0303_0.png (1887, 1872)\n",
            "CHNCXR_0304_0.png (2945, 3000)\n",
            "CHNCXR_0305_0.png (3001, 2689)\n",
            "CHNCXR_0306_0.png (2931, 3000)\n",
            "CHNCXR_0307_0.png (2947, 3000)\n",
            "CHNCXR_0308_0.png (2943, 2997)\n",
            "CHNCXR_0309_0.png (2915, 3000)\n",
            "CHNCXR_0310_0.png (2278, 2301)\n",
            "CHNCXR_0311_0.png (2955, 3000)\n",
            "CHNCXR_0312_0.png (2935, 3000)\n",
            "CHNCXR_0313_0.png (2034, 1814)\n",
            "CHNCXR_0314_0.png (2955, 2689)\n",
            "CHNCXR_0315_0.png (2985, 3000)\n",
            "CHNCXR_0316_0.png (2658, 2377)\n",
            "CHNCXR_0317_0.png (2937, 3000)\n",
            "CHNCXR_0318_0.png (2935, 3000)\n",
            "CHNCXR_0319_0.png (2949, 3000)\n",
            "CHNCXR_0320_0.png (2937, 3000)\n",
            "CHNCXR_0321_0.png (2953, 3000)\n",
            "CHNCXR_0322_0.png (2949, 3000)\n",
            "CHNCXR_0323_0.png (2951, 3000)\n",
            "CHNCXR_0324_0.png (2945, 3000)\n",
            "CHNCXR_0325_0.png (2943, 3000)\n",
            "CHNCXR_0326_0.png (2939, 3000)\n",
            "CHNCXR_0327_1.png (2566, 2566)\n",
            "CHNCXR_0328_1.png (2939, 2985)\n",
            "CHNCXR_0329_1.png (2303, 2383)\n",
            "CHNCXR_0330_1.png (2787, 2632)\n",
            "CHNCXR_0331_1.png (2261, 2282)\n",
            "CHNCXR_0332_1.png (2639, 2749)\n",
            "CHNCXR_0333_1.png (2595, 2613)\n",
            "CHNCXR_0334_1.png (2925, 3000)\n",
            "CHNCXR_0335_1.png (2424, 2569)\n",
            "CHNCXR_0336_1.png (2742, 2472)\n",
            "CHNCXR_0337_1.png (2562, 2464)\n",
            "CHNCXR_0338_1.png (2924, 2397)\n",
            "CHNCXR_0339_1.png (2493, 2573)\n",
            "CHNCXR_0340_1.png (2810, 2808)\n",
            "CHNCXR_0341_1.png (2945, 3000)\n",
            "CHNCXR_0342_1.png (2916, 2746)\n",
            "CHNCXR_0343_1.png (2958, 2800)\n",
            "CHNCXR_0344_1.png (2485, 2499)\n",
            "CHNCXR_0345_1.png (2638, 2495)\n",
            "CHNCXR_0346_1.png (2334, 2128)\n",
            "CHNCXR_0347_1.png (2916, 2678)\n",
            "CHNCXR_0348_1.png (2787, 2485)\n",
            "CHNCXR_0349_1.png (2949, 3000)\n",
            "CHNCXR_0350_1.png (2889, 2776)\n",
            "CHNCXR_0351_1.png (2951, 3000)\n",
            "CHNCXR_0352_1.png (2921, 2573)\n",
            "CHNCXR_0353_1.png (2550, 2307)\n",
            "CHNCXR_0354_1.png (2931, 2618)\n",
            "CHNCXR_0355_1.png (2967, 3001)\n",
            "CHNCXR_0356_1.png (2700, 2416)\n",
            "CHNCXR_0357_1.png (2921, 2849)\n",
            "CHNCXR_0358_1.png (2939, 2542)\n",
            "CHNCXR_0359_1.png (2892, 2552)\n",
            "CHNCXR_0360_1.png (2783, 2562)\n",
            "CHNCXR_0361_1.png (2690, 2646)\n",
            "CHNCXR_0362_1.png (2963, 3001)\n",
            "CHNCXR_0363_1.png (2788, 2460)\n",
            "CHNCXR_0364_1.png (2971, 3000)\n",
            "CHNCXR_0365_1.png (2808, 2458)\n",
            "CHNCXR_0366_1.png (2960, 2804)\n",
            "CHNCXR_0367_1.png (2944, 2485)\n",
            "CHNCXR_0368_1.png (2400, 2039)\n",
            "CHNCXR_0369_1.png (2945, 2814)\n",
            "CHNCXR_0370_1.png (2941, 2996)\n",
            "CHNCXR_0371_1.png (2945, 3000)\n",
            "CHNCXR_0372_1.png (2949, 3000)\n",
            "CHNCXR_0373_1.png (2833, 2638)\n",
            "CHNCXR_0374_1.png (2927, 3000)\n",
            "CHNCXR_0375_1.png (2995, 2990)\n",
            "CHNCXR_0376_1.png (2958, 2991)\n",
            "CHNCXR_0377_1.png (2730, 2344)\n",
            "CHNCXR_0378_1.png (2959, 2983)\n",
            "CHNCXR_0379_1.png (2240, 2377)\n",
            "CHNCXR_0380_1.png (2977, 2978)\n",
            "CHNCXR_0381_1.png (2958, 3001)\n",
            "CHNCXR_0382_1.png (2897, 2499)\n",
            "CHNCXR_0383_1.png (2639, 2709)\n",
            "CHNCXR_0384_1.png (2935, 2991)\n",
            "CHNCXR_0385_1.png (2947, 2804)\n",
            "CHNCXR_0386_1.png (2947, 3000)\n",
            "CHNCXR_0387_1.png (2603, 2516)\n",
            "CHNCXR_0388_1.png (2925, 2773)\n",
            "CHNCXR_0389_1.png (3001, 2763)\n",
            "CHNCXR_0390_1.png (2951, 2824)\n",
            "CHNCXR_0391_1.png (2611, 2227)\n",
            "CHNCXR_0392_1.png (2722, 2572)\n",
            "CHNCXR_0393_1.png (2417, 2479)\n",
            "CHNCXR_0394_1.png (2955, 2994)\n",
            "CHNCXR_0395_1.png (2904, 2715)\n",
            "CHNCXR_0396_1.png (2900, 2624)\n",
            "CHNCXR_0397_1.png (2788, 2537)\n",
            "CHNCXR_0398_1.png (2854, 2344)\n",
            "CHNCXR_0399_1.png (2948, 2704)\n",
            "CHNCXR_0400_1.png (2750, 2710)\n",
            "CHNCXR_0401_1.png (2843, 2370)\n",
            "CHNCXR_0402_1.png (2948, 2610)\n",
            "CHNCXR_0403_1.png (2959, 2792)\n",
            "CHNCXR_0404_1.png (2926, 2460)\n",
            "CHNCXR_0405_1.png (2914, 2801)\n",
            "CHNCXR_0406_1.png (2733, 2384)\n",
            "CHNCXR_0407_1.png (2967, 2983)\n",
            "CHNCXR_0408_1.png (2970, 3001)\n",
            "CHNCXR_0409_1.png (2938, 2758)\n",
            "CHNCXR_0410_1.png (2691, 2545)\n",
            "CHNCXR_0411_1.png (2944, 2994)\n",
            "CHNCXR_0412_1.png (2943, 2993)\n",
            "CHNCXR_0413_1.png (2990, 2493)\n",
            "CHNCXR_0414_1.png (2693, 2544)\n",
            "CHNCXR_0415_1.png (2988, 2517)\n",
            "CHNCXR_0416_1.png (2875, 2523)\n",
            "CHNCXR_0417_1.png (2957, 2747)\n",
            "CHNCXR_0418_1.png (2944, 2720)\n",
            "CHNCXR_0419_1.png (2954, 2477)\n",
            "CHNCXR_0420_1.png (3000, 2844)\n",
            "CHNCXR_0421_1.png (2995, 3000)\n",
            "CHNCXR_0422_1.png (2953, 3001)\n",
            "CHNCXR_0423_1.png (2951, 2993)\n",
            "CHNCXR_0424_1.png (2944, 2980)\n",
            "CHNCXR_0425_1.png (2946, 2994)\n",
            "CHNCXR_0426_1.png (2813, 2540)\n",
            "CHNCXR_0427_1.png (2945, 2993)\n",
            "CHNCXR_0428_1.png (2948, 2962)\n",
            "CHNCXR_0429_1.png (2947, 2990)\n",
            "CHNCXR_0430_1.png (2944, 2995)\n",
            "CHNCXR_0431_1.png (2952, 2993)\n",
            "CHNCXR_0432_1.png (2940, 2980)\n",
            "CHNCXR_0433_1.png (2942, 3001)\n",
            "CHNCXR_0434_1.png (2943, 2972)\n",
            "CHNCXR_0435_1.png (2416, 2533)\n",
            "CHNCXR_0436_1.png (2954, 2851)\n",
            "CHNCXR_0437_1.png (2308, 2184)\n",
            "CHNCXR_0438_1.png (2417, 2618)\n",
            "CHNCXR_0439_1.png (2949, 2989)\n",
            "CHNCXR_0440_1.png (2620, 2435)\n",
            "CHNCXR_0441_1.png (2974, 2631)\n",
            "CHNCXR_0442_1.png (2951, 2879)\n",
            "CHNCXR_0443_1.png (2990, 2997)\n",
            "CHNCXR_0444_1.png (2987, 2980)\n",
            "CHNCXR_0445_1.png (2989, 2996)\n",
            "CHNCXR_0446_1.png (2925, 3000)\n",
            "CHNCXR_0447_1.png (2958, 2630)\n",
            "CHNCXR_0448_1.png (2521, 2107)\n",
            "CHNCXR_0449_1.png (2999, 2996)\n",
            "CHNCXR_0450_1.png (2945, 2992)\n",
            "CHNCXR_0451_1.png (2951, 2831)\n",
            "CHNCXR_0452_1.png (2804, 2423)\n",
            "CHNCXR_0453_1.png (2958, 2992)\n",
            "CHNCXR_0454_1.png (2896, 2599)\n",
            "CHNCXR_0455_1.png (2960, 2986)\n",
            "CHNCXR_0456_1.png (2599, 2400)\n",
            "CHNCXR_0457_1.png (2795, 2598)\n",
            "CHNCXR_0458_1.png (2955, 2744)\n",
            "CHNCXR_0459_1.png (2867, 2408)\n",
            "CHNCXR_0460_1.png (2930, 2773)\n",
            "CHNCXR_0461_1.png (2939, 3000)\n",
            "CHNCXR_0462_1.png (2978, 2542)\n",
            "CHNCXR_0463_1.png (2914, 2571)\n",
            "CHNCXR_0464_1.png (2990, 2797)\n",
            "CHNCXR_0465_1.png (2792, 2713)\n",
            "CHNCXR_0466_1.png (2684, 2493)\n",
            "CHNCXR_0467_1.png (2581, 2281)\n",
            "CHNCXR_0468_1.png (2690, 2441)\n",
            "CHNCXR_0469_1.png (2629, 2163)\n",
            "CHNCXR_0470_1.png (2549, 2096)\n",
            "CHNCXR_0471_1.png (2622, 2276)\n",
            "CHNCXR_0472_1.png (2818, 2488)\n",
            "CHNCXR_0473_1.png (2989, 2743)\n",
            "CHNCXR_0474_1.png (2559, 2599)\n",
            "CHNCXR_0475_1.png (2947, 2576)\n",
            "CHNCXR_0476_1.png (2581, 2331)\n",
            "CHNCXR_0477_1.png (2873, 2500)\n",
            "CHNCXR_0478_1.png (2365, 2556)\n",
            "CHNCXR_0479_1.png (2986, 2739)\n",
            "CHNCXR_0480_1.png (2688, 2581)\n",
            "CHNCXR_0481_1.png (2943, 3000)\n",
            "CHNCXR_0482_1.png (2363, 2146)\n",
            "CHNCXR_0483_1.png (2943, 3000)\n",
            "CHNCXR_0484_1.png (2999, 2793)\n",
            "CHNCXR_0485_1.png (2945, 3000)\n",
            "CHNCXR_0486_1.png (2889, 2716)\n",
            "CHNCXR_0487_1.png (2947, 2991)\n",
            "CHNCXR_0488_1.png (2660, 2416)\n",
            "CHNCXR_0489_1.png (2608, 2401)\n",
            "CHNCXR_0490_1.png (3001, 3001)\n",
            "CHNCXR_0491_1.png (2989, 2729)\n",
            "CHNCXR_0492_1.png (2651, 2430)\n",
            "CHNCXR_0493_1.png (2805, 2409)\n",
            "CHNCXR_0494_1.png (2626, 2252)\n",
            "CHNCXR_0495_1.png (2640, 2503)\n",
            "CHNCXR_0496_1.png (2782, 2422)\n",
            "CHNCXR_0497_1.png (2826, 2504)\n",
            "CHNCXR_0498_1.png (2854, 2495)\n",
            "CHNCXR_0499_1.png (2475, 2442)\n",
            "CHNCXR_0500_1.png (2751, 2346)\n",
            "CHNCXR_0501_1.png (2906, 2408)\n",
            "CHNCXR_0502_1.png (2752, 2328)\n",
            "CHNCXR_0503_1.png (2987, 2779)\n",
            "CHNCXR_0504_1.png (2965, 3000)\n",
            "CHNCXR_0505_1.png (2903, 2599)\n",
            "CHNCXR_0506_1.png (2945, 2621)\n",
            "CHNCXR_0507_1.png (2711, 2248)\n",
            "CHNCXR_0508_1.png (2959, 2985)\n",
            "CHNCXR_0509_1.png (2854, 2536)\n",
            "CHNCXR_0510_1.png (2677, 2389)\n",
            "CHNCXR_0511_1.png (2963, 2987)\n",
            "CHNCXR_0512_1.png (2990, 2993)\n",
            "CHNCXR_0513_1.png (2793, 2387)\n",
            "CHNCXR_0514_1.png (2466, 2358)\n",
            "CHNCXR_0515_1.png (2945, 2450)\n",
            "CHNCXR_0516_1.png (2987, 2628)\n",
            "CHNCXR_0517_1.png (2694, 2452)\n",
            "CHNCXR_0518_1.png (2931, 2594)\n",
            "CHNCXR_0519_1.png (2732, 2411)\n",
            "CHNCXR_0520_1.png (2981, 2997)\n",
            "CHNCXR_0521_1.png (2954, 2678)\n",
            "CHNCXR_0522_1.png (2988, 2659)\n",
            "CHNCXR_0523_1.png (2834, 2653)\n",
            "CHNCXR_0524_1.png (2989, 2786)\n",
            "CHNCXR_0525_1.png (2815, 2464)\n",
            "CHNCXR_0526_1.png (2942, 2427)\n",
            "CHNCXR_0527_1.png (2666, 2511)\n",
            "CHNCXR_0528_1.png (2324, 2266)\n",
            "CHNCXR_0529_1.png (2631, 2537)\n",
            "CHNCXR_0530_1.png (2614, 2560)\n",
            "CHNCXR_0531_1.png (2528, 2515)\n",
            "CHNCXR_0532_1.png (2304, 2464)\n",
            "CHNCXR_0533_1.png (2320, 3001)\n",
            "CHNCXR_0534_1.png (2937, 2772)\n",
            "CHNCXR_0535_1.png (2897, 2671)\n",
            "CHNCXR_0536_1.png (2533, 2396)\n",
            "CHNCXR_0537_1.png (2868, 2632)\n",
            "CHNCXR_0538_1.png (2937, 2509)\n",
            "CHNCXR_0539_1.png (2905, 2520)\n",
            "CHNCXR_0540_1.png (2726, 2351)\n",
            "CHNCXR_0541_1.png (2977, 2658)\n",
            "CHNCXR_0542_1.png (2406, 2372)\n",
            "CHNCXR_0543_1.png (2572, 2607)\n",
            "CHNCXR_0544_1.png (2953, 2693)\n",
            "CHNCXR_0545_1.png (3001, 2674)\n",
            "CHNCXR_0546_1.png (2743, 2524)\n",
            "CHNCXR_0547_1.png (2823, 2610)\n",
            "CHNCXR_0548_1.png (2947, 3000)\n",
            "CHNCXR_0549_1.png (2448, 2371)\n",
            "CHNCXR_0550_1.png (2751, 2521)\n",
            "CHNCXR_0551_1.png (2614, 2481)\n",
            "CHNCXR_0552_1.png (2988, 2996)\n",
            "CHNCXR_0553_1.png (2868, 2491)\n",
            "CHNCXR_0554_1.png (2771, 2612)\n",
            "CHNCXR_0555_1.png (2606, 2497)\n",
            "CHNCXR_0556_1.png (2567, 2599)\n",
            "CHNCXR_0557_1.png (2955, 2792)\n",
            "CHNCXR_0558_1.png (2986, 2537)\n",
            "CHNCXR_0559_1.png (2883, 2735)\n",
            "CHNCXR_0560_1.png (2898, 2662)\n",
            "CHNCXR_0561_1.png (2967, 2679)\n",
            "CHNCXR_0562_1.png (2590, 2516)\n",
            "CHNCXR_0563_1.png (2639, 2615)\n",
            "CHNCXR_0564_1.png (2935, 3000)\n",
            "CHNCXR_0565_1.png (2228, 2532)\n",
            "CHNCXR_0566_1.png (2998, 2573)\n",
            "CHNCXR_0567_1.png (2986, 2995)\n",
            "CHNCXR_0568_1.png (2992, 2646)\n",
            "CHNCXR_0569_1.png (2988, 2503)\n",
            "CHNCXR_0570_1.png (2959, 2524)\n",
            "CHNCXR_0571_1.png (2987, 2725)\n",
            "CHNCXR_0572_1.png (2289, 2400)\n",
            "CHNCXR_0573_1.png (2988, 2519)\n",
            "CHNCXR_0574_1.png (2991, 2609)\n",
            "CHNCXR_0575_1.png (2453, 2443)\n",
            "CHNCXR_0576_1.png (2806, 2437)\n",
            "CHNCXR_0577_1.png (2319, 2384)\n",
            "CHNCXR_0578_1.png (2990, 2903)\n",
            "CHNCXR_0579_1.png (2743, 2312)\n",
            "CHNCXR_0580_1.png (2976, 2628)\n",
            "CHNCXR_0581_1.png (2829, 2550)\n",
            "CHNCXR_0582_1.png (2894, 2761)\n",
            "CHNCXR_0583_1.png (2977, 2996)\n",
            "CHNCXR_0584_1.png (2735, 2643)\n",
            "CHNCXR_0585_1.png (2988, 3001)\n",
            "CHNCXR_0586_1.png (2609, 2419)\n",
            "CHNCXR_0587_1.png (2989, 2996)\n",
            "CHNCXR_0588_1.png (2789, 2554)\n",
            "CHNCXR_0589_1.png (2645, 2421)\n",
            "CHNCXR_0590_1.png (2698, 2427)\n",
            "CHNCXR_0591_1.png (2977, 3001)\n",
            "CHNCXR_0592_1.png (2701, 2629)\n",
            "CHNCXR_0593_1.png (2418, 2330)\n",
            "CHNCXR_0594_1.png (2506, 2356)\n",
            "CHNCXR_0595_1.png (2525, 2234)\n",
            "CHNCXR_0596_1.png (2970, 2406)\n",
            "CHNCXR_0597_1.png (2991, 2996)\n",
            "CHNCXR_0598_1.png (2179, 2221)\n",
            "CHNCXR_0599_1.png (2975, 3000)\n",
            "CHNCXR_0600_1.png (2857, 2998)\n",
            "CHNCXR_0601_1.png (2988, 2698)\n",
            "CHNCXR_0602_1.png (2539, 2299)\n",
            "CHNCXR_0603_1.png (2953, 2324)\n",
            "CHNCXR_0604_1.png (2967, 3000)\n",
            "CHNCXR_0605_1.png (2962, 2410)\n",
            "CHNCXR_0606_1.png (2641, 2619)\n",
            "CHNCXR_0607_1.png (2987, 2997)\n",
            "CHNCXR_0608_1.png (2986, 2995)\n",
            "CHNCXR_0609_1.png (2776, 2725)\n",
            "CHNCXR_0610_1.png (2493, 2525)\n",
            "CHNCXR_0611_1.png (2680, 2479)\n",
            "CHNCXR_0612_1.png (2929, 2735)\n",
            "CHNCXR_0613_1.png (2672, 2546)\n",
            "CHNCXR_0614_1.png (2334, 2401)\n",
            "CHNCXR_0615_1.png (2730, 2387)\n",
            "CHNCXR_0616_1.png (2465, 2235)\n",
            "CHNCXR_0617_1.png (2843, 2679)\n",
            "CHNCXR_0618_1.png (2427, 2268)\n",
            "CHNCXR_0619_1.png (2398, 2254)\n",
            "CHNCXR_0620_1.png (2511, 2339)\n",
            "CHNCXR_0621_1.png (2630, 2584)\n",
            "CHNCXR_0622_1.png (2403, 2420)\n",
            "CHNCXR_0623_1.png (2554, 2238)\n",
            "CHNCXR_0624_1.png (2670, 2623)\n",
            "CHNCXR_0625_1.png (2841, 2350)\n",
            "CHNCXR_0626_1.png (2989, 3001)\n",
            "CHNCXR_0627_1.png (2871, 2607)\n",
            "CHNCXR_0628_1.png (2987, 3001)\n",
            "CHNCXR_0629_1.png (2501, 2457)\n",
            "CHNCXR_0630_1.png (2985, 2997)\n",
            "CHNCXR_0631_1.png (2705, 2406)\n",
            "CHNCXR_0632_1.png (2588, 2497)\n",
            "CHNCXR_0633_1.png (2533, 2610)\n",
            "CHNCXR_0634_1.png (2917, 2573)\n",
            "CHNCXR_0635_1.png (2952, 2399)\n",
            "CHNCXR_0636_1.png (2929, 2896)\n",
            "CHNCXR_0637_1.png (2931, 2511)\n",
            "CHNCXR_0638_1.png (2503, 2400)\n",
            "CHNCXR_0639_1.png (2460, 2202)\n",
            "CHNCXR_0640_1.png (2937, 3000)\n",
            "CHNCXR_0641_1.png (2977, 2450)\n",
            "CHNCXR_0642_1.png (2568, 2110)\n",
            "CHNCXR_0643_1.png (2804, 2368)\n",
            "CHNCXR_0644_1.png (2248, 2300)\n",
            "CHNCXR_0645_1.png (2735, 2421)\n",
            "CHNCXR_0646_1.png (2929, 3001)\n",
            "CHNCXR_0647_1.png (2935, 3001)\n",
            "CHNCXR_0648_1.png (2917, 2580)\n",
            "CHNCXR_0649_1.png (2965, 3000)\n",
            "CHNCXR_0650_1.png (2988, 2676)\n",
            "CHNCXR_0651_1.png (2635, 2459)\n",
            "CHNCXR_0652_1.png (2750, 2707)\n",
            "CHNCXR_0653_1.png (2550, 2336)\n",
            "CHNCXR_0654_1.png (2283, 2057)\n",
            "CHNCXR_0655_1.png (2933, 2734)\n",
            "CHNCXR_0656_1.png (2988, 3001)\n",
            "CHNCXR_0657_1.png (2977, 2738)\n",
            "CHNCXR_0658_1.png (2955, 2611)\n",
            "CHNCXR_0659_1.png (2989, 3001)\n",
            "CHNCXR_0660_1.png (2933, 2997)\n",
            "CHNCXR_0661_1.png (2608, 2495)\n",
            "CHNCXR_0662_1.png (2988, 2619)\n"
          ]
        }
      ]
    },
    {
      "cell_type": "code",
      "metadata": {
        "colab": {
          "base_uri": "https://localhost:8080/"
        },
        "id": "rb6N79DM7PwZ",
        "outputId": "7e710b36-37e1-4db5-d959-36fbee51545d"
      },
      "source": [
        "image.shape"
      ],
      "execution_count": null,
      "outputs": [
        {
          "output_type": "execute_result",
          "data": {
            "text/plain": [
              "(662, 256, 256)"
            ]
          },
          "metadata": {},
          "execution_count": 10
        }
      ]
    },
    {
      "cell_type": "code",
      "metadata": {
        "id": "k-d6USn07Yoz"
      },
      "source": [
        "#with open('/content/gdrive/MyDrive/Year3/Indiv/img_data.csv', 'w') as outfile:\n",
        "    #for slice_2d in image:\n",
        "        #np.savetxt(outfile, slice_2d)"
      ],
      "execution_count": null,
      "outputs": []
    },
    {
      "cell_type": "code",
      "metadata": {
        "id": "IKR5r83dn1JC"
      },
      "source": [
        "label = []\n",
        "for i in range(row):\n",
        "  if (df['findings'][i]=='normal'):\n",
        "    label.append(0) # 0:normal\n",
        "  else:\n",
        "    label.append(1) # 1:abnormal"
      ],
      "execution_count": null,
      "outputs": []
    },
    {
      "cell_type": "code",
      "metadata": {
        "id": "FzSvjg-zoKSZ"
      },
      "source": [
        "df['label'] = label"
      ],
      "execution_count": null,
      "outputs": []
    },
    {
      "cell_type": "code",
      "metadata": {
        "id": "gwuKj6jhPg_4",
        "colab": {
          "base_uri": "https://localhost:8080/",
          "height": 205
        },
        "outputId": "24531afc-79b5-4a88-b305-f1a8aa353e90"
      },
      "source": [
        "df.head()"
      ],
      "execution_count": null,
      "outputs": [
        {
          "output_type": "execute_result",
          "data": {
            "text/html": [
              "<div>\n",
              "<style scoped>\n",
              "    .dataframe tbody tr th:only-of-type {\n",
              "        vertical-align: middle;\n",
              "    }\n",
              "\n",
              "    .dataframe tbody tr th {\n",
              "        vertical-align: top;\n",
              "    }\n",
              "\n",
              "    .dataframe thead th {\n",
              "        text-align: right;\n",
              "    }\n",
              "</style>\n",
              "<table border=\"1\" class=\"dataframe\">\n",
              "  <thead>\n",
              "    <tr style=\"text-align: right;\">\n",
              "      <th></th>\n",
              "      <th>study_id</th>\n",
              "      <th>sex</th>\n",
              "      <th>age</th>\n",
              "      <th>findings</th>\n",
              "      <th>label</th>\n",
              "    </tr>\n",
              "  </thead>\n",
              "  <tbody>\n",
              "    <tr>\n",
              "      <th>0</th>\n",
              "      <td>CHNCXR_0001_0.png</td>\n",
              "      <td>Male</td>\n",
              "      <td>45</td>\n",
              "      <td>normal</td>\n",
              "      <td>0</td>\n",
              "    </tr>\n",
              "    <tr>\n",
              "      <th>1</th>\n",
              "      <td>CHNCXR_0002_0.png</td>\n",
              "      <td>Male</td>\n",
              "      <td>63</td>\n",
              "      <td>normal</td>\n",
              "      <td>0</td>\n",
              "    </tr>\n",
              "    <tr>\n",
              "      <th>2</th>\n",
              "      <td>CHNCXR_0003_0.png</td>\n",
              "      <td>Female</td>\n",
              "      <td>48</td>\n",
              "      <td>normal</td>\n",
              "      <td>0</td>\n",
              "    </tr>\n",
              "    <tr>\n",
              "      <th>3</th>\n",
              "      <td>CHNCXR_0004_0.png</td>\n",
              "      <td>Male</td>\n",
              "      <td>58</td>\n",
              "      <td>normal</td>\n",
              "      <td>0</td>\n",
              "    </tr>\n",
              "    <tr>\n",
              "      <th>4</th>\n",
              "      <td>CHNCXR_0005_0.png</td>\n",
              "      <td>Male</td>\n",
              "      <td>28</td>\n",
              "      <td>normal</td>\n",
              "      <td>0</td>\n",
              "    </tr>\n",
              "  </tbody>\n",
              "</table>\n",
              "</div>"
            ],
            "text/plain": [
              "            study_id     sex  age findings  label\n",
              "0  CHNCXR_0001_0.png    Male   45   normal      0\n",
              "1  CHNCXR_0002_0.png    Male   63   normal      0\n",
              "2  CHNCXR_0003_0.png  Female   48   normal      0\n",
              "3  CHNCXR_0004_0.png    Male   58   normal      0\n",
              "4  CHNCXR_0005_0.png    Male   28   normal      0"
            ]
          },
          "metadata": {},
          "execution_count": 21
        }
      ]
    },
    {
      "cell_type": "code",
      "metadata": {
        "id": "nQYqgCUfPjCc",
        "colab": {
          "base_uri": "https://localhost:8080/",
          "height": 1000
        },
        "outputId": "d0d7f177-81f7-4698-c83e-726df9e114de"
      },
      "source": [
        "for i in range(5):\n",
        "  plt.imshow(image[i], cmap='gray')\n",
        "  plt.title(df['study_id'][i])\n",
        "  plt.show()"
      ],
      "execution_count": null,
      "outputs": [
        {
          "output_type": "display_data",
          "data": {
            "image/png": "[encoded data removed]",
            "text/plain": [
              "<Figure size 432x288 with 1 Axes>"
            ]
          },
          "metadata": {
            "needs_background": "light"
          }
        },
        {
          "output_type": "display_data",
          "data": {
            "image/png": "[encoded data removed]",
            "text/plain": [
              "<Figure size 432x288 with 1 Axes>"
            ]
          },
          "metadata": {
            "needs_background": "light"
          }
        },
        {
          "output_type": "display_data",
          "data": {
            "image/png": "[encoded data removed]",
            "text/plain": [
              "<Figure size 432x288 with 1 Axes>"
            ]
          },
          "metadata": {
            "needs_background": "light"
          }
        },
        {
          "output_type": "display_data",
          "data": {
            "image/png": "[encoded data removed]",
            "text/plain": [
              "<Figure size 432x288 with 1 Axes>"
            ]
          },
          "metadata": {
            "needs_background": "light"
          }
        },
        {
          "output_type": "display_data",
          "data": {
            "image/png": "[encoded data removed]",
            "text/plain": [
              "<Figure size 432x288 with 1 Axes>"
            ]
          },
          "metadata": {
            "needs_background": "light"
          }
        }
      ]
    },
    {
      "cell_type": "code",
      "metadata": {
        "id": "ALuRHn_oME_N",
        "colab": {
          "base_uri": "https://localhost:8080/"
        },
        "outputId": "d29288b9-db8e-449a-c36c-e83c2c234a0a"
      },
      "source": [
        "(df['findings']=='normal').value_counts()\n",
        "# normal: 326 people and not normal: 336 people"
      ],
      "execution_count": null,
      "outputs": [
        {
          "output_type": "execute_result",
          "data": {
            "text/plain": [
              "False    336\n",
              "True     326\n",
              "Name: findings, dtype: int64"
            ]
          },
          "metadata": {},
          "execution_count": 17
        }
      ]
    },
    {
      "cell_type": "code",
      "metadata": {
        "id": "EQDby6l1plnR"
      },
      "source": [
        "df.to_csv('/content/gdrive/MyDrive/Year3/Indiv/data.csv',index=False)"
      ],
      "execution_count": null,
      "outputs": []
    },
    {
      "cell_type": "markdown",
      "metadata": {
        "id": "H1z1i6lkRFJh"
      },
      "source": [
        "# Preprocessing data"
      ]
    },
    {
      "cell_type": "code",
      "metadata": {
        "id": "6V41Jm1KQ3Hn"
      },
      "source": [
        "df = pd.read_csv('/content/gdrive/MyDrive/Year3/Indiv/data.csv')\n",
        "row = len(df)\n",
        "column = len(df.columns)"
      ],
      "execution_count": 4,
      "outputs": []
    },
    {
      "cell_type": "code",
      "metadata": {
        "colab": {
          "base_uri": "https://localhost:8080/",
          "height": 206
        },
        "id": "vgUaiWulvqcC",
        "outputId": "79132002-e4ae-4b17-dc17-a1340f0c6bd3"
      },
      "source": [
        "#df.head()"
      ],
      "execution_count": null,
      "outputs": [
        {
          "output_type": "execute_result",
          "data": {
            "text/html": [
              "\n",
              "  <div id=\"df-3a88fae2-cb82-48e5-9628-3de6b6c7be72\">\n",
              "    <div class=\"colab-df-container\">\n",
              "      <div>\n",
              "<style scoped>\n",
              "    .dataframe tbody tr th:only-of-type {\n",
              "        vertical-align: middle;\n",
              "    }\n",
              "\n",
              "    .dataframe tbody tr th {\n",
              "        vertical-align: top;\n",
              "    }\n",
              "\n",
              "    .dataframe thead th {\n",
              "        text-align: right;\n",
              "    }\n",
              "</style>\n",
              "<table border=\"1\" class=\"dataframe\">\n",
              "  <thead>\n",
              "    <tr style=\"text-align: right;\">\n",
              "      <th></th>\n",
              "      <th>study_id</th>\n",
              "      <th>sex</th>\n",
              "      <th>age</th>\n",
              "      <th>findings</th>\n",
              "      <th>label</th>\n",
              "    </tr>\n",
              "  </thead>\n",
              "  <tbody>\n",
              "    <tr>\n",
              "      <th>0</th>\n",
              "      <td>CHNCXR_0001_0.png</td>\n",
              "      <td>Male</td>\n",
              "      <td>45</td>\n",
              "      <td>normal</td>\n",
              "      <td>0</td>\n",
              "    </tr>\n",
              "    <tr>\n",
              "      <th>1</th>\n",
              "      <td>CHNCXR_0002_0.png</td>\n",
              "      <td>Male</td>\n",
              "      <td>63</td>\n",
              "      <td>normal</td>\n",
              "      <td>0</td>\n",
              "    </tr>\n",
              "    <tr>\n",
              "      <th>2</th>\n",
              "      <td>CHNCXR_0003_0.png</td>\n",
              "      <td>Female</td>\n",
              "      <td>48</td>\n",
              "      <td>normal</td>\n",
              "      <td>0</td>\n",
              "    </tr>\n",
              "    <tr>\n",
              "      <th>3</th>\n",
              "      <td>CHNCXR_0004_0.png</td>\n",
              "      <td>Male</td>\n",
              "      <td>58</td>\n",
              "      <td>normal</td>\n",
              "      <td>0</td>\n",
              "    </tr>\n",
              "    <tr>\n",
              "      <th>4</th>\n",
              "      <td>CHNCXR_0005_0.png</td>\n",
              "      <td>Male</td>\n",
              "      <td>28</td>\n",
              "      <td>normal</td>\n",
              "      <td>0</td>\n",
              "    </tr>\n",
              "  </tbody>\n",
              "</table>\n",
              "</div>\n",
              "      <button class=\"colab-df-convert\" onclick=\"convertToInteractive('df-3a88fae2-cb82-48e5-9628-3de6b6c7be72')\"\n",
              "              title=\"Convert this dataframe to an interactive table.\"\n",
              "              style=\"display:none;\">\n",
              "        \n",
              "  <svg xmlns=\"http://www.w3.org/2000/svg\" height=\"24px\"viewBox=\"0 0 24 24\"\n",
              "       width=\"24px\">\n",
              "    <path d=\"M0 0h24v24H0V0z\" fill=\"none\"/>\n",
              "    <path d=\"M18.56 5.44l.94 2.06.94-2.06 2.06-.94-2.06-.94-.94-2.06-.94 2.06-2.06.94zm-11 1L8.5 8.5l.94-2.06 2.06-.94-2.06-.94L8.5 2.5l-.94 2.06-2.06.94zm10 10l.94 2.06.94-2.06 2.06-.94-2.06-.94-.94-2.06-.94 2.06-2.06.94z\"/><path d=\"M17.41 7.96l-1.37-1.37c-.4-.4-.92-.59-1.43-.59-.52 0-1.04.2-1.43.59L10.3 9.45l-7.72 7.72c-.78.78-.78 2.05 0 2.83L4 21.41c.39.39.9.59 1.41.59.51 0 1.02-.2 1.41-.59l7.78-7.78 2.81-2.81c.8-.78.8-2.07 0-2.86zM5.41 20L4 18.59l7.72-7.72 1.47 1.35L5.41 20z\"/>\n",
              "  </svg>\n",
              "      </button>\n",
              "      \n",
              "  <style>\n",
              "    .colab-df-container {\n",
              "      display:flex;\n",
              "      flex-wrap:wrap;\n",
              "      gap: 12px;\n",
              "    }\n",
              "\n",
              "    .colab-df-convert {\n",
              "      background-color: #E8F0FE;\n",
              "      border: none;\n",
              "      border-radius: 50%;\n",
              "      cursor: pointer;\n",
              "      display: none;\n",
              "      fill: #1967D2;\n",
              "      height: 32px;\n",
              "      padding: 0 0 0 0;\n",
              "      width: 32px;\n",
              "    }\n",
              "\n",
              "    .colab-df-convert:hover {\n",
              "      background-color: #E2EBFA;\n",
              "      box-shadow: 0px 1px 2px rgba(60, 64, 67, 0.3), 0px 1px 3px 1px rgba(60, 64, 67, 0.15);\n",
              "      fill: #174EA6;\n",
              "    }\n",
              "\n",
              "    [theme=dark] .colab-df-convert {\n",
              "      background-color: #3B4455;\n",
              "      fill: #D2E3FC;\n",
              "    }\n",
              "\n",
              "    [theme=dark] .colab-df-convert:hover {\n",
              "      background-color: #434B5C;\n",
              "      box-shadow: 0px 1px 3px 1px rgba(0, 0, 0, 0.15);\n",
              "      filter: drop-shadow(0px 1px 2px rgba(0, 0, 0, 0.3));\n",
              "      fill: #FFFFFF;\n",
              "    }\n",
              "  </style>\n",
              "\n",
              "      <script>\n",
              "        const buttonEl =\n",
              "          document.querySelector('#df-3a88fae2-cb82-48e5-9628-3de6b6c7be72 button.colab-df-convert');\n",
              "        buttonEl.style.display =\n",
              "          google.colab.kernel.accessAllowed ? 'block' : 'none';\n",
              "\n",
              "        async function convertToInteractive(key) {\n",
              "          const element = document.querySelector('#df-3a88fae2-cb82-48e5-9628-3de6b6c7be72');\n",
              "          const dataTable =\n",
              "            await google.colab.kernel.invokeFunction('convertToInteractive',\n",
              "                                                     [key], {});\n",
              "          if (!dataTable) return;\n",
              "\n",
              "          const docLinkHtml = 'Like what you see? Visit the ' +\n",
              "            '<a target=\"_blank\" href=https://colab.research.google.com/notebooks/data_table.ipynb>data table notebook</a>'\n",
              "            + ' to learn more about interactive tables.';\n",
              "          element.innerHTML = '';\n",
              "          dataTable['output_type'] = 'display_data';\n",
              "          await google.colab.output.renderOutput(dataTable, element);\n",
              "          const docLink = document.createElement('div');\n",
              "          docLink.innerHTML = docLinkHtml;\n",
              "          element.appendChild(docLink);\n",
              "        }\n",
              "      </script>\n",
              "    </div>\n",
              "  </div>\n",
              "  "
            ],
            "text/plain": [
              "            study_id     sex  age findings  label\n",
              "0  CHNCXR_0001_0.png    Male   45   normal      0\n",
              "1  CHNCXR_0002_0.png    Male   63   normal      0\n",
              "2  CHNCXR_0003_0.png  Female   48   normal      0\n",
              "3  CHNCXR_0004_0.png    Male   58   normal      0\n",
              "4  CHNCXR_0005_0.png    Male   28   normal      0"
            ]
          },
          "metadata": {},
          "execution_count": 5
        }
      ]
    },
    {
      "cell_type": "markdown",
      "metadata": {
        "id": "wWsnfEWu6q9v"
      },
      "source": [
        "## Size 256"
      ]
    },
    {
      "cell_type": "code",
      "metadata": {
        "id": "iAUdcMl0DdKS"
      },
      "source": [
        "size=256\n",
        "image_256 = np.ndarray(shape=(row,size,size))\n",
        "path = \"/content/gdrive/MyDrive/Year3/Indiv/images/images_256/\"\n",
        "#image_256 = []\n",
        "for i in range(row):\n",
        "  #a = cv2.imread(\"/content/gdrive/MyDrive/Year3/Indiv/images/images_256/\"+df['study_id'][i]+\"_256\",0) # each image has different size\n",
        "  a = cv2.imread(os.path.join(path, df['study_id'][i]+\"_256\"),0)\n",
        "  #print(df['study_id'][i],a.shape)\n",
        "  #image_256.append(a.flatten())\n",
        "  # Histrogram Equalization\n",
        "  #a = cv2.equalizeHist(a)\n",
        "  #print(a)\n",
        "  image_256[i,:,:] = a\n",
        "# Normalizing the pixel values\n",
        "image_256 /= 255.0\n",
        "# Converting the type of pixel to float 32\n",
        "image_256 = image_256.astype('float32')\n",
        "image_256-=np.mean(image_256)\n",
        "image_256/=np.std(image_256)"
      ],
      "execution_count": 5,
      "outputs": []
    },
    {
      "cell_type": "code",
      "metadata": {
        "id": "_p5915IK6eDG"
      },
      "source": [
        "X_256 = image_256.copy() # train with small size image\n",
        "X_256 = X_256.reshape((row, 1, 256, 256))\n",
        "y_256 = df['label'].values\n",
        "#X_train_val, X_test, y_train_val, y_test = train_test_split(X_256, y_256, test_size=0.15, random_state=2)\n",
        "X_train, X_val, y_train, y_val = train_test_split(X_256, y_256, test_size = 0.15, random_state=2)\n",
        "#X_train, X_val, y_train, y_val = train_test_split(X_train_val, y_train_val, test_size = 0.15, random_state=2)"
      ],
      "execution_count": 6,
      "outputs": []
    },
    {
      "cell_type": "code",
      "source": [
        "((y_train==0).sum(),(y_train==1).sum())"
      ],
      "metadata": {
        "colab": {
          "base_uri": "https://localhost:8080/"
        },
        "id": "KhFoTvqff_Yh",
        "outputId": "e37964ba-cb96-4eee-b40b-b44c22bae7eb"
      },
      "execution_count": null,
      "outputs": [
        {
          "output_type": "execute_result",
          "data": {
            "text/plain": [
              "(274, 288)"
            ]
          },
          "metadata": {},
          "execution_count": 7
        }
      ]
    },
    {
      "cell_type": "code",
      "source": [
        "((y_val==0).sum(),(y_val==1).sum())"
      ],
      "metadata": {
        "colab": {
          "base_uri": "https://localhost:8080/"
        },
        "id": "kHm-LRfnhDAI",
        "outputId": "258e880b-062e-428a-db54-763586a804c8"
      },
      "execution_count": null,
      "outputs": [
        {
          "output_type": "execute_result",
          "data": {
            "text/plain": [
              "(52, 48)"
            ]
          },
          "metadata": {},
          "execution_count": 8
        }
      ]
    },
    {
      "cell_type": "markdown",
      "metadata": {
        "id": "CNeviRZQ6483"
      },
      "source": [
        "## Size 224"
      ]
    },
    {
      "cell_type": "code",
      "metadata": {
        "id": "KVMjHg9Z67SP"
      },
      "source": [
        "size=224\n",
        "image_224 = np.ndarray(shape=(row,size,size))\n",
        "path = \"/content/gdrive/MyDrive/Year3/Indiv/images/images_224/\"\n",
        "for i in range(row):\n",
        "  #a = cv2.imread(\"/content/gdrive/MyDrive/Year3/Indiv/images/images_224/\"+df['study_id'][i]+\"_224\",0) # each image has different size\n",
        "  a = cv2.imread(os.path.join(path, df['study_id'][i]+\"_224\"),0)\n",
        "  #print(df['study_id'][i],a.shape)\n",
        "  #a = cv2.equalizeHist(a)\n",
        "  image_224[i,:,:]=a\n",
        "# normalizing the pixel values\n",
        "image_224 /= 255.0\n",
        "# converting the type of pixel to double\n",
        "image_224 = image_224.astype('float32')\n",
        "image_224-=np.mean(image_224)\n",
        "image_224/=np.std(image_224)"
      ],
      "execution_count": 19,
      "outputs": []
    },
    {
      "cell_type": "code",
      "metadata": {
        "id": "rxRVkkY46_Ma"
      },
      "source": [
        "X_224 = image_224.copy() # train with small size image\n",
        "#X_224 = X_224.reshape((row, 3, 224, 224))\n",
        "#X_224 = np.transpose(X_224,(0,3,1,2))\n",
        "X_224 = X_224.reshape((row, 1, 224, 224))\n",
        "y_224 = df['label'].values\n",
        "X_train, X_val, y_train, y_val = train_test_split(X_224, y_224, test_size=0.15, random_state=2)"
      ],
      "execution_count": 35,
      "outputs": []
    },
    {
      "cell_type": "markdown",
      "metadata": {
        "id": "ANFkpYa36CMv"
      },
      "source": [
        "# Dataloader"
      ]
    },
    {
      "cell_type": "code",
      "metadata": {
        "id": "prF8dwwZ6E6X"
      },
      "source": [
        "class XrayDataSet(Dataset):\n",
        "    def __init__(self, X, y):\n",
        "        self.X = X\n",
        "        self.y = y\n",
        "    def __len__(self):\n",
        "        return self.X.shape[0]\n",
        "    def __getitem__(self, idx):\n",
        "        return self.X[idx], self.y[idx]"
      ],
      "execution_count": 7,
      "outputs": []
    },
    {
      "cell_type": "code",
      "metadata": {
        "id": "iR9FooEF7vev"
      },
      "source": [
        "training_data = XrayDataSet(torch.tensor(X_train).to(device), torch.tensor(y_train).to(device))\n",
        "validate_data = XrayDataSet(torch.tensor(X_val).to(device), torch.tensor(y_val).to(device))\n",
        "#test_data = XrayDataSet(torch.tensor(X_test).to(device), torch.tensor(y_test).to(device))\n",
        "train_dataloader = DataLoader(training_data, batch_size=16, shuffle=True)\n",
        "validate_dataloader = DataLoader(validate_data, batch_size=32)\n",
        "#test_dataloader = DataLoader(test_data, batch_size=32)"
      ],
      "execution_count": 8,
      "outputs": []
    },
    {
      "cell_type": "code",
      "source": [
        "X_train  = torch.from_numpy(X_train).float()\n",
        "y_train = torch.from_numpy(y_train)\n",
        "X_val  = torch.from_numpy(X_val).float()\n",
        "y_val = torch.from_numpy(y_val)"
      ],
      "metadata": {
        "id": "raA5iZBX9Ein"
      },
      "execution_count": 9,
      "outputs": []
    },
    {
      "cell_type": "code",
      "metadata": {
        "id": "wDVHCAt19J2E",
        "colab": {
          "base_uri": "https://localhost:8080/",
          "height": 127
        },
        "outputId": "708ec373-2425-4257-90fe-f7a4d2c3b5a4"
      },
      "source": [
        "def show_batch(dl):\n",
        "   \"\"\"Plot images grid of single batch\"\"\"\n",
        "   for images, labels in dl:\n",
        "       fig,ax = plt.subplots(figsize = (16,12))\n",
        "       ax.set_xticks([])\n",
        "       ax.set_yticks([])\n",
        "       ax.imshow(make_grid(images.cpu(),nrow=16).permute(1,2,0))\n",
        "       print(labels)\n",
        "       break\n",
        "show_batch(train_dataloader)"
      ],
      "execution_count": null,
      "outputs": [
        {
          "output_type": "stream",
          "name": "stderr",
          "text": [
            "Clipping input data to the valid range for imshow with RGB data ([0..1] for floats or [0..255] for integers).\n"
          ]
        },
        {
          "output_type": "stream",
          "name": "stdout",
          "text": [
            "tensor([1, 1, 0, 1, 0, 0, 0, 1, 1, 0, 0, 0, 1, 1, 0, 1], device='cuda:0')\n"
          ]
        },
        {
          "output_type": "display_data",
          "data": {
            "image/png": "[encoded data removed]",
            "text/plain": [
              "<Figure size 1152x864 with 1 Axes>"
            ]
          },
          "metadata": {}
        }
      ]
    },
    {
      "cell_type": "markdown",
      "source": [
        "# Define Function"
      ],
      "metadata": {
        "id": "6Hs6Qmx975kw"
      }
    },
    {
      "cell_type": "code",
      "source": [
        "# For Model that using Dataloader\n",
        "class ImageClassificationBase(nn.Module):\n",
        "    def training_step(self, batch):\n",
        "        images, labels = batch \n",
        "        out = self(images)                  # Generate predictions\n",
        "        loss = F.cross_entropy(out, labels) # Calculate loss\n",
        "        return loss\n",
        "    def validation_step(self, batch):\n",
        "        images, labels = batch \n",
        "        out = self(images)                    # Generate predictions\n",
        "        loss = F.cross_entropy(out, labels)   # Calculate loss\n",
        "        acc = accuracy(out, labels)           # Calculate accuracy\n",
        "        return {'val_loss': loss.detach(), 'val_acc': acc}\n",
        "    def validation_epoch_end(self, outputs):\n",
        "        batch_losses = [x['val_loss'] for x in outputs]\n",
        "        epoch_loss = torch.stack(batch_losses).mean()   # Combine losses\n",
        "        batch_accs = [x['val_acc'] for x in outputs]\n",
        "        epoch_acc = torch.stack(batch_accs).mean()      # Combine accuracies\n",
        "        return {'val_loss': epoch_loss.item(), 'val_acc': epoch_acc.item()} #[val_loss, val_acc]\n",
        "    def epoch_end(self, epoch, result):\n",
        "        print(\"Epoch [{}], train_loss: {:.4f}, val_loss: {:.4f}, val_acc: {:.4f}\".format(\n",
        "            epoch, result['train_loss'], result['val_loss'], result['val_acc']))\n",
        "\n",
        "def accuracy(outputs, labels):\n",
        "    #print(outputs)\n",
        "    _, preds = torch.max(outputs, dim=1)\n",
        "    #print(preds)\n",
        "    #print(labels)\n",
        "    return torch.tensor(torch.sum(preds==labels).item() / len(preds))\n",
        "  \n",
        "@torch.no_grad()\n",
        "def evaluate(model, val_loader):\n",
        "    model.eval()\n",
        "    outputs = [model.validation_step(batch) for batch in val_loader]\n",
        "    return model.validation_epoch_end(outputs)\n",
        "\n",
        "def fit(epochs, lr, model, train_loader, val_loader, opt_func, min):\n",
        "    history = []\n",
        "    optimizer = opt_func(model.parameters(),lr)\n",
        "    scheduler = ReduceLROnPlateau(optimizer, 'min', factor=0.6, patience=1, min_lr=min)\n",
        "    for epoch in range(epochs):  \n",
        "        model.train()\n",
        "        train_losses = []\n",
        "        for batch in train_loader:\n",
        "            loss = model.training_step(batch)\n",
        "            train_losses.append(loss.cpu().detach())\n",
        "            loss.backward()\n",
        "            optimizer.step()\n",
        "            optimizer.zero_grad()      \n",
        "        result = evaluate(model, val_loader)\n",
        "        result['train_loss'] = torch.stack(train_losses).mean().item()\n",
        "        model.epoch_end(epoch, result)\n",
        "        history.append(result) \n",
        "        print(\"Epoch \"+str(epoch)+\" : Done\")\n",
        "        scheduler.step(result['val_loss']) # schedule learning rate on validation loss\n",
        "    return history\n",
        "\n",
        "def plot_accuracies(history):\n",
        "    \"\"\" Plot the history of accuracies\"\"\"\n",
        "    accuracies = [x['val_acc'] for x in history]\n",
        "    plt.plot(accuracies)\n",
        "    plt.xlabel('epoch')\n",
        "    plt.ylabel('accuracy')\n",
        "    plt.title(\"Validation accuracy\")\n",
        "    plt.show()\n",
        "\n",
        "def plot_losses(history):\n",
        "    \"\"\" Plot the losses in each epoch\"\"\"\n",
        "    train_losses = [x.get('train_loss') for x in history]\n",
        "    val_losses = [x['val_loss'] for x in history]\n",
        "    plt.plot(train_losses)\n",
        "    plt.plot(val_losses)\n",
        "    plt.xlabel('epoch')\n",
        "    plt.ylabel('loss')\n",
        "    plt.legend(['Training loss', 'Validation loss'])\n",
        "    plt.title('Training loss and Validation loss');\n",
        "    plt.show()"
      ],
      "metadata": {
        "id": "cY08Rp_W-tai"
      },
      "execution_count": 10,
      "outputs": []
    },
    {
      "cell_type": "code",
      "source": [
        "# For Model that does not using Dataloader\n",
        "def train(model,epoch,x_train,y_train,x_val,y_val):\n",
        "    model.train()\n",
        "    tr_loss = 0\n",
        "    # getting the training set\n",
        "    # x_train, y_train = X_train, y_train\n",
        "    # getting the validation set\n",
        "    # x_val, y_val = X_val, y_val\n",
        "    # converting the data into GPU format\n",
        "    if torch.cuda.is_available():\n",
        "       x_train = x_train.cuda()\n",
        "       y_train = y_train.cuda()\n",
        "       x_val = x_val.cuda()\n",
        "       y_val = y_val.cuda()\n",
        "    # clearing the Gradients of the model parameters\n",
        "    optimizer.zero_grad()\n",
        "    # prediction for training and validation set\n",
        "    output_train = model(x_train)\n",
        "    output_val = model(x_val)\n",
        "    # computing the training and validation loss\n",
        "    loss_train = criterion(output_train, y_train)\n",
        "    loss_val = criterion(output_val, y_val)\n",
        "    train_losses.append(loss_train.cpu().detach().numpy())\n",
        "    val_losses.append(loss_val.cpu().detach().numpy())\n",
        "    # computing the updated weights of all the model parameters\n",
        "    loss_train.backward()\n",
        "    optimizer.step()\n",
        "    tr_loss = loss_train.item()\n",
        "    if epoch%2 == 0:\n",
        "        # printing the validation loss\n",
        "        print('Epoch : ',epoch+1, '\\t', 'loss :', loss_val)\n",
        "    scheduler.step(loss_val) # schedule learning rate on validation loss\n",
        "  \n",
        "def plot_result(train_losses,val_losses):\n",
        "  plt.plot(train_losses, label='Training loss')\n",
        "  plt.plot(val_losses, label='Validation loss')\n",
        "  plt.xlabel('epoch')\n",
        "  plt.ylabel('loss')\n",
        "  plt.title('Training loss and Validation loss');\n",
        "  plt.legend()\n",
        "  plt.show()\n",
        "  return"
      ],
      "metadata": {
        "id": "lfT8oA8PDGxp"
      },
      "execution_count": 11,
      "outputs": []
    },
    {
      "cell_type": "code",
      "source": [
        "# For Pretrained model\n",
        "def train2(n_epochs,train_dataloader,validate_dataloader,net,optimizer,criterion,min):\n",
        "  print_every = 5\n",
        "  valid_loss_min = np.Inf\n",
        "  val_loss = []\n",
        "  val_acc = []\n",
        "  train_loss = []\n",
        "  train_acc = []\n",
        "  total_step = len(train_dataloader)\n",
        "  scheduler = ReduceLROnPlateau(optimizer, 'min', factor=0.6, patience=1, min_lr=min)\n",
        "  for epoch in range(1, n_epochs+1):\n",
        "      running_loss = 0.0\n",
        "      correct = 0\n",
        "      total=0\n",
        "      print(f'Epoch {epoch}\\n')\n",
        "      for batch_idx, (data_, target_) in enumerate(train_dataloader):\n",
        "          data_, target_ = data_.to(device).float(), target_.to(device).long()\n",
        "          optimizer.zero_grad()\n",
        "          outputs = net(data_)\n",
        "          loss = criterion(outputs, target_)\n",
        "          loss.backward()\n",
        "          optimizer.step()\n",
        "          running_loss += loss.item()\n",
        "          _,pred = torch.max(outputs, dim=1)\n",
        "          correct += torch.sum(pred==target_).item()\n",
        "          total += target_.size(0)\n",
        "          if (batch_idx) % 20 == 0:\n",
        "              print ('Epoch [{}/{}], Step [{}/{}], Loss: {:.4f}' .format(epoch, n_epochs, batch_idx, total_step, loss.item()))\n",
        "      train_acc.append((100 * correct / total))\n",
        "      train_loss.append((running_loss/total_step))\n",
        "      print(f'\\ntrain-loss: {np.mean(train_loss):.4f}, train-acc: {(100 * correct/total):.4f}')\n",
        "      batch_loss = 0\n",
        "      total_t=0\n",
        "      correct_t=0\n",
        "      with torch.no_grad():\n",
        "          net.eval()\n",
        "          for data_t, target_t in (validate_dataloader):\n",
        "              data_t, target_t = data_t.to(device), target_t.to(device)\n",
        "              outputs_t = net(data_t)\n",
        "              loss_t = criterion(outputs_t, target_t)\n",
        "              batch_loss += loss_t.item()\n",
        "              _,pred_t = torch.max(outputs_t, dim=1)\n",
        "              correct_t += torch.sum(pred_t==target_t).item()\n",
        "              total_t += target_t.size(0)\n",
        "          val_acc.append((100 * correct_t/total_t))\n",
        "          val_loss.append((batch_loss/len(validate_dataloader)))\n",
        "          #network_learned = batch_loss < valid_loss_min\n",
        "          network_learned = batch_loss <= valid_loss_min\n",
        "          print(f'validation loss: {np.mean(val_loss):.4f}, validation acc: {(100 * correct_t/total_t):.4f}\\n')\n",
        "          if network_learned:\n",
        "              valid_loss_min = batch_loss\n",
        "              torch.save(net.state_dict(), '/content/gdrive/MyDrive/Year3/Indiv/resnet.pt')\n",
        "              print('Improvement-Detected, save-model')\n",
        "      scheduler.step(batch_loss/len(validate_dataloader)) # schedule learning rate on validation loss\n",
        "      net.train()\n",
        "  return val_loss, val_acc, train_loss, train_acc\n",
        "\n",
        "def visualize_model(net, num_images=4):\n",
        "    images_so_far = 0\n",
        "    #fig = plt.figure(figsize=(15, 10))\n",
        "    for i, data in enumerate(validate_dataloader):\n",
        "        inputs, labels = data\n",
        "        if (device=='cuda'):\n",
        "            inputs, labels = inputs.cuda(), labels.cuda()\n",
        "        outputs = net(inputs)\n",
        "        _, preds = torch.max(outputs.data, 1)\n",
        "        preds = preds.cpu().numpy() if (device=='cuda') else preds.numpy()\n",
        "        for j in range(inputs.size()[0]):\n",
        "            images_so_far += 1\n",
        "            ax = plt.subplot(2, num_images//2, images_so_far)\n",
        "            ax.axis('off')\n",
        "            ax.set_title('predictes: {}'.format(validate_data.y[j])) # get label class\n",
        "            imshow(inputs[j])\n",
        "            if images_so_far == num_images:\n",
        "                return \n",
        "\n",
        "def accuracy2(out, labels):\n",
        "    _,pred = torch.max(out, dim=1)\n",
        "    return torch.sum(pred==labels).item()\n",
        "\n",
        "def imshow(inp, title=None):\n",
        "    inp = inp.cpu() if device else inp\n",
        "    inp = inp.numpy().transpose((1, 2, 0))\n",
        "    #mean = np.array([0.485, 0.456, 0.406])\n",
        "    #std = np.array([0.229, 0.224, 0.225])\n",
        "    #inp = std * inp + mean\n",
        "    inp = np.clip(inp, 0, 1)\n",
        "    plt.imshow(inp)\n",
        "    if title is not None:\n",
        "        plt.title(title)\n",
        "    plt.pause(0.001)\n",
        "\n",
        "def plot_pre_accuracy(train_acc,val_acc):\n",
        "  plt.title(\"Training accuracy and Validation accuracy\")\n",
        "  plt.plot(train_acc, label='Training')\n",
        "  plt.plot(val_acc, label='Validation')\n",
        "  plt.xlabel('epoch')\n",
        "  plt.ylabel('accuracy')\n",
        "  plt.legend(loc='best')\n",
        "  plt.show()\n",
        "\n",
        "def plot_pre_loss(train_losses,val_losses):\n",
        "  plt.plot(train_loss, label='Training')\n",
        "  plt.plot(val_loss, label='Validation')\n",
        "  plt.xlabel('epoch')\n",
        "  plt.ylabel('loss')\n",
        "  plt.legend(loc='best')\n",
        "  plt.title('Training loss and Validation loss');\n",
        "  plt.show()"
      ],
      "metadata": {
        "id": "R3nxLOTA65MH"
      },
      "execution_count": 12,
      "outputs": []
    },
    {
      "cell_type": "markdown",
      "metadata": {
        "id": "QGoGuON_RYQU"
      },
      "source": [
        "# KNN"
      ]
    },
    {
      "cell_type": "code",
      "metadata": {
        "id": "n05LGCgxZyuW"
      },
      "source": [
        "def knn_classifier(X_re, y, t=0.25, distance=2, max_n=26):\n",
        "  X_train, X_test, y_train, y_test = train_test_split(X_re, y, test_size=t, random_state=0)\n",
        "  x_plot=[]\n",
        "  y_plot=[]\n",
        "  best_knn = None\n",
        "  best_acc = -1\n",
        "  best_k=0;\n",
        "  for i in range(1,max_n): # find best k for knn\n",
        "    knn = KNeighborsClassifier(n_neighbors=i,p=distance)\n",
        "    knn.fit(X_train,y_train)\n",
        "    y_pred = knn.predict(X_test)\n",
        "    print(\"n: \"+str(i)+\", Accuracy: \"+str(metrics.accuracy_score(y_test, y_pred)))\n",
        "    x_plot.append(i)\n",
        "    y_plot.append(metrics.accuracy_score(y_test, y_pred))\n",
        "    if(metrics.accuracy_score(y_test, y_pred)>best_acc):\n",
        "      best_acc = metrics.accuracy_score(y_test, y_pred)\n",
        "      best_knn = knn\n",
        "      best_k = i\n",
        "  plt.plot(x_plot, y_plot)\n",
        "  plt.title(\"KNN classifier\")\n",
        "  plt.xlabel(\"k\")\n",
        "  plt.ylabel(\"Accuracy\")\n",
        "  plt.show()\n",
        "  return best_knn, best_acc, best_k"
      ],
      "execution_count": null,
      "outputs": []
    },
    {
      "cell_type": "code",
      "metadata": {
        "id": "VnF2s8EBrl0x"
      },
      "source": [
        "X_256 = image_256 # train with small size image\n",
        "y_256 = df['label']"
      ],
      "execution_count": null,
      "outputs": []
    },
    {
      "cell_type": "code",
      "metadata": {
        "id": "hYRxAUS6Ox6X"
      },
      "source": [
        "X_re_256 =np.reshape(X_256,(row,size*size))"
      ],
      "execution_count": null,
      "outputs": []
    },
    {
      "cell_type": "code",
      "metadata": {
        "id": "tpjTufNtICeh"
      },
      "source": [
        "X_train, X_test, y_train, y_test = train_test_split(X_re_256, y_256, test_size=0.2, random_state=0)"
      ],
      "execution_count": null,
      "outputs": []
    },
    {
      "cell_type": "code",
      "metadata": {
        "id": "ac2JfarSx9ki",
        "colab": {
          "base_uri": "https://localhost:8080/",
          "height": 729
        },
        "outputId": "0daefd37-4b4a-4608-a081-1cd7718435b4"
      },
      "source": [
        "best_knn, best_acc, best_k = knn_classifier(X_re_256, y_256) # minkowski_distance (l_p)"
      ],
      "execution_count": null,
      "outputs": [
        {
          "output_type": "stream",
          "name": "stdout",
          "text": [
            "n: 1, Accuracy: 0.6807228915662651\n",
            "n: 2, Accuracy: 0.7409638554216867\n",
            "n: 3, Accuracy: 0.7710843373493976\n",
            "n: 4, Accuracy: 0.7891566265060241\n",
            "n: 5, Accuracy: 0.8012048192771084\n",
            "n: 6, Accuracy: 0.8253012048192772\n",
            "n: 7, Accuracy: 0.8012048192771084\n",
            "n: 8, Accuracy: 0.7951807228915663\n",
            "n: 9, Accuracy: 0.8192771084337349\n",
            "n: 10, Accuracy: 0.8072289156626506\n",
            "n: 11, Accuracy: 0.8012048192771084\n",
            "n: 12, Accuracy: 0.8012048192771084\n",
            "n: 13, Accuracy: 0.8012048192771084\n",
            "n: 14, Accuracy: 0.7951807228915663\n",
            "n: 15, Accuracy: 0.8012048192771084\n",
            "n: 16, Accuracy: 0.8012048192771084\n",
            "n: 17, Accuracy: 0.8072289156626506\n",
            "n: 18, Accuracy: 0.8072289156626506\n",
            "n: 19, Accuracy: 0.7951807228915663\n",
            "n: 20, Accuracy: 0.8012048192771084\n",
            "n: 21, Accuracy: 0.8012048192771084\n",
            "n: 22, Accuracy: 0.8012048192771084\n",
            "n: 23, Accuracy: 0.8012048192771084\n",
            "n: 24, Accuracy: 0.8012048192771084\n",
            "n: 25, Accuracy: 0.8012048192771084\n"
          ]
        },
        {
          "output_type": "display_data",
          "data": {
            "image/png": "[encoded data removed]",
            "text/plain": [
              "<Figure size 432x288 with 1 Axes>"
            ]
          },
          "metadata": {
            "needs_background": "light"
          }
        }
      ]
    },
    {
      "cell_type": "code",
      "metadata": {
        "colab": {
          "base_uri": "https://localhost:8080/",
          "height": 421
        },
        "id": "73JJ_J4wTatW",
        "outputId": "1bd11d02-fc21-4b85-98ba-7654df3fea3b"
      },
      "source": [
        "# best k value = 6\n",
        "y_pred = best_knn.predict(X_test)\n",
        "print(metrics.classification_report(y_test, y_pred)) # has many false positive (predict normal instead of abnormal)\n",
        "f = sns.heatmap(metrics.confusion_matrix(y_test, y_pred), annot=True, fmt='d')\n",
        "plt.show()"
      ],
      "execution_count": null,
      "outputs": [
        {
          "output_type": "stream",
          "name": "stdout",
          "text": [
            "              precision    recall  f1-score   support\n",
            "\n",
            "           0       0.76      0.95      0.85        61\n",
            "           1       0.95      0.75      0.84        72\n",
            "\n",
            "    accuracy                           0.84       133\n",
            "   macro avg       0.86      0.85      0.84       133\n",
            "weighted avg       0.86      0.84      0.84       133\n",
            "\n"
          ]
        },
        {
          "output_type": "display_data",
          "data": {
            "image/png": "[encoded data removed]",
            "text/plain": [
              "<Figure size 432x288 with 2 Axes>"
            ]
          },
          "metadata": {
            "needs_background": "light"
          }
        }
      ]
    },
    {
      "cell_type": "code",
      "metadata": {
        "colab": {
          "base_uri": "https://localhost:8080/",
          "height": 729
        },
        "id": "9voV8OMaENZR",
        "outputId": "3d48b956-7b00-4cbf-e875-0ebf01e26724"
      },
      "source": [
        "best_knn_2, best_acc_2, best_k_2 = knn_classifier(X_re_256, y_256, distance=1) # manhattan_distance (l1), and euclidean_distance (l2)"
      ],
      "execution_count": null,
      "outputs": [
        {
          "output_type": "stream",
          "name": "stdout",
          "text": [
            "n: 1, Accuracy: 0.7469879518072289\n",
            "n: 2, Accuracy: 0.7349397590361446\n",
            "n: 3, Accuracy: 0.8072289156626506\n",
            "n: 4, Accuracy: 0.7951807228915663\n",
            "n: 5, Accuracy: 0.8072289156626506\n",
            "n: 6, Accuracy: 0.8072289156626506\n",
            "n: 7, Accuracy: 0.8313253012048193\n",
            "n: 8, Accuracy: 0.8313253012048193\n",
            "n: 9, Accuracy: 0.8313253012048193\n",
            "n: 10, Accuracy: 0.8192771084337349\n",
            "n: 11, Accuracy: 0.8253012048192772\n",
            "n: 12, Accuracy: 0.8132530120481928\n",
            "n: 13, Accuracy: 0.8072289156626506\n",
            "n: 14, Accuracy: 0.8132530120481928\n",
            "n: 15, Accuracy: 0.8132530120481928\n",
            "n: 16, Accuracy: 0.8192771084337349\n",
            "n: 17, Accuracy: 0.8132530120481928\n",
            "n: 18, Accuracy: 0.8192771084337349\n",
            "n: 19, Accuracy: 0.8132530120481928\n",
            "n: 20, Accuracy: 0.8072289156626506\n",
            "n: 21, Accuracy: 0.8012048192771084\n",
            "n: 22, Accuracy: 0.8012048192771084\n",
            "n: 23, Accuracy: 0.7951807228915663\n",
            "n: 24, Accuracy: 0.8012048192771084\n",
            "n: 25, Accuracy: 0.7951807228915663\n"
          ]
        },
        {
          "output_type": "display_data",
          "data": {
            "image/png": "[encoded data removed]",
            "text/plain": [
              "<Figure size 432x288 with 1 Axes>"
            ]
          },
          "metadata": {
            "needs_background": "light"
          }
        }
      ]
    },
    {
      "cell_type": "code",
      "metadata": {
        "colab": {
          "base_uri": "https://localhost:8080/",
          "height": 421
        },
        "id": "BVa8CgkJJeT5",
        "outputId": "12507ce1-6fda-49f0-f9a1-c5936240230d"
      },
      "source": [
        "# best k value = 7\n",
        "y_pred_2 = best_knn_2.predict(X_test)\n",
        "print(metrics.classification_report(y_test, y_pred_2)) # has many false positive (predict normal instead of abnormal)\n",
        "f2 = sns.heatmap(metrics.confusion_matrix(y_test, y_pred_2), annot=True, fmt='d')\n",
        "plt.show()"
      ],
      "execution_count": null,
      "outputs": [
        {
          "output_type": "stream",
          "name": "stdout",
          "text": [
            "              precision    recall  f1-score   support\n",
            "\n",
            "           0       0.78      0.93      0.85        61\n",
            "           1       0.93      0.78      0.85        72\n",
            "\n",
            "    accuracy                           0.85       133\n",
            "   macro avg       0.86      0.86      0.85       133\n",
            "weighted avg       0.86      0.85      0.85       133\n",
            "\n"
          ]
        },
        {
          "output_type": "display_data",
          "data": {
            "image/png": "[encoded data removed]",
            "text/plain": [
              "<Figure size 432x288 with 2 Axes>"
            ]
          },
          "metadata": {
            "needs_background": "light"
          }
        }
      ]
    },
    {
      "cell_type": "markdown",
      "metadata": {
        "id": "fmkqEGk-_UCG"
      },
      "source": [
        "#CNN-1"
      ]
    },
    {
      "cell_type": "markdown",
      "source": [
        "## Training 1 -> Overfit"
      ],
      "metadata": {
        "id": "PY_FPQhXEeiO"
      }
    },
    {
      "cell_type": "code",
      "metadata": {
        "id": "PKOfEdyLD4vF"
      },
      "source": [
        "class Net(Module):   \n",
        "    def __init__(self):\n",
        "        super(Net, self).__init__()\n",
        "        self.cnn_layers = Sequential(\n",
        "            # Defining a 2D convolution layer\n",
        "            Conv2d(1, 4, kernel_size=3, stride=1, padding=1),\n",
        "            BatchNorm2d(4),\n",
        "            ReLU(inplace=True),\n",
        "            MaxPool2d(kernel_size=2, stride=2),\n",
        "            # Defining another 2D convolution layer\n",
        "            Conv2d(4, 4, kernel_size=3, stride=1, padding=1),\n",
        "            BatchNorm2d(4),\n",
        "            ReLU(inplace=True),\n",
        "            MaxPool2d(kernel_size=2, stride=2),\n",
        "        )\n",
        "        self.linear_layers = Sequential(\n",
        "            Linear(16384, 2)\n",
        "        )\n",
        "    # Defining the forward pass    \n",
        "    def forward(self, x):\n",
        "        x = self.cnn_layers(x)\n",
        "        x = x.view(x.size(0), -1)\n",
        "        x = self.linear_layers(x)\n",
        "        return x"
      ],
      "execution_count": 22,
      "outputs": []
    },
    {
      "cell_type": "code",
      "metadata": {
        "colab": {
          "base_uri": "https://localhost:8080/"
        },
        "id": "C8TYxRkoEBwl",
        "outputId": "c4805e81-dc35-47ba-bd75-a9fc95d6a8a4"
      },
      "source": [
        "model_1 = Net()\n",
        "optimizer = Adam(model_1.parameters(), lr=0.00004)\n",
        "criterion = CrossEntropyLoss()\n",
        "scheduler = ReduceLROnPlateau(optimizer, 'min', factor=0.85, patience=2, min_lr=0.0000001) # use scheduler to reduce learning rate\n",
        "if torch.cuda.is_available():\n",
        "    model_1 = model_1.cuda()\n",
        "    criterion = criterion.cuda()\n",
        "print(model_1)"
      ],
      "execution_count": 23,
      "outputs": [
        {
          "output_type": "stream",
          "name": "stdout",
          "text": [
            "Net(\n",
            "  (cnn_layers): Sequential(\n",
            "    (0): Conv2d(1, 4, kernel_size=(3, 3), stride=(1, 1), padding=(1, 1))\n",
            "    (1): BatchNorm2d(4, eps=1e-05, momentum=0.1, affine=True, track_running_stats=True)\n",
            "    (2): ReLU(inplace=True)\n",
            "    (3): MaxPool2d(kernel_size=2, stride=2, padding=0, dilation=1, ceil_mode=False)\n",
            "    (4): Conv2d(4, 4, kernel_size=(3, 3), stride=(1, 1), padding=(1, 1))\n",
            "    (5): BatchNorm2d(4, eps=1e-05, momentum=0.1, affine=True, track_running_stats=True)\n",
            "    (6): ReLU(inplace=True)\n",
            "    (7): MaxPool2d(kernel_size=2, stride=2, padding=0, dilation=1, ceil_mode=False)\n",
            "  )\n",
            "  (linear_layers): Sequential(\n",
            "    (0): Linear(in_features=16384, out_features=2, bias=True)\n",
            "  )\n",
            ")\n"
          ]
        }
      ]
    },
    {
      "cell_type": "code",
      "metadata": {
        "colab": {
          "base_uri": "https://localhost:8080/"
        },
        "id": "AXpo2pLDE4yF",
        "outputId": "45b203f5-851c-4fec-8bb9-f852b0c38dd5"
      },
      "source": [
        "# Epoch 1-400\n",
        "n_epochs = 400\n",
        "train_losses = []\n",
        "val_losses = []\n",
        "for epoch in range(n_epochs):\n",
        "    train(model_1,epoch,X_train,y_train,X_val,y_val)"
      ],
      "execution_count": 24,
      "outputs": [
        {
          "output_type": "stream",
          "name": "stdout",
          "text": [
            "Epoch :  1 \t loss : tensor(0.8976, device='cuda:0', grad_fn=<NllLossBackward0>)\n",
            "Epoch :  3 \t loss : tensor(0.7746, device='cuda:0', grad_fn=<NllLossBackward0>)\n",
            "Epoch :  5 \t loss : tensor(0.7105, device='cuda:0', grad_fn=<NllLossBackward0>)\n",
            "Epoch :  7 \t loss : tensor(0.6650, device='cuda:0', grad_fn=<NllLossBackward0>)\n",
            "Epoch :  9 \t loss : tensor(0.6207, device='cuda:0', grad_fn=<NllLossBackward0>)\n",
            "Epoch :  11 \t loss : tensor(0.5720, device='cuda:0', grad_fn=<NllLossBackward0>)\n",
            "Epoch :  13 \t loss : tensor(0.5386, device='cuda:0', grad_fn=<NllLossBackward0>)\n",
            "Epoch :  15 \t loss : tensor(0.5149, device='cuda:0', grad_fn=<NllLossBackward0>)\n",
            "Epoch :  17 \t loss : tensor(0.4968, device='cuda:0', grad_fn=<NllLossBackward0>)\n",
            "Epoch :  19 \t loss : tensor(0.4847, device='cuda:0', grad_fn=<NllLossBackward0>)\n",
            "Epoch :  21 \t loss : tensor(0.4739, device='cuda:0', grad_fn=<NllLossBackward0>)\n",
            "Epoch :  23 \t loss : tensor(0.4647, device='cuda:0', grad_fn=<NllLossBackward0>)\n",
            "Epoch :  25 \t loss : tensor(0.4592, device='cuda:0', grad_fn=<NllLossBackward0>)\n",
            "Epoch :  27 \t loss : tensor(0.4551, device='cuda:0', grad_fn=<NllLossBackward0>)\n",
            "Epoch :  29 \t loss : tensor(0.4514, device='cuda:0', grad_fn=<NllLossBackward0>)\n",
            "Epoch :  31 \t loss : tensor(0.4489, device='cuda:0', grad_fn=<NllLossBackward0>)\n",
            "Epoch :  33 \t loss : tensor(0.4471, device='cuda:0', grad_fn=<NllLossBackward0>)\n",
            "Epoch :  35 \t loss : tensor(0.4454, device='cuda:0', grad_fn=<NllLossBackward0>)\n",
            "Epoch :  37 \t loss : tensor(0.4444, device='cuda:0', grad_fn=<NllLossBackward0>)\n",
            "Epoch :  39 \t loss : tensor(0.4436, device='cuda:0', grad_fn=<NllLossBackward0>)\n",
            "Epoch :  41 \t loss : tensor(0.4427, device='cuda:0', grad_fn=<NllLossBackward0>)\n",
            "Epoch :  43 \t loss : tensor(0.4419, device='cuda:0', grad_fn=<NllLossBackward0>)\n",
            "Epoch :  45 \t loss : tensor(0.4414, device='cuda:0', grad_fn=<NllLossBackward0>)\n",
            "Epoch :  47 \t loss : tensor(0.4410, device='cuda:0', grad_fn=<NllLossBackward0>)\n",
            "Epoch :  49 \t loss : tensor(0.4407, device='cuda:0', grad_fn=<NllLossBackward0>)\n",
            "Epoch :  51 \t loss : tensor(0.4405, device='cuda:0', grad_fn=<NllLossBackward0>)\n",
            "Epoch :  53 \t loss : tensor(0.4402, device='cuda:0', grad_fn=<NllLossBackward0>)\n",
            "Epoch :  55 \t loss : tensor(0.4399, device='cuda:0', grad_fn=<NllLossBackward0>)\n",
            "Epoch :  57 \t loss : tensor(0.4397, device='cuda:0', grad_fn=<NllLossBackward0>)\n",
            "Epoch :  59 \t loss : tensor(0.4394, device='cuda:0', grad_fn=<NllLossBackward0>)\n",
            "Epoch :  61 \t loss : tensor(0.4391, device='cuda:0', grad_fn=<NllLossBackward0>)\n",
            "Epoch :  63 \t loss : tensor(0.4388, device='cuda:0', grad_fn=<NllLossBackward0>)\n",
            "Epoch :  65 \t loss : tensor(0.4384, device='cuda:0', grad_fn=<NllLossBackward0>)\n",
            "Epoch :  67 \t loss : tensor(0.4379, device='cuda:0', grad_fn=<NllLossBackward0>)\n",
            "Epoch :  69 \t loss : tensor(0.4373, device='cuda:0', grad_fn=<NllLossBackward0>)\n",
            "Epoch :  71 \t loss : tensor(0.4367, device='cuda:0', grad_fn=<NllLossBackward0>)\n",
            "Epoch :  73 \t loss : tensor(0.4361, device='cuda:0', grad_fn=<NllLossBackward0>)\n",
            "Epoch :  75 \t loss : tensor(0.4354, device='cuda:0', grad_fn=<NllLossBackward0>)\n",
            "Epoch :  77 \t loss : tensor(0.4346, device='cuda:0', grad_fn=<NllLossBackward0>)\n",
            "Epoch :  79 \t loss : tensor(0.4338, device='cuda:0', grad_fn=<NllLossBackward0>)\n",
            "Epoch :  81 \t loss : tensor(0.4331, device='cuda:0', grad_fn=<NllLossBackward0>)\n",
            "Epoch :  83 \t loss : tensor(0.4323, device='cuda:0', grad_fn=<NllLossBackward0>)\n",
            "Epoch :  85 \t loss : tensor(0.4316, device='cuda:0', grad_fn=<NllLossBackward0>)\n",
            "Epoch :  87 \t loss : tensor(0.4308, device='cuda:0', grad_fn=<NllLossBackward0>)\n",
            "Epoch :  89 \t loss : tensor(0.4301, device='cuda:0', grad_fn=<NllLossBackward0>)\n",
            "Epoch :  91 \t loss : tensor(0.4294, device='cuda:0', grad_fn=<NllLossBackward0>)\n",
            "Epoch :  93 \t loss : tensor(0.4288, device='cuda:0', grad_fn=<NllLossBackward0>)\n",
            "Epoch :  95 \t loss : tensor(0.4282, device='cuda:0', grad_fn=<NllLossBackward0>)\n",
            "Epoch :  97 \t loss : tensor(0.4276, device='cuda:0', grad_fn=<NllLossBackward0>)\n",
            "Epoch :  99 \t loss : tensor(0.4271, device='cuda:0', grad_fn=<NllLossBackward0>)\n",
            "Epoch :  101 \t loss : tensor(0.4267, device='cuda:0', grad_fn=<NllLossBackward0>)\n",
            "Epoch :  103 \t loss : tensor(0.4263, device='cuda:0', grad_fn=<NllLossBackward0>)\n",
            "Epoch :  105 \t loss : tensor(0.4259, device='cuda:0', grad_fn=<NllLossBackward0>)\n",
            "Epoch :  107 \t loss : tensor(0.4256, device='cuda:0', grad_fn=<NllLossBackward0>)\n",
            "Epoch :  109 \t loss : tensor(0.4253, device='cuda:0', grad_fn=<NllLossBackward0>)\n",
            "Epoch :  111 \t loss : tensor(0.4250, device='cuda:0', grad_fn=<NllLossBackward0>)\n",
            "Epoch :  113 \t loss : tensor(0.4248, device='cuda:0', grad_fn=<NllLossBackward0>)\n",
            "Epoch :  115 \t loss : tensor(0.4246, device='cuda:0', grad_fn=<NllLossBackward0>)\n",
            "Epoch :  117 \t loss : tensor(0.4244, device='cuda:0', grad_fn=<NllLossBackward0>)\n",
            "Epoch :  119 \t loss : tensor(0.4243, device='cuda:0', grad_fn=<NllLossBackward0>)\n",
            "Epoch :  121 \t loss : tensor(0.4241, device='cuda:0', grad_fn=<NllLossBackward0>)\n",
            "Epoch :  123 \t loss : tensor(0.4240, device='cuda:0', grad_fn=<NllLossBackward0>)\n",
            "Epoch :  125 \t loss : tensor(0.4239, device='cuda:0', grad_fn=<NllLossBackward0>)\n",
            "Epoch :  127 \t loss : tensor(0.4239, device='cuda:0', grad_fn=<NllLossBackward0>)\n",
            "Epoch :  129 \t loss : tensor(0.4238, device='cuda:0', grad_fn=<NllLossBackward0>)\n",
            "Epoch :  131 \t loss : tensor(0.4237, device='cuda:0', grad_fn=<NllLossBackward0>)\n",
            "Epoch :  133 \t loss : tensor(0.4237, device='cuda:0', grad_fn=<NllLossBackward0>)\n",
            "Epoch :  135 \t loss : tensor(0.4237, device='cuda:0', grad_fn=<NllLossBackward0>)\n",
            "Epoch :  137 \t loss : tensor(0.4237, device='cuda:0', grad_fn=<NllLossBackward0>)\n",
            "Epoch :  139 \t loss : tensor(0.4237, device='cuda:0', grad_fn=<NllLossBackward0>)\n",
            "Epoch :  141 \t loss : tensor(0.4237, device='cuda:0', grad_fn=<NllLossBackward0>)\n",
            "Epoch :  143 \t loss : tensor(0.4237, device='cuda:0', grad_fn=<NllLossBackward0>)\n",
            "Epoch :  145 \t loss : tensor(0.4237, device='cuda:0', grad_fn=<NllLossBackward0>)\n",
            "Epoch :  147 \t loss : tensor(0.4237, device='cuda:0', grad_fn=<NllLossBackward0>)\n",
            "Epoch :  149 \t loss : tensor(0.4238, device='cuda:0', grad_fn=<NllLossBackward0>)\n",
            "Epoch :  151 \t loss : tensor(0.4238, device='cuda:0', grad_fn=<NllLossBackward0>)\n",
            "Epoch :  153 \t loss : tensor(0.4238, device='cuda:0', grad_fn=<NllLossBackward0>)\n",
            "Epoch :  155 \t loss : tensor(0.4239, device='cuda:0', grad_fn=<NllLossBackward0>)\n",
            "Epoch :  157 \t loss : tensor(0.4239, device='cuda:0', grad_fn=<NllLossBackward0>)\n",
            "Epoch :  159 \t loss : tensor(0.4239, device='cuda:0', grad_fn=<NllLossBackward0>)\n",
            "Epoch :  161 \t loss : tensor(0.4240, device='cuda:0', grad_fn=<NllLossBackward0>)\n",
            "Epoch :  163 \t loss : tensor(0.4240, device='cuda:0', grad_fn=<NllLossBackward0>)\n",
            "Epoch :  165 \t loss : tensor(0.4240, device='cuda:0', grad_fn=<NllLossBackward0>)\n",
            "Epoch :  167 \t loss : tensor(0.4240, device='cuda:0', grad_fn=<NllLossBackward0>)\n",
            "Epoch :  169 \t loss : tensor(0.4241, device='cuda:0', grad_fn=<NllLossBackward0>)\n",
            "Epoch :  171 \t loss : tensor(0.4241, device='cuda:0', grad_fn=<NllLossBackward0>)\n",
            "Epoch :  173 \t loss : tensor(0.4241, device='cuda:0', grad_fn=<NllLossBackward0>)\n",
            "Epoch :  175 \t loss : tensor(0.4241, device='cuda:0', grad_fn=<NllLossBackward0>)\n",
            "Epoch :  177 \t loss : tensor(0.4241, device='cuda:0', grad_fn=<NllLossBackward0>)\n",
            "Epoch :  179 \t loss : tensor(0.4241, device='cuda:0', grad_fn=<NllLossBackward0>)\n",
            "Epoch :  181 \t loss : tensor(0.4242, device='cuda:0', grad_fn=<NllLossBackward0>)\n",
            "Epoch :  183 \t loss : tensor(0.4242, device='cuda:0', grad_fn=<NllLossBackward0>)\n",
            "Epoch :  185 \t loss : tensor(0.4242, device='cuda:0', grad_fn=<NllLossBackward0>)\n",
            "Epoch :  187 \t loss : tensor(0.4242, device='cuda:0', grad_fn=<NllLossBackward0>)\n",
            "Epoch :  189 \t loss : tensor(0.4242, device='cuda:0', grad_fn=<NllLossBackward0>)\n",
            "Epoch :  191 \t loss : tensor(0.4242, device='cuda:0', grad_fn=<NllLossBackward0>)\n",
            "Epoch :  193 \t loss : tensor(0.4242, device='cuda:0', grad_fn=<NllLossBackward0>)\n",
            "Epoch :  195 \t loss : tensor(0.4242, device='cuda:0', grad_fn=<NllLossBackward0>)\n",
            "Epoch :  197 \t loss : tensor(0.4242, device='cuda:0', grad_fn=<NllLossBackward0>)\n",
            "Epoch :  199 \t loss : tensor(0.4242, device='cuda:0', grad_fn=<NllLossBackward0>)\n",
            "Epoch :  201 \t loss : tensor(0.4242, device='cuda:0', grad_fn=<NllLossBackward0>)\n",
            "Epoch :  203 \t loss : tensor(0.4242, device='cuda:0', grad_fn=<NllLossBackward0>)\n",
            "Epoch :  205 \t loss : tensor(0.4242, device='cuda:0', grad_fn=<NllLossBackward0>)\n",
            "Epoch :  207 \t loss : tensor(0.4242, device='cuda:0', grad_fn=<NllLossBackward0>)\n",
            "Epoch :  209 \t loss : tensor(0.4242, device='cuda:0', grad_fn=<NllLossBackward0>)\n",
            "Epoch :  211 \t loss : tensor(0.4242, device='cuda:0', grad_fn=<NllLossBackward0>)\n",
            "Epoch :  213 \t loss : tensor(0.4242, device='cuda:0', grad_fn=<NllLossBackward0>)\n",
            "Epoch :  215 \t loss : tensor(0.4242, device='cuda:0', grad_fn=<NllLossBackward0>)\n",
            "Epoch :  217 \t loss : tensor(0.4243, device='cuda:0', grad_fn=<NllLossBackward0>)\n",
            "Epoch :  219 \t loss : tensor(0.4243, device='cuda:0', grad_fn=<NllLossBackward0>)\n",
            "Epoch :  221 \t loss : tensor(0.4243, device='cuda:0', grad_fn=<NllLossBackward0>)\n",
            "Epoch :  223 \t loss : tensor(0.4243, device='cuda:0', grad_fn=<NllLossBackward0>)\n",
            "Epoch :  225 \t loss : tensor(0.4243, device='cuda:0', grad_fn=<NllLossBackward0>)\n",
            "Epoch :  227 \t loss : tensor(0.4243, device='cuda:0', grad_fn=<NllLossBackward0>)\n",
            "Epoch :  229 \t loss : tensor(0.4243, device='cuda:0', grad_fn=<NllLossBackward0>)\n",
            "Epoch :  231 \t loss : tensor(0.4243, device='cuda:0', grad_fn=<NllLossBackward0>)\n",
            "Epoch :  233 \t loss : tensor(0.4243, device='cuda:0', grad_fn=<NllLossBackward0>)\n",
            "Epoch :  235 \t loss : tensor(0.4243, device='cuda:0', grad_fn=<NllLossBackward0>)\n",
            "Epoch :  237 \t loss : tensor(0.4243, device='cuda:0', grad_fn=<NllLossBackward0>)\n",
            "Epoch :  239 \t loss : tensor(0.4243, device='cuda:0', grad_fn=<NllLossBackward0>)\n",
            "Epoch :  241 \t loss : tensor(0.4243, device='cuda:0', grad_fn=<NllLossBackward0>)\n",
            "Epoch :  243 \t loss : tensor(0.4243, device='cuda:0', grad_fn=<NllLossBackward0>)\n",
            "Epoch :  245 \t loss : tensor(0.4243, device='cuda:0', grad_fn=<NllLossBackward0>)\n",
            "Epoch :  247 \t loss : tensor(0.4243, device='cuda:0', grad_fn=<NllLossBackward0>)\n",
            "Epoch :  249 \t loss : tensor(0.4243, device='cuda:0', grad_fn=<NllLossBackward0>)\n",
            "Epoch :  251 \t loss : tensor(0.4243, device='cuda:0', grad_fn=<NllLossBackward0>)\n",
            "Epoch :  253 \t loss : tensor(0.4243, device='cuda:0', grad_fn=<NllLossBackward0>)\n",
            "Epoch :  255 \t loss : tensor(0.4243, device='cuda:0', grad_fn=<NllLossBackward0>)\n",
            "Epoch :  257 \t loss : tensor(0.4243, device='cuda:0', grad_fn=<NllLossBackward0>)\n",
            "Epoch :  259 \t loss : tensor(0.4243, device='cuda:0', grad_fn=<NllLossBackward0>)\n",
            "Epoch :  261 \t loss : tensor(0.4243, device='cuda:0', grad_fn=<NllLossBackward0>)\n",
            "Epoch :  263 \t loss : tensor(0.4243, device='cuda:0', grad_fn=<NllLossBackward0>)\n",
            "Epoch :  265 \t loss : tensor(0.4243, device='cuda:0', grad_fn=<NllLossBackward0>)\n",
            "Epoch :  267 \t loss : tensor(0.4243, device='cuda:0', grad_fn=<NllLossBackward0>)\n",
            "Epoch :  269 \t loss : tensor(0.4243, device='cuda:0', grad_fn=<NllLossBackward0>)\n",
            "Epoch :  271 \t loss : tensor(0.4243, device='cuda:0', grad_fn=<NllLossBackward0>)\n",
            "Epoch :  273 \t loss : tensor(0.4243, device='cuda:0', grad_fn=<NllLossBackward0>)\n",
            "Epoch :  275 \t loss : tensor(0.4243, device='cuda:0', grad_fn=<NllLossBackward0>)\n",
            "Epoch :  277 \t loss : tensor(0.4243, device='cuda:0', grad_fn=<NllLossBackward0>)\n",
            "Epoch :  279 \t loss : tensor(0.4243, device='cuda:0', grad_fn=<NllLossBackward0>)\n",
            "Epoch :  281 \t loss : tensor(0.4243, device='cuda:0', grad_fn=<NllLossBackward0>)\n",
            "Epoch :  283 \t loss : tensor(0.4243, device='cuda:0', grad_fn=<NllLossBackward0>)\n",
            "Epoch :  285 \t loss : tensor(0.4243, device='cuda:0', grad_fn=<NllLossBackward0>)\n",
            "Epoch :  287 \t loss : tensor(0.4243, device='cuda:0', grad_fn=<NllLossBackward0>)\n",
            "Epoch :  289 \t loss : tensor(0.4243, device='cuda:0', grad_fn=<NllLossBackward0>)\n",
            "Epoch :  291 \t loss : tensor(0.4243, device='cuda:0', grad_fn=<NllLossBackward0>)\n",
            "Epoch :  293 \t loss : tensor(0.4243, device='cuda:0', grad_fn=<NllLossBackward0>)\n",
            "Epoch :  295 \t loss : tensor(0.4243, device='cuda:0', grad_fn=<NllLossBackward0>)\n",
            "Epoch :  297 \t loss : tensor(0.4243, device='cuda:0', grad_fn=<NllLossBackward0>)\n",
            "Epoch :  299 \t loss : tensor(0.4243, device='cuda:0', grad_fn=<NllLossBackward0>)\n",
            "Epoch :  301 \t loss : tensor(0.4243, device='cuda:0', grad_fn=<NllLossBackward0>)\n",
            "Epoch :  303 \t loss : tensor(0.4243, device='cuda:0', grad_fn=<NllLossBackward0>)\n",
            "Epoch :  305 \t loss : tensor(0.4243, device='cuda:0', grad_fn=<NllLossBackward0>)\n",
            "Epoch :  307 \t loss : tensor(0.4243, device='cuda:0', grad_fn=<NllLossBackward0>)\n",
            "Epoch :  309 \t loss : tensor(0.4243, device='cuda:0', grad_fn=<NllLossBackward0>)\n",
            "Epoch :  311 \t loss : tensor(0.4243, device='cuda:0', grad_fn=<NllLossBackward0>)\n",
            "Epoch :  313 \t loss : tensor(0.4243, device='cuda:0', grad_fn=<NllLossBackward0>)\n",
            "Epoch :  315 \t loss : tensor(0.4243, device='cuda:0', grad_fn=<NllLossBackward0>)\n",
            "Epoch :  317 \t loss : tensor(0.4243, device='cuda:0', grad_fn=<NllLossBackward0>)\n",
            "Epoch :  319 \t loss : tensor(0.4243, device='cuda:0', grad_fn=<NllLossBackward0>)\n",
            "Epoch :  321 \t loss : tensor(0.4243, device='cuda:0', grad_fn=<NllLossBackward0>)\n",
            "Epoch :  323 \t loss : tensor(0.4243, device='cuda:0', grad_fn=<NllLossBackward0>)\n",
            "Epoch :  325 \t loss : tensor(0.4243, device='cuda:0', grad_fn=<NllLossBackward0>)\n",
            "Epoch :  327 \t loss : tensor(0.4243, device='cuda:0', grad_fn=<NllLossBackward0>)\n",
            "Epoch :  329 \t loss : tensor(0.4243, device='cuda:0', grad_fn=<NllLossBackward0>)\n",
            "Epoch :  331 \t loss : tensor(0.4243, device='cuda:0', grad_fn=<NllLossBackward0>)\n",
            "Epoch :  333 \t loss : tensor(0.4243, device='cuda:0', grad_fn=<NllLossBackward0>)\n",
            "Epoch :  335 \t loss : tensor(0.4243, device='cuda:0', grad_fn=<NllLossBackward0>)\n",
            "Epoch :  337 \t loss : tensor(0.4243, device='cuda:0', grad_fn=<NllLossBackward0>)\n",
            "Epoch :  339 \t loss : tensor(0.4243, device='cuda:0', grad_fn=<NllLossBackward0>)\n",
            "Epoch :  341 \t loss : tensor(0.4243, device='cuda:0', grad_fn=<NllLossBackward0>)\n",
            "Epoch :  343 \t loss : tensor(0.4243, device='cuda:0', grad_fn=<NllLossBackward0>)\n",
            "Epoch :  345 \t loss : tensor(0.4243, device='cuda:0', grad_fn=<NllLossBackward0>)\n",
            "Epoch :  347 \t loss : tensor(0.4243, device='cuda:0', grad_fn=<NllLossBackward0>)\n",
            "Epoch :  349 \t loss : tensor(0.4243, device='cuda:0', grad_fn=<NllLossBackward0>)\n",
            "Epoch :  351 \t loss : tensor(0.4243, device='cuda:0', grad_fn=<NllLossBackward0>)\n",
            "Epoch :  353 \t loss : tensor(0.4243, device='cuda:0', grad_fn=<NllLossBackward0>)\n",
            "Epoch :  355 \t loss : tensor(0.4243, device='cuda:0', grad_fn=<NllLossBackward0>)\n",
            "Epoch :  357 \t loss : tensor(0.4243, device='cuda:0', grad_fn=<NllLossBackward0>)\n",
            "Epoch :  359 \t loss : tensor(0.4243, device='cuda:0', grad_fn=<NllLossBackward0>)\n",
            "Epoch :  361 \t loss : tensor(0.4243, device='cuda:0', grad_fn=<NllLossBackward0>)\n",
            "Epoch :  363 \t loss : tensor(0.4243, device='cuda:0', grad_fn=<NllLossBackward0>)\n",
            "Epoch :  365 \t loss : tensor(0.4243, device='cuda:0', grad_fn=<NllLossBackward0>)\n",
            "Epoch :  367 \t loss : tensor(0.4243, device='cuda:0', grad_fn=<NllLossBackward0>)\n",
            "Epoch :  369 \t loss : tensor(0.4243, device='cuda:0', grad_fn=<NllLossBackward0>)\n",
            "Epoch :  371 \t loss : tensor(0.4243, device='cuda:0', grad_fn=<NllLossBackward0>)\n",
            "Epoch :  373 \t loss : tensor(0.4243, device='cuda:0', grad_fn=<NllLossBackward0>)\n",
            "Epoch :  375 \t loss : tensor(0.4243, device='cuda:0', grad_fn=<NllLossBackward0>)\n",
            "Epoch :  377 \t loss : tensor(0.4243, device='cuda:0', grad_fn=<NllLossBackward0>)\n",
            "Epoch :  379 \t loss : tensor(0.4243, device='cuda:0', grad_fn=<NllLossBackward0>)\n",
            "Epoch :  381 \t loss : tensor(0.4243, device='cuda:0', grad_fn=<NllLossBackward0>)\n",
            "Epoch :  383 \t loss : tensor(0.4243, device='cuda:0', grad_fn=<NllLossBackward0>)\n",
            "Epoch :  385 \t loss : tensor(0.4243, device='cuda:0', grad_fn=<NllLossBackward0>)\n",
            "Epoch :  387 \t loss : tensor(0.4243, device='cuda:0', grad_fn=<NllLossBackward0>)\n",
            "Epoch :  389 \t loss : tensor(0.4243, device='cuda:0', grad_fn=<NllLossBackward0>)\n",
            "Epoch :  391 \t loss : tensor(0.4243, device='cuda:0', grad_fn=<NllLossBackward0>)\n",
            "Epoch :  393 \t loss : tensor(0.4243, device='cuda:0', grad_fn=<NllLossBackward0>)\n",
            "Epoch :  395 \t loss : tensor(0.4243, device='cuda:0', grad_fn=<NllLossBackward0>)\n",
            "Epoch :  397 \t loss : tensor(0.4243, device='cuda:0', grad_fn=<NllLossBackward0>)\n",
            "Epoch :  399 \t loss : tensor(0.4243, device='cuda:0', grad_fn=<NllLossBackward0>)\n"
          ]
        }
      ]
    },
    {
      "cell_type": "code",
      "metadata": {
        "colab": {
          "base_uri": "https://localhost:8080/",
          "height": 295
        },
        "id": "UprQIsCDJmGd",
        "outputId": "cb42eb4c-9c27-4d3d-91ba-59d544eeee73"
      },
      "source": [
        "plot_result(train_losses,val_losses)"
      ],
      "execution_count": 25,
      "outputs": [
        {
          "output_type": "display_data",
          "data": {
            "image/png": "[encoded data removed]",
            "text/plain": [
              "<Figure size 432x288 with 1 Axes>"
            ]
          },
          "metadata": {
            "needs_background": "light"
          }
        }
      ]
    },
    {
      "cell_type": "code",
      "source": [
        "torch.save(model_1.state_dict(), '/content/gdrive/MyDrive/Year3/Indiv/CNN-1-1.pt')"
      ],
      "metadata": {
        "id": "CnhHgwiDDeSN"
      },
      "execution_count": 26,
      "outputs": []
    },
    {
      "cell_type": "code",
      "source": [
        "model = Net().to(device)\n",
        "model.load_state_dict(torch.load('/content/gdrive/MyDrive/Year3/Indiv/CNN-1-1.pt'))"
      ],
      "metadata": {
        "id": "t4FKnz7ODoK7",
        "colab": {
          "base_uri": "https://localhost:8080/"
        },
        "outputId": "1c044c11-1e18-4b14-d972-bd89111f4879"
      },
      "execution_count": 27,
      "outputs": [
        {
          "output_type": "execute_result",
          "data": {
            "text/plain": [
              "<All keys matched successfully>"
            ]
          },
          "metadata": {},
          "execution_count": 27
        }
      ]
    },
    {
      "cell_type": "code",
      "source": [
        "# prediction for training set\n",
        "with torch.no_grad():\n",
        "  if (torch.cuda.is_available()):\n",
        "    output = model(X_train.cuda())\n",
        "  else:\n",
        "    output = model(X_train)\n",
        "softmax = torch.exp(output).cpu()\n",
        "prob = list(softmax.numpy())\n",
        "predictions = np.argmax(prob, axis=1)\n",
        "print(\"Training accuracy: \"+str(accuracy_score(y_train, predictions)))"
      ],
      "metadata": {
        "colab": {
          "base_uri": "https://localhost:8080/"
        },
        "id": "VDOsTHvIEQHL",
        "outputId": "d22c0331-f80d-44f7-94e8-11f8f4027cda"
      },
      "execution_count": 28,
      "outputs": [
        {
          "output_type": "stream",
          "name": "stdout",
          "text": [
            "Training accuracy: 0.9608540925266904\n"
          ]
        }
      ]
    },
    {
      "cell_type": "code",
      "metadata": {
        "colab": {
          "base_uri": "https://localhost:8080/"
        },
        "id": "UzEill9kJytN",
        "outputId": "0d62a913-0f87-4777-ea75-903c54855bc9"
      },
      "source": [
        "# prediction for validation set\n",
        "with torch.no_grad():\n",
        "  if (torch.cuda.is_available()):\n",
        "    output = model(X_val.cuda())\n",
        "  else:\n",
        "    output = model(X_val)\n",
        "softmax = torch.exp(output).cpu()\n",
        "prob = list(softmax.numpy())\n",
        "predictions = np.argmax(prob, axis=1)\n",
        "print(\"Validate accuracy: \"+str(accuracy_score(y_val, predictions)))"
      ],
      "execution_count": 29,
      "outputs": [
        {
          "output_type": "stream",
          "name": "stdout",
          "text": [
            "Validate accuracy: 0.84\n"
          ]
        }
      ]
    },
    {
      "cell_type": "markdown",
      "source": [
        "## Training 2 (Dropout)"
      ],
      "metadata": {
        "id": "uyzuoKUyI7r-"
      }
    },
    {
      "cell_type": "code",
      "metadata": {
        "id": "15SLuZ5Uwwrp"
      },
      "source": [
        "class Net(Module):   \n",
        "    def __init__(self):\n",
        "        super(Net, self).__init__()\n",
        "        self.cnn_layers = Sequential(\n",
        "            # Defining a 2D convolution layer\n",
        "            Conv2d(1, 4, kernel_size=3, stride=1, padding=1),\n",
        "            BatchNorm2d(4),\n",
        "            ReLU(inplace=True),\n",
        "            MaxPool2d(kernel_size=2, stride=2),\n",
        "            Dropout(0.2),\n",
        "            # Defining another 2D convolution layer\n",
        "            Conv2d(4, 4, kernel_size=3, stride=1, padding=1),\n",
        "            BatchNorm2d(4),\n",
        "            ReLU(inplace=True),\n",
        "            MaxPool2d(kernel_size=2, stride=2),\n",
        "        )\n",
        "        self.linear_layers = Sequential(\n",
        "            Dropout(0.2),\n",
        "            Linear(16384, 2)\n",
        "        )\n",
        "    # Defining the forward pass    \n",
        "    def forward(self, x):\n",
        "        x = self.cnn_layers(x)\n",
        "        x = x.view(x.size(0), -1)\n",
        "        x = self.linear_layers(x)\n",
        "        return x"
      ],
      "execution_count": 75,
      "outputs": []
    },
    {
      "cell_type": "code",
      "metadata": {
        "colab": {
          "base_uri": "https://localhost:8080/"
        },
        "outputId": "ecfc0faf-3f27-4cb7-a0ee-a5c454b10ef6",
        "id": "ANHn7mXBwwrp"
      },
      "source": [
        "model_1 = Net()\n",
        "optimizer = Adam(model_1.parameters(), lr=0.00004)\n",
        "criterion = CrossEntropyLoss()\n",
        "scheduler = ReduceLROnPlateau(optimizer, 'min', factor=0.85, patience=2, min_lr=0.0000001)\n",
        "if torch.cuda.is_available():\n",
        "    model_1 = model_1.cuda()\n",
        "    criterion = criterion.cuda()\n",
        "print(model_1)"
      ],
      "execution_count": 76,
      "outputs": [
        {
          "output_type": "stream",
          "name": "stdout",
          "text": [
            "Net(\n",
            "  (cnn_layers): Sequential(\n",
            "    (0): Conv2d(1, 4, kernel_size=(3, 3), stride=(1, 1), padding=(1, 1))\n",
            "    (1): BatchNorm2d(4, eps=1e-05, momentum=0.1, affine=True, track_running_stats=True)\n",
            "    (2): ReLU(inplace=True)\n",
            "    (3): MaxPool2d(kernel_size=2, stride=2, padding=0, dilation=1, ceil_mode=False)\n",
            "    (4): Dropout(p=0.2, inplace=False)\n",
            "    (5): Conv2d(4, 4, kernel_size=(3, 3), stride=(1, 1), padding=(1, 1))\n",
            "    (6): BatchNorm2d(4, eps=1e-05, momentum=0.1, affine=True, track_running_stats=True)\n",
            "    (7): ReLU(inplace=True)\n",
            "    (8): MaxPool2d(kernel_size=2, stride=2, padding=0, dilation=1, ceil_mode=False)\n",
            "  )\n",
            "  (linear_layers): Sequential(\n",
            "    (0): Dropout(p=0.2, inplace=False)\n",
            "    (1): Linear(in_features=16384, out_features=2, bias=True)\n",
            "  )\n",
            ")\n"
          ]
        }
      ]
    },
    {
      "cell_type": "code",
      "metadata": {
        "colab": {
          "base_uri": "https://localhost:8080/"
        },
        "outputId": "c1ba0720-6a55-4a03-d001-251492cec9a4",
        "id": "j37dOX4wwwrp"
      },
      "source": [
        "# Epoch 1-200\n",
        "n_epochs = 200\n",
        "train_losses = []\n",
        "val_losses = []\n",
        "for epoch in range(n_epochs):\n",
        "    train(model_1,epoch,X_train,y_train,X_val,y_val)"
      ],
      "execution_count": 77,
      "outputs": [
        {
          "output_type": "stream",
          "name": "stdout",
          "text": [
            "Epoch :  1 \t loss : tensor(0.7789, device='cuda:0', grad_fn=<NllLossBackward0>)\n",
            "Epoch :  3 \t loss : tensor(0.6508, device='cuda:0', grad_fn=<NllLossBackward0>)\n",
            "Epoch :  5 \t loss : tensor(0.6369, device='cuda:0', grad_fn=<NllLossBackward0>)\n",
            "Epoch :  7 \t loss : tensor(0.6101, device='cuda:0', grad_fn=<NllLossBackward0>)\n",
            "Epoch :  9 \t loss : tensor(0.5233, device='cuda:0', grad_fn=<NllLossBackward0>)\n",
            "Epoch :  11 \t loss : tensor(0.5887, device='cuda:0', grad_fn=<NllLossBackward0>)\n",
            "Epoch :  13 \t loss : tensor(0.5139, device='cuda:0', grad_fn=<NllLossBackward0>)\n",
            "Epoch :  15 \t loss : tensor(0.5254, device='cuda:0', grad_fn=<NllLossBackward0>)\n",
            "Epoch :  17 \t loss : tensor(0.5179, device='cuda:0', grad_fn=<NllLossBackward0>)\n",
            "Epoch :  19 \t loss : tensor(0.5404, device='cuda:0', grad_fn=<NllLossBackward0>)\n",
            "Epoch :  21 \t loss : tensor(0.5099, device='cuda:0', grad_fn=<NllLossBackward0>)\n",
            "Epoch :  23 \t loss : tensor(0.5123, device='cuda:0', grad_fn=<NllLossBackward0>)\n",
            "Epoch :  25 \t loss : tensor(0.5146, device='cuda:0', grad_fn=<NllLossBackward0>)\n",
            "Epoch :  27 \t loss : tensor(0.4959, device='cuda:0', grad_fn=<NllLossBackward0>)\n",
            "Epoch :  29 \t loss : tensor(0.4825, device='cuda:0', grad_fn=<NllLossBackward0>)\n",
            "Epoch :  31 \t loss : tensor(0.4968, device='cuda:0', grad_fn=<NllLossBackward0>)\n",
            "Epoch :  33 \t loss : tensor(0.4991, device='cuda:0', grad_fn=<NllLossBackward0>)\n",
            "Epoch :  35 \t loss : tensor(0.5316, device='cuda:0', grad_fn=<NllLossBackward0>)\n",
            "Epoch :  37 \t loss : tensor(0.4967, device='cuda:0', grad_fn=<NllLossBackward0>)\n",
            "Epoch :  39 \t loss : tensor(0.4739, device='cuda:0', grad_fn=<NllLossBackward0>)\n",
            "Epoch :  41 \t loss : tensor(0.4534, device='cuda:0', grad_fn=<NllLossBackward0>)\n",
            "Epoch :  43 \t loss : tensor(0.5222, device='cuda:0', grad_fn=<NllLossBackward0>)\n",
            "Epoch :  45 \t loss : tensor(0.4988, device='cuda:0', grad_fn=<NllLossBackward0>)\n",
            "Epoch :  47 \t loss : tensor(0.4808, device='cuda:0', grad_fn=<NllLossBackward0>)\n",
            "Epoch :  49 \t loss : tensor(0.4721, device='cuda:0', grad_fn=<NllLossBackward0>)\n",
            "Epoch :  51 \t loss : tensor(0.5045, device='cuda:0', grad_fn=<NllLossBackward0>)\n",
            "Epoch :  53 \t loss : tensor(0.4632, device='cuda:0', grad_fn=<NllLossBackward0>)\n",
            "Epoch :  55 \t loss : tensor(0.5031, device='cuda:0', grad_fn=<NllLossBackward0>)\n",
            "Epoch :  57 \t loss : tensor(0.5084, device='cuda:0', grad_fn=<NllLossBackward0>)\n",
            "Epoch :  59 \t loss : tensor(0.4848, device='cuda:0', grad_fn=<NllLossBackward0>)\n",
            "Epoch :  61 \t loss : tensor(0.4847, device='cuda:0', grad_fn=<NllLossBackward0>)\n",
            "Epoch :  63 \t loss : tensor(0.5155, device='cuda:0', grad_fn=<NllLossBackward0>)\n",
            "Epoch :  65 \t loss : tensor(0.5029, device='cuda:0', grad_fn=<NllLossBackward0>)\n",
            "Epoch :  67 \t loss : tensor(0.4839, device='cuda:0', grad_fn=<NllLossBackward0>)\n",
            "Epoch :  69 \t loss : tensor(0.4525, device='cuda:0', grad_fn=<NllLossBackward0>)\n",
            "Epoch :  71 \t loss : tensor(0.4771, device='cuda:0', grad_fn=<NllLossBackward0>)\n",
            "Epoch :  73 \t loss : tensor(0.5284, device='cuda:0', grad_fn=<NllLossBackward0>)\n",
            "Epoch :  75 \t loss : tensor(0.4769, device='cuda:0', grad_fn=<NllLossBackward0>)\n",
            "Epoch :  77 \t loss : tensor(0.4911, device='cuda:0', grad_fn=<NllLossBackward0>)\n",
            "Epoch :  79 \t loss : tensor(0.5427, device='cuda:0', grad_fn=<NllLossBackward0>)\n",
            "Epoch :  81 \t loss : tensor(0.5060, device='cuda:0', grad_fn=<NllLossBackward0>)\n",
            "Epoch :  83 \t loss : tensor(0.4851, device='cuda:0', grad_fn=<NllLossBackward0>)\n",
            "Epoch :  85 \t loss : tensor(0.4748, device='cuda:0', grad_fn=<NllLossBackward0>)\n",
            "Epoch :  87 \t loss : tensor(0.4962, device='cuda:0', grad_fn=<NllLossBackward0>)\n",
            "Epoch :  89 \t loss : tensor(0.5141, device='cuda:0', grad_fn=<NllLossBackward0>)\n",
            "Epoch :  91 \t loss : tensor(0.4900, device='cuda:0', grad_fn=<NllLossBackward0>)\n",
            "Epoch :  93 \t loss : tensor(0.5337, device='cuda:0', grad_fn=<NllLossBackward0>)\n",
            "Epoch :  95 \t loss : tensor(0.4993, device='cuda:0', grad_fn=<NllLossBackward0>)\n",
            "Epoch :  97 \t loss : tensor(0.4688, device='cuda:0', grad_fn=<NllLossBackward0>)\n",
            "Epoch :  99 \t loss : tensor(0.4912, device='cuda:0', grad_fn=<NllLossBackward0>)\n",
            "Epoch :  101 \t loss : tensor(0.5037, device='cuda:0', grad_fn=<NllLossBackward0>)\n",
            "Epoch :  103 \t loss : tensor(0.4960, device='cuda:0', grad_fn=<NllLossBackward0>)\n",
            "Epoch :  105 \t loss : tensor(0.4786, device='cuda:0', grad_fn=<NllLossBackward0>)\n",
            "Epoch :  107 \t loss : tensor(0.5180, device='cuda:0', grad_fn=<NllLossBackward0>)\n",
            "Epoch :  109 \t loss : tensor(0.5119, device='cuda:0', grad_fn=<NllLossBackward0>)\n",
            "Epoch :  111 \t loss : tensor(0.5162, device='cuda:0', grad_fn=<NllLossBackward0>)\n",
            "Epoch :  113 \t loss : tensor(0.4853, device='cuda:0', grad_fn=<NllLossBackward0>)\n",
            "Epoch :  115 \t loss : tensor(0.4730, device='cuda:0', grad_fn=<NllLossBackward0>)\n",
            "Epoch :  117 \t loss : tensor(0.4874, device='cuda:0', grad_fn=<NllLossBackward0>)\n",
            "Epoch :  119 \t loss : tensor(0.5356, device='cuda:0', grad_fn=<NllLossBackward0>)\n",
            "Epoch :  121 \t loss : tensor(0.4991, device='cuda:0', grad_fn=<NllLossBackward0>)\n",
            "Epoch :  123 \t loss : tensor(0.5024, device='cuda:0', grad_fn=<NllLossBackward0>)\n",
            "Epoch :  125 \t loss : tensor(0.4681, device='cuda:0', grad_fn=<NllLossBackward0>)\n",
            "Epoch :  127 \t loss : tensor(0.5059, device='cuda:0', grad_fn=<NllLossBackward0>)\n",
            "Epoch :  129 \t loss : tensor(0.5316, device='cuda:0', grad_fn=<NllLossBackward0>)\n",
            "Epoch :  131 \t loss : tensor(0.4949, device='cuda:0', grad_fn=<NllLossBackward0>)\n",
            "Epoch :  133 \t loss : tensor(0.4587, device='cuda:0', grad_fn=<NllLossBackward0>)\n",
            "Epoch :  135 \t loss : tensor(0.4860, device='cuda:0', grad_fn=<NllLossBackward0>)\n",
            "Epoch :  137 \t loss : tensor(0.4919, device='cuda:0', grad_fn=<NllLossBackward0>)\n",
            "Epoch :  139 \t loss : tensor(0.5098, device='cuda:0', grad_fn=<NllLossBackward0>)\n",
            "Epoch :  141 \t loss : tensor(0.4832, device='cuda:0', grad_fn=<NllLossBackward0>)\n",
            "Epoch :  143 \t loss : tensor(0.4677, device='cuda:0', grad_fn=<NllLossBackward0>)\n",
            "Epoch :  145 \t loss : tensor(0.5067, device='cuda:0', grad_fn=<NllLossBackward0>)\n",
            "Epoch :  147 \t loss : tensor(0.5289, device='cuda:0', grad_fn=<NllLossBackward0>)\n",
            "Epoch :  149 \t loss : tensor(0.5297, device='cuda:0', grad_fn=<NllLossBackward0>)\n",
            "Epoch :  151 \t loss : tensor(0.4775, device='cuda:0', grad_fn=<NllLossBackward0>)\n",
            "Epoch :  153 \t loss : tensor(0.4745, device='cuda:0', grad_fn=<NllLossBackward0>)\n",
            "Epoch :  155 \t loss : tensor(0.5229, device='cuda:0', grad_fn=<NllLossBackward0>)\n",
            "Epoch :  157 \t loss : tensor(0.5113, device='cuda:0', grad_fn=<NllLossBackward0>)\n",
            "Epoch :  159 \t loss : tensor(0.4847, device='cuda:0', grad_fn=<NllLossBackward0>)\n",
            "Epoch :  161 \t loss : tensor(0.4731, device='cuda:0', grad_fn=<NllLossBackward0>)\n",
            "Epoch :  163 \t loss : tensor(0.5143, device='cuda:0', grad_fn=<NllLossBackward0>)\n",
            "Epoch :  165 \t loss : tensor(0.4809, device='cuda:0', grad_fn=<NllLossBackward0>)\n",
            "Epoch :  167 \t loss : tensor(0.4495, device='cuda:0', grad_fn=<NllLossBackward0>)\n",
            "Epoch :  169 \t loss : tensor(0.4861, device='cuda:0', grad_fn=<NllLossBackward0>)\n",
            "Epoch :  171 \t loss : tensor(0.4570, device='cuda:0', grad_fn=<NllLossBackward0>)\n",
            "Epoch :  173 \t loss : tensor(0.5058, device='cuda:0', grad_fn=<NllLossBackward0>)\n",
            "Epoch :  175 \t loss : tensor(0.5219, device='cuda:0', grad_fn=<NllLossBackward0>)\n",
            "Epoch :  177 \t loss : tensor(0.4721, device='cuda:0', grad_fn=<NllLossBackward0>)\n",
            "Epoch :  179 \t loss : tensor(0.5024, device='cuda:0', grad_fn=<NllLossBackward0>)\n",
            "Epoch :  181 \t loss : tensor(0.5161, device='cuda:0', grad_fn=<NllLossBackward0>)\n",
            "Epoch :  183 \t loss : tensor(0.4439, device='cuda:0', grad_fn=<NllLossBackward0>)\n",
            "Epoch :  185 \t loss : tensor(0.4907, device='cuda:0', grad_fn=<NllLossBackward0>)\n",
            "Epoch :  187 \t loss : tensor(0.5032, device='cuda:0', grad_fn=<NllLossBackward0>)\n",
            "Epoch :  189 \t loss : tensor(0.4637, device='cuda:0', grad_fn=<NllLossBackward0>)\n",
            "Epoch :  191 \t loss : tensor(0.5077, device='cuda:0', grad_fn=<NllLossBackward0>)\n",
            "Epoch :  193 \t loss : tensor(0.4973, device='cuda:0', grad_fn=<NllLossBackward0>)\n",
            "Epoch :  195 \t loss : tensor(0.5110, device='cuda:0', grad_fn=<NllLossBackward0>)\n",
            "Epoch :  197 \t loss : tensor(0.5253, device='cuda:0', grad_fn=<NllLossBackward0>)\n",
            "Epoch :  199 \t loss : tensor(0.5017, device='cuda:0', grad_fn=<NllLossBackward0>)\n"
          ]
        }
      ]
    },
    {
      "cell_type": "code",
      "metadata": {
        "colab": {
          "base_uri": "https://localhost:8080/",
          "height": 295
        },
        "outputId": "3ea23900-8426-45c5-c24e-7e4f0c70ebf1",
        "id": "yBQys_1Rwwrq"
      },
      "source": [
        "plot_result(train_losses,val_losses)"
      ],
      "execution_count": 78,
      "outputs": [
        {
          "output_type": "display_data",
          "data": {
            "image/png": "[encoded data removed]",
            "text/plain": [
              "<Figure size 432x288 with 1 Axes>"
            ]
          },
          "metadata": {
            "needs_background": "light"
          }
        }
      ]
    },
    {
      "cell_type": "code",
      "source": [
        "torch.save(model_1.state_dict(), '/content/gdrive/MyDrive/Year3/Indiv/CNN-1-2.pt')"
      ],
      "metadata": {
        "id": "W9wtl2_kwwrq"
      },
      "execution_count": 79,
      "outputs": []
    },
    {
      "cell_type": "code",
      "source": [
        "model = Net().to(device)\n",
        "model.load_state_dict(torch.load('/content/gdrive/MyDrive/Year3/Indiv/CNN-1-2.pt'))"
      ],
      "metadata": {
        "colab": {
          "base_uri": "https://localhost:8080/"
        },
        "outputId": "aba39857-c1f3-4633-8097-9d5b05593cd4",
        "id": "vgF2Y2pDwwrq"
      },
      "execution_count": 80,
      "outputs": [
        {
          "output_type": "execute_result",
          "data": {
            "text/plain": [
              "<All keys matched successfully>"
            ]
          },
          "metadata": {},
          "execution_count": 80
        }
      ]
    },
    {
      "cell_type": "code",
      "source": [
        "# prediction for training set\n",
        "with torch.no_grad():\n",
        "  if (torch.cuda.is_available()):\n",
        "    output = model(X_train.cuda())\n",
        "  else:\n",
        "    output = model(X_train)\n",
        "softmax = torch.exp(output).cpu()\n",
        "prob = list(softmax.numpy())\n",
        "predictions = np.argmax(prob, axis=1)\n",
        "print(\"Training accuracy: \"+str(accuracy_score(y_train, predictions)))"
      ],
      "metadata": {
        "colab": {
          "base_uri": "https://localhost:8080/"
        },
        "outputId": "06d8e724-755a-4ef9-f790-5c43948a3567",
        "id": "om2Hg49rwwrq"
      },
      "execution_count": 81,
      "outputs": [
        {
          "output_type": "stream",
          "name": "stdout",
          "text": [
            "Training accuracy: 0.8096085409252669\n"
          ]
        }
      ]
    },
    {
      "cell_type": "code",
      "metadata": {
        "colab": {
          "base_uri": "https://localhost:8080/"
        },
        "outputId": "bfd023c6-9139-46dc-aa08-bf57cd9641b6",
        "id": "_mSZRaIuwwrq"
      },
      "source": [
        "# prediction for validation set\n",
        "with torch.no_grad():\n",
        "  if (torch.cuda.is_available()):\n",
        "    output = model(X_val.cuda())\n",
        "  else:\n",
        "    output = model(X_val)\n",
        "softmax = torch.exp(output).cpu()\n",
        "prob = list(softmax.numpy())\n",
        "predictions = np.argmax(prob, axis=1)\n",
        "print(\"Validate accuracy: \"+str(accuracy_score(y_val, predictions)))"
      ],
      "execution_count": 82,
      "outputs": [
        {
          "output_type": "stream",
          "name": "stdout",
          "text": [
            "Validate accuracy: 0.79\n"
          ]
        }
      ]
    },
    {
      "cell_type": "markdown",
      "source": [
        "## Training 3 (Dataloader)"
      ],
      "metadata": {
        "id": "Cag9lVN8C7vx"
      }
    },
    {
      "cell_type": "code",
      "source": [
        "class XrayClassification(ImageClassificationBase):\n",
        "    def __init__(self):\n",
        "        super().__init__()\n",
        "        self.network = nn.Sequential(\n",
        "            Conv2d(1, 4, kernel_size=3, stride=1, padding=1),\n",
        "            BatchNorm2d(4),\n",
        "            ReLU(inplace=True),\n",
        "            MaxPool2d(kernel_size=2, stride=2),\n",
        "            Dropout(0.2),\n",
        "            # Defining another 2D convolution layer\n",
        "            Conv2d(4, 4, kernel_size=3, stride=1, padding=1),\n",
        "            BatchNorm2d(4),\n",
        "            ReLU(inplace=True),\n",
        "            MaxPool2d(kernel_size=2, stride=2),\n",
        "            Dropout(0.2),\n",
        "            Flatten(),\n",
        "            Linear(16384, 2),\n",
        "        )\n",
        "    def forward(self, xb):\n",
        "        return self.network(xb)"
      ],
      "metadata": {
        "id": "u9kdvGvRCciJ"
      },
      "execution_count": 83,
      "outputs": []
    },
    {
      "cell_type": "code",
      "metadata": {
        "colab": {
          "base_uri": "https://localhost:8080/"
        },
        "outputId": "f14049c0-7f9a-4f0a-9b0a-a9872b487907",
        "id": "Zvr4_Z31DUOU"
      },
      "source": [
        "model_1 = XrayClassification().to(device)\n",
        "print(model_1)"
      ],
      "execution_count": 84,
      "outputs": [
        {
          "output_type": "stream",
          "name": "stdout",
          "text": [
            "XrayClassification(\n",
            "  (network): Sequential(\n",
            "    (0): Conv2d(1, 4, kernel_size=(3, 3), stride=(1, 1), padding=(1, 1))\n",
            "    (1): BatchNorm2d(4, eps=1e-05, momentum=0.1, affine=True, track_running_stats=True)\n",
            "    (2): ReLU(inplace=True)\n",
            "    (3): MaxPool2d(kernel_size=2, stride=2, padding=0, dilation=1, ceil_mode=False)\n",
            "    (4): Dropout(p=0.2, inplace=False)\n",
            "    (5): Conv2d(4, 4, kernel_size=(3, 3), stride=(1, 1), padding=(1, 1))\n",
            "    (6): BatchNorm2d(4, eps=1e-05, momentum=0.1, affine=True, track_running_stats=True)\n",
            "    (7): ReLU(inplace=True)\n",
            "    (8): MaxPool2d(kernel_size=2, stride=2, padding=0, dilation=1, ceil_mode=False)\n",
            "    (9): Dropout(p=0.2, inplace=False)\n",
            "    (10): Flatten(start_dim=1, end_dim=-1)\n",
            "    (11): Linear(in_features=16384, out_features=2, bias=True)\n",
            "  )\n",
            ")\n"
          ]
        }
      ]
    },
    {
      "cell_type": "code",
      "metadata": {
        "colab": {
          "base_uri": "https://localhost:8080/"
        },
        "outputId": "23e2b42c-acdb-41c7-ba42-bb40afe8d468",
        "id": "Duzqrzr-DUOU"
      },
      "source": [
        "# Epoch 1-200\n",
        "num_epochs = 200\n",
        "opt_func = torch.optim.Adam\n",
        "lr = 0.000004\n",
        "#fitting the model on training data and record the result after each epoch\n",
        "history = fit(num_epochs, lr, model_1, train_dataloader, validate_dataloader, opt_func, 0.0000001)"
      ],
      "execution_count": 85,
      "outputs": [
        {
          "output_type": "stream",
          "name": "stdout",
          "text": [
            "Epoch [0], train_loss: 0.7784, val_loss: 0.7091, val_acc: 0.3984\n",
            "Epoch 0 : Done\n",
            "Epoch [1], train_loss: 0.7278, val_loss: 0.7019, val_acc: 0.4375\n",
            "Epoch 1 : Done\n",
            "Epoch [2], train_loss: 0.6979, val_loss: 0.6734, val_acc: 0.6172\n",
            "Epoch 2 : Done\n",
            "Epoch [3], train_loss: 0.6739, val_loss: 0.6496, val_acc: 0.7344\n",
            "Epoch 3 : Done\n",
            "Epoch [4], train_loss: 0.6242, val_loss: 0.6293, val_acc: 0.8047\n",
            "Epoch 4 : Done\n",
            "Epoch [5], train_loss: 0.6097, val_loss: 0.6079, val_acc: 0.8203\n",
            "Epoch 5 : Done\n",
            "Epoch [6], train_loss: 0.6140, val_loss: 0.5984, val_acc: 0.8125\n",
            "Epoch 6 : Done\n",
            "Epoch [7], train_loss: 0.5920, val_loss: 0.5783, val_acc: 0.8125\n",
            "Epoch 7 : Done\n",
            "Epoch [8], train_loss: 0.5605, val_loss: 0.5653, val_acc: 0.8047\n",
            "Epoch 8 : Done\n",
            "Epoch [9], train_loss: 0.5529, val_loss: 0.5542, val_acc: 0.8047\n",
            "Epoch 9 : Done\n",
            "Epoch [10], train_loss: 0.5485, val_loss: 0.5417, val_acc: 0.8125\n",
            "Epoch 10 : Done\n",
            "Epoch [11], train_loss: 0.5282, val_loss: 0.5340, val_acc: 0.8281\n",
            "Epoch 11 : Done\n",
            "Epoch [12], train_loss: 0.5504, val_loss: 0.5273, val_acc: 0.8203\n",
            "Epoch 12 : Done\n",
            "Epoch [13], train_loss: 0.4967, val_loss: 0.5179, val_acc: 0.8281\n",
            "Epoch 13 : Done\n",
            "Epoch [14], train_loss: 0.5071, val_loss: 0.5108, val_acc: 0.8359\n",
            "Epoch 14 : Done\n",
            "Epoch [15], train_loss: 0.5053, val_loss: 0.5052, val_acc: 0.8359\n",
            "Epoch 15 : Done\n",
            "Epoch [16], train_loss: 0.4995, val_loss: 0.4997, val_acc: 0.8438\n",
            "Epoch 16 : Done\n",
            "Epoch [17], train_loss: 0.4993, val_loss: 0.4962, val_acc: 0.8359\n",
            "Epoch 17 : Done\n",
            "Epoch [18], train_loss: 0.4855, val_loss: 0.4896, val_acc: 0.8438\n",
            "Epoch 18 : Done\n",
            "Epoch [19], train_loss: 0.4840, val_loss: 0.4874, val_acc: 0.8438\n",
            "Epoch 19 : Done\n",
            "Epoch [20], train_loss: 0.4850, val_loss: 0.4794, val_acc: 0.8516\n",
            "Epoch 20 : Done\n",
            "Epoch [21], train_loss: 0.4632, val_loss: 0.4783, val_acc: 0.8516\n",
            "Epoch 21 : Done\n",
            "Epoch [22], train_loss: 0.4426, val_loss: 0.4738, val_acc: 0.8438\n",
            "Epoch 22 : Done\n",
            "Epoch [23], train_loss: 0.4478, val_loss: 0.4711, val_acc: 0.8516\n",
            "Epoch 23 : Done\n",
            "Epoch [24], train_loss: 0.4603, val_loss: 0.4715, val_acc: 0.8516\n",
            "Epoch 24 : Done\n",
            "Epoch [25], train_loss: 0.4714, val_loss: 0.4656, val_acc: 0.8516\n",
            "Epoch 25 : Done\n",
            "Epoch [26], train_loss: 0.4843, val_loss: 0.4644, val_acc: 0.8516\n",
            "Epoch 26 : Done\n",
            "Epoch [27], train_loss: 0.4464, val_loss: 0.4665, val_acc: 0.8516\n",
            "Epoch 27 : Done\n",
            "Epoch [28], train_loss: 0.4502, val_loss: 0.4628, val_acc: 0.8516\n",
            "Epoch 28 : Done\n",
            "Epoch [29], train_loss: 0.4549, val_loss: 0.4598, val_acc: 0.8516\n",
            "Epoch 29 : Done\n",
            "Epoch [30], train_loss: 0.4499, val_loss: 0.4586, val_acc: 0.8516\n",
            "Epoch 30 : Done\n",
            "Epoch [31], train_loss: 0.4336, val_loss: 0.4556, val_acc: 0.8516\n",
            "Epoch 31 : Done\n",
            "Epoch [32], train_loss: 0.4269, val_loss: 0.4520, val_acc: 0.8516\n",
            "Epoch 32 : Done\n",
            "Epoch [33], train_loss: 0.4414, val_loss: 0.4521, val_acc: 0.8516\n",
            "Epoch 33 : Done\n",
            "Epoch [34], train_loss: 0.4523, val_loss: 0.4496, val_acc: 0.8594\n",
            "Epoch 34 : Done\n",
            "Epoch [35], train_loss: 0.4235, val_loss: 0.4461, val_acc: 0.8516\n",
            "Epoch 35 : Done\n",
            "Epoch [36], train_loss: 0.4197, val_loss: 0.4453, val_acc: 0.8516\n",
            "Epoch 36 : Done\n",
            "Epoch [37], train_loss: 0.4074, val_loss: 0.4446, val_acc: 0.8594\n",
            "Epoch 37 : Done\n",
            "Epoch [38], train_loss: 0.4146, val_loss: 0.4421, val_acc: 0.8594\n",
            "Epoch 38 : Done\n",
            "Epoch [39], train_loss: 0.4291, val_loss: 0.4426, val_acc: 0.8594\n",
            "Epoch 39 : Done\n",
            "Epoch [40], train_loss: 0.4330, val_loss: 0.4428, val_acc: 0.8594\n",
            "Epoch 40 : Done\n",
            "Epoch [41], train_loss: 0.4277, val_loss: 0.4389, val_acc: 0.8594\n",
            "Epoch 41 : Done\n",
            "Epoch [42], train_loss: 0.4154, val_loss: 0.4403, val_acc: 0.8594\n",
            "Epoch 42 : Done\n",
            "Epoch [43], train_loss: 0.4161, val_loss: 0.4392, val_acc: 0.8594\n",
            "Epoch 43 : Done\n",
            "Epoch [44], train_loss: 0.4065, val_loss: 0.4368, val_acc: 0.8594\n",
            "Epoch 44 : Done\n",
            "Epoch [45], train_loss: 0.4110, val_loss: 0.4369, val_acc: 0.8594\n",
            "Epoch 45 : Done\n",
            "Epoch [46], train_loss: 0.4449, val_loss: 0.4404, val_acc: 0.8594\n",
            "Epoch 46 : Done\n",
            "Epoch [47], train_loss: 0.4293, val_loss: 0.4388, val_acc: 0.8672\n",
            "Epoch 47 : Done\n",
            "Epoch [48], train_loss: 0.4628, val_loss: 0.4373, val_acc: 0.8594\n",
            "Epoch 48 : Done\n",
            "Epoch [49], train_loss: 0.4243, val_loss: 0.4376, val_acc: 0.8594\n",
            "Epoch 49 : Done\n",
            "Epoch [50], train_loss: 0.4111, val_loss: 0.4391, val_acc: 0.8594\n",
            "Epoch 50 : Done\n",
            "Epoch [51], train_loss: 0.4105, val_loss: 0.4372, val_acc: 0.8672\n",
            "Epoch 51 : Done\n",
            "Epoch [52], train_loss: 0.3989, val_loss: 0.4377, val_acc: 0.8594\n",
            "Epoch 52 : Done\n",
            "Epoch [53], train_loss: 0.4092, val_loss: 0.4397, val_acc: 0.8594\n",
            "Epoch 53 : Done\n",
            "Epoch [54], train_loss: 0.4147, val_loss: 0.4363, val_acc: 0.8594\n",
            "Epoch 54 : Done\n",
            "Epoch [55], train_loss: 0.4152, val_loss: 0.4365, val_acc: 0.8594\n",
            "Epoch 55 : Done\n",
            "Epoch [56], train_loss: 0.3998, val_loss: 0.4358, val_acc: 0.8594\n",
            "Epoch 56 : Done\n",
            "Epoch [57], train_loss: 0.4148, val_loss: 0.4358, val_acc: 0.8672\n",
            "Epoch 57 : Done\n",
            "Epoch [58], train_loss: 0.4246, val_loss: 0.4368, val_acc: 0.8672\n",
            "Epoch 58 : Done\n",
            "Epoch [59], train_loss: 0.4084, val_loss: 0.4352, val_acc: 0.8672\n",
            "Epoch 59 : Done\n",
            "Epoch [60], train_loss: 0.4302, val_loss: 0.4381, val_acc: 0.8594\n",
            "Epoch 60 : Done\n",
            "Epoch [61], train_loss: 0.4358, val_loss: 0.4377, val_acc: 0.8594\n",
            "Epoch 61 : Done\n",
            "Epoch [62], train_loss: 0.4227, val_loss: 0.4352, val_acc: 0.8594\n",
            "Epoch 62 : Done\n",
            "Epoch [63], train_loss: 0.4094, val_loss: 0.4380, val_acc: 0.8594\n",
            "Epoch 63 : Done\n",
            "Epoch [64], train_loss: 0.4041, val_loss: 0.4396, val_acc: 0.8594\n",
            "Epoch 64 : Done\n",
            "Epoch [65], train_loss: 0.4022, val_loss: 0.4373, val_acc: 0.8594\n",
            "Epoch 65 : Done\n",
            "Epoch [66], train_loss: 0.4211, val_loss: 0.4350, val_acc: 0.8672\n",
            "Epoch 66 : Done\n",
            "Epoch [67], train_loss: 0.4103, val_loss: 0.4348, val_acc: 0.8594\n",
            "Epoch 67 : Done\n",
            "Epoch [68], train_loss: 0.4100, val_loss: 0.4351, val_acc: 0.8594\n",
            "Epoch 68 : Done\n",
            "Epoch [69], train_loss: 0.4124, val_loss: 0.4374, val_acc: 0.8594\n",
            "Epoch 69 : Done\n",
            "Epoch [70], train_loss: 0.4065, val_loss: 0.4373, val_acc: 0.8594\n",
            "Epoch 70 : Done\n",
            "Epoch [71], train_loss: 0.4211, val_loss: 0.4392, val_acc: 0.8594\n",
            "Epoch 71 : Done\n",
            "Epoch [72], train_loss: 0.4045, val_loss: 0.4365, val_acc: 0.8594\n",
            "Epoch 72 : Done\n",
            "Epoch [73], train_loss: 0.4057, val_loss: 0.4362, val_acc: 0.8672\n",
            "Epoch 73 : Done\n",
            "Epoch [74], train_loss: 0.4141, val_loss: 0.4362, val_acc: 0.8672\n",
            "Epoch 74 : Done\n",
            "Epoch [75], train_loss: 0.4365, val_loss: 0.4380, val_acc: 0.8594\n",
            "Epoch 75 : Done\n",
            "Epoch [76], train_loss: 0.4076, val_loss: 0.4359, val_acc: 0.8672\n",
            "Epoch 76 : Done\n",
            "Epoch [77], train_loss: 0.4169, val_loss: 0.4356, val_acc: 0.8672\n",
            "Epoch 77 : Done\n",
            "Epoch [78], train_loss: 0.4054, val_loss: 0.4367, val_acc: 0.8594\n",
            "Epoch 78 : Done\n",
            "Epoch [79], train_loss: 0.4001, val_loss: 0.4376, val_acc: 0.8594\n",
            "Epoch 79 : Done\n",
            "Epoch [80], train_loss: 0.4098, val_loss: 0.4405, val_acc: 0.8594\n",
            "Epoch 80 : Done\n",
            "Epoch [81], train_loss: 0.3959, val_loss: 0.4369, val_acc: 0.8672\n",
            "Epoch 81 : Done\n",
            "Epoch [82], train_loss: 0.3913, val_loss: 0.4357, val_acc: 0.8594\n",
            "Epoch 82 : Done\n",
            "Epoch [83], train_loss: 0.4155, val_loss: 0.4362, val_acc: 0.8672\n",
            "Epoch 83 : Done\n",
            "Epoch [84], train_loss: 0.4228, val_loss: 0.4351, val_acc: 0.8672\n",
            "Epoch 84 : Done\n",
            "Epoch [85], train_loss: 0.4176, val_loss: 0.4376, val_acc: 0.8594\n",
            "Epoch 85 : Done\n",
            "Epoch [86], train_loss: 0.4000, val_loss: 0.4374, val_acc: 0.8594\n",
            "Epoch 86 : Done\n",
            "Epoch [87], train_loss: 0.4168, val_loss: 0.4382, val_acc: 0.8594\n",
            "Epoch 87 : Done\n",
            "Epoch [88], train_loss: 0.4074, val_loss: 0.4348, val_acc: 0.8672\n",
            "Epoch 88 : Done\n",
            "Epoch [89], train_loss: 0.4046, val_loss: 0.4379, val_acc: 0.8594\n",
            "Epoch 89 : Done\n",
            "Epoch [90], train_loss: 0.4197, val_loss: 0.4362, val_acc: 0.8672\n",
            "Epoch 90 : Done\n",
            "Epoch [91], train_loss: 0.4152, val_loss: 0.4370, val_acc: 0.8594\n",
            "Epoch 91 : Done\n",
            "Epoch [92], train_loss: 0.4128, val_loss: 0.4347, val_acc: 0.8672\n",
            "Epoch 92 : Done\n",
            "Epoch [93], train_loss: 0.4490, val_loss: 0.4350, val_acc: 0.8672\n",
            "Epoch 93 : Done\n",
            "Epoch [94], train_loss: 0.4527, val_loss: 0.4337, val_acc: 0.8594\n",
            "Epoch 94 : Done\n",
            "Epoch [95], train_loss: 0.4188, val_loss: 0.4354, val_acc: 0.8594\n",
            "Epoch 95 : Done\n",
            "Epoch [96], train_loss: 0.4269, val_loss: 0.4369, val_acc: 0.8594\n",
            "Epoch 96 : Done\n",
            "Epoch [97], train_loss: 0.4367, val_loss: 0.4334, val_acc: 0.8672\n",
            "Epoch 97 : Done\n",
            "Epoch [98], train_loss: 0.4155, val_loss: 0.4375, val_acc: 0.8594\n",
            "Epoch 98 : Done\n",
            "Epoch [99], train_loss: 0.4127, val_loss: 0.4389, val_acc: 0.8594\n",
            "Epoch 99 : Done\n",
            "Epoch [100], train_loss: 0.3976, val_loss: 0.4341, val_acc: 0.8594\n",
            "Epoch 100 : Done\n",
            "Epoch [101], train_loss: 0.4206, val_loss: 0.4370, val_acc: 0.8594\n",
            "Epoch 101 : Done\n",
            "Epoch [102], train_loss: 0.4286, val_loss: 0.4370, val_acc: 0.8594\n",
            "Epoch 102 : Done\n",
            "Epoch [103], train_loss: 0.4111, val_loss: 0.4376, val_acc: 0.8594\n",
            "Epoch 103 : Done\n",
            "Epoch [104], train_loss: 0.4073, val_loss: 0.4375, val_acc: 0.8594\n",
            "Epoch 104 : Done\n",
            "Epoch [105], train_loss: 0.4276, val_loss: 0.4342, val_acc: 0.8594\n",
            "Epoch 105 : Done\n",
            "Epoch [106], train_loss: 0.3927, val_loss: 0.4384, val_acc: 0.8594\n",
            "Epoch 106 : Done\n",
            "Epoch [107], train_loss: 0.4245, val_loss: 0.4383, val_acc: 0.8594\n",
            "Epoch 107 : Done\n",
            "Epoch [108], train_loss: 0.4045, val_loss: 0.4341, val_acc: 0.8672\n",
            "Epoch 108 : Done\n",
            "Epoch [109], train_loss: 0.4354, val_loss: 0.4355, val_acc: 0.8594\n",
            "Epoch 109 : Done\n",
            "Epoch [110], train_loss: 0.4287, val_loss: 0.4358, val_acc: 0.8594\n",
            "Epoch 110 : Done\n",
            "Epoch [111], train_loss: 0.4418, val_loss: 0.4344, val_acc: 0.8672\n",
            "Epoch 111 : Done\n",
            "Epoch [112], train_loss: 0.4092, val_loss: 0.4371, val_acc: 0.8594\n",
            "Epoch 112 : Done\n",
            "Epoch [113], train_loss: 0.4092, val_loss: 0.4361, val_acc: 0.8594\n",
            "Epoch 113 : Done\n",
            "Epoch [114], train_loss: 0.4258, val_loss: 0.4350, val_acc: 0.8594\n",
            "Epoch 114 : Done\n",
            "Epoch [115], train_loss: 0.4266, val_loss: 0.4381, val_acc: 0.8594\n",
            "Epoch 115 : Done\n",
            "Epoch [116], train_loss: 0.4122, val_loss: 0.4349, val_acc: 0.8672\n",
            "Epoch 116 : Done\n",
            "Epoch [117], train_loss: 0.4387, val_loss: 0.4375, val_acc: 0.8594\n",
            "Epoch 117 : Done\n",
            "Epoch [118], train_loss: 0.4058, val_loss: 0.4361, val_acc: 0.8594\n",
            "Epoch 118 : Done\n",
            "Epoch [119], train_loss: 0.4182, val_loss: 0.4387, val_acc: 0.8594\n",
            "Epoch 119 : Done\n",
            "Epoch [120], train_loss: 0.4194, val_loss: 0.4383, val_acc: 0.8594\n",
            "Epoch 120 : Done\n",
            "Epoch [121], train_loss: 0.4050, val_loss: 0.4375, val_acc: 0.8594\n",
            "Epoch 121 : Done\n",
            "Epoch [122], train_loss: 0.4185, val_loss: 0.4348, val_acc: 0.8672\n",
            "Epoch 122 : Done\n",
            "Epoch [123], train_loss: 0.4113, val_loss: 0.4354, val_acc: 0.8672\n",
            "Epoch 123 : Done\n",
            "Epoch [124], train_loss: 0.4202, val_loss: 0.4368, val_acc: 0.8672\n",
            "Epoch 124 : Done\n",
            "Epoch [125], train_loss: 0.4529, val_loss: 0.4341, val_acc: 0.8672\n",
            "Epoch 125 : Done\n",
            "Epoch [126], train_loss: 0.4181, val_loss: 0.4364, val_acc: 0.8594\n",
            "Epoch 126 : Done\n",
            "Epoch [127], train_loss: 0.4046, val_loss: 0.4331, val_acc: 0.8672\n",
            "Epoch 127 : Done\n",
            "Epoch [128], train_loss: 0.4092, val_loss: 0.4369, val_acc: 0.8594\n",
            "Epoch 128 : Done\n",
            "Epoch [129], train_loss: 0.4238, val_loss: 0.4373, val_acc: 0.8594\n",
            "Epoch 129 : Done\n",
            "Epoch [130], train_loss: 0.4131, val_loss: 0.4347, val_acc: 0.8594\n",
            "Epoch 130 : Done\n",
            "Epoch [131], train_loss: 0.3966, val_loss: 0.4323, val_acc: 0.8672\n",
            "Epoch 131 : Done\n",
            "Epoch [132], train_loss: 0.4146, val_loss: 0.4363, val_acc: 0.8594\n",
            "Epoch 132 : Done\n",
            "Epoch [133], train_loss: 0.4326, val_loss: 0.4374, val_acc: 0.8594\n",
            "Epoch 133 : Done\n",
            "Epoch [134], train_loss: 0.4100, val_loss: 0.4374, val_acc: 0.8672\n",
            "Epoch 134 : Done\n",
            "Epoch [135], train_loss: 0.4065, val_loss: 0.4363, val_acc: 0.8594\n",
            "Epoch 135 : Done\n",
            "Epoch [136], train_loss: 0.4075, val_loss: 0.4349, val_acc: 0.8672\n",
            "Epoch 136 : Done\n",
            "Epoch [137], train_loss: 0.4283, val_loss: 0.4359, val_acc: 0.8594\n",
            "Epoch 137 : Done\n",
            "Epoch [138], train_loss: 0.3988, val_loss: 0.4373, val_acc: 0.8594\n",
            "Epoch 138 : Done\n",
            "Epoch [139], train_loss: 0.4161, val_loss: 0.4371, val_acc: 0.8594\n",
            "Epoch 139 : Done\n",
            "Epoch [140], train_loss: 0.3995, val_loss: 0.4357, val_acc: 0.8672\n",
            "Epoch 140 : Done\n",
            "Epoch [141], train_loss: 0.4156, val_loss: 0.4356, val_acc: 0.8594\n",
            "Epoch 141 : Done\n",
            "Epoch [142], train_loss: 0.4095, val_loss: 0.4348, val_acc: 0.8672\n",
            "Epoch 142 : Done\n",
            "Epoch [143], train_loss: 0.4174, val_loss: 0.4342, val_acc: 0.8672\n",
            "Epoch 143 : Done\n",
            "Epoch [144], train_loss: 0.4170, val_loss: 0.4357, val_acc: 0.8594\n",
            "Epoch 144 : Done\n",
            "Epoch [145], train_loss: 0.4016, val_loss: 0.4342, val_acc: 0.8594\n",
            "Epoch 145 : Done\n",
            "Epoch [146], train_loss: 0.4186, val_loss: 0.4364, val_acc: 0.8594\n",
            "Epoch 146 : Done\n",
            "Epoch [147], train_loss: 0.4015, val_loss: 0.4339, val_acc: 0.8672\n",
            "Epoch 147 : Done\n",
            "Epoch [148], train_loss: 0.4181, val_loss: 0.4345, val_acc: 0.8672\n",
            "Epoch 148 : Done\n",
            "Epoch [149], train_loss: 0.4143, val_loss: 0.4361, val_acc: 0.8672\n",
            "Epoch 149 : Done\n",
            "Epoch [150], train_loss: 0.4173, val_loss: 0.4339, val_acc: 0.8672\n",
            "Epoch 150 : Done\n",
            "Epoch [151], train_loss: 0.3990, val_loss: 0.4343, val_acc: 0.8672\n",
            "Epoch 151 : Done\n",
            "Epoch [152], train_loss: 0.4123, val_loss: 0.4357, val_acc: 0.8672\n",
            "Epoch 152 : Done\n",
            "Epoch [153], train_loss: 0.4297, val_loss: 0.4328, val_acc: 0.8672\n",
            "Epoch 153 : Done\n",
            "Epoch [154], train_loss: 0.4066, val_loss: 0.4353, val_acc: 0.8672\n",
            "Epoch 154 : Done\n",
            "Epoch [155], train_loss: 0.3864, val_loss: 0.4360, val_acc: 0.8672\n",
            "Epoch 155 : Done\n",
            "Epoch [156], train_loss: 0.3952, val_loss: 0.4356, val_acc: 0.8594\n",
            "Epoch 156 : Done\n",
            "Epoch [157], train_loss: 0.3988, val_loss: 0.4340, val_acc: 0.8672\n",
            "Epoch 157 : Done\n",
            "Epoch [158], train_loss: 0.4012, val_loss: 0.4384, val_acc: 0.8594\n",
            "Epoch 158 : Done\n",
            "Epoch [159], train_loss: 0.4113, val_loss: 0.4356, val_acc: 0.8672\n",
            "Epoch 159 : Done\n",
            "Epoch [160], train_loss: 0.4171, val_loss: 0.4358, val_acc: 0.8672\n",
            "Epoch 160 : Done\n",
            "Epoch [161], train_loss: 0.4152, val_loss: 0.4340, val_acc: 0.8672\n",
            "Epoch 161 : Done\n",
            "Epoch [162], train_loss: 0.4266, val_loss: 0.4329, val_acc: 0.8672\n",
            "Epoch 162 : Done\n",
            "Epoch [163], train_loss: 0.4343, val_loss: 0.4346, val_acc: 0.8672\n",
            "Epoch 163 : Done\n",
            "Epoch [164], train_loss: 0.3941, val_loss: 0.4341, val_acc: 0.8672\n",
            "Epoch 164 : Done\n",
            "Epoch [165], train_loss: 0.4052, val_loss: 0.4339, val_acc: 0.8672\n",
            "Epoch 165 : Done\n",
            "Epoch [166], train_loss: 0.4038, val_loss: 0.4377, val_acc: 0.8594\n",
            "Epoch 166 : Done\n",
            "Epoch [167], train_loss: 0.4033, val_loss: 0.4344, val_acc: 0.8672\n",
            "Epoch 167 : Done\n",
            "Epoch [168], train_loss: 0.4139, val_loss: 0.4347, val_acc: 0.8672\n",
            "Epoch 168 : Done\n",
            "Epoch [169], train_loss: 0.4142, val_loss: 0.4352, val_acc: 0.8594\n",
            "Epoch 169 : Done\n",
            "Epoch [170], train_loss: 0.4056, val_loss: 0.4346, val_acc: 0.8672\n",
            "Epoch 170 : Done\n",
            "Epoch [171], train_loss: 0.4077, val_loss: 0.4347, val_acc: 0.8672\n",
            "Epoch 171 : Done\n",
            "Epoch [172], train_loss: 0.3995, val_loss: 0.4344, val_acc: 0.8672\n",
            "Epoch 172 : Done\n",
            "Epoch [173], train_loss: 0.3910, val_loss: 0.4332, val_acc: 0.8672\n",
            "Epoch 173 : Done\n",
            "Epoch [174], train_loss: 0.4063, val_loss: 0.4351, val_acc: 0.8672\n",
            "Epoch 174 : Done\n",
            "Epoch [175], train_loss: 0.3995, val_loss: 0.4327, val_acc: 0.8672\n",
            "Epoch 175 : Done\n",
            "Epoch [176], train_loss: 0.4086, val_loss: 0.4327, val_acc: 0.8672\n",
            "Epoch 176 : Done\n",
            "Epoch [177], train_loss: 0.4231, val_loss: 0.4359, val_acc: 0.8594\n",
            "Epoch 177 : Done\n",
            "Epoch [178], train_loss: 0.4329, val_loss: 0.4356, val_acc: 0.8672\n",
            "Epoch 178 : Done\n",
            "Epoch [179], train_loss: 0.4065, val_loss: 0.4356, val_acc: 0.8672\n",
            "Epoch 179 : Done\n",
            "Epoch [180], train_loss: 0.4088, val_loss: 0.4347, val_acc: 0.8672\n",
            "Epoch 180 : Done\n",
            "Epoch [181], train_loss: 0.4154, val_loss: 0.4348, val_acc: 0.8672\n",
            "Epoch 181 : Done\n",
            "Epoch [182], train_loss: 0.4067, val_loss: 0.4339, val_acc: 0.8672\n",
            "Epoch 182 : Done\n",
            "Epoch [183], train_loss: 0.4060, val_loss: 0.4340, val_acc: 0.8672\n",
            "Epoch 183 : Done\n",
            "Epoch [184], train_loss: 0.4045, val_loss: 0.4337, val_acc: 0.8672\n",
            "Epoch 184 : Done\n",
            "Epoch [185], train_loss: 0.4148, val_loss: 0.4370, val_acc: 0.8672\n",
            "Epoch 185 : Done\n",
            "Epoch [186], train_loss: 0.4104, val_loss: 0.4328, val_acc: 0.8672\n",
            "Epoch 186 : Done\n",
            "Epoch [187], train_loss: 0.4288, val_loss: 0.4346, val_acc: 0.8672\n",
            "Epoch 187 : Done\n",
            "Epoch [188], train_loss: 0.4143, val_loss: 0.4350, val_acc: 0.8672\n",
            "Epoch 188 : Done\n",
            "Epoch [189], train_loss: 0.4167, val_loss: 0.4347, val_acc: 0.8672\n",
            "Epoch 189 : Done\n",
            "Epoch [190], train_loss: 0.4147, val_loss: 0.4370, val_acc: 0.8672\n",
            "Epoch 190 : Done\n",
            "Epoch [191], train_loss: 0.4284, val_loss: 0.4351, val_acc: 0.8672\n",
            "Epoch 191 : Done\n",
            "Epoch [192], train_loss: 0.3966, val_loss: 0.4331, val_acc: 0.8672\n",
            "Epoch 192 : Done\n",
            "Epoch [193], train_loss: 0.4071, val_loss: 0.4342, val_acc: 0.8672\n",
            "Epoch 193 : Done\n",
            "Epoch [194], train_loss: 0.4227, val_loss: 0.4371, val_acc: 0.8672\n",
            "Epoch 194 : Done\n",
            "Epoch [195], train_loss: 0.4026, val_loss: 0.4356, val_acc: 0.8672\n",
            "Epoch 195 : Done\n",
            "Epoch [196], train_loss: 0.3951, val_loss: 0.4351, val_acc: 0.8594\n",
            "Epoch 196 : Done\n",
            "Epoch [197], train_loss: 0.4340, val_loss: 0.4361, val_acc: 0.8672\n",
            "Epoch 197 : Done\n",
            "Epoch [198], train_loss: 0.4207, val_loss: 0.4335, val_acc: 0.8672\n",
            "Epoch 198 : Done\n",
            "Epoch [199], train_loss: 0.4155, val_loss: 0.4336, val_acc: 0.8672\n",
            "Epoch 199 : Done\n"
          ]
        }
      ]
    },
    {
      "cell_type": "code",
      "metadata": {
        "colab": {
          "base_uri": "https://localhost:8080/",
          "height": 573
        },
        "outputId": "bbf3926b-5dee-4077-cfa5-bedff9a50f94",
        "id": "NkD6QAKMDUOV"
      },
      "source": [
        "plot_accuracies(history)\n",
        "plot_losses(history)"
      ],
      "execution_count": 86,
      "outputs": [
        {
          "output_type": "display_data",
          "data": {
            "image/png": "[encoded data removed]",
            "text/plain": [
              "<Figure size 432x288 with 1 Axes>"
            ]
          },
          "metadata": {
            "needs_background": "light"
          }
        },
        {
          "output_type": "display_data",
          "data": {
            "image/png": "[encoded data removed]",
            "text/plain": [
              "<Figure size 432x288 with 1 Axes>"
            ]
          },
          "metadata": {
            "needs_background": "light"
          }
        }
      ]
    },
    {
      "cell_type": "code",
      "metadata": {
        "id": "hrXQqMtZDUOV"
      },
      "source": [
        "torch.save(model_1.state_dict(), '/content/gdrive/MyDrive/Year3/Indiv/CNN-1-3.pt')"
      ],
      "execution_count": 87,
      "outputs": []
    },
    {
      "cell_type": "code",
      "source": [
        "model_1 = XrayClassification().to(device)\n",
        "model_1.load_state_dict(torch.load('/content/gdrive/MyDrive/Year3/Indiv/CNN-1-3.pt'))"
      ],
      "metadata": {
        "colab": {
          "base_uri": "https://localhost:8080/"
        },
        "outputId": "2b05b1af-a7cb-432c-c7a9-5362d6ddf987",
        "id": "THtmmhLeDUOV"
      },
      "execution_count": 88,
      "outputs": [
        {
          "output_type": "execute_result",
          "data": {
            "text/plain": [
              "<All keys matched successfully>"
            ]
          },
          "metadata": {},
          "execution_count": 88
        }
      ]
    },
    {
      "cell_type": "code",
      "source": [
        "train_result = evaluate(model_1, train_dataloader)\n",
        "print(\"Training accuracy: \" + str(train_result['val_acc']))"
      ],
      "metadata": {
        "colab": {
          "base_uri": "https://localhost:8080/"
        },
        "outputId": "e1f06052-3b8b-43db-9857-f7366f914e12",
        "id": "2qcde21ADUOV"
      },
      "execution_count": 89,
      "outputs": [
        {
          "output_type": "stream",
          "name": "stdout",
          "text": [
            "Training accuracy: 0.8454861044883728\n"
          ]
        }
      ]
    },
    {
      "cell_type": "code",
      "source": [
        "val_result = evaluate(model_1, validate_dataloader)\n",
        "print(\"Validate accuracy: \" + str(val_result['val_acc']))"
      ],
      "metadata": {
        "colab": {
          "base_uri": "https://localhost:8080/"
        },
        "outputId": "a5d04fdc-5783-4fff-d951-7571a162172b",
        "id": "xOBkwyAYDUOV"
      },
      "execution_count": 90,
      "outputs": [
        {
          "output_type": "stream",
          "name": "stdout",
          "text": [
            "Validate accuracy: 0.8671875\n"
          ]
        }
      ]
    },
    {
      "cell_type": "markdown",
      "metadata": {
        "id": "nYK0u1NTJzVN"
      },
      "source": [
        "#CNN-2"
      ]
    },
    {
      "cell_type": "markdown",
      "metadata": {
        "id": "A18nkaZn26P3"
      },
      "source": [
        "## Training 1 -> Overfit"
      ]
    },
    {
      "cell_type": "code",
      "source": [
        "class XrayClassification(ImageClassificationBase):\n",
        "    def __init__(self):\n",
        "        super().__init__()\n",
        "        self.network = nn.Sequential(\n",
        "            nn.Conv2d(1, 32, kernel_size = 3, padding = 1),\n",
        "            nn.ReLU(),\n",
        "            nn.Conv2d(32,64, kernel_size = 3, stride = 1, padding = 1),\n",
        "            nn.ReLU(),\n",
        "            nn.MaxPool2d(2,2),\n",
        "            nn.Conv2d(64, 128, kernel_size = 3, stride = 1, padding = 1),\n",
        "            nn.ReLU(),\n",
        "            nn.Conv2d(128,128, kernel_size = 3, stride = 1, padding = 1),\n",
        "            nn.ReLU(),\n",
        "            nn.MaxPool2d(2,2),\n",
        "            nn.Conv2d(128, 256, kernel_size = 3, stride = 1, padding = 1),\n",
        "            nn.ReLU(),\n",
        "            nn.Conv2d(256,256, kernel_size = 3, stride = 1, padding = 1),\n",
        "            nn.ReLU(),\n",
        "            nn.MaxPool2d(2,2),\n",
        "            nn.Flatten(),\n",
        "            nn.Linear(262144,1024), # adjust number here\n",
        "            nn.ReLU(),\n",
        "            nn.Linear(1024,512),\n",
        "            nn.ReLU(),\n",
        "            nn.Linear(512,2)\n",
        "        )\n",
        "    def forward(self, xb):\n",
        "        return self.network(xb)"
      ],
      "metadata": {
        "id": "S-dVvwwKiGk5"
      },
      "execution_count": 13,
      "outputs": []
    },
    {
      "cell_type": "code",
      "metadata": {
        "colab": {
          "base_uri": "https://localhost:8080/"
        },
        "id": "n-aDGzODHdjP",
        "outputId": "861f22d7-a7b2-44d8-b619-b7b8e6d0f07f"
      },
      "source": [
        "model_2 = XrayClassification().to(device)\n",
        "print(model_2)"
      ],
      "execution_count": 14,
      "outputs": [
        {
          "output_type": "stream",
          "name": "stdout",
          "text": [
            "XrayClassification(\n",
            "  (network): Sequential(\n",
            "    (0): Conv2d(1, 32, kernel_size=(3, 3), stride=(1, 1), padding=(1, 1))\n",
            "    (1): ReLU()\n",
            "    (2): Conv2d(32, 64, kernel_size=(3, 3), stride=(1, 1), padding=(1, 1))\n",
            "    (3): ReLU()\n",
            "    (4): MaxPool2d(kernel_size=2, stride=2, padding=0, dilation=1, ceil_mode=False)\n",
            "    (5): Conv2d(64, 128, kernel_size=(3, 3), stride=(1, 1), padding=(1, 1))\n",
            "    (6): ReLU()\n",
            "    (7): Conv2d(128, 128, kernel_size=(3, 3), stride=(1, 1), padding=(1, 1))\n",
            "    (8): ReLU()\n",
            "    (9): MaxPool2d(kernel_size=2, stride=2, padding=0, dilation=1, ceil_mode=False)\n",
            "    (10): Conv2d(128, 256, kernel_size=(3, 3), stride=(1, 1), padding=(1, 1))\n",
            "    (11): ReLU()\n",
            "    (12): Conv2d(256, 256, kernel_size=(3, 3), stride=(1, 1), padding=(1, 1))\n",
            "    (13): ReLU()\n",
            "    (14): MaxPool2d(kernel_size=2, stride=2, padding=0, dilation=1, ceil_mode=False)\n",
            "    (15): Flatten(start_dim=1, end_dim=-1)\n",
            "    (16): Linear(in_features=262144, out_features=1024, bias=True)\n",
            "    (17): ReLU()\n",
            "    (18): Linear(in_features=1024, out_features=512, bias=True)\n",
            "    (19): ReLU()\n",
            "    (20): Linear(in_features=512, out_features=2, bias=True)\n",
            "  )\n",
            ")\n"
          ]
        }
      ]
    },
    {
      "cell_type": "code",
      "metadata": {
        "colab": {
          "base_uri": "https://localhost:8080/"
        },
        "id": "H7BYrsSLFFBb",
        "outputId": "64aab169-a59f-4921-e924-5e7bd00b0c0e"
      },
      "source": [
        "for images, labels in train_dataloader:\n",
        "    print('images.shape:', images.shape)\n",
        "    out = model_2(images)\n",
        "    print('out.shape:', out.shape)\n",
        "    print('out[0]:', out[0])\n",
        "    break"
      ],
      "execution_count": 93,
      "outputs": [
        {
          "output_type": "stream",
          "name": "stdout",
          "text": [
            "images.shape: torch.Size([16, 1, 256, 256])\n",
            "out.shape: torch.Size([16, 2])\n",
            "out[0]: tensor([-0.0461, -0.0371], device='cuda:0', grad_fn=<SelectBackward0>)\n"
          ]
        }
      ]
    },
    {
      "cell_type": "code",
      "metadata": {
        "id": "wBW4rkiCHQd-",
        "colab": {
          "base_uri": "https://localhost:8080/"
        },
        "outputId": "2e311a2c-3174-4ed8-e854-ec98d4fdfdd9"
      },
      "source": [
        "num_epochs = 100\n",
        "opt_func = torch.optim.Adam\n",
        "lr = 0.00001\n",
        "#fitting the model on training data and record the result after each epoch\n",
        "history = fit(num_epochs, lr, model_2, train_dataloader, validate_dataloader, opt_func, 0.00000005)"
      ],
      "execution_count": 15,
      "outputs": [
        {
          "output_type": "stream",
          "name": "stdout",
          "text": [
            "Epoch [0], train_loss: 0.6871, val_loss: 0.6777, val_acc: 0.4531\n",
            "Epoch 0 : Done\n",
            "Epoch [1], train_loss: 0.5990, val_loss: 0.4936, val_acc: 0.7344\n",
            "Epoch 1 : Done\n",
            "Epoch [2], train_loss: 0.4686, val_loss: 0.4170, val_acc: 0.8438\n",
            "Epoch 2 : Done\n",
            "Epoch [3], train_loss: 0.4818, val_loss: 0.4120, val_acc: 0.8516\n",
            "Epoch 3 : Done\n",
            "Epoch [4], train_loss: 0.4354, val_loss: 0.3869, val_acc: 0.8516\n",
            "Epoch 4 : Done\n",
            "Epoch [5], train_loss: 0.4327, val_loss: 0.3848, val_acc: 0.8516\n",
            "Epoch 5 : Done\n",
            "Epoch [6], train_loss: 0.4186, val_loss: 0.3771, val_acc: 0.8438\n",
            "Epoch 6 : Done\n",
            "Epoch [7], train_loss: 0.4151, val_loss: 0.3616, val_acc: 0.8594\n",
            "Epoch 7 : Done\n",
            "Epoch [8], train_loss: 0.3957, val_loss: 0.3738, val_acc: 0.8516\n",
            "Epoch 8 : Done\n",
            "Epoch [9], train_loss: 0.3957, val_loss: 0.4021, val_acc: 0.8359\n",
            "Epoch 9 : Done\n",
            "Epoch [10], train_loss: 0.3783, val_loss: 0.3589, val_acc: 0.8516\n",
            "Epoch 10 : Done\n",
            "Epoch [11], train_loss: 0.3733, val_loss: 0.3625, val_acc: 0.8516\n",
            "Epoch 11 : Done\n",
            "Epoch [12], train_loss: 0.3680, val_loss: 0.3659, val_acc: 0.8438\n",
            "Epoch 12 : Done\n",
            "Epoch [13], train_loss: 0.3666, val_loss: 0.3669, val_acc: 0.8594\n",
            "Epoch 13 : Done\n",
            "Epoch [14], train_loss: 0.3540, val_loss: 0.3542, val_acc: 0.8438\n",
            "Epoch 14 : Done\n",
            "Epoch [15], train_loss: 0.3493, val_loss: 0.3607, val_acc: 0.8594\n",
            "Epoch 15 : Done\n",
            "Epoch [16], train_loss: 0.3451, val_loss: 0.3660, val_acc: 0.8438\n",
            "Epoch 16 : Done\n",
            "Epoch [17], train_loss: 0.3380, val_loss: 0.3531, val_acc: 0.8594\n",
            "Epoch 17 : Done\n",
            "Epoch [18], train_loss: 0.3393, val_loss: 0.3499, val_acc: 0.8438\n",
            "Epoch 18 : Done\n",
            "Epoch [19], train_loss: 0.3239, val_loss: 0.3466, val_acc: 0.8516\n",
            "Epoch 19 : Done\n",
            "Epoch [20], train_loss: 0.3548, val_loss: 0.3531, val_acc: 0.8594\n",
            "Epoch 20 : Done\n",
            "Epoch [21], train_loss: 0.3224, val_loss: 0.3480, val_acc: 0.8516\n",
            "Epoch 21 : Done\n",
            "Epoch [22], train_loss: 0.3168, val_loss: 0.3459, val_acc: 0.8594\n",
            "Epoch 22 : Done\n",
            "Epoch [23], train_loss: 0.3337, val_loss: 0.3510, val_acc: 0.8594\n",
            "Epoch 23 : Done\n",
            "Epoch [24], train_loss: 0.3121, val_loss: 0.3496, val_acc: 0.8516\n",
            "Epoch 24 : Done\n",
            "Epoch [25], train_loss: 0.3129, val_loss: 0.3461, val_acc: 0.8516\n",
            "Epoch 25 : Done\n",
            "Epoch [26], train_loss: 0.3180, val_loss: 0.3478, val_acc: 0.8516\n",
            "Epoch 26 : Done\n",
            "Epoch [27], train_loss: 0.3047, val_loss: 0.3478, val_acc: 0.8516\n",
            "Epoch 27 : Done\n",
            "Epoch [28], train_loss: 0.3378, val_loss: 0.3475, val_acc: 0.8516\n",
            "Epoch 28 : Done\n",
            "Epoch [29], train_loss: 0.3146, val_loss: 0.3483, val_acc: 0.8516\n",
            "Epoch 29 : Done\n",
            "Epoch [30], train_loss: 0.3080, val_loss: 0.3473, val_acc: 0.8516\n",
            "Epoch 30 : Done\n",
            "Epoch [31], train_loss: 0.3338, val_loss: 0.3466, val_acc: 0.8516\n",
            "Epoch 31 : Done\n",
            "Epoch [32], train_loss: 0.3201, val_loss: 0.3476, val_acc: 0.8516\n",
            "Epoch 32 : Done\n",
            "Epoch [33], train_loss: 0.3015, val_loss: 0.3477, val_acc: 0.8516\n",
            "Epoch 33 : Done\n",
            "Epoch [34], train_loss: 0.3031, val_loss: 0.3472, val_acc: 0.8516\n",
            "Epoch 34 : Done\n",
            "Epoch [35], train_loss: 0.3026, val_loss: 0.3473, val_acc: 0.8516\n",
            "Epoch 35 : Done\n",
            "Epoch [36], train_loss: 0.3025, val_loss: 0.3471, val_acc: 0.8516\n",
            "Epoch 36 : Done\n",
            "Epoch [37], train_loss: 0.3123, val_loss: 0.3470, val_acc: 0.8516\n",
            "Epoch 37 : Done\n",
            "Epoch [38], train_loss: 0.3002, val_loss: 0.3470, val_acc: 0.8516\n",
            "Epoch 38 : Done\n",
            "Epoch [39], train_loss: 0.3066, val_loss: 0.3471, val_acc: 0.8516\n",
            "Epoch 39 : Done\n",
            "Epoch [40], train_loss: 0.3304, val_loss: 0.3471, val_acc: 0.8516\n",
            "Epoch 40 : Done\n",
            "Epoch [41], train_loss: 0.3009, val_loss: 0.3471, val_acc: 0.8516\n",
            "Epoch 41 : Done\n",
            "Epoch [42], train_loss: 0.3023, val_loss: 0.3469, val_acc: 0.8516\n",
            "Epoch 42 : Done\n",
            "Epoch [43], train_loss: 0.3014, val_loss: 0.3469, val_acc: 0.8516\n",
            "Epoch 43 : Done\n",
            "Epoch [44], train_loss: 0.3043, val_loss: 0.3469, val_acc: 0.8516\n",
            "Epoch 44 : Done\n",
            "Epoch [45], train_loss: 0.3037, val_loss: 0.3467, val_acc: 0.8516\n",
            "Epoch 45 : Done\n",
            "Epoch [46], train_loss: 0.3113, val_loss: 0.3467, val_acc: 0.8516\n",
            "Epoch 46 : Done\n",
            "Epoch [47], train_loss: 0.3034, val_loss: 0.3466, val_acc: 0.8516\n",
            "Epoch 47 : Done\n",
            "Epoch [48], train_loss: 0.3017, val_loss: 0.3464, val_acc: 0.8516\n",
            "Epoch 48 : Done\n",
            "Epoch [49], train_loss: 0.3003, val_loss: 0.3465, val_acc: 0.8516\n",
            "Epoch 49 : Done\n",
            "Epoch [50], train_loss: 0.3031, val_loss: 0.3466, val_acc: 0.8516\n",
            "Epoch 50 : Done\n",
            "Epoch [51], train_loss: 0.3274, val_loss: 0.3465, val_acc: 0.8516\n",
            "Epoch 51 : Done\n",
            "Epoch [52], train_loss: 0.3142, val_loss: 0.3466, val_acc: 0.8516\n",
            "Epoch 52 : Done\n",
            "Epoch [53], train_loss: 0.3013, val_loss: 0.3466, val_acc: 0.8516\n",
            "Epoch 53 : Done\n",
            "Epoch [54], train_loss: 0.3109, val_loss: 0.3467, val_acc: 0.8516\n",
            "Epoch 54 : Done\n",
            "Epoch [55], train_loss: 0.3006, val_loss: 0.3465, val_acc: 0.8516\n",
            "Epoch 55 : Done\n",
            "Epoch [56], train_loss: 0.3035, val_loss: 0.3467, val_acc: 0.8516\n",
            "Epoch 56 : Done\n",
            "Epoch [57], train_loss: 0.2993, val_loss: 0.3466, val_acc: 0.8516\n",
            "Epoch 57 : Done\n",
            "Epoch [58], train_loss: 0.3052, val_loss: 0.3465, val_acc: 0.8516\n",
            "Epoch 58 : Done\n",
            "Epoch [59], train_loss: 0.3004, val_loss: 0.3467, val_acc: 0.8516\n",
            "Epoch 59 : Done\n",
            "Epoch [60], train_loss: 0.2997, val_loss: 0.3467, val_acc: 0.8516\n",
            "Epoch 60 : Done\n",
            "Epoch [61], train_loss: 0.3016, val_loss: 0.3467, val_acc: 0.8516\n",
            "Epoch 61 : Done\n",
            "Epoch [62], train_loss: 0.3192, val_loss: 0.3465, val_acc: 0.8594\n",
            "Epoch 62 : Done\n",
            "Epoch [63], train_loss: 0.3123, val_loss: 0.3467, val_acc: 0.8516\n",
            "Epoch 63 : Done\n",
            "Epoch [64], train_loss: 0.3000, val_loss: 0.3469, val_acc: 0.8516\n",
            "Epoch 64 : Done\n",
            "Epoch [65], train_loss: 0.2995, val_loss: 0.3468, val_acc: 0.8516\n",
            "Epoch 65 : Done\n",
            "Epoch [66], train_loss: 0.3275, val_loss: 0.3468, val_acc: 0.8516\n",
            "Epoch 66 : Done\n",
            "Epoch [67], train_loss: 0.3014, val_loss: 0.3469, val_acc: 0.8516\n",
            "Epoch 67 : Done\n",
            "Epoch [68], train_loss: 0.3240, val_loss: 0.3468, val_acc: 0.8516\n",
            "Epoch 68 : Done\n",
            "Epoch [69], train_loss: 0.3055, val_loss: 0.3471, val_acc: 0.8516\n",
            "Epoch 69 : Done\n",
            "Epoch [70], train_loss: 0.3062, val_loss: 0.3470, val_acc: 0.8516\n",
            "Epoch 70 : Done\n",
            "Epoch [71], train_loss: 0.2993, val_loss: 0.3470, val_acc: 0.8516\n",
            "Epoch 71 : Done\n",
            "Epoch [72], train_loss: 0.2994, val_loss: 0.3469, val_acc: 0.8516\n",
            "Epoch 72 : Done\n",
            "Epoch [73], train_loss: 0.3093, val_loss: 0.3469, val_acc: 0.8516\n",
            "Epoch 73 : Done\n",
            "Epoch [74], train_loss: 0.3009, val_loss: 0.3469, val_acc: 0.8516\n",
            "Epoch 74 : Done\n",
            "Epoch [75], train_loss: 0.3025, val_loss: 0.3470, val_acc: 0.8516\n",
            "Epoch 75 : Done\n",
            "Epoch [76], train_loss: 0.3001, val_loss: 0.3467, val_acc: 0.8516\n",
            "Epoch 76 : Done\n",
            "Epoch [77], train_loss: 0.3085, val_loss: 0.3467, val_acc: 0.8516\n",
            "Epoch 77 : Done\n",
            "Epoch [78], train_loss: 0.2996, val_loss: 0.3468, val_acc: 0.8516\n",
            "Epoch 78 : Done\n",
            "Epoch [79], train_loss: 0.3293, val_loss: 0.3468, val_acc: 0.8516\n",
            "Epoch 79 : Done\n",
            "Epoch [80], train_loss: 0.3193, val_loss: 0.3471, val_acc: 0.8516\n",
            "Epoch 80 : Done\n",
            "Epoch [81], train_loss: 0.2979, val_loss: 0.3472, val_acc: 0.8516\n",
            "Epoch 81 : Done\n",
            "Epoch [82], train_loss: 0.3196, val_loss: 0.3471, val_acc: 0.8516\n",
            "Epoch 82 : Done\n",
            "Epoch [83], train_loss: 0.3016, val_loss: 0.3472, val_acc: 0.8516\n",
            "Epoch 83 : Done\n",
            "Epoch [84], train_loss: 0.3039, val_loss: 0.3471, val_acc: 0.8516\n",
            "Epoch 84 : Done\n",
            "Epoch [85], train_loss: 0.2968, val_loss: 0.3471, val_acc: 0.8516\n",
            "Epoch 85 : Done\n",
            "Epoch [86], train_loss: 0.3073, val_loss: 0.3471, val_acc: 0.8516\n",
            "Epoch 86 : Done\n",
            "Epoch [87], train_loss: 0.2991, val_loss: 0.3471, val_acc: 0.8516\n",
            "Epoch 87 : Done\n",
            "Epoch [88], train_loss: 0.2971, val_loss: 0.3470, val_acc: 0.8594\n",
            "Epoch 88 : Done\n",
            "Epoch [89], train_loss: 0.2998, val_loss: 0.3469, val_acc: 0.8516\n",
            "Epoch 89 : Done\n",
            "Epoch [90], train_loss: 0.3035, val_loss: 0.3469, val_acc: 0.8516\n",
            "Epoch 90 : Done\n",
            "Epoch [91], train_loss: 0.3181, val_loss: 0.3469, val_acc: 0.8516\n",
            "Epoch 91 : Done\n",
            "Epoch [92], train_loss: 0.3148, val_loss: 0.3470, val_acc: 0.8516\n",
            "Epoch 92 : Done\n",
            "Epoch [93], train_loss: 0.2999, val_loss: 0.3470, val_acc: 0.8516\n",
            "Epoch 93 : Done\n",
            "Epoch [94], train_loss: 0.2964, val_loss: 0.3471, val_acc: 0.8516\n",
            "Epoch 94 : Done\n",
            "Epoch [95], train_loss: 0.3034, val_loss: 0.3469, val_acc: 0.8516\n",
            "Epoch 95 : Done\n",
            "Epoch [96], train_loss: 0.3112, val_loss: 0.3470, val_acc: 0.8516\n",
            "Epoch 96 : Done\n",
            "Epoch [97], train_loss: 0.3182, val_loss: 0.3471, val_acc: 0.8516\n",
            "Epoch 97 : Done\n",
            "Epoch [98], train_loss: 0.3169, val_loss: 0.3471, val_acc: 0.8516\n",
            "Epoch 98 : Done\n",
            "Epoch [99], train_loss: 0.2992, val_loss: 0.3471, val_acc: 0.8516\n",
            "Epoch 99 : Done\n"
          ]
        }
      ]
    },
    {
      "cell_type": "code",
      "metadata": {
        "id": "UEFEklAE02HN",
        "colab": {
          "base_uri": "https://localhost:8080/",
          "height": 573
        },
        "outputId": "8f1bf742-9226-4a7e-aec9-c223406b482c"
      },
      "source": [
        "plot_accuracies(history)\n",
        "plot_losses(history)"
      ],
      "execution_count": 16,
      "outputs": [
        {
          "output_type": "display_data",
          "data": {
            "image/png": "[encoded data removed]",
            "text/plain": [
              "<Figure size 432x288 with 1 Axes>"
            ]
          },
          "metadata": {
            "needs_background": "light"
          }
        },
        {
          "output_type": "display_data",
          "data": {
            "image/png": "[encoded data removed]",
            "text/plain": [
              "<Figure size 432x288 with 1 Axes>"
            ]
          },
          "metadata": {
            "needs_background": "light"
          }
        }
      ]
    },
    {
      "cell_type": "code",
      "metadata": {
        "id": "_NEw2OB1VZSW"
      },
      "source": [
        "torch.save(model_2.state_dict(), '/content/gdrive/MyDrive/Year3/Indiv/CNN-2-1.pt')"
      ],
      "execution_count": 17,
      "outputs": []
    },
    {
      "cell_type": "code",
      "source": [
        "model_2 = XrayClassification().to(device)\n",
        "model_2.load_state_dict(torch.load('/content/gdrive/MyDrive/Year3/Indiv/CNN-2-1.pt'))"
      ],
      "metadata": {
        "id": "o_w0a-c1fA4A",
        "colab": {
          "base_uri": "https://localhost:8080/"
        },
        "outputId": "0aaba424-c703-46f4-f8a6-e445df82eec7"
      },
      "execution_count": 18,
      "outputs": [
        {
          "output_type": "execute_result",
          "data": {
            "text/plain": [
              "<All keys matched successfully>"
            ]
          },
          "metadata": {},
          "execution_count": 18
        }
      ]
    },
    {
      "cell_type": "code",
      "source": [
        "train_result = evaluate(model_2, train_dataloader)\n",
        "print(\"Training accuracy: \" + str(train_result['val_acc']))"
      ],
      "metadata": {
        "id": "GNuexrKb6FwR",
        "colab": {
          "base_uri": "https://localhost:8080/"
        },
        "outputId": "c5d7a866-7916-47aa-dafe-aeac700c7e33"
      },
      "execution_count": 19,
      "outputs": [
        {
          "output_type": "stream",
          "name": "stdout",
          "text": [
            "Training accuracy: 0.8784722089767456\n"
          ]
        }
      ]
    },
    {
      "cell_type": "code",
      "source": [
        "val_result = evaluate(model_2, validate_dataloader)\n",
        "print(\"Validate accuracy: \" + str(val_result['val_acc']))"
      ],
      "metadata": {
        "id": "FDvErUK877G5",
        "colab": {
          "base_uri": "https://localhost:8080/"
        },
        "outputId": "c0a59cfb-1f3a-4e33-fed9-9882131596fe"
      },
      "execution_count": 20,
      "outputs": [
        {
          "output_type": "stream",
          "name": "stdout",
          "text": [
            "Validate accuracy: 0.8515625\n"
          ]
        }
      ]
    },
    {
      "cell_type": "markdown",
      "source": [
        "## Training 2 (Add Dropout)"
      ],
      "metadata": {
        "id": "y1Q04TFDhR8p"
      }
    },
    {
      "cell_type": "code",
      "source": [
        "class XrayClassification(ImageClassificationBase):\n",
        "    def __init__(self):\n",
        "        super().__init__()\n",
        "        self.network = nn.Sequential(\n",
        "            \n",
        "            nn.Conv2d(1, 32, kernel_size = 3, padding = 1),\n",
        "            nn.ReLU(),\n",
        "            nn.Conv2d(32,64, kernel_size = 3, stride = 1, padding = 1),\n",
        "            nn.ReLU(),\n",
        "            nn.MaxPool2d(2,2),\n",
        "            # Add dropout ot fix overfit problem\n",
        "            nn.Dropout(0.3),\n",
        "            nn.Conv2d(64, 128, kernel_size = 3, stride = 1, padding = 1),\n",
        "            nn.ReLU(),\n",
        "            nn.Conv2d(128,128, kernel_size = 3, stride = 1, padding = 1),\n",
        "            nn.ReLU(),\n",
        "            nn.MaxPool2d(2,2),\n",
        "            # Add dropout ot fix overfit problem\n",
        "            nn.Dropout(0.3),\n",
        "            nn.Conv2d(128, 256, kernel_size = 3, stride = 1, padding = 1),\n",
        "            nn.ReLU(),\n",
        "            nn.Conv2d(256,256, kernel_size = 3, stride = 1, padding = 1),\n",
        "            nn.ReLU(),\n",
        "            nn.MaxPool2d(2,2),\n",
        "            # Add dropout ot fix overfit problem\n",
        "            nn.Flatten(),\n",
        "            nn.Linear(262144,1024), # adjust number here\n",
        "            nn.ReLU(),\n",
        "            nn.Linear(1024,512),\n",
        "            nn.ReLU(),\n",
        "            nn.Linear(512,2)\n",
        "        )\n",
        "    def forward(self, xb):\n",
        "        return self.network(xb)"
      ],
      "metadata": {
        "id": "yr_KgwY0h87J"
      },
      "execution_count": 30,
      "outputs": []
    },
    {
      "cell_type": "code",
      "metadata": {
        "colab": {
          "base_uri": "https://localhost:8080/"
        },
        "outputId": "395bf3d5-783e-4063-e055-5f1c48b3d35c",
        "id": "lSy22QnLh6Va"
      },
      "source": [
        "model_2 = XrayClassification().to(device)\n",
        "print(model_2)"
      ],
      "execution_count": 31,
      "outputs": [
        {
          "output_type": "stream",
          "name": "stdout",
          "text": [
            "XrayClassification(\n",
            "  (network): Sequential(\n",
            "    (0): Conv2d(1, 32, kernel_size=(3, 3), stride=(1, 1), padding=(1, 1))\n",
            "    (1): ReLU()\n",
            "    (2): Conv2d(32, 64, kernel_size=(3, 3), stride=(1, 1), padding=(1, 1))\n",
            "    (3): ReLU()\n",
            "    (4): MaxPool2d(kernel_size=2, stride=2, padding=0, dilation=1, ceil_mode=False)\n",
            "    (5): Dropout(p=0.3, inplace=False)\n",
            "    (6): Conv2d(64, 128, kernel_size=(3, 3), stride=(1, 1), padding=(1, 1))\n",
            "    (7): ReLU()\n",
            "    (8): Conv2d(128, 128, kernel_size=(3, 3), stride=(1, 1), padding=(1, 1))\n",
            "    (9): ReLU()\n",
            "    (10): MaxPool2d(kernel_size=2, stride=2, padding=0, dilation=1, ceil_mode=False)\n",
            "    (11): Dropout(p=0.3, inplace=False)\n",
            "    (12): Conv2d(128, 256, kernel_size=(3, 3), stride=(1, 1), padding=(1, 1))\n",
            "    (13): ReLU()\n",
            "    (14): Conv2d(256, 256, kernel_size=(3, 3), stride=(1, 1), padding=(1, 1))\n",
            "    (15): ReLU()\n",
            "    (16): MaxPool2d(kernel_size=2, stride=2, padding=0, dilation=1, ceil_mode=False)\n",
            "    (17): Flatten(start_dim=1, end_dim=-1)\n",
            "    (18): Linear(in_features=262144, out_features=1024, bias=True)\n",
            "    (19): ReLU()\n",
            "    (20): Linear(in_features=1024, out_features=512, bias=True)\n",
            "    (21): ReLU()\n",
            "    (22): Linear(in_features=512, out_features=2, bias=True)\n",
            "  )\n",
            ")\n"
          ]
        }
      ]
    },
    {
      "cell_type": "code",
      "metadata": {
        "colab": {
          "base_uri": "https://localhost:8080/"
        },
        "outputId": "afa93cca-1892-41b8-a742-3a3d567b4e84",
        "id": "DicMELOzh6Vb"
      },
      "source": [
        "num_epochs = 100\n",
        "opt_func = torch.optim.Adam\n",
        "lr = 0.00001\n",
        "#fitting the model on training data and record the result after each epoch\n",
        "history = fit(num_epochs, lr, model_2, train_dataloader, validate_dataloader, opt_func, 0.00000005)"
      ],
      "execution_count": 32,
      "outputs": [
        {
          "output_type": "stream",
          "name": "stdout",
          "text": [
            "Epoch [0], train_loss: 0.6923, val_loss: 0.6925, val_acc: 0.4297\n",
            "Epoch 0 : Done\n",
            "Epoch [1], train_loss: 0.6521, val_loss: 0.6201, val_acc: 0.7422\n",
            "Epoch 1 : Done\n",
            "Epoch [2], train_loss: 0.4973, val_loss: 0.4793, val_acc: 0.7422\n",
            "Epoch 2 : Done\n",
            "Epoch [3], train_loss: 0.4749, val_loss: 0.4691, val_acc: 0.8359\n",
            "Epoch 3 : Done\n",
            "Epoch [4], train_loss: 0.4563, val_loss: 0.4497, val_acc: 0.8438\n",
            "Epoch 4 : Done\n",
            "Epoch [5], train_loss: 0.4425, val_loss: 0.4470, val_acc: 0.8516\n",
            "Epoch 5 : Done\n",
            "Epoch [6], train_loss: 0.4350, val_loss: 0.4391, val_acc: 0.8516\n",
            "Epoch 6 : Done\n",
            "Epoch [7], train_loss: 0.4349, val_loss: 0.4475, val_acc: 0.8516\n",
            "Epoch 7 : Done\n",
            "Epoch [8], train_loss: 0.4135, val_loss: 0.4337, val_acc: 0.8359\n",
            "Epoch 8 : Done\n",
            "Epoch [9], train_loss: 0.4092, val_loss: 0.4101, val_acc: 0.8516\n",
            "Epoch 9 : Done\n",
            "Epoch [10], train_loss: 0.3983, val_loss: 0.4272, val_acc: 0.8438\n",
            "Epoch 10 : Done\n",
            "Epoch [11], train_loss: 0.3867, val_loss: 0.3942, val_acc: 0.8438\n",
            "Epoch 11 : Done\n",
            "Epoch [12], train_loss: 0.3965, val_loss: 0.3742, val_acc: 0.8516\n",
            "Epoch 12 : Done\n",
            "Epoch [13], train_loss: 0.3610, val_loss: 0.3929, val_acc: 0.8516\n",
            "Epoch 13 : Done\n",
            "Epoch [14], train_loss: 0.3626, val_loss: 0.4112, val_acc: 0.8438\n",
            "Epoch 14 : Done\n",
            "Epoch [15], train_loss: 0.3565, val_loss: 0.3848, val_acc: 0.8672\n",
            "Epoch 15 : Done\n",
            "Epoch [16], train_loss: 0.3334, val_loss: 0.3792, val_acc: 0.8672\n",
            "Epoch 16 : Done\n",
            "Epoch [17], train_loss: 0.3194, val_loss: 0.3648, val_acc: 0.8672\n",
            "Epoch 17 : Done\n",
            "Epoch [18], train_loss: 0.3155, val_loss: 0.3629, val_acc: 0.8750\n",
            "Epoch 18 : Done\n",
            "Epoch [19], train_loss: 0.3095, val_loss: 0.3616, val_acc: 0.8750\n",
            "Epoch 19 : Done\n",
            "Epoch [20], train_loss: 0.3218, val_loss: 0.3597, val_acc: 0.8750\n",
            "Epoch 20 : Done\n",
            "Epoch [21], train_loss: 0.3010, val_loss: 0.3494, val_acc: 0.8750\n",
            "Epoch 21 : Done\n",
            "Epoch [22], train_loss: 0.2968, val_loss: 0.3432, val_acc: 0.8828\n",
            "Epoch 22 : Done\n",
            "Epoch [23], train_loss: 0.2832, val_loss: 0.3544, val_acc: 0.8750\n",
            "Epoch 23 : Done\n",
            "Epoch [24], train_loss: 0.2819, val_loss: 0.3737, val_acc: 0.8828\n",
            "Epoch 24 : Done\n",
            "Epoch [25], train_loss: 0.2688, val_loss: 0.3551, val_acc: 0.8906\n",
            "Epoch 25 : Done\n",
            "Epoch [26], train_loss: 0.2866, val_loss: 0.3601, val_acc: 0.8906\n",
            "Epoch 26 : Done\n",
            "Epoch [27], train_loss: 0.2732, val_loss: 0.3507, val_acc: 0.8750\n",
            "Epoch 27 : Done\n",
            "Epoch [28], train_loss: 0.2608, val_loss: 0.3544, val_acc: 0.8750\n",
            "Epoch 28 : Done\n",
            "Epoch [29], train_loss: 0.2650, val_loss: 0.3531, val_acc: 0.8828\n",
            "Epoch 29 : Done\n",
            "Epoch [30], train_loss: 0.2568, val_loss: 0.3566, val_acc: 0.8750\n",
            "Epoch 30 : Done\n",
            "Epoch [31], train_loss: 0.2643, val_loss: 0.3529, val_acc: 0.8828\n",
            "Epoch 31 : Done\n",
            "Epoch [32], train_loss: 0.2564, val_loss: 0.3518, val_acc: 0.8750\n",
            "Epoch 32 : Done\n",
            "Epoch [33], train_loss: 0.2489, val_loss: 0.3522, val_acc: 0.8750\n",
            "Epoch 33 : Done\n",
            "Epoch [34], train_loss: 0.2472, val_loss: 0.3518, val_acc: 0.8750\n",
            "Epoch 34 : Done\n",
            "Epoch [35], train_loss: 0.2573, val_loss: 0.3529, val_acc: 0.8828\n",
            "Epoch 35 : Done\n",
            "Epoch [36], train_loss: 0.2497, val_loss: 0.3524, val_acc: 0.8750\n",
            "Epoch 36 : Done\n",
            "Epoch [37], train_loss: 0.2459, val_loss: 0.3521, val_acc: 0.8750\n",
            "Epoch 37 : Done\n",
            "Epoch [38], train_loss: 0.2451, val_loss: 0.3523, val_acc: 0.8828\n",
            "Epoch 38 : Done\n",
            "Epoch [39], train_loss: 0.2445, val_loss: 0.3526, val_acc: 0.8828\n",
            "Epoch 39 : Done\n",
            "Epoch [40], train_loss: 0.2520, val_loss: 0.3530, val_acc: 0.8828\n",
            "Epoch 40 : Done\n",
            "Epoch [41], train_loss: 0.2493, val_loss: 0.3527, val_acc: 0.8828\n",
            "Epoch 41 : Done\n",
            "Epoch [42], train_loss: 0.2463, val_loss: 0.3528, val_acc: 0.8828\n",
            "Epoch 42 : Done\n",
            "Epoch [43], train_loss: 0.2449, val_loss: 0.3529, val_acc: 0.8828\n",
            "Epoch 43 : Done\n",
            "Epoch [44], train_loss: 0.2450, val_loss: 0.3526, val_acc: 0.8828\n",
            "Epoch 44 : Done\n",
            "Epoch [45], train_loss: 0.2442, val_loss: 0.3529, val_acc: 0.8828\n",
            "Epoch 45 : Done\n",
            "Epoch [46], train_loss: 0.2445, val_loss: 0.3530, val_acc: 0.8828\n",
            "Epoch 46 : Done\n",
            "Epoch [47], train_loss: 0.2465, val_loss: 0.3531, val_acc: 0.8828\n",
            "Epoch 47 : Done\n",
            "Epoch [48], train_loss: 0.2431, val_loss: 0.3529, val_acc: 0.8828\n",
            "Epoch 48 : Done\n",
            "Epoch [49], train_loss: 0.2481, val_loss: 0.3530, val_acc: 0.8828\n",
            "Epoch 49 : Done\n",
            "Epoch [50], train_loss: 0.2465, val_loss: 0.3530, val_acc: 0.8828\n",
            "Epoch 50 : Done\n",
            "Epoch [51], train_loss: 0.2721, val_loss: 0.3532, val_acc: 0.8828\n",
            "Epoch 51 : Done\n",
            "Epoch [52], train_loss: 0.2443, val_loss: 0.3533, val_acc: 0.8828\n",
            "Epoch 52 : Done\n",
            "Epoch [53], train_loss: 0.2451, val_loss: 0.3536, val_acc: 0.8828\n",
            "Epoch 53 : Done\n",
            "Epoch [54], train_loss: 0.2473, val_loss: 0.3535, val_acc: 0.8828\n",
            "Epoch 54 : Done\n",
            "Epoch [55], train_loss: 0.2472, val_loss: 0.3534, val_acc: 0.8828\n",
            "Epoch 55 : Done\n",
            "Epoch [56], train_loss: 0.2536, val_loss: 0.3533, val_acc: 0.8828\n",
            "Epoch 56 : Done\n",
            "Epoch [57], train_loss: 0.2444, val_loss: 0.3534, val_acc: 0.8828\n",
            "Epoch 57 : Done\n",
            "Epoch [58], train_loss: 0.2430, val_loss: 0.3536, val_acc: 0.8828\n",
            "Epoch 58 : Done\n",
            "Epoch [59], train_loss: 0.2427, val_loss: 0.3537, val_acc: 0.8828\n",
            "Epoch 59 : Done\n",
            "Epoch [60], train_loss: 0.2476, val_loss: 0.3537, val_acc: 0.8828\n",
            "Epoch 60 : Done\n",
            "Epoch [61], train_loss: 0.2440, val_loss: 0.3536, val_acc: 0.8828\n",
            "Epoch 61 : Done\n",
            "Epoch [62], train_loss: 0.2904, val_loss: 0.3535, val_acc: 0.8828\n",
            "Epoch 62 : Done\n",
            "Epoch [63], train_loss: 0.2593, val_loss: 0.3537, val_acc: 0.8828\n",
            "Epoch 63 : Done\n",
            "Epoch [64], train_loss: 0.2422, val_loss: 0.3539, val_acc: 0.8828\n",
            "Epoch 64 : Done\n",
            "Epoch [65], train_loss: 0.2417, val_loss: 0.3539, val_acc: 0.8828\n",
            "Epoch 65 : Done\n",
            "Epoch [66], train_loss: 0.2529, val_loss: 0.3540, val_acc: 0.8828\n",
            "Epoch 66 : Done\n",
            "Epoch [67], train_loss: 0.2424, val_loss: 0.3543, val_acc: 0.8828\n",
            "Epoch 67 : Done\n",
            "Epoch [68], train_loss: 0.2530, val_loss: 0.3541, val_acc: 0.8828\n",
            "Epoch 68 : Done\n",
            "Epoch [69], train_loss: 0.2427, val_loss: 0.3539, val_acc: 0.8828\n",
            "Epoch 69 : Done\n",
            "Epoch [70], train_loss: 0.2425, val_loss: 0.3540, val_acc: 0.8828\n",
            "Epoch 70 : Done\n",
            "Epoch [71], train_loss: 0.2459, val_loss: 0.3540, val_acc: 0.8828\n",
            "Epoch 71 : Done\n",
            "Epoch [72], train_loss: 0.2452, val_loss: 0.3542, val_acc: 0.8828\n",
            "Epoch 72 : Done\n",
            "Epoch [73], train_loss: 0.2504, val_loss: 0.3542, val_acc: 0.8828\n",
            "Epoch 73 : Done\n",
            "Epoch [74], train_loss: 0.2464, val_loss: 0.3544, val_acc: 0.8828\n",
            "Epoch 74 : Done\n",
            "Epoch [75], train_loss: 0.2659, val_loss: 0.3542, val_acc: 0.8828\n",
            "Epoch 75 : Done\n",
            "Epoch [76], train_loss: 0.2500, val_loss: 0.3548, val_acc: 0.8828\n",
            "Epoch 76 : Done\n",
            "Epoch [77], train_loss: 0.2494, val_loss: 0.3547, val_acc: 0.8828\n",
            "Epoch 77 : Done\n",
            "Epoch [78], train_loss: 0.2500, val_loss: 0.3545, val_acc: 0.8828\n",
            "Epoch 78 : Done\n",
            "Epoch [79], train_loss: 0.2447, val_loss: 0.3550, val_acc: 0.8828\n",
            "Epoch 79 : Done\n",
            "Epoch [80], train_loss: 0.2411, val_loss: 0.3550, val_acc: 0.8828\n",
            "Epoch 80 : Done\n",
            "Epoch [81], train_loss: 0.2556, val_loss: 0.3548, val_acc: 0.8828\n",
            "Epoch 81 : Done\n",
            "Epoch [82], train_loss: 0.2428, val_loss: 0.3544, val_acc: 0.8828\n",
            "Epoch 82 : Done\n",
            "Epoch [83], train_loss: 0.2465, val_loss: 0.3544, val_acc: 0.8828\n",
            "Epoch 83 : Done\n",
            "Epoch [84], train_loss: 0.2487, val_loss: 0.3545, val_acc: 0.8828\n",
            "Epoch 84 : Done\n",
            "Epoch [85], train_loss: 0.2444, val_loss: 0.3543, val_acc: 0.8828\n",
            "Epoch 85 : Done\n",
            "Epoch [86], train_loss: 0.2426, val_loss: 0.3543, val_acc: 0.8828\n",
            "Epoch 86 : Done\n",
            "Epoch [87], train_loss: 0.2395, val_loss: 0.3543, val_acc: 0.8828\n",
            "Epoch 87 : Done\n",
            "Epoch [88], train_loss: 0.2417, val_loss: 0.3542, val_acc: 0.8828\n",
            "Epoch 88 : Done\n",
            "Epoch [89], train_loss: 0.2432, val_loss: 0.3545, val_acc: 0.8828\n",
            "Epoch 89 : Done\n",
            "Epoch [90], train_loss: 0.2598, val_loss: 0.3544, val_acc: 0.8828\n",
            "Epoch 90 : Done\n",
            "Epoch [91], train_loss: 0.2425, val_loss: 0.3543, val_acc: 0.8828\n",
            "Epoch 91 : Done\n",
            "Epoch [92], train_loss: 0.2412, val_loss: 0.3542, val_acc: 0.8828\n",
            "Epoch 92 : Done\n",
            "Epoch [93], train_loss: 0.2461, val_loss: 0.3544, val_acc: 0.8828\n",
            "Epoch 93 : Done\n",
            "Epoch [94], train_loss: 0.2609, val_loss: 0.3547, val_acc: 0.8828\n",
            "Epoch 94 : Done\n",
            "Epoch [95], train_loss: 0.2421, val_loss: 0.3551, val_acc: 0.8828\n",
            "Epoch 95 : Done\n",
            "Epoch [96], train_loss: 0.2400, val_loss: 0.3550, val_acc: 0.8828\n",
            "Epoch 96 : Done\n",
            "Epoch [97], train_loss: 0.2548, val_loss: 0.3550, val_acc: 0.8828\n",
            "Epoch 97 : Done\n",
            "Epoch [98], train_loss: 0.2536, val_loss: 0.3551, val_acc: 0.8828\n",
            "Epoch 98 : Done\n",
            "Epoch [99], train_loss: 0.2397, val_loss: 0.3548, val_acc: 0.8828\n",
            "Epoch 99 : Done\n"
          ]
        }
      ]
    },
    {
      "cell_type": "code",
      "metadata": {
        "colab": {
          "base_uri": "https://localhost:8080/",
          "height": 573
        },
        "outputId": "02156b50-8db5-4dfd-9d7c-53e13fefaf76",
        "id": "bE2M7YRuh6Vb"
      },
      "source": [
        "plot_accuracies(history)\n",
        "plot_losses(history)"
      ],
      "execution_count": 33,
      "outputs": [
        {
          "output_type": "display_data",
          "data": {
            "image/png": "[encoded data removed]",
            "text/plain": [
              "<Figure size 432x288 with 1 Axes>"
            ]
          },
          "metadata": {
            "needs_background": "light"
          }
        },
        {
          "output_type": "display_data",
          "data": {
            "image/png": "[encoded data removed]",
            "text/plain": [
              "<Figure size 432x288 with 1 Axes>"
            ]
          },
          "metadata": {
            "needs_background": "light"
          }
        }
      ]
    },
    {
      "cell_type": "code",
      "metadata": {
        "id": "3nBS5HVoh6Vb"
      },
      "source": [
        "torch.save(model_2.state_dict(), '/content/gdrive/MyDrive/Year3/Indiv/CNN-2-2.pt')"
      ],
      "execution_count": 34,
      "outputs": []
    },
    {
      "cell_type": "code",
      "source": [
        "model_2 = XrayClassification().to(device)\n",
        "model_2.load_state_dict(torch.load('/content/gdrive/MyDrive/Year3/Indiv/CNN-2-2.pt'))"
      ],
      "metadata": {
        "colab": {
          "base_uri": "https://localhost:8080/"
        },
        "outputId": "d4590ea5-f823-4195-da68-e07b7932b408",
        "id": "fuWymgvVh6Vc"
      },
      "execution_count": 35,
      "outputs": [
        {
          "output_type": "execute_result",
          "data": {
            "text/plain": [
              "<All keys matched successfully>"
            ]
          },
          "metadata": {},
          "execution_count": 35
        }
      ]
    },
    {
      "cell_type": "code",
      "source": [
        "train_result = evaluate(model_2, train_dataloader)\n",
        "print(\"Training accuracy: \" + str(train_result['val_acc']))"
      ],
      "metadata": {
        "colab": {
          "base_uri": "https://localhost:8080/"
        },
        "outputId": "63d0f17d-3dba-4577-c800-f7987ed8c1a3",
        "id": "EFYMa2Yfh6Vc"
      },
      "execution_count": 36,
      "outputs": [
        {
          "output_type": "stream",
          "name": "stdout",
          "text": [
            "Training accuracy: 0.8888888955116272\n"
          ]
        }
      ]
    },
    {
      "cell_type": "code",
      "source": [
        "val_result = evaluate(model_2, validate_dataloader)\n",
        "print(\"Validate accuracy: \" + str(val_result['val_acc']))"
      ],
      "metadata": {
        "colab": {
          "base_uri": "https://localhost:8080/"
        },
        "outputId": "78e736d2-81b4-4906-db11-cbdf1a7fd973",
        "id": "UIlwsV9wh6Vc"
      },
      "execution_count": 37,
      "outputs": [
        {
          "output_type": "stream",
          "name": "stdout",
          "text": [
            "Validate accuracy: 0.8828125\n"
          ]
        }
      ]
    },
    {
      "cell_type": "markdown",
      "metadata": {
        "id": "NhUXsh533inM"
      },
      "source": [
        "# CNN-3 (Pretrained model): Resnet"
      ]
    },
    {
      "cell_type": "code",
      "source": [
        "images, labels = next(iter(train_dataloader)) \n",
        "print(\"images-size:\", images.shape)\n",
        "out = torchvision.utils.make_grid(images)\n",
        "print(\"out-size:\", out.shape)"
      ],
      "metadata": {
        "colab": {
          "base_uri": "https://localhost:8080/"
        },
        "id": "Gr_AmjWTWSj-",
        "outputId": "7fdd7262-d741-4ec3-fea4-421270692ebb"
      },
      "execution_count": 16,
      "outputs": [
        {
          "output_type": "stream",
          "name": "stdout",
          "text": [
            "images-size: torch.Size([16, 1, 224, 224])\n",
            "out-size: torch.Size([3, 454, 1810])\n"
          ]
        }
      ]
    },
    {
      "cell_type": "code",
      "source": [
        "net = models.resnet18(pretrained=True)\n",
        "net = net.cuda() if torch.cuda.is_available() else net\n",
        "num_ftrs = net.fc.in_features\n",
        "net.fc = nn.Linear(num_ftrs, 16)\n",
        "net.fc = net.fc.cuda() if torch.cuda.is_available() else net.fc\n",
        "net.conv1 = Conv2d(1, 64, kernel_size=(7, 7), stride=(2, 2), padding=(3, 3), bias=False)\n",
        "net.conv1 = net.conv1.cuda() if torch.cuda.is_available() else net.conv1"
      ],
      "metadata": {
        "id": "FdNsQjbQW2Il"
      },
      "execution_count": 46,
      "outputs": []
    },
    {
      "cell_type": "code",
      "source": [
        "criterion = nn.CrossEntropyLoss()\n",
        "optimizer = Adam(net.parameters(), lr=0.0001)\n",
        "n_epochs = 100\n",
        "val_loss,val_acc,train_loss,train_acc = train2(n_epochs,train_dataloader,validate_dataloader,net,optimizer,criterion,0.000001)"
      ],
      "metadata": {
        "id": "INbHQVXRXLGV",
        "colab": {
          "base_uri": "https://localhost:8080/"
        },
        "outputId": "d8f48572-701e-457c-a76c-bbb1e697f35a"
      },
      "execution_count": 47,
      "outputs": [
        {
          "output_type": "stream",
          "name": "stdout",
          "text": [
            "Epoch 1\n",
            "\n",
            "Epoch [1/100], Step [0/36], Loss: 2.8146\n",
            "Epoch [1/100], Step [20/36], Loss: 0.9951\n",
            "\n",
            "train-loss: 1.1246, train-acc: 72.7758\n",
            "validation loss: 0.6630, validation acc: 79.0000\n",
            "\n",
            "Improvement-Detected, save-model\n",
            "Epoch 2\n",
            "\n",
            "Epoch [2/100], Step [0/36], Loss: 0.4450\n",
            "Epoch [2/100], Step [20/36], Loss: 0.0599\n",
            "\n",
            "train-loss: 0.7009, train-acc: 92.1708\n",
            "validation loss: 0.5716, validation acc: 84.0000\n",
            "\n",
            "Improvement-Detected, save-model\n",
            "Epoch 3\n",
            "\n",
            "Epoch [3/100], Step [0/36], Loss: 0.1561\n",
            "Epoch [3/100], Step [20/36], Loss: 0.1315\n",
            "\n",
            "train-loss: 0.5144, train-acc: 97.8648\n",
            "validation loss: 0.5282, validation acc: 90.0000\n",
            "\n",
            "Improvement-Detected, save-model\n",
            "Epoch 4\n",
            "\n",
            "Epoch [4/100], Step [0/36], Loss: 0.0259\n",
            "Epoch [4/100], Step [20/36], Loss: 0.2031\n",
            "\n",
            "train-loss: 0.4201, train-acc: 96.6192\n",
            "validation loss: 0.5199, validation acc: 79.0000\n",
            "\n",
            "Epoch 5\n",
            "\n",
            "Epoch [5/100], Step [0/36], Loss: 0.0115\n",
            "Epoch [5/100], Step [20/36], Loss: 0.0292\n",
            "\n",
            "train-loss: 0.3433, train-acc: 98.9324\n",
            "validation loss: 0.5041, validation acc: 84.0000\n",
            "\n",
            "Improvement-Detected, save-model\n",
            "Epoch 6\n",
            "\n",
            "Epoch [6/100], Step [0/36], Loss: 0.0083\n",
            "Epoch [6/100], Step [20/36], Loss: 0.0116\n",
            "\n",
            "train-loss: 0.2932, train-acc: 98.5765\n",
            "validation loss: 0.4898, validation acc: 87.0000\n",
            "\n",
            "Improvement-Detected, save-model\n",
            "Epoch 7\n",
            "\n",
            "Epoch [7/100], Step [0/36], Loss: 0.1746\n",
            "Epoch [7/100], Step [20/36], Loss: 0.0091\n",
            "\n",
            "train-loss: 0.2617, train-acc: 99.2883\n",
            "validation loss: 0.4802, validation acc: 85.0000\n",
            "\n",
            "Epoch 8\n",
            "\n",
            "Epoch [8/100], Step [0/36], Loss: 0.0282\n",
            "Epoch [8/100], Step [20/36], Loss: 0.2432\n",
            "\n",
            "train-loss: 0.2507, train-acc: 95.9075\n",
            "validation loss: 0.4818, validation acc: 83.0000\n",
            "\n",
            "Epoch 9\n",
            "\n",
            "Epoch [9/100], Step [0/36], Loss: 0.0240\n",
            "Epoch [9/100], Step [20/36], Loss: 0.0238\n",
            "\n",
            "train-loss: 0.2344, train-acc: 96.4413\n",
            "validation loss: 0.4698, validation acc: 85.0000\n",
            "\n",
            "Improvement-Detected, save-model\n",
            "Epoch 10\n",
            "\n",
            "Epoch [10/100], Step [0/36], Loss: 0.0672\n",
            "Epoch [10/100], Step [20/36], Loss: 0.0127\n",
            "\n",
            "train-loss: 0.2162, train-acc: 98.5765\n",
            "validation loss: 0.4638, validation acc: 88.0000\n",
            "\n",
            "Epoch 11\n",
            "\n",
            "Epoch [11/100], Step [0/36], Loss: 0.0190\n",
            "Epoch [11/100], Step [20/36], Loss: 0.0056\n",
            "\n",
            "train-loss: 0.1973, train-acc: 100.0000\n",
            "validation loss: 0.4650, validation acc: 88.0000\n",
            "\n",
            "Epoch 12\n",
            "\n",
            "Epoch [12/100], Step [0/36], Loss: 0.0482\n",
            "Epoch [12/100], Step [20/36], Loss: 0.0118\n",
            "\n",
            "train-loss: 0.1824, train-acc: 99.6441\n",
            "validation loss: 0.4625, validation acc: 87.0000\n",
            "\n",
            "Epoch 13\n",
            "\n",
            "Epoch [13/100], Step [0/36], Loss: 0.0061\n",
            "Epoch [13/100], Step [20/36], Loss: 0.0180\n",
            "\n",
            "train-loss: 0.1726, train-acc: 99.6441\n",
            "validation loss: 0.4615, validation acc: 88.0000\n",
            "\n",
            "Epoch 14\n",
            "\n",
            "Epoch [14/100], Step [0/36], Loss: 0.0044\n",
            "Epoch [14/100], Step [20/36], Loss: 0.0032\n",
            "\n",
            "train-loss: 0.1617, train-acc: 99.4662\n",
            "validation loss: 0.4661, validation acc: 87.0000\n",
            "\n",
            "Epoch 15\n",
            "\n",
            "Epoch [15/100], Step [0/36], Loss: 0.0025\n",
            "Epoch [15/100], Step [20/36], Loss: 0.0011\n",
            "\n",
            "train-loss: 0.1524, train-acc: 99.6441\n",
            "validation loss: 0.4682, validation acc: 89.0000\n",
            "\n",
            "Epoch 16\n",
            "\n",
            "Epoch [16/100], Step [0/36], Loss: 0.0064\n",
            "Epoch [16/100], Step [20/36], Loss: 0.0188\n",
            "\n",
            "train-loss: 0.1442, train-acc: 99.4662\n",
            "validation loss: 0.4681, validation acc: 89.0000\n",
            "\n",
            "Epoch 17\n",
            "\n",
            "Epoch [17/100], Step [0/36], Loss: 0.0022\n",
            "Epoch [17/100], Step [20/36], Loss: 0.0041\n",
            "\n",
            "train-loss: 0.1376, train-acc: 99.8221\n",
            "validation loss: 0.4670, validation acc: 90.0000\n",
            "\n",
            "Epoch 18\n",
            "\n",
            "Epoch [18/100], Step [0/36], Loss: 0.0129\n",
            "Epoch [18/100], Step [20/36], Loss: 0.0014\n",
            "\n",
            "train-loss: 0.1320, train-acc: 99.8221\n",
            "validation loss: 0.4688, validation acc: 89.0000\n",
            "\n",
            "Epoch 19\n",
            "\n",
            "Epoch [19/100], Step [0/36], Loss: 0.0042\n",
            "Epoch [19/100], Step [20/36], Loss: 0.0099\n",
            "\n",
            "train-loss: 0.1256, train-acc: 99.8221\n",
            "validation loss: 0.4703, validation acc: 89.0000\n",
            "\n",
            "Epoch 20\n",
            "\n",
            "Epoch [20/100], Step [0/36], Loss: 0.0261\n",
            "Epoch [20/100], Step [20/36], Loss: 0.0573\n",
            "\n",
            "train-loss: 0.1197, train-acc: 100.0000\n",
            "validation loss: 0.4723, validation acc: 87.0000\n",
            "\n",
            "Epoch 21\n",
            "\n",
            "Epoch [21/100], Step [0/36], Loss: 0.0030\n",
            "Epoch [21/100], Step [20/36], Loss: 0.0024\n",
            "\n",
            "train-loss: 0.1157, train-acc: 99.8221\n",
            "validation loss: 0.4712, validation acc: 90.0000\n",
            "\n",
            "Epoch 22\n",
            "\n",
            "Epoch [22/100], Step [0/36], Loss: 0.0032\n",
            "Epoch [22/100], Step [20/36], Loss: 0.0022\n",
            "\n",
            "train-loss: 0.1106, train-acc: 100.0000\n",
            "validation loss: 0.4704, validation acc: 90.0000\n",
            "\n",
            "Epoch 23\n",
            "\n",
            "Epoch [23/100], Step [0/36], Loss: 0.0021\n",
            "Epoch [23/100], Step [20/36], Loss: 0.0348\n",
            "\n",
            "train-loss: 0.1062, train-acc: 99.8221\n",
            "validation loss: 0.4705, validation acc: 89.0000\n",
            "\n",
            "Epoch 24\n",
            "\n",
            "Epoch [24/100], Step [0/36], Loss: 0.0030\n",
            "Epoch [24/100], Step [20/36], Loss: 0.0060\n",
            "\n",
            "train-loss: 0.1020, train-acc: 100.0000\n",
            "validation loss: 0.4719, validation acc: 88.0000\n",
            "\n",
            "Epoch 25\n",
            "\n",
            "Epoch [25/100], Step [0/36], Loss: 0.0037\n",
            "Epoch [25/100], Step [20/36], Loss: 0.0026\n",
            "\n",
            "train-loss: 0.0982, train-acc: 100.0000\n",
            "validation loss: 0.4732, validation acc: 88.0000\n",
            "\n",
            "Epoch 26\n",
            "\n",
            "Epoch [26/100], Step [0/36], Loss: 0.0105\n",
            "Epoch [26/100], Step [20/36], Loss: 0.0020\n",
            "\n",
            "train-loss: 0.0953, train-acc: 100.0000\n",
            "validation loss: 0.4764, validation acc: 86.0000\n",
            "\n",
            "Epoch 27\n",
            "\n",
            "Epoch [27/100], Step [0/36], Loss: 0.0015\n",
            "Epoch [27/100], Step [20/36], Loss: 0.0022\n",
            "\n",
            "train-loss: 0.0919, train-acc: 100.0000\n",
            "validation loss: 0.4767, validation acc: 89.0000\n",
            "\n",
            "Epoch 28\n",
            "\n",
            "Epoch [28/100], Step [0/36], Loss: 0.0018\n",
            "Epoch [28/100], Step [20/36], Loss: 0.0023\n",
            "\n",
            "train-loss: 0.0901, train-acc: 99.1103\n",
            "validation loss: 0.4782, validation acc: 88.0000\n",
            "\n",
            "Epoch 29\n",
            "\n",
            "Epoch [29/100], Step [0/36], Loss: 0.0103\n",
            "Epoch [29/100], Step [20/36], Loss: 0.0011\n",
            "\n",
            "train-loss: 0.0877, train-acc: 99.8221\n",
            "validation loss: 0.4794, validation acc: 88.0000\n",
            "\n",
            "Epoch 30\n",
            "\n",
            "Epoch [30/100], Step [0/36], Loss: 0.0343\n",
            "Epoch [30/100], Step [20/36], Loss: 0.0181\n",
            "\n",
            "train-loss: 0.0870, train-acc: 99.8221\n",
            "validation loss: 0.4806, validation acc: 88.0000\n",
            "\n",
            "Epoch 31\n",
            "\n",
            "Epoch [31/100], Step [0/36], Loss: 0.0028\n",
            "Epoch [31/100], Step [20/36], Loss: 0.0086\n",
            "\n",
            "train-loss: 0.0843, train-acc: 100.0000\n",
            "validation loss: 0.4809, validation acc: 88.0000\n",
            "\n",
            "Epoch 32\n",
            "\n",
            "Epoch [32/100], Step [0/36], Loss: 0.0013\n",
            "Epoch [32/100], Step [20/36], Loss: 0.0016\n",
            "\n",
            "train-loss: 0.0819, train-acc: 100.0000\n",
            "validation loss: 0.4806, validation acc: 90.0000\n",
            "\n",
            "Epoch 33\n",
            "\n",
            "Epoch [33/100], Step [0/36], Loss: 0.0017\n",
            "Epoch [33/100], Step [20/36], Loss: 0.0038\n",
            "\n",
            "train-loss: 0.0816, train-acc: 99.8221\n",
            "validation loss: 0.4805, validation acc: 90.0000\n",
            "\n",
            "Epoch 34\n",
            "\n",
            "Epoch [34/100], Step [0/36], Loss: 0.0048\n",
            "Epoch [34/100], Step [20/36], Loss: 0.0013\n",
            "\n",
            "train-loss: 0.0806, train-acc: 99.8221\n",
            "validation loss: 0.4798, validation acc: 90.0000\n",
            "\n",
            "Epoch 35\n",
            "\n",
            "Epoch [35/100], Step [0/36], Loss: 0.0026\n",
            "Epoch [35/100], Step [20/36], Loss: 0.0022\n",
            "\n",
            "train-loss: 0.0789, train-acc: 100.0000\n",
            "validation loss: 0.4810, validation acc: 88.0000\n",
            "\n",
            "Epoch 36\n",
            "\n",
            "Epoch [36/100], Step [0/36], Loss: 0.0071\n",
            "Epoch [36/100], Step [20/36], Loss: 0.0020\n",
            "\n",
            "train-loss: 0.0776, train-acc: 99.8221\n",
            "validation loss: 0.4815, validation acc: 89.0000\n",
            "\n",
            "Epoch 37\n",
            "\n",
            "Epoch [37/100], Step [0/36], Loss: 0.0037\n",
            "Epoch [37/100], Step [20/36], Loss: 0.0028\n",
            "\n",
            "train-loss: 0.0756, train-acc: 100.0000\n",
            "validation loss: 0.4804, validation acc: 90.0000\n",
            "\n",
            "Epoch 38\n",
            "\n",
            "Epoch [38/100], Step [0/36], Loss: 0.0109\n",
            "Epoch [38/100], Step [20/36], Loss: 0.0059\n",
            "\n",
            "train-loss: 0.0739, train-acc: 100.0000\n",
            "validation loss: 0.4809, validation acc: 89.0000\n",
            "\n",
            "Epoch 39\n",
            "\n",
            "Epoch [39/100], Step [0/36], Loss: 0.0019\n",
            "Epoch [39/100], Step [20/36], Loss: 0.0035\n",
            "\n",
            "train-loss: 0.0726, train-acc: 99.8221\n",
            "validation loss: 0.4811, validation acc: 89.0000\n",
            "\n",
            "Epoch 40\n",
            "\n",
            "Epoch [40/100], Step [0/36], Loss: 0.0040\n",
            "Epoch [40/100], Step [20/36], Loss: 0.0013\n",
            "\n",
            "train-loss: 0.0715, train-acc: 99.8221\n",
            "validation loss: 0.4802, validation acc: 90.0000\n",
            "\n",
            "Epoch 41\n",
            "\n",
            "Epoch [41/100], Step [0/36], Loss: 0.0019\n",
            "Epoch [41/100], Step [20/36], Loss: 0.0038\n",
            "\n",
            "train-loss: 0.0708, train-acc: 99.6441\n",
            "validation loss: 0.4824, validation acc: 85.0000\n",
            "\n",
            "Epoch 42\n",
            "\n",
            "Epoch [42/100], Step [0/36], Loss: 0.0061\n",
            "Epoch [42/100], Step [20/36], Loss: 0.0038\n",
            "\n",
            "train-loss: 0.0699, train-acc: 99.4662\n",
            "validation loss: 0.4813, validation acc: 90.0000\n",
            "\n",
            "Epoch 43\n",
            "\n",
            "Epoch [43/100], Step [0/36], Loss: 0.0013\n",
            "Epoch [43/100], Step [20/36], Loss: 0.0019\n",
            "\n",
            "train-loss: 0.0693, train-acc: 99.8221\n",
            "validation loss: 0.4806, validation acc: 90.0000\n",
            "\n",
            "Epoch 44\n",
            "\n",
            "Epoch [44/100], Step [0/36], Loss: 0.0013\n",
            "Epoch [44/100], Step [20/36], Loss: 0.0021\n",
            "\n",
            "train-loss: 0.0679, train-acc: 100.0000\n",
            "validation loss: 0.4813, validation acc: 88.0000\n",
            "\n",
            "Epoch 45\n",
            "\n",
            "Epoch [45/100], Step [0/36], Loss: 0.0016\n",
            "Epoch [45/100], Step [20/36], Loss: 0.0246\n",
            "\n",
            "train-loss: 0.0672, train-acc: 98.9324\n",
            "validation loss: 0.4822, validation acc: 89.0000\n",
            "\n",
            "Epoch 46\n",
            "\n",
            "Epoch [46/100], Step [0/36], Loss: 0.0032\n",
            "Epoch [46/100], Step [20/36], Loss: 0.0042\n",
            "\n",
            "train-loss: 0.0658, train-acc: 100.0000\n",
            "validation loss: 0.4820, validation acc: 89.0000\n",
            "\n",
            "Epoch 47\n",
            "\n",
            "Epoch [47/100], Step [0/36], Loss: 0.0299\n",
            "Epoch [47/100], Step [20/36], Loss: 0.0012\n",
            "\n",
            "train-loss: 0.0651, train-acc: 99.6441\n",
            "validation loss: 0.4814, validation acc: 90.0000\n",
            "\n",
            "Epoch 48\n",
            "\n",
            "Epoch [48/100], Step [0/36], Loss: 0.0014\n",
            "Epoch [48/100], Step [20/36], Loss: 0.0011\n",
            "\n",
            "train-loss: 0.0647, train-acc: 99.8221\n",
            "validation loss: 0.4805, validation acc: 90.0000\n",
            "\n",
            "Epoch 49\n",
            "\n",
            "Epoch [49/100], Step [0/36], Loss: 0.0046\n",
            "Epoch [49/100], Step [20/36], Loss: 0.0024\n",
            "\n",
            "train-loss: 0.0636, train-acc: 99.8221\n",
            "validation loss: 0.4805, validation acc: 89.0000\n",
            "\n",
            "Epoch 50\n",
            "\n",
            "Epoch [50/100], Step [0/36], Loss: 0.0022\n",
            "Epoch [50/100], Step [20/36], Loss: 0.0034\n",
            "\n",
            "train-loss: 0.0625, train-acc: 100.0000\n",
            "validation loss: 0.4814, validation acc: 87.0000\n",
            "\n",
            "Epoch 51\n",
            "\n",
            "Epoch [51/100], Step [0/36], Loss: 0.0024\n",
            "Epoch [51/100], Step [20/36], Loss: 0.0109\n",
            "\n",
            "train-loss: 0.0619, train-acc: 99.6441\n",
            "validation loss: 0.4815, validation acc: 90.0000\n",
            "\n",
            "Epoch 52\n",
            "\n",
            "Epoch [52/100], Step [0/36], Loss: 0.0014\n",
            "Epoch [52/100], Step [20/36], Loss: 0.0019\n",
            "\n",
            "train-loss: 0.0608, train-acc: 100.0000\n",
            "validation loss: 0.4819, validation acc: 88.0000\n",
            "\n",
            "Epoch 53\n",
            "\n",
            "Epoch [53/100], Step [0/36], Loss: 0.0018\n",
            "Epoch [53/100], Step [20/36], Loss: 0.0036\n",
            "\n",
            "train-loss: 0.0597, train-acc: 100.0000\n",
            "validation loss: 0.4834, validation acc: 85.0000\n",
            "\n",
            "Epoch 54\n",
            "\n",
            "Epoch [54/100], Step [0/36], Loss: 0.0033\n",
            "Epoch [54/100], Step [20/36], Loss: 0.0028\n",
            "\n",
            "train-loss: 0.0591, train-acc: 99.8221\n",
            "validation loss: 0.4827, validation acc: 90.0000\n",
            "\n",
            "Epoch 55\n",
            "\n",
            "Epoch [55/100], Step [0/36], Loss: 0.0082\n",
            "Epoch [55/100], Step [20/36], Loss: 0.0012\n",
            "\n",
            "train-loss: 0.0589, train-acc: 99.8221\n",
            "validation loss: 0.4824, validation acc: 90.0000\n",
            "\n",
            "Epoch 56\n",
            "\n",
            "Epoch [56/100], Step [0/36], Loss: 0.0145\n",
            "Epoch [56/100], Step [20/36], Loss: 0.0039\n",
            "\n",
            "train-loss: 0.0587, train-acc: 99.6441\n",
            "validation loss: 0.4823, validation acc: 90.0000\n",
            "\n",
            "Epoch 57\n",
            "\n",
            "Epoch [57/100], Step [0/36], Loss: 0.0012\n",
            "Epoch [57/100], Step [20/36], Loss: 0.0017\n",
            "\n",
            "train-loss: 0.0582, train-acc: 99.8221\n",
            "validation loss: 0.4836, validation acc: 86.0000\n",
            "\n",
            "Epoch 58\n",
            "\n",
            "Epoch [58/100], Step [0/36], Loss: 0.0055\n",
            "Epoch [58/100], Step [20/36], Loss: 0.0015\n",
            "\n",
            "train-loss: 0.0576, train-acc: 99.6441\n",
            "validation loss: 0.4856, validation acc: 85.0000\n",
            "\n",
            "Epoch 59\n",
            "\n",
            "Epoch [59/100], Step [0/36], Loss: 0.0019\n",
            "Epoch [59/100], Step [20/36], Loss: 0.0036\n",
            "\n",
            "train-loss: 0.0572, train-acc: 99.8221\n",
            "validation loss: 0.4853, validation acc: 90.0000\n",
            "\n",
            "Epoch 60\n",
            "\n",
            "Epoch [60/100], Step [0/36], Loss: 0.0015\n",
            "Epoch [60/100], Step [20/36], Loss: 0.0092\n",
            "\n",
            "train-loss: 0.0571, train-acc: 99.8221\n",
            "validation loss: 0.4855, validation acc: 88.0000\n",
            "\n",
            "Epoch 61\n",
            "\n",
            "Epoch [61/100], Step [0/36], Loss: 0.0014\n",
            "Epoch [61/100], Step [20/36], Loss: 0.0040\n",
            "\n",
            "train-loss: 0.0568, train-acc: 99.8221\n",
            "validation loss: 0.4864, validation acc: 88.0000\n",
            "\n",
            "Epoch 62\n",
            "\n",
            "Epoch [62/100], Step [0/36], Loss: 0.0010\n",
            "Epoch [62/100], Step [20/36], Loss: 0.0069\n",
            "\n",
            "train-loss: 0.0566, train-acc: 99.6441\n",
            "validation loss: 0.4876, validation acc: 87.0000\n",
            "\n",
            "Epoch 63\n",
            "\n",
            "Epoch [63/100], Step [0/36], Loss: 0.0014\n",
            "Epoch [63/100], Step [20/36], Loss: 0.0109\n",
            "\n",
            "train-loss: 0.0558, train-acc: 100.0000\n",
            "validation loss: 0.4878, validation acc: 89.0000\n",
            "\n",
            "Epoch 64\n",
            "\n",
            "Epoch [64/100], Step [0/36], Loss: 0.0032\n",
            "Epoch [64/100], Step [20/36], Loss: 0.0068\n",
            "\n",
            "train-loss: 0.0550, train-acc: 100.0000\n",
            "validation loss: 0.4880, validation acc: 88.0000\n",
            "\n",
            "Epoch 65\n",
            "\n",
            "Epoch [65/100], Step [0/36], Loss: 0.0096\n",
            "Epoch [65/100], Step [20/36], Loss: 0.0121\n",
            "\n",
            "train-loss: 0.0547, train-acc: 99.8221\n",
            "validation loss: 0.4893, validation acc: 86.0000\n",
            "\n",
            "Epoch 66\n",
            "\n",
            "Epoch [66/100], Step [0/36], Loss: 0.0060\n",
            "Epoch [66/100], Step [20/36], Loss: 0.0014\n",
            "\n",
            "train-loss: 0.0542, train-acc: 99.8221\n",
            "validation loss: 0.4898, validation acc: 88.0000\n",
            "\n",
            "Epoch 67\n",
            "\n",
            "Epoch [67/100], Step [0/36], Loss: 0.0054\n",
            "Epoch [67/100], Step [20/36], Loss: 0.0019\n",
            "\n",
            "train-loss: 0.0538, train-acc: 99.6441\n",
            "validation loss: 0.4904, validation acc: 88.0000\n",
            "\n",
            "Epoch 68\n",
            "\n",
            "Epoch [68/100], Step [0/36], Loss: 0.0015\n",
            "Epoch [68/100], Step [20/36], Loss: 0.0051\n",
            "\n",
            "train-loss: 0.0531, train-acc: 100.0000\n",
            "validation loss: 0.4902, validation acc: 90.0000\n",
            "\n",
            "Epoch 69\n",
            "\n",
            "Epoch [69/100], Step [0/36], Loss: 0.0234\n",
            "Epoch [69/100], Step [20/36], Loss: 0.0030\n",
            "\n",
            "train-loss: 0.0524, train-acc: 99.8221\n",
            "validation loss: 0.4896, validation acc: 90.0000\n",
            "\n",
            "Epoch 70\n",
            "\n",
            "Epoch [70/100], Step [0/36], Loss: 0.0024\n",
            "Epoch [70/100], Step [20/36], Loss: 0.0021\n",
            "\n",
            "train-loss: 0.0518, train-acc: 99.8221\n",
            "validation loss: 0.4898, validation acc: 89.0000\n",
            "\n",
            "Epoch 71\n",
            "\n",
            "Epoch [71/100], Step [0/36], Loss: 0.0033\n",
            "Epoch [71/100], Step [20/36], Loss: 0.0016\n",
            "\n",
            "train-loss: 0.0516, train-acc: 99.6441\n",
            "validation loss: 0.4895, validation acc: 90.0000\n",
            "\n",
            "Epoch 72\n",
            "\n",
            "Epoch [72/100], Step [0/36], Loss: 0.0526\n",
            "Epoch [72/100], Step [20/36], Loss: 0.0038\n",
            "\n",
            "train-loss: 0.0514, train-acc: 99.4662\n",
            "validation loss: 0.4906, validation acc: 87.0000\n",
            "\n",
            "Epoch 73\n",
            "\n",
            "Epoch [73/100], Step [0/36], Loss: 0.0011\n",
            "Epoch [73/100], Step [20/36], Loss: 0.0015\n",
            "\n",
            "train-loss: 0.0512, train-acc: 99.8221\n",
            "validation loss: 0.4902, validation acc: 90.0000\n",
            "\n",
            "Epoch 74\n",
            "\n",
            "Epoch [74/100], Step [0/36], Loss: 0.0011\n",
            "Epoch [74/100], Step [20/36], Loss: 0.0047\n",
            "\n",
            "train-loss: 0.0508, train-acc: 99.1103\n",
            "validation loss: 0.4909, validation acc: 88.0000\n",
            "\n",
            "Epoch 75\n",
            "\n",
            "Epoch [75/100], Step [0/36], Loss: 0.0176\n",
            "Epoch [75/100], Step [20/36], Loss: 0.0011\n",
            "\n",
            "train-loss: 0.0502, train-acc: 99.8221\n",
            "validation loss: 0.4910, validation acc: 89.0000\n",
            "\n",
            "Epoch 76\n",
            "\n",
            "Epoch [76/100], Step [0/36], Loss: 0.0012\n",
            "Epoch [76/100], Step [20/36], Loss: 0.0030\n",
            "\n",
            "train-loss: 0.0496, train-acc: 100.0000\n",
            "validation loss: 0.4919, validation acc: 87.0000\n",
            "\n",
            "Epoch 77\n",
            "\n",
            "Epoch [77/100], Step [0/36], Loss: 0.0085\n",
            "Epoch [77/100], Step [20/36], Loss: 0.0018\n",
            "\n",
            "train-loss: 0.0490, train-acc: 100.0000\n",
            "validation loss: 0.4917, validation acc: 89.0000\n",
            "\n",
            "Epoch 78\n",
            "\n",
            "Epoch [78/100], Step [0/36], Loss: 0.0085\n",
            "Epoch [78/100], Step [20/36], Loss: 0.0019\n",
            "\n",
            "train-loss: 0.0489, train-acc: 99.8221\n",
            "validation loss: 0.4913, validation acc: 87.0000\n",
            "\n",
            "Epoch 79\n",
            "\n",
            "Epoch [79/100], Step [0/36], Loss: 0.0063\n",
            "Epoch [79/100], Step [20/36], Loss: 0.0029\n",
            "\n",
            "train-loss: 0.0483, train-acc: 100.0000\n",
            "validation loss: 0.4909, validation acc: 90.0000\n",
            "\n",
            "Epoch 80\n",
            "\n",
            "Epoch [80/100], Step [0/36], Loss: 0.0011\n",
            "Epoch [80/100], Step [20/36], Loss: 0.0023\n",
            "\n",
            "train-loss: 0.0480, train-acc: 99.8221\n",
            "validation loss: 0.4919, validation acc: 86.0000\n",
            "\n",
            "Epoch 81\n",
            "\n",
            "Epoch [81/100], Step [0/36], Loss: 0.0067\n",
            "Epoch [81/100], Step [20/36], Loss: 0.0015\n",
            "\n",
            "train-loss: 0.0477, train-acc: 99.8221\n",
            "validation loss: 0.4926, validation acc: 88.0000\n",
            "\n",
            "Epoch 82\n",
            "\n",
            "Epoch [82/100], Step [0/36], Loss: 0.0020\n",
            "Epoch [82/100], Step [20/36], Loss: 0.0045\n",
            "\n",
            "train-loss: 0.0479, train-acc: 99.8221\n",
            "validation loss: 0.4923, validation acc: 90.0000\n",
            "\n",
            "Epoch 83\n",
            "\n",
            "Epoch [83/100], Step [0/36], Loss: 0.0011\n",
            "Epoch [83/100], Step [20/36], Loss: 0.0035\n",
            "\n",
            "train-loss: 0.0477, train-acc: 99.8221\n",
            "validation loss: 0.4924, validation acc: 90.0000\n",
            "\n",
            "Epoch 84\n",
            "\n",
            "Epoch [84/100], Step [0/36], Loss: 0.0020\n",
            "Epoch [84/100], Step [20/36], Loss: 0.0034\n",
            "\n",
            "train-loss: 0.0472, train-acc: 100.0000\n",
            "validation loss: 0.4926, validation acc: 88.0000\n",
            "\n",
            "Epoch 85\n",
            "\n",
            "Epoch [85/100], Step [0/36], Loss: 0.0026\n",
            "Epoch [85/100], Step [20/36], Loss: 0.0024\n",
            "\n",
            "train-loss: 0.0469, train-acc: 99.8221\n",
            "validation loss: 0.4935, validation acc: 86.0000\n",
            "\n",
            "Epoch 86\n",
            "\n",
            "Epoch [86/100], Step [0/36], Loss: 0.0030\n",
            "Epoch [86/100], Step [20/36], Loss: 0.0029\n",
            "\n",
            "train-loss: 0.0468, train-acc: 99.8221\n",
            "validation loss: 0.4932, validation acc: 90.0000\n",
            "\n",
            "Epoch 87\n",
            "\n",
            "Epoch [87/100], Step [0/36], Loss: 0.0045\n",
            "Epoch [87/100], Step [20/36], Loss: 0.0379\n",
            "\n",
            "train-loss: 0.0463, train-acc: 100.0000\n",
            "validation loss: 0.4929, validation acc: 90.0000\n",
            "\n",
            "Epoch 88\n",
            "\n",
            "Epoch [88/100], Step [0/36], Loss: 0.0024\n",
            "Epoch [88/100], Step [20/36], Loss: 0.0044\n",
            "\n",
            "train-loss: 0.0459, train-acc: 100.0000\n",
            "validation loss: 0.4928, validation acc: 89.0000\n",
            "\n",
            "Epoch 89\n",
            "\n",
            "Epoch [89/100], Step [0/36], Loss: 0.0032\n",
            "Epoch [89/100], Step [20/36], Loss: 0.0174\n",
            "\n",
            "train-loss: 0.0461, train-acc: 99.8221\n",
            "validation loss: 0.4927, validation acc: 90.0000\n",
            "\n",
            "Epoch 90\n",
            "\n",
            "Epoch [90/100], Step [0/36], Loss: 0.0059\n",
            "Epoch [90/100], Step [20/36], Loss: 0.0013\n",
            "\n",
            "train-loss: 0.0459, train-acc: 99.6441\n",
            "validation loss: 0.4925, validation acc: 90.0000\n",
            "\n",
            "Epoch 91\n",
            "\n",
            "Epoch [91/100], Step [0/36], Loss: 0.0014\n",
            "Epoch [91/100], Step [20/36], Loss: 0.0020\n",
            "\n",
            "train-loss: 0.0457, train-acc: 99.8221\n",
            "validation loss: 0.4924, validation acc: 90.0000\n",
            "\n",
            "Epoch 92\n",
            "\n",
            "Epoch [92/100], Step [0/36], Loss: 0.0017\n",
            "Epoch [92/100], Step [20/36], Loss: 0.0035\n",
            "\n",
            "train-loss: 0.0456, train-acc: 99.8221\n",
            "validation loss: 0.4921, validation acc: 89.0000\n",
            "\n",
            "Epoch 93\n",
            "\n",
            "Epoch [93/100], Step [0/36], Loss: 0.0016\n",
            "Epoch [93/100], Step [20/36], Loss: 0.0015\n",
            "\n",
            "train-loss: 0.0461, train-acc: 99.8221\n",
            "validation loss: 0.4919, validation acc: 90.0000\n",
            "\n",
            "Epoch 94\n",
            "\n",
            "Epoch [94/100], Step [0/36], Loss: 0.0138\n",
            "Epoch [94/100], Step [20/36], Loss: 0.0019\n",
            "\n",
            "train-loss: 0.0459, train-acc: 99.8221\n",
            "validation loss: 0.4916, validation acc: 90.0000\n",
            "\n",
            "Epoch 95\n",
            "\n",
            "Epoch [95/100], Step [0/36], Loss: 0.0016\n",
            "Epoch [95/100], Step [20/36], Loss: 0.0054\n",
            "\n",
            "train-loss: 0.0454, train-acc: 100.0000\n",
            "validation loss: 0.4914, validation acc: 89.0000\n",
            "\n",
            "Epoch 96\n",
            "\n",
            "Epoch [96/100], Step [0/36], Loss: 0.0031\n",
            "Epoch [96/100], Step [20/36], Loss: 0.0024\n",
            "\n",
            "train-loss: 0.0450, train-acc: 100.0000\n",
            "validation loss: 0.4918, validation acc: 87.0000\n",
            "\n",
            "Epoch 97\n",
            "\n",
            "Epoch [97/100], Step [0/36], Loss: 0.0018\n",
            "Epoch [97/100], Step [20/36], Loss: 0.0012\n",
            "\n",
            "train-loss: 0.0448, train-acc: 99.4662\n",
            "validation loss: 0.4916, validation acc: 89.0000\n",
            "\n",
            "Epoch 98\n",
            "\n",
            "Epoch [98/100], Step [0/36], Loss: 0.0023\n",
            "Epoch [98/100], Step [20/36], Loss: 0.0049\n",
            "\n",
            "train-loss: 0.0447, train-acc: 99.8221\n",
            "validation loss: 0.4924, validation acc: 87.0000\n",
            "\n",
            "Epoch 99\n",
            "\n",
            "Epoch [99/100], Step [0/36], Loss: 0.0056\n",
            "Epoch [99/100], Step [20/36], Loss: 0.0016\n",
            "\n",
            "train-loss: 0.0443, train-acc: 100.0000\n",
            "validation loss: 0.4923, validation acc: 89.0000\n",
            "\n",
            "Epoch 100\n",
            "\n",
            "Epoch [100/100], Step [0/36], Loss: 0.0015\n",
            "Epoch [100/100], Step [20/36], Loss: 0.0018\n",
            "\n",
            "train-loss: 0.0439, train-acc: 100.0000\n",
            "validation loss: 0.4921, validation acc: 89.0000\n",
            "\n"
          ]
        }
      ]
    },
    {
      "cell_type": "code",
      "source": [
        "plot_pre_accuracy(train_acc,val_acc)\n",
        "plot_pre_loss(train_loss,val_loss)"
      ],
      "metadata": {
        "id": "0Nl8XgMtnLam",
        "colab": {
          "base_uri": "https://localhost:8080/",
          "height": 573
        },
        "outputId": "12fd474e-e211-476e-b861-912ceb9513e0"
      },
      "execution_count": 48,
      "outputs": [
        {
          "output_type": "display_data",
          "data": {
            "image/png": "[encoded data removed]",
            "text/plain": [
              "<Figure size 432x288 with 1 Axes>"
            ]
          },
          "metadata": {
            "needs_background": "light"
          }
        },
        {
          "output_type": "display_data",
          "data": {
            "image/png": "[encoded data removed]",
            "text/plain": [
              "<Figure size 432x288 with 1 Axes>"
            ]
          },
          "metadata": {
            "needs_background": "light"
          }
        }
      ]
    },
    {
      "cell_type": "code",
      "source": [
        "torch.save(net.state_dict(), '/content/gdrive/MyDrive/Year3/Indiv/CNN-3.pt')"
      ],
      "metadata": {
        "id": "nlbfbLDJ2AVY"
      },
      "execution_count": 52,
      "outputs": []
    },
    {
      "cell_type": "code",
      "source": [
        "model = models.resnet18(pretrained=True)\n",
        "model = model.cuda() if torch.cuda.is_available() else model\n",
        "num_ftrs = model.fc.in_features\n",
        "model.fc = nn.Linear(num_ftrs, 16)\n",
        "model.fc = model.fc.cuda() if torch.cuda.is_available() else model.fc\n",
        "model.conv1 = Conv2d(1, 64, kernel_size=(7, 7), stride=(2, 2), padding=(3, 3), bias=False)\n",
        "model.conv1 = model.conv1.cuda() if torch.cuda.is_available() else model.conv1\n",
        "model.load_state_dict(torch.load('/content/gdrive/MyDrive/Year3/Indiv/CNN-3.pt'))"
      ],
      "metadata": {
        "colab": {
          "base_uri": "https://localhost:8080/"
        },
        "id": "UND6fO6mDtsF",
        "outputId": "cce403fc-aa90-4534-fe3b-fe11c5ae51e4"
      },
      "execution_count": 53,
      "outputs": [
        {
          "output_type": "execute_result",
          "data": {
            "text/plain": [
              "<All keys matched successfully>"
            ]
          },
          "metadata": {},
          "execution_count": 53
        }
      ]
    },
    {
      "cell_type": "code",
      "source": [
        "# prediction for training set\n",
        "with torch.no_grad():\n",
        "  if (torch.cuda.is_available()):\n",
        "    output = model(X_train.cuda())\n",
        "  else:\n",
        "    output = model(X_train)\n",
        "softmax = torch.exp(output).cpu()\n",
        "prob = list(softmax.numpy())\n",
        "predictions = np.argmax(prob, axis=1)\n",
        "print(\"Training accuracy: \"+str(accuracy_score(y_train, predictions)))"
      ],
      "metadata": {
        "colab": {
          "base_uri": "https://localhost:8080/"
        },
        "outputId": "7bfc1d87-4e53-4662-fe0a-f7488cd97f55",
        "id": "uEVQKKOTEGQ0"
      },
      "execution_count": 54,
      "outputs": [
        {
          "output_type": "stream",
          "name": "stdout",
          "text": [
            "Training accuracy: 1.0\n"
          ]
        }
      ]
    },
    {
      "cell_type": "code",
      "metadata": {
        "colab": {
          "base_uri": "https://localhost:8080/"
        },
        "outputId": "eeefba28-0b72-4769-9d8c-1edeb306a5f9",
        "id": "YYXMQ11EEGQ0"
      },
      "source": [
        "# prediction for validation set\n",
        "with torch.no_grad():\n",
        "  if (torch.cuda.is_available()):\n",
        "    output = model(X_val.cuda())\n",
        "  else:\n",
        "    output = model(X_val)\n",
        "softmax = torch.exp(output).cpu()\n",
        "prob = list(softmax.numpy())\n",
        "predictions = np.argmax(prob, axis=1)\n",
        "print(\"Validate accuracy: \"+str(accuracy_score(y_val, predictions)))"
      ],
      "execution_count": 55,
      "outputs": [
        {
          "output_type": "stream",
          "name": "stdout",
          "text": [
            "Validate accuracy: 0.89\n"
          ]
        }
      ]
    }
  ]
}
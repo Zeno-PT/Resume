{
  "nbformat": 4,
  "nbformat_minor": 0,
  "metadata": {
    "colab": {
      "name": "Reading_mat_PD.ipynb",
      "provenance": [],
      "collapsed_sections": [
        "KZBxXJD-wL9k",
        "RoJGEAKNew4k",
        "pLuOK15Cvz7-",
        "znXCS-PW5NHm",
        "qS2BEoh95Ylz",
        "0c0_3jS35spl",
        "WEnRXFeLIgkw",
        "Oc9cFhu66GG7",
        "RIPU3eIYJzYj",
        "PY_FPQhXEeiO",
        "uyzuoKUyI7r-",
        "Cag9lVN8C7vx",
        "nYK0u1NTJzVN",
        "NhUXsh533inM",
        "B7KAsjjfiLtF",
        "m7KNip3hitLM"
      ]
    },
    "kernelspec": {
      "name": "python3",
      "display_name": "Python 3"
    },
    "accelerator": "GPU"
  },
  "cells": [
    {
      "cell_type": "code",
      "metadata": {
        "id": "NegdVT7AKMYu",
        "colab": {
          "base_uri": "https://localhost:8080/"
        },
        "outputId": "800076c2-7b34-4814-a21a-21595fc0852a"
      },
      "source": [
        "from google.colab import drive\n",
        "drive.mount('/content/gdrive/')"
      ],
      "execution_count": 1,
      "outputs": [
        {
          "output_type": "stream",
          "name": "stdout",
          "text": [
            "Mounted at /content/gdrive/\n"
          ]
        }
      ]
    },
    {
      "cell_type": "code",
      "metadata": {
        "id": "jNOo5mUOKuE3"
      },
      "source": [
        "from scipy.io import loadmat\n",
        "#datas = loadmat(\"/content/gdrive/My Drive/pattern/pattern2019/CD_PD.mat\", squeeze_me=True)\n",
        "datas = loadmat(\"/content/gdrive/My Drive/Work/Y1/CD_PD_data/CD_PD.mat\", squeeze_me=True)\n",
        "#squeeze_me remove redundant dimensions"
      ],
      "execution_count": 2,
      "outputs": []
    },
    {
      "cell_type": "markdown",
      "metadata": {
        "id": "VLd8OmqEPvfa"
      },
      "source": [
        "Below is all the data per subject\n",
        "\n",
        "\n",
        "1.   age\n",
        "2.   date (date of data collection)\n",
        "3.   duration\n",
        "4.   ed\n",
        "5.    gender\n",
        "6.    side\n",
        "7.    TMSE\n",
        "8.    t\n",
        "9.    x\n",
        "10.    y\n",
        "11.    p\n",
        "12.    pt\n",
        "13.    diagnosis\n",
        "14.    clock_drawing"
      ]
    },
    {
      "cell_type": "markdown",
      "metadata": {
        "id": "KZBxXJD-wL9k"
      },
      "source": [
        "#CD_PD_Data"
      ]
    },
    {
      "cell_type": "markdown",
      "metadata": {
        "id": "lRvRjtxXN3qo"
      },
      "source": [
        "#0. Import"
      ]
    },
    {
      "cell_type": "code",
      "metadata": {
        "id": "PSl-7LXhN4om"
      },
      "source": [
        "import copy\n",
        "import cv2\n",
        "import matplotlib.pyplot as plt\n",
        "import numpy as np\n",
        "import os\n",
        "import pandas as pd\n",
        "import plotly.figure_factory as ff\n",
        "import plotly.graph_objects as go\n",
        "import plotly.express as px\n",
        "import seaborn as sns\n",
        "import time\n",
        "import torch\n",
        "import torch.nn as nn\n",
        "import torch.nn.functional as F\n",
        "import torch.optim as optim\n",
        "import torchvision\n",
        "import torchvision.models as models\n",
        "from keras.preprocessing.image import ImageDataGenerator\n",
        "from numpy import savetxt\n",
        "from PIL import Image, ImageDraw\n",
        "from sklearn import metrics\n",
        "from sklearn.decomposition import PCA\n",
        "from sklearn.ensemble import RandomForestClassifier, GradientBoostingClassifier\n",
        "from sklearn.linear_model import LogisticRegression\n",
        "from sklearn.metrics import accuracy_score, confusion_matrix, f1_score\n",
        "from sklearn.model_selection import train_test_split, GridSearchCV, KFold, cross_val_score\n",
        "from sklearn.naive_bayes import GaussianNB\n",
        "from sklearn.neighbors import KNeighborsClassifier\n",
        "from sklearn.neural_network import MLPClassifier\n",
        "from sklearn.pipeline import Pipeline\n",
        "from sklearn.preprocessing import StandardScaler, LabelEncoder, MinMaxScaler\n",
        "from sklearn.svm import LinearSVC, SVC\n",
        "from sklearn.tree import DecisionTreeClassifier\n",
        "from torch.autograd import Variable\n",
        "from torch.nn import Linear, ReLU, CrossEntropyLoss, Sequential, Conv2d, MaxPool2d, Module, Softmax, BatchNorm2d, Dropout, AdaptiveAvgPool2d, Flatten\n",
        "from torch.optim import Adam, SGD\n",
        "from torch.optim.lr_scheduler import ReduceLROnPlateau\n",
        "from torch.utils.data import Dataset, DataLoader\n",
        "from torchvision.utils import make_grid\n",
        "from torchvision import *\n",
        "%matplotlib inline\n",
        "from tensorflow.keras import Model\n",
        "from tensorflow.keras.layers import Dense, Conv2D, Input, Flatten, Dropout, MaxPool2D, GlobalAveragePooling2D\n",
        "from tensorflow.keras.regularizers import l2\n",
        "from keras.preprocessing.image import ImageDataGenerator\n",
        "from tensorflow.keras.optimizers import Adam, SGD\n",
        "from tensorflow.keras.applications.resnet50 import ResNet50\n",
        "from tensorflow.keras.applications.vgg16 import VGG16"
      ],
      "execution_count": 154,
      "outputs": []
    },
    {
      "cell_type": "markdown",
      "metadata": {
        "id": "08yae3R-zMaI"
      },
      "source": [
        "# 1. Making Dataframe"
      ]
    },
    {
      "cell_type": "code",
      "metadata": {
        "id": "nO2-G-_c2wcr"
      },
      "source": [
        "data = pd.DataFrame(data = datas['dat'],dtype=int) "
      ],
      "execution_count": 4,
      "outputs": []
    },
    {
      "cell_type": "code",
      "metadata": {
        "id": "mz39QyWumc6x",
        "colab": {
          "base_uri": "https://localhost:8080/"
        },
        "outputId": "dab8a4bc-7e1d-4606-f63e-603388722c2a"
      },
      "source": [
        "data.dtypes"
      ],
      "execution_count": null,
      "outputs": [
        {
          "output_type": "execute_result",
          "data": {
            "text/plain": [
              "age               int64\n",
              "date             object\n",
              "duration          int64\n",
              "ed               object\n",
              "gender           object\n",
              "side             object\n",
              "TMSE              int64\n",
              "t                object\n",
              "x                object\n",
              "y                object\n",
              "p                object\n",
              "pt               object\n",
              "diagnosis         int64\n",
              "clock_drawing     int64\n",
              "dtype: object"
            ]
          },
          "metadata": {
            "tags": []
          },
          "execution_count": 520
        }
      ]
    },
    {
      "cell_type": "code",
      "metadata": {
        "id": "N8yXO0QOxLcy",
        "colab": {
          "base_uri": "https://localhost:8080/",
          "height": 305
        },
        "outputId": "b4dac1d7-0af9-4b8a-c2ea-0803bbc5b537"
      },
      "source": [
        "# Generate Clock Drawing image 0\n",
        "x0 = data['x'][0]\n",
        "y0 = data['y'][0]\n",
        "pt0 = data['pt'][0]\n",
        "p0 = data['p'][0]\n",
        "image_0 = Image.new(mode='L', size=(800, 800))\n",
        "draw = ImageDraw.Draw(image_0)\n",
        "for i in range(1, x0.size):\n",
        "    if pt0[i]!=1:\n",
        "      shape = [(int(x0[i-1]), int(y0[i-1])), (int(x0[i]), int(y0[i]))]\n",
        "      draw.line(shape, fill=int(255*p0[i]), width=5) \n",
        "print(image_0)\n",
        "plt.imshow(np.asarray(image_0.resize((150,150))), cmap='gray', vmin=0, vmax=255)"
      ],
      "execution_count": 5,
      "outputs": [
        {
          "output_type": "stream",
          "name": "stdout",
          "text": [
            "<PIL.Image.Image image mode=L size=800x800 at 0x7FAF79973B50>\n"
          ]
        },
        {
          "output_type": "execute_result",
          "data": {
            "text/plain": [
              "<matplotlib.image.AxesImage at 0x7faf798d45d0>"
            ]
          },
          "metadata": {},
          "execution_count": 5
        },
        {
          "output_type": "display_data",
          "data": {
            "image/png": "[encoded data removed]",
            "text/plain": [
              "<Figure size 432x288 with 1 Axes>"
            ]
          },
          "metadata": {
            "needs_background": "light"
          }
        }
      ]
    },
    {
      "cell_type": "code",
      "metadata": {
        "id": "BAGeb5a3FWht"
      },
      "source": [
        "# Generate all Clock Drawing\n",
        "clock_image = []\n",
        "clock_image2 = []\n",
        "clock_image_x = []\n",
        "#print(len(data.index))\n",
        "#print(data.iloc[195]['age']!=0)\n",
        "for j in range (len(data.index)):\n",
        "  xi = data['x'][j]\n",
        "  yi = data['y'][j]\n",
        "  pti = data['pt'][j]\n",
        "  pi = data['p'][j]\n",
        "  image_i = Image.new(mode='L', size=(800, 800))\n",
        "  draw = ImageDraw.Draw(image_i)\n",
        "  for i in range(1, xi.size):\n",
        "    if pti[i]!=1:\n",
        "      shape = [(int(xi[i-1]), int(yi[i-1])), (int(xi[i]), int(yi[i]))]\n",
        "      draw.line(shape, fill=int(255*pi[i]), width=5)\n",
        "  image_i = image_i.resize((150,150))\n",
        "  if data.iloc[j]['age']!=0 and data.iloc[j]['TMSE']!=0:\n",
        "    clock_image_x.append(np.asarray(image_i)/255)\n",
        "  clock_image.append(np.asarray(image_i)/255)\n",
        "#print(len(clock_image))\n",
        "#print(len(clock_image_x))\n",
        "data['clock_image'] = clock_image\n",
        "clock_image2 = np.array(clock_image_x)\n",
        "#print(clock_image[0])\n",
        "#print(clock_image2[0])"
      ],
      "execution_count": 6,
      "outputs": []
    },
    {
      "cell_type": "code",
      "metadata": {
        "id": "cNddhjjknidH"
      },
      "source": [
        "# Change time format : use only the last one\n",
        "new_time = []\n",
        "for i in data['t']:\n",
        "  new_time.append(i[-1])\n",
        "data = data.drop(labels='t',axis=1)\n",
        "data['t'] = new_time"
      ],
      "execution_count": 7,
      "outputs": []
    },
    {
      "cell_type": "code",
      "metadata": {
        "id": "AKS2-hPuaAnY"
      },
      "source": [
        "# Change ed format : use only the number\n",
        "new_ed = []\n",
        "for i in data['ed']:\n",
        "  new_ed.append(int(i[0]))\n",
        "data = data.drop(labels='ed',axis=1)\n",
        "data['ed'] = new_ed"
      ],
      "execution_count": 8,
      "outputs": []
    },
    {
      "cell_type": "code",
      "metadata": {
        "id": "CLbZYXkxamje"
      },
      "source": [
        "# Change gender format : use only the number\n",
        "new_gender = []\n",
        "for i in data['gender']:\n",
        "  new_gender.append(int(i[0]))\n",
        "data = data.drop(labels='gender',axis=1)\n",
        "data['gender'] = new_gender"
      ],
      "execution_count": 9,
      "outputs": []
    },
    {
      "cell_type": "code",
      "metadata": {
        "id": "6cEbV0TAb4NP"
      },
      "source": [
        "# Change side format : use only the number\n",
        "new_side = []\n",
        "for i in data['side']:\n",
        "  new_side.append(int(i[0]))\n",
        "data = data.drop(labels='side',axis=1)\n",
        "data['side'] = new_side"
      ],
      "execution_count": 10,
      "outputs": []
    },
    {
      "cell_type": "code",
      "metadata": {
        "id": "hry1YS8imiIC"
      },
      "source": [
        "# Add date and month of data collection to features\n",
        "dates = []\n",
        "month = []\n",
        "for i in data['date']:\n",
        "  j = i.split('/')\n",
        "  dates.append(int(j[0]))\n",
        "  month.append(int(j[1]))\n",
        "data['dates'] = dates\n",
        "data['month'] = month\n",
        "data = data.drop(labels='date',axis=1)"
      ],
      "execution_count": 11,
      "outputs": []
    },
    {
      "cell_type": "code",
      "metadata": {
        "id": "kF-l7QcqnXXf"
      },
      "source": [
        "# Add pen pressure mean and pressure std to features \n",
        "pressure_mean = []\n",
        "pressure_std = []\n",
        "for i in data['p']:\n",
        "  pressure_mean.append(float(i.mean()))\n",
        "  pressure_std.append(float(i.std()))\n",
        "data['pressure_mean'] = pressure_mean\n",
        "data['pressure_std'] = pressure_std\n",
        "data = data.drop(labels='p',axis=1)"
      ],
      "execution_count": 12,
      "outputs": []
    },
    {
      "cell_type": "code",
      "metadata": {
        "colab": {
          "base_uri": "https://localhost:8080/",
          "height": 424
        },
        "id": "urxRdFK3JyRI",
        "outputId": "dc780f34-d703-44bc-d19a-ee9c15d0d138"
      },
      "source": [
        "# Add TMSE pass or failed (1 mean pass / 0 mean failed)\n",
        "TMSE_pass = []\n",
        "#print(len(data.index))\n",
        "#print(data.iloc[0]['age'])\n",
        "for i in range (len(data.index)):\n",
        "  if data.iloc[i]['age']<=4:\n",
        "    if data.iloc[i]['TMSE']>=19:\n",
        "      TMSE_pass.append(1);\n",
        "    else:\n",
        "      TMSE_pass.append(0);\n",
        "  elif data.iloc[i]['age']>=5 and data.iloc[i]['age']<=8:\n",
        "    if data.iloc[i]['TMSE']>=23:\n",
        "      TMSE_pass.append(1);\n",
        "    else:\n",
        "      TMSE_pass.append(0);\n",
        "  elif data.iloc[i]['age']>=9 and data.iloc[i]['age']<=12:\n",
        "    if data.iloc[i]['TMSE']>=27:\n",
        "      TMSE_pass.append(1);\n",
        "    else:\n",
        "      TMSE_pass.append(0);\n",
        "  else:\n",
        "    if data.iloc[i]['TMSE']>=29:\n",
        "      TMSE_pass.append(1);\n",
        "    else:\n",
        "      TMSE_pass.append(0);\n",
        "data['TMSE_pass'] = TMSE_pass\n",
        "data.head()"
      ],
      "execution_count": 13,
      "outputs": [
        {
          "output_type": "execute_result",
          "data": {
            "text/html": [
              "\n",
              "  <div id=\"df-054248bf-1c51-4117-b5d2-adf9881e3443\">\n",
              "    <div class=\"colab-df-container\">\n",
              "      <div>\n",
              "<style scoped>\n",
              "    .dataframe tbody tr th:only-of-type {\n",
              "        vertical-align: middle;\n",
              "    }\n",
              "\n",
              "    .dataframe tbody tr th {\n",
              "        vertical-align: top;\n",
              "    }\n",
              "\n",
              "    .dataframe thead th {\n",
              "        text-align: right;\n",
              "    }\n",
              "</style>\n",
              "<table border=\"1\" class=\"dataframe\">\n",
              "  <thead>\n",
              "    <tr style=\"text-align: right;\">\n",
              "      <th></th>\n",
              "      <th>age</th>\n",
              "      <th>duration</th>\n",
              "      <th>TMSE</th>\n",
              "      <th>x</th>\n",
              "      <th>y</th>\n",
              "      <th>pt</th>\n",
              "      <th>diagnosis</th>\n",
              "      <th>clock_drawing</th>\n",
              "      <th>clock_image</th>\n",
              "      <th>t</th>\n",
              "      <th>ed</th>\n",
              "      <th>gender</th>\n",
              "      <th>side</th>\n",
              "      <th>dates</th>\n",
              "      <th>month</th>\n",
              "      <th>pressure_mean</th>\n",
              "      <th>pressure_std</th>\n",
              "      <th>TMSE_pass</th>\n",
              "    </tr>\n",
              "  </thead>\n",
              "  <tbody>\n",
              "    <tr>\n",
              "      <th>0</th>\n",
              "      <td>45</td>\n",
              "      <td>0</td>\n",
              "      <td>0</td>\n",
              "      <td>[653.4375, 646.0667, 647.625, 362.64642, 362.7...</td>\n",
              "      <td>[171.75, 171.75, 171.75, 54.778854, 59.935043,...</td>\n",
              "      <td>[1, 2, 2, 1, 2, 2, 2, 2, 2, 2, 2, 2, 2, 3, 1, ...</td>\n",
              "      <td>1</td>\n",
              "      <td>0</td>\n",
              "      <td>[[0.0, 0.0, 0.0, 0.0, 0.0, 0.0, 0.0, 0.0, 0.0,...</td>\n",
              "      <td>0.000525</td>\n",
              "      <td>4</td>\n",
              "      <td>1</td>\n",
              "      <td>1</td>\n",
              "      <td>16</td>\n",
              "      <td>9</td>\n",
              "      <td>0.646490</td>\n",
              "      <td>0.215372</td>\n",
              "      <td>0</td>\n",
              "    </tr>\n",
              "    <tr>\n",
              "      <th>1</th>\n",
              "      <td>64</td>\n",
              "      <td>0</td>\n",
              "      <td>30</td>\n",
              "      <td>[17.39536, 13.801709, 4.9477825, 3.229079, 4.2...</td>\n",
              "      <td>[684.9287, 682.58496, 678.10583, 675.97046, 67...</td>\n",
              "      <td>[1, 2, 2, 2, 2, 2, 2, 2, 2, 2, 2, 2, 2, 2, 2, ...</td>\n",
              "      <td>1</td>\n",
              "      <td>0</td>\n",
              "      <td>[[0.0, 0.0, 0.0, 0.0, 0.0, 0.0, 0.0, 0.0, 0.0,...</td>\n",
              "      <td>0.000810</td>\n",
              "      <td>5</td>\n",
              "      <td>0</td>\n",
              "      <td>1</td>\n",
              "      <td>29</td>\n",
              "      <td>9</td>\n",
              "      <td>0.554421</td>\n",
              "      <td>0.268971</td>\n",
              "      <td>1</td>\n",
              "    </tr>\n",
              "    <tr>\n",
              "      <th>2</th>\n",
              "      <td>50</td>\n",
              "      <td>0</td>\n",
              "      <td>28</td>\n",
              "      <td>[370.40662, 370.40662, 370.30246, 370.30246, 3...</td>\n",
              "      <td>[69.57036, 69.57036, 68.47662, 68.47662, 68.47...</td>\n",
              "      <td>[1, 2, 2, 2, 2, 2, 2, 2, 2, 2, 2, 2, 2, 2, 2, ...</td>\n",
              "      <td>1</td>\n",
              "      <td>1</td>\n",
              "      <td>[[0.0, 0.0, 0.0, 0.0, 0.0, 0.0, 0.0, 0.0, 0.0,...</td>\n",
              "      <td>0.001322</td>\n",
              "      <td>4</td>\n",
              "      <td>1</td>\n",
              "      <td>1</td>\n",
              "      <td>29</td>\n",
              "      <td>9</td>\n",
              "      <td>0.461746</td>\n",
              "      <td>0.187786</td>\n",
              "      <td>0</td>\n",
              "    </tr>\n",
              "    <tr>\n",
              "      <th>3</th>\n",
              "      <td>67</td>\n",
              "      <td>0</td>\n",
              "      <td>30</td>\n",
              "      <td>[370.51077, 370.40662, 370.40662, 370.40662, 3...</td>\n",
              "      <td>[64.51834, 63.42459, 63.42459, 63.42459, 63.42...</td>\n",
              "      <td>[1, 2, 2, 2, 2, 2, 2, 2, 2, 2, 2, 2, 2, 2, 2, ...</td>\n",
              "      <td>1</td>\n",
              "      <td>0</td>\n",
              "      <td>[[0.0, 0.0, 0.0, 0.0, 0.0, 0.0, 0.0, 0.0, 0.0,...</td>\n",
              "      <td>0.000685</td>\n",
              "      <td>4</td>\n",
              "      <td>1</td>\n",
              "      <td>1</td>\n",
              "      <td>30</td>\n",
              "      <td>9</td>\n",
              "      <td>0.697002</td>\n",
              "      <td>0.256922</td>\n",
              "      <td>1</td>\n",
              "    </tr>\n",
              "    <tr>\n",
              "      <th>4</th>\n",
              "      <td>64</td>\n",
              "      <td>0</td>\n",
              "      <td>26</td>\n",
              "      <td>[353.7404, 353.7404, 353.7404, 353.7404, 353.7...</td>\n",
              "      <td>[63.94542, 63.94542, 63.94542, 63.94542, 63.94...</td>\n",
              "      <td>[1, 2, 2, 2, 2, 2, 2, 2, 2, 2, 2, 2, 2, 2, 2, ...</td>\n",
              "      <td>1</td>\n",
              "      <td>0</td>\n",
              "      <td>[[0.0, 0.0, 0.0, 0.0, 0.0, 0.0, 0.0, 0.0, 0.0,...</td>\n",
              "      <td>0.000844</td>\n",
              "      <td>2</td>\n",
              "      <td>1</td>\n",
              "      <td>1</td>\n",
              "      <td>23</td>\n",
              "      <td>9</td>\n",
              "      <td>0.513891</td>\n",
              "      <td>0.188936</td>\n",
              "      <td>0</td>\n",
              "    </tr>\n",
              "  </tbody>\n",
              "</table>\n",
              "</div>\n",
              "      <button class=\"colab-df-convert\" onclick=\"convertToInteractive('df-054248bf-1c51-4117-b5d2-adf9881e3443')\"\n",
              "              title=\"Convert this dataframe to an interactive table.\"\n",
              "              style=\"display:none;\">\n",
              "        \n",
              "  <svg xmlns=\"http://www.w3.org/2000/svg\" height=\"24px\"viewBox=\"0 0 24 24\"\n",
              "       width=\"24px\">\n",
              "    <path d=\"M0 0h24v24H0V0z\" fill=\"none\"/>\n",
              "    <path d=\"M18.56 5.44l.94 2.06.94-2.06 2.06-.94-2.06-.94-.94-2.06-.94 2.06-2.06.94zm-11 1L8.5 8.5l.94-2.06 2.06-.94-2.06-.94L8.5 2.5l-.94 2.06-2.06.94zm10 10l.94 2.06.94-2.06 2.06-.94-2.06-.94-.94-2.06-.94 2.06-2.06.94z\"/><path d=\"M17.41 7.96l-1.37-1.37c-.4-.4-.92-.59-1.43-.59-.52 0-1.04.2-1.43.59L10.3 9.45l-7.72 7.72c-.78.78-.78 2.05 0 2.83L4 21.41c.39.39.9.59 1.41.59.51 0 1.02-.2 1.41-.59l7.78-7.78 2.81-2.81c.8-.78.8-2.07 0-2.86zM5.41 20L4 18.59l7.72-7.72 1.47 1.35L5.41 20z\"/>\n",
              "  </svg>\n",
              "      </button>\n",
              "      \n",
              "  <style>\n",
              "    .colab-df-container {\n",
              "      display:flex;\n",
              "      flex-wrap:wrap;\n",
              "      gap: 12px;\n",
              "    }\n",
              "\n",
              "    .colab-df-convert {\n",
              "      background-color: #E8F0FE;\n",
              "      border: none;\n",
              "      border-radius: 50%;\n",
              "      cursor: pointer;\n",
              "      display: none;\n",
              "      fill: #1967D2;\n",
              "      height: 32px;\n",
              "      padding: 0 0 0 0;\n",
              "      width: 32px;\n",
              "    }\n",
              "\n",
              "    .colab-df-convert:hover {\n",
              "      background-color: #E2EBFA;\n",
              "      box-shadow: 0px 1px 2px rgba(60, 64, 67, 0.3), 0px 1px 3px 1px rgba(60, 64, 67, 0.15);\n",
              "      fill: #174EA6;\n",
              "    }\n",
              "\n",
              "    [theme=dark] .colab-df-convert {\n",
              "      background-color: #3B4455;\n",
              "      fill: #D2E3FC;\n",
              "    }\n",
              "\n",
              "    [theme=dark] .colab-df-convert:hover {\n",
              "      background-color: #434B5C;\n",
              "      box-shadow: 0px 1px 3px 1px rgba(0, 0, 0, 0.15);\n",
              "      filter: drop-shadow(0px 1px 2px rgba(0, 0, 0, 0.3));\n",
              "      fill: #FFFFFF;\n",
              "    }\n",
              "  </style>\n",
              "\n",
              "      <script>\n",
              "        const buttonEl =\n",
              "          document.querySelector('#df-054248bf-1c51-4117-b5d2-adf9881e3443 button.colab-df-convert');\n",
              "        buttonEl.style.display =\n",
              "          google.colab.kernel.accessAllowed ? 'block' : 'none';\n",
              "\n",
              "        async function convertToInteractive(key) {\n",
              "          const element = document.querySelector('#df-054248bf-1c51-4117-b5d2-adf9881e3443');\n",
              "          const dataTable =\n",
              "            await google.colab.kernel.invokeFunction('convertToInteractive',\n",
              "                                                     [key], {});\n",
              "          if (!dataTable) return;\n",
              "\n",
              "          const docLinkHtml = 'Like what you see? Visit the ' +\n",
              "            '<a target=\"_blank\" href=https://colab.research.google.com/notebooks/data_table.ipynb>data table notebook</a>'\n",
              "            + ' to learn more about interactive tables.';\n",
              "          element.innerHTML = '';\n",
              "          dataTable['output_type'] = 'display_data';\n",
              "          await google.colab.output.renderOutput(dataTable, element);\n",
              "          const docLink = document.createElement('div');\n",
              "          docLink.innerHTML = docLinkHtml;\n",
              "          element.appendChild(docLink);\n",
              "        }\n",
              "      </script>\n",
              "    </div>\n",
              "  </div>\n",
              "  "
            ],
            "text/plain": [
              "   age  duration  TMSE  ... pressure_mean pressure_std TMSE_pass\n",
              "0   45         0     0  ...      0.646490     0.215372         0\n",
              "1   64         0    30  ...      0.554421     0.268971         1\n",
              "2   50         0    28  ...      0.461746     0.187786         0\n",
              "3   67         0    30  ...      0.697002     0.256922         1\n",
              "4   64         0    26  ...      0.513891     0.188936         0\n",
              "\n",
              "[5 rows x 18 columns]"
            ]
          },
          "metadata": {},
          "execution_count": 13
        }
      ]
    },
    {
      "cell_type": "code",
      "metadata": {
        "id": "sZ8UgMdUbPI6",
        "colab": {
          "base_uri": "https://localhost:8080/",
          "height": 206
        },
        "outputId": "2cd65b37-8c6e-47b6-c4c3-c87579d85912"
      },
      "source": [
        "# Remove x , y , pt , duration\n",
        "data = data.drop(labels = ['x','y','pt','duration'],axis=1) \n",
        "data.head()"
      ],
      "execution_count": 14,
      "outputs": [
        {
          "output_type": "execute_result",
          "data": {
            "text/html": [
              "\n",
              "  <div id=\"df-1e525473-914a-42cf-8299-078e4ea9eae2\">\n",
              "    <div class=\"colab-df-container\">\n",
              "      <div>\n",
              "<style scoped>\n",
              "    .dataframe tbody tr th:only-of-type {\n",
              "        vertical-align: middle;\n",
              "    }\n",
              "\n",
              "    .dataframe tbody tr th {\n",
              "        vertical-align: top;\n",
              "    }\n",
              "\n",
              "    .dataframe thead th {\n",
              "        text-align: right;\n",
              "    }\n",
              "</style>\n",
              "<table border=\"1\" class=\"dataframe\">\n",
              "  <thead>\n",
              "    <tr style=\"text-align: right;\">\n",
              "      <th></th>\n",
              "      <th>age</th>\n",
              "      <th>TMSE</th>\n",
              "      <th>diagnosis</th>\n",
              "      <th>clock_drawing</th>\n",
              "      <th>clock_image</th>\n",
              "      <th>t</th>\n",
              "      <th>ed</th>\n",
              "      <th>gender</th>\n",
              "      <th>side</th>\n",
              "      <th>dates</th>\n",
              "      <th>month</th>\n",
              "      <th>pressure_mean</th>\n",
              "      <th>pressure_std</th>\n",
              "      <th>TMSE_pass</th>\n",
              "    </tr>\n",
              "  </thead>\n",
              "  <tbody>\n",
              "    <tr>\n",
              "      <th>0</th>\n",
              "      <td>45</td>\n",
              "      <td>0</td>\n",
              "      <td>1</td>\n",
              "      <td>0</td>\n",
              "      <td>[[0.0, 0.0, 0.0, 0.0, 0.0, 0.0, 0.0, 0.0, 0.0,...</td>\n",
              "      <td>0.000525</td>\n",
              "      <td>4</td>\n",
              "      <td>1</td>\n",
              "      <td>1</td>\n",
              "      <td>16</td>\n",
              "      <td>9</td>\n",
              "      <td>0.646490</td>\n",
              "      <td>0.215372</td>\n",
              "      <td>0</td>\n",
              "    </tr>\n",
              "    <tr>\n",
              "      <th>1</th>\n",
              "      <td>64</td>\n",
              "      <td>30</td>\n",
              "      <td>1</td>\n",
              "      <td>0</td>\n",
              "      <td>[[0.0, 0.0, 0.0, 0.0, 0.0, 0.0, 0.0, 0.0, 0.0,...</td>\n",
              "      <td>0.000810</td>\n",
              "      <td>5</td>\n",
              "      <td>0</td>\n",
              "      <td>1</td>\n",
              "      <td>29</td>\n",
              "      <td>9</td>\n",
              "      <td>0.554421</td>\n",
              "      <td>0.268971</td>\n",
              "      <td>1</td>\n",
              "    </tr>\n",
              "    <tr>\n",
              "      <th>2</th>\n",
              "      <td>50</td>\n",
              "      <td>28</td>\n",
              "      <td>1</td>\n",
              "      <td>1</td>\n",
              "      <td>[[0.0, 0.0, 0.0, 0.0, 0.0, 0.0, 0.0, 0.0, 0.0,...</td>\n",
              "      <td>0.001322</td>\n",
              "      <td>4</td>\n",
              "      <td>1</td>\n",
              "      <td>1</td>\n",
              "      <td>29</td>\n",
              "      <td>9</td>\n",
              "      <td>0.461746</td>\n",
              "      <td>0.187786</td>\n",
              "      <td>0</td>\n",
              "    </tr>\n",
              "    <tr>\n",
              "      <th>3</th>\n",
              "      <td>67</td>\n",
              "      <td>30</td>\n",
              "      <td>1</td>\n",
              "      <td>0</td>\n",
              "      <td>[[0.0, 0.0, 0.0, 0.0, 0.0, 0.0, 0.0, 0.0, 0.0,...</td>\n",
              "      <td>0.000685</td>\n",
              "      <td>4</td>\n",
              "      <td>1</td>\n",
              "      <td>1</td>\n",
              "      <td>30</td>\n",
              "      <td>9</td>\n",
              "      <td>0.697002</td>\n",
              "      <td>0.256922</td>\n",
              "      <td>1</td>\n",
              "    </tr>\n",
              "    <tr>\n",
              "      <th>4</th>\n",
              "      <td>64</td>\n",
              "      <td>26</td>\n",
              "      <td>1</td>\n",
              "      <td>0</td>\n",
              "      <td>[[0.0, 0.0, 0.0, 0.0, 0.0, 0.0, 0.0, 0.0, 0.0,...</td>\n",
              "      <td>0.000844</td>\n",
              "      <td>2</td>\n",
              "      <td>1</td>\n",
              "      <td>1</td>\n",
              "      <td>23</td>\n",
              "      <td>9</td>\n",
              "      <td>0.513891</td>\n",
              "      <td>0.188936</td>\n",
              "      <td>0</td>\n",
              "    </tr>\n",
              "  </tbody>\n",
              "</table>\n",
              "</div>\n",
              "      <button class=\"colab-df-convert\" onclick=\"convertToInteractive('df-1e525473-914a-42cf-8299-078e4ea9eae2')\"\n",
              "              title=\"Convert this dataframe to an interactive table.\"\n",
              "              style=\"display:none;\">\n",
              "        \n",
              "  <svg xmlns=\"http://www.w3.org/2000/svg\" height=\"24px\"viewBox=\"0 0 24 24\"\n",
              "       width=\"24px\">\n",
              "    <path d=\"M0 0h24v24H0V0z\" fill=\"none\"/>\n",
              "    <path d=\"M18.56 5.44l.94 2.06.94-2.06 2.06-.94-2.06-.94-.94-2.06-.94 2.06-2.06.94zm-11 1L8.5 8.5l.94-2.06 2.06-.94-2.06-.94L8.5 2.5l-.94 2.06-2.06.94zm10 10l.94 2.06.94-2.06 2.06-.94-2.06-.94-.94-2.06-.94 2.06-2.06.94z\"/><path d=\"M17.41 7.96l-1.37-1.37c-.4-.4-.92-.59-1.43-.59-.52 0-1.04.2-1.43.59L10.3 9.45l-7.72 7.72c-.78.78-.78 2.05 0 2.83L4 21.41c.39.39.9.59 1.41.59.51 0 1.02-.2 1.41-.59l7.78-7.78 2.81-2.81c.8-.78.8-2.07 0-2.86zM5.41 20L4 18.59l7.72-7.72 1.47 1.35L5.41 20z\"/>\n",
              "  </svg>\n",
              "      </button>\n",
              "      \n",
              "  <style>\n",
              "    .colab-df-container {\n",
              "      display:flex;\n",
              "      flex-wrap:wrap;\n",
              "      gap: 12px;\n",
              "    }\n",
              "\n",
              "    .colab-df-convert {\n",
              "      background-color: #E8F0FE;\n",
              "      border: none;\n",
              "      border-radius: 50%;\n",
              "      cursor: pointer;\n",
              "      display: none;\n",
              "      fill: #1967D2;\n",
              "      height: 32px;\n",
              "      padding: 0 0 0 0;\n",
              "      width: 32px;\n",
              "    }\n",
              "\n",
              "    .colab-df-convert:hover {\n",
              "      background-color: #E2EBFA;\n",
              "      box-shadow: 0px 1px 2px rgba(60, 64, 67, 0.3), 0px 1px 3px 1px rgba(60, 64, 67, 0.15);\n",
              "      fill: #174EA6;\n",
              "    }\n",
              "\n",
              "    [theme=dark] .colab-df-convert {\n",
              "      background-color: #3B4455;\n",
              "      fill: #D2E3FC;\n",
              "    }\n",
              "\n",
              "    [theme=dark] .colab-df-convert:hover {\n",
              "      background-color: #434B5C;\n",
              "      box-shadow: 0px 1px 3px 1px rgba(0, 0, 0, 0.15);\n",
              "      filter: drop-shadow(0px 1px 2px rgba(0, 0, 0, 0.3));\n",
              "      fill: #FFFFFF;\n",
              "    }\n",
              "  </style>\n",
              "\n",
              "      <script>\n",
              "        const buttonEl =\n",
              "          document.querySelector('#df-1e525473-914a-42cf-8299-078e4ea9eae2 button.colab-df-convert');\n",
              "        buttonEl.style.display =\n",
              "          google.colab.kernel.accessAllowed ? 'block' : 'none';\n",
              "\n",
              "        async function convertToInteractive(key) {\n",
              "          const element = document.querySelector('#df-1e525473-914a-42cf-8299-078e4ea9eae2');\n",
              "          const dataTable =\n",
              "            await google.colab.kernel.invokeFunction('convertToInteractive',\n",
              "                                                     [key], {});\n",
              "          if (!dataTable) return;\n",
              "\n",
              "          const docLinkHtml = 'Like what you see? Visit the ' +\n",
              "            '<a target=\"_blank\" href=https://colab.research.google.com/notebooks/data_table.ipynb>data table notebook</a>'\n",
              "            + ' to learn more about interactive tables.';\n",
              "          element.innerHTML = '';\n",
              "          dataTable['output_type'] = 'display_data';\n",
              "          await google.colab.output.renderOutput(dataTable, element);\n",
              "          const docLink = document.createElement('div');\n",
              "          docLink.innerHTML = docLinkHtml;\n",
              "          element.appendChild(docLink);\n",
              "        }\n",
              "      </script>\n",
              "    </div>\n",
              "  </div>\n",
              "  "
            ],
            "text/plain": [
              "   age  TMSE  diagnosis  ...  pressure_mean pressure_std  TMSE_pass\n",
              "0   45     0          1  ...       0.646490     0.215372          0\n",
              "1   64    30          1  ...       0.554421     0.268971          1\n",
              "2   50    28          1  ...       0.461746     0.187786          0\n",
              "3   67    30          1  ...       0.697002     0.256922          1\n",
              "4   64    26          1  ...       0.513891     0.188936          0\n",
              "\n",
              "[5 rows x 14 columns]"
            ]
          },
          "metadata": {},
          "execution_count": 14
        }
      ]
    },
    {
      "cell_type": "code",
      "metadata": {
        "id": "myKTxkZBeSAg",
        "colab": {
          "base_uri": "https://localhost:8080/"
        },
        "outputId": "305cb3b1-588c-4594-9723-6ca0360f3eff"
      },
      "source": [
        "data.dtypes"
      ],
      "execution_count": 15,
      "outputs": [
        {
          "output_type": "execute_result",
          "data": {
            "text/plain": [
              "age                int64\n",
              "TMSE               int64\n",
              "diagnosis          int64\n",
              "clock_drawing      int64\n",
              "clock_image       object\n",
              "t                float64\n",
              "ed                 int64\n",
              "gender             int64\n",
              "side               int64\n",
              "dates              int64\n",
              "month              int64\n",
              "pressure_mean    float64\n",
              "pressure_std     float64\n",
              "TMSE_pass          int64\n",
              "dtype: object"
            ]
          },
          "metadata": {},
          "execution_count": 15
        }
      ]
    },
    {
      "cell_type": "code",
      "metadata": {
        "id": "6WTl51GNfcxK"
      },
      "source": [
        "# Remove missing ages and TMSE\n",
        "data = data[data['age']!=0]\n",
        "data = data[data['TMSE']!=0]"
      ],
      "execution_count": 16,
      "outputs": []
    },
    {
      "cell_type": "markdown",
      "metadata": {
        "id": "Nh97gzeFeozu"
      },
      "source": [
        "#2.Classification"
      ]
    },
    {
      "cell_type": "markdown",
      "metadata": {
        "id": "RoJGEAKNew4k"
      },
      "source": [
        "##2.1 Use all features"
      ]
    },
    {
      "cell_type": "code",
      "metadata": {
        "id": "D06h-rryeuwk"
      },
      "source": [
        "# Divide data into train and test part \n",
        "X = data[['TMSE','clock_drawing','t','ed','gender','side','age','dates','month','pressure_mean','pressure_std','TMSE_pass']]\n",
        "y = data['diagnosis']\n",
        "scaler = StandardScaler()\n",
        "X = scaler.fit_transform(X)\n",
        "X_train, X_test, y_train, y_test = train_test_split(X, y, random_state=1)"
      ],
      "execution_count": null,
      "outputs": []
    },
    {
      "cell_type": "code",
      "metadata": {
        "id": "LD9ADYiGhFwV",
        "colab": {
          "base_uri": "https://localhost:8080/"
        },
        "outputId": "0b6f257a-e954-4037-9753-9af93985603f"
      },
      "source": [
        "# KNeighborsClassifier\n",
        "knn = KNeighborsClassifier().fit(X_train, y_train)\n",
        "knn_pred = knn.predict(X_test)\n",
        "print('Accuracy of KNeighborsClassifier : {:.4f}'.format(knn.score(X_test, y_test))) # Accuracy of classifier\n",
        "print('F1 score of KNeighborsClassifier: {:.4f}'.format(f1_score(y_test,knn_pred))) # F1 Score"
      ],
      "execution_count": null,
      "outputs": [
        {
          "output_type": "stream",
          "text": [
            "Accuracy of KNeighborsClassifier : 0.8182\n",
            "F1 score of KNeighborsClassifier: 0.8710\n"
          ],
          "name": "stdout"
        }
      ]
    },
    {
      "cell_type": "code",
      "metadata": {
        "id": "AH8KZMKVheOL",
        "colab": {
          "base_uri": "https://localhost:8080/"
        },
        "outputId": "bfef6a4e-17f6-4ef1-b5a9-34cf3db14340"
      },
      "source": [
        "# Logistic Regression\n",
        "log_reg = LogisticRegression().fit(X_train, y_train)\n",
        "log_reg_pred = log_reg.predict(X_test)\n",
        "print(log_reg_pred)\n",
        "print(len(log_reg_pred))\n",
        "# print(y_test)\n",
        "print(len(y_test))\n",
        "# print(accuracy_score(y_test, log_reg_pred))\n",
        "print('Accuracy of Logistic Regression on training set: {:.4f}'.format(log_reg.score(X_train, y_train))) # Training Score\n",
        "print('Accuracy of Logistic Regression on test set: {:.4f}'.format(log_reg.score(X_test, y_test))) # Testing Score\n",
        "print('F1 score of Logistic Regression: {:.4f}'.format(f1_score(y_test,log_reg_pred))) # F1 Score"
      ],
      "execution_count": null,
      "outputs": [
        {
          "output_type": "stream",
          "text": [
            "[1 0 0 1 1 0 0 0 0 1 0 1 1 1 0 1 0 0 0 1 1 1 0 1 1 1 1 1 0 1 0 0 0 1 1 1 1\n",
            " 1 1 0 1 1 1 1]\n",
            "44\n",
            "44\n",
            "Accuracy of Logistic Regression on training set: 0.8182\n",
            "Accuracy of Logistic Regression on test set: 0.7727\n",
            "F1 score of Logistic Regression: 0.8276\n"
          ],
          "name": "stdout"
        }
      ]
    },
    {
      "cell_type": "code",
      "metadata": {
        "id": "FJ_S0PuvheRK",
        "colab": {
          "base_uri": "https://localhost:8080/"
        },
        "outputId": "b99c8acb-9af3-4bcc-a176-0ce4e728564b"
      },
      "source": [
        "# Support Vector Machines\n",
        "clf = LinearSVC().fit(X_train, y_train)\n",
        "clf_pred = clf.predict(X_test)\n",
        "print('Accuracy of Linear SVC classifier on training set: {:.4f}'.format(clf.score(X_train, y_train))) # Training Score\n",
        "print('Accuracy of Linear SVC classifier on test set: {:.4f}'.format(clf.score(X_test, y_test))) # Testing Score\n",
        "print('F1 score of Linear SVC classifier: {:.4f}'.format(f1_score(y_test,clf_pred))) # F1 Score"
      ],
      "execution_count": null,
      "outputs": [
        {
          "output_type": "stream",
          "text": [
            "Accuracy of Linear SVC classifier on training set: 0.8106\n",
            "Accuracy of Linear SVC classifier on test set: 0.7500\n",
            "F1 score of Linear SVC classifier: 0.8136\n"
          ],
          "name": "stdout"
        }
      ]
    },
    {
      "cell_type": "code",
      "metadata": {
        "id": "Ga6J2WsJheT8",
        "colab": {
          "base_uri": "https://localhost:8080/"
        },
        "outputId": "9a0c7753-463e-43fc-86b2-875be1e74bd1"
      },
      "source": [
        "# Kernelized Support Vector Machines\n",
        "clf2 = SVC().fit(X_train, y_train)\n",
        "clf2_pred = clf2.predict(X_test)\n",
        "print('Accuracy of RBF-kernel SVC on training set: {:.4f}'.format(clf2.score(X_train, y_train))) # Training Score\n",
        "print('Accuracy of RBF-kernel SVC on test set: {:.4f}'.format(clf2.score(X_test, y_test))) # Testing Score\n",
        "print('F1 score of RBF-kernel SVC: {:.4f}'.format(f1_score(y_test,clf2_pred))) # F1 Score"
      ],
      "execution_count": null,
      "outputs": [
        {
          "output_type": "stream",
          "text": [
            "Accuracy of RBF-kernel SVC on training set: 0.8939\n",
            "Accuracy of RBF-kernel SVC on test set: 0.7727\n",
            "F1 score of RBF-kernel SVC: 0.8333\n"
          ],
          "name": "stdout"
        }
      ]
    },
    {
      "cell_type": "code",
      "metadata": {
        "id": "E-vpE50TheWv",
        "colab": {
          "base_uri": "https://localhost:8080/"
        },
        "outputId": "13710ca5-8de6-40ff-9281-398fbb8b2030"
      },
      "source": [
        "# Cross Validation\n",
        "clf3 = KNeighborsClassifier()\n",
        "clfs3 = clf3.fit(X_train, y_train)\n",
        "clf3_pred = clfs3.predict(X_test)\n",
        "print('Accuracy of Cross Validation on training set: ' + str(cross_val_score(clf3, X_train, y_train)))\n",
        "print('Mean of Cross Validation on training set: {:.4f}'.format(np.mean(cross_val_score(clf3, X_train, y_train)))) # Training Score\n",
        "print('Accuracy of Cross Validation on test set: ' + str(cross_val_score(clf3, X_test, y_test)))\n",
        "print('Mean of Cross Validation on test set: {:.4f}'.format(np.mean(cross_val_score(clf3, X_test, y_test)))) # Testing Score\n",
        "print('F1 score of DT classifier: {:.4f}'.format(f1_score(y_test,clf3_pred))) # F1 Score"
      ],
      "execution_count": null,
      "outputs": [
        {
          "output_type": "stream",
          "text": [
            "Accuracy of Cross Validation on training set: [0.77777778 0.66666667 0.73076923 0.61538462 0.80769231]\n",
            "Mean of Cross Validation on training set: 0.7197\n",
            "Accuracy of Cross Validation on test set: [0.77777778 0.77777778 0.66666667 0.77777778 0.625     ]\n",
            "Mean of Cross Validation on test set: 0.7250\n",
            "F1 score of DT classifier: 0.8710\n"
          ],
          "name": "stdout"
        }
      ]
    },
    {
      "cell_type": "code",
      "metadata": {
        "id": "gOdNIgqgheZl",
        "colab": {
          "base_uri": "https://localhost:8080/"
        },
        "outputId": "14c93115-c149-41d0-bbfe-28470a708e8a"
      },
      "source": [
        "# Decision Trees\n",
        "clf4 = DecisionTreeClassifier().fit(X_train, y_train)\n",
        "clf4_pred = clf4.predict(X_test)\n",
        "print('Accuracy of DT classifier on training set: {:.2f}'.format(clf4.score(X_train, y_train)))\n",
        "print('Accuracy of DT classifier on test set: {:.2f}'.format(clf4.score(X_test, y_test)))\n",
        "print('F1 score of DT classifier: {:.4f}'.format(f1_score(y_test,clf4_pred))) # F1 Score"
      ],
      "execution_count": null,
      "outputs": [
        {
          "output_type": "stream",
          "text": [
            "Accuracy of DT classifier on training set: 1.00\n",
            "Accuracy of DT classifier on test set: 0.89\n",
            "F1 score of DT classifier: 0.9180\n"
          ],
          "name": "stdout"
        }
      ]
    },
    {
      "cell_type": "code",
      "metadata": {
        "id": "QuDMEK4PhecI",
        "colab": {
          "base_uri": "https://localhost:8080/"
        },
        "outputId": "90445571-f7e0-4845-ccad-7d4192ca4c85"
      },
      "source": [
        "# Confusion Matrix\n",
        "# Precision — What percent of your predictions were correct?\n",
        "# Recall — What percent of the positive cases did you catch?\n",
        "lr_predicted = log_reg.predict(X_test)\n",
        "confusion = confusion_matrix(y_test, lr_predicted)\n",
        "print('Logistic regression classifier \\n', confusion)\n",
        "print(metrics.classification_report(y_test,lr_predicted))\n",
        "\n",
        "SVC_predicted = clf2.predict(X_test)\n",
        "confusion2 = confusion_matrix(y_test, SVC_predicted)\n",
        "print('Kernelized Support Vector Machines \\n', confusion2)\n",
        "print(metrics.classification_report(y_test,SVC_predicted))"
      ],
      "execution_count": null,
      "outputs": [
        {
          "output_type": "stream",
          "text": [
            "Logistic regression classifier \n",
            " [[10  3]\n",
            " [ 7 24]]\n",
            "              precision    recall  f1-score   support\n",
            "\n",
            "           0       0.59      0.77      0.67        13\n",
            "           1       0.89      0.77      0.83        31\n",
            "\n",
            "    accuracy                           0.77        44\n",
            "   macro avg       0.74      0.77      0.75        44\n",
            "weighted avg       0.80      0.77      0.78        44\n",
            "\n",
            "Kernelized Support Vector Machines \n",
            " [[ 9  4]\n",
            " [ 6 25]]\n",
            "              precision    recall  f1-score   support\n",
            "\n",
            "           0       0.60      0.69      0.64        13\n",
            "           1       0.86      0.81      0.83        31\n",
            "\n",
            "    accuracy                           0.77        44\n",
            "   macro avg       0.73      0.75      0.74        44\n",
            "weighted avg       0.78      0.77      0.78        44\n",
            "\n"
          ],
          "name": "stdout"
        }
      ]
    },
    {
      "cell_type": "code",
      "metadata": {
        "id": "qhFHBD8Hheew",
        "colab": {
          "base_uri": "https://localhost:8080/"
        },
        "outputId": "692c61f8-8ccd-4972-c4fd-e1f5d07ce158"
      },
      "source": [
        "# Naive Bayes Classifier\n",
        "nbclf = GaussianNB().fit(X_train, y_train)\n",
        "nbclf_pred = nbclf.predict(X_test)\n",
        "print('Accuracy of GaussianNB classifier on training set: {:.4f}'.format(nbclf.score(X_train, y_train)))\n",
        "print('Accuracy of GaussianNB classifier on test set: {:.4f}'.format(nbclf.score(X_test, y_test)))\n",
        "print('F1 score of GaussianNB classifier: {:.4f}'.format(f1_score(y_test,nbclf_pred))) # F1 Score"
      ],
      "execution_count": null,
      "outputs": [
        {
          "output_type": "stream",
          "text": [
            "Accuracy of GaussianNB classifier on training set: 0.7879\n",
            "Accuracy of GaussianNB classifier on test set: 0.8182\n",
            "F1 score of GaussianNB classifier: 0.8667\n"
          ],
          "name": "stdout"
        }
      ]
    },
    {
      "cell_type": "code",
      "metadata": {
        "id": "ePR8yGbtt3ku",
        "colab": {
          "base_uri": "https://localhost:8080/"
        },
        "outputId": "fa5d4b8b-b78c-40c2-cb30-c35d9bb8648e"
      },
      "source": [
        "# Random Forest\n",
        "rfclf = RandomForestClassifier().fit(X_train, y_train)\n",
        "rfclf_pred = rfclf.predict(X_test)\n",
        "print('Accuracy of RF classifier on training set: {:.4f}'.format(rfclf.score(X_train, y_train)))\n",
        "print('Accuracy of RF classifier on test set: {:.4f}'.format(rfclf.score(X_test, y_test)))\n",
        "print('F1 score of RF classifier: {:.4f}'.format(f1_score(y_test,rfclf_pred))) # F1 Score"
      ],
      "execution_count": null,
      "outputs": [
        {
          "output_type": "stream",
          "text": [
            "Accuracy of RF classifier on training set: 1.0000\n",
            "Accuracy of RF classifier on test set: 0.7955\n",
            "F1 score of RF classifier: 0.8475\n"
          ],
          "name": "stdout"
        }
      ]
    },
    {
      "cell_type": "code",
      "metadata": {
        "id": "Lib1ioo8t3oB",
        "colab": {
          "base_uri": "https://localhost:8080/"
        },
        "outputId": "95ef5ff6-6382-46f5-8c40-7c9a9fd60dab"
      },
      "source": [
        "# Gradient-boosted decision trees # Overfit data\n",
        "gbclf = GradientBoostingClassifier().fit(X_train, y_train)\n",
        "gbclf_pred = rfclf.predict(X_test)\n",
        "print('Accuracy of GBDT classifier on training set: {:.4f}'.format(gbclf.score(X_train, y_train)))\n",
        "print('Accuracy of GBDT classifier on test set: {:.4f}'.format(gbclf.score(X_test, y_test)))\n",
        "print('F1 score of GBDT classifier: {:.4f}'.format(f1_score(y_test,gbclf_pred))) # F1 Score"
      ],
      "execution_count": null,
      "outputs": [
        {
          "output_type": "stream",
          "text": [
            "Accuracy of GBDT classifier on training set: 1.0000\n",
            "Accuracy of GBDT classifier on test set: 0.8864\n",
            "F1 score of GBDT classifier: 0.8475\n"
          ],
          "name": "stdout"
        }
      ]
    },
    {
      "cell_type": "code",
      "metadata": {
        "id": "v0Sz2iavt3q7",
        "colab": {
          "base_uri": "https://localhost:8080/"
        },
        "outputId": "701d0732-d898-4bef-ee35-0557c12f9c4f"
      },
      "source": [
        "# Neural Network\n",
        "scaler = MinMaxScaler()\n",
        "X_train_scaled = scaler.fit_transform(X_train)\n",
        "X_test_scaled = scaler.transform(X_test)\n",
        "nclf = MLPClassifier().fit(X_train_scaled, y_train)\n",
        "nclf_pred = nclf.predict(X_test)\n",
        "print('Accuracy of NN classifier on training set: {:.4f}'.format(nclf.score(X_train_scaled, y_train)))\n",
        "print('Accuracy of NN classifier on test set: {:.4f}'.format(nclf.score(X_test_scaled, y_test)))\n",
        "print('F1 score of NN classifier: {:.4f}'.format(f1_score(y_test,nclf_pred))) # F1 Score"
      ],
      "execution_count": null,
      "outputs": [
        {
          "output_type": "stream",
          "text": [
            "Accuracy of NN classifier on training set: 0.7955\n",
            "Accuracy of NN classifier on test set: 0.7500\n",
            "F1 score of NN classifier: 0.8276\n"
          ],
          "name": "stdout"
        },
        {
          "output_type": "stream",
          "text": [
            "/usr/local/lib/python3.6/dist-packages/sklearn/neural_network/_multilayer_perceptron.py:571: ConvergenceWarning:\n",
            "\n",
            "Stochastic Optimizer: Maximum iterations (200) reached and the optimization hasn't converged yet.\n",
            "\n"
          ],
          "name": "stderr"
        }
      ]
    },
    {
      "cell_type": "code",
      "metadata": {
        "colab": {
          "base_uri": "https://localhost:8080/"
        },
        "id": "XpyaTXURs3a7",
        "outputId": "50f35d48-cf83-45eb-a5cd-68d2bdb3f027"
      },
      "source": [
        "# Since we have less information, we will use KFold by SVC instead of train_test_split to get more accuracy\n",
        "X1 = data[['TMSE','clock_drawing','t','ed','gender','side','age','dates','month','pressure_mean','pressure_std','TMSE_pass']].to_numpy()\n",
        "y1 = data.diagnosis.to_numpy()\n",
        "accuracy_per_fold_SVC = []\n",
        "f1_score_per_fold_SVC = []\n",
        "fold_no = 1\n",
        "kf = KFold(n_splits=10, shuffle=True)\n",
        "for train, test in kf.split(X1, y1):\n",
        "  svc = SVC()\n",
        "  X_train, y_train = X1[train], y1[train]\n",
        "  X_test, y_test = X1[test], y1[test]\n",
        "  svc.fit(X_train, y_train)\n",
        "  y_pred = svc.predict(X_test)\n",
        "  print('Fold No :', fold_no)\n",
        "  print('Accuracy', accuracy_score(y_pred, y_test), 'F1 Score', f1_score(y_test, y_pred))\n",
        "  accuracy_per_fold_SVC.append(accuracy_score(y_pred, y_test))\n",
        "  f1_score_per_fold_SVC.append(f1_score(y_pred, y_test))\n",
        "  fold_no += 1"
      ],
      "execution_count": null,
      "outputs": [
        {
          "output_type": "stream",
          "text": [
            "Fold No : 1\n",
            "Accuracy 0.7222222222222222 F1 Score 0.7368421052631577\n",
            "Fold No : 2\n",
            "Accuracy 0.8888888888888888 F1 Score 0.9090909090909091\n",
            "Fold No : 3\n",
            "Accuracy 0.7777777777777778 F1 Score 0.8181818181818182\n",
            "Fold No : 4\n",
            "Accuracy 0.7777777777777778 F1 Score 0.8571428571428571\n",
            "Fold No : 5\n",
            "Accuracy 0.6666666666666666 F1 Score 0.7\n",
            "Fold No : 6\n",
            "Accuracy 0.6666666666666666 F1 Score 0.7272727272727273\n",
            "Fold No : 7\n",
            "Accuracy 0.5294117647058824 F1 Score 0.42857142857142855\n",
            "Fold No : 8\n",
            "Accuracy 0.7058823529411765 F1 Score 0.761904761904762\n",
            "Fold No : 9\n",
            "Accuracy 0.7058823529411765 F1 Score 0.8\n",
            "Fold No : 10\n",
            "Accuracy 0.7058823529411765 F1 Score 0.6666666666666666\n"
          ],
          "name": "stdout"
        }
      ]
    },
    {
      "cell_type": "code",
      "metadata": {
        "colab": {
          "base_uri": "https://localhost:8080/"
        },
        "id": "p9TAheabuiq5",
        "outputId": "58b189ef-edcf-47a2-f612-04a47fa96e0e"
      },
      "source": [
        "accuracy_per_fold_SVC = np.array(accuracy_per_fold_SVC)\n",
        "f1_score_per_fold_SVC = np.array(f1_score_per_fold_SVC)\n",
        "print(f'Accuracy Score for KFold with SVC: {accuracy_per_fold_SVC.mean()} +- {accuracy_per_fold_SVC.std()}')\n",
        "print(f'F1 Score for KFold with SVC: {f1_score_per_fold_SVC.mean()} +- {f1_score_per_fold_SVC.std()}')"
      ],
      "execution_count": null,
      "outputs": [
        {
          "output_type": "stream",
          "text": [
            "Accuracy Score for KFold with SVC: 0.7147058823529412 +- 0.08805415927248597\n",
            "F1 Score for KFold with SVC: 0.7405673274094327 +- 0.1251561703837522\n"
          ],
          "name": "stdout"
        }
      ]
    },
    {
      "cell_type": "code",
      "metadata": {
        "id": "AImBxrdnyAsf"
      },
      "source": [
        "# Compare with Kfold by logistic regression\n",
        "accuracy_per_fold_lr = []\n",
        "f1_score_per_fold_lr = []\n",
        "fold_no = 1\n",
        "kf = KFold(n_splits=10, shuffle=True)\n",
        "for train, test in kf.split(X1, y1):\n",
        "  lr = LogisticRegression()\n",
        "  X_train, y_train = X1[train], y1[train]\n",
        "  X_test, y_test = X1[test], y1[test]\n",
        "  lr.fit(X_train, y_train)\n",
        "  y_pred = lr.predict(X_test)\n",
        "  print('Fold No :', fold_no)\n",
        "  print('Accuracy', accuracy_score(y_pred, y_test), 'F1 Score', f1_score(y_test, y_pred))\n",
        "  accuracy_per_fold_lr.append(accuracy_score(y_pred, y_test))\n",
        "  f1_score_per_fold_lr.append(f1_score(y_pred, y_test))\n",
        "  fold_no += 1"
      ],
      "execution_count": null,
      "outputs": []
    },
    {
      "cell_type": "code",
      "metadata": {
        "colab": {
          "base_uri": "https://localhost:8080/"
        },
        "id": "wAZdoJVGyBIe",
        "outputId": "4c549001-66a0-49aa-cb44-f63aef9020d9"
      },
      "source": [
        "accuracy_per_fold_lr = np.array(accuracy_per_fold_lr)\n",
        "f1_score_per_fold_lr = np.array(f1_score_per_fold_lr)\n",
        "print(f'Accuracy Score for KFold with lr: {accuracy_per_fold_lr.mean()} +- {accuracy_per_fold_lr.std()}')\n",
        "print(f'F1 Score for KFold with lr: {f1_score_per_fold_lr.mean()} +- {f1_score_per_fold_lr.std()}')"
      ],
      "execution_count": null,
      "outputs": [
        {
          "output_type": "stream",
          "text": [
            "Accuracy Score for KFold with lr: 0.7454248366013072 +- 0.07310991446079278\n",
            "F1 Score for KFold with lr: 0.7904009205473737 +- 0.07274279303201678\n"
          ],
          "name": "stdout"
        }
      ]
    },
    {
      "cell_type": "markdown",
      "metadata": {
        "id": "pLuOK15Cvz7-"
      },
      "source": [
        "##2.2 Using some important features"
      ]
    },
    {
      "cell_type": "code",
      "metadata": {
        "id": "JoHawq6Dt3we",
        "colab": {
          "base_uri": "https://localhost:8080/"
        },
        "outputId": "8e3522de-e143-41bf-ded9-6b968bf0fcc8"
      },
      "source": [
        "# Using Heatmap to determine what features should we use\n",
        "plt.figure(figsize=(12, 12))\n",
        "sns.heatmap(data.corr(), annot=True)"
      ],
      "execution_count": null,
      "outputs": [
        {
          "output_type": "execute_result",
          "data": {
            "text/plain": [
              "<matplotlib.axes._subplots.AxesSubplot at 0x7f544eaa09b0>"
            ]
          },
          "metadata": {
            "tags": []
          },
          "execution_count": 549
        },
        {
          "output_type": "display_data",
          "data": {
            "image/png": "[encoded data removed]",
            "text/plain": [
              "<Figure size 864x864 with 2 Axes>"
            ]
          },
          "metadata": {
            "tags": [],
            "needs_background": "light"
          }
        }
      ]
    },
    {
      "cell_type": "markdown",
      "metadata": {
        "id": "znXCS-PW5NHm"
      },
      "source": [
        "### 2.2.1 'clock_drawing', 't', 'dates'"
      ]
    },
    {
      "cell_type": "code",
      "metadata": {
        "id": "_PM08kWZt3y9"
      },
      "source": [
        "# We will use 'clock_drawing', 't', 'dates' features to predict (most top 3 relation between 'diagnosis' and features)\n",
        "# Divide data into train and test part \n",
        "X = data[['clock_drawing','t','dates']]\n",
        "y = data['diagnosis']\n",
        "scaler = StandardScaler()\n",
        "X = scaler.fit_transform(X)\n",
        "X_train, X_test, y_train, y_test = train_test_split(X, y, random_state=1)"
      ],
      "execution_count": null,
      "outputs": []
    },
    {
      "cell_type": "code",
      "metadata": {
        "colab": {
          "base_uri": "https://localhost:8080/"
        },
        "id": "uUFTmHG6Flyu",
        "outputId": "e083ab83-40e7-40f4-e7fc-74670ad04702"
      },
      "source": [
        "# KNeighborsClassifier\n",
        "knn = KNeighborsClassifier().fit(X_train, y_train)\n",
        "knn_pred = knn.predict(X_test)\n",
        "print('Accuracy of KNeighborsClassifier : {:.4f}'.format(knn.score(X_test, y_test))) # Accuracy of classifier\n",
        "print('F1 score of KNeighborsClassifier: {:.4f}'.format(f1_score(y_test,knn_pred))) # F1 Score"
      ],
      "execution_count": null,
      "outputs": [
        {
          "output_type": "stream",
          "text": [
            "Accuracy of KNeighborsClassifier : 0.7727\n",
            "F1 score of KNeighborsClassifier: 0.8276\n"
          ],
          "name": "stdout"
        }
      ]
    },
    {
      "cell_type": "code",
      "metadata": {
        "colab": {
          "base_uri": "https://localhost:8080/"
        },
        "id": "9UsgxSvcFly9",
        "outputId": "96510ab3-a760-4c71-81ba-268d18a6045f"
      },
      "source": [
        "# Logistic Regression\n",
        "log_reg = LogisticRegression().fit(X_train, y_train)\n",
        "log_reg_pred = log_reg.predict(X_test)\n",
        "# print(y_test)\n",
        "# print(len(y_test))\n",
        "# print(accuracy_score(y_test, log_reg_pred))\n",
        "print('Accuracy of Logistic Regression on training set: {:.4f}'.format(log_reg.score(X_train, y_train))) # Training Score\n",
        "print('Accuracy of Logistic Regression on test set: {:.4f}'.format(log_reg.score(X_test, y_test))) # Testing Score\n",
        "print('F1 score of Logistic Regression: {:.4f}'.format(f1_score(y_test,log_reg_pred))) # F1 Score"
      ],
      "execution_count": null,
      "outputs": [
        {
          "output_type": "stream",
          "text": [
            "Accuracy of Logistic Regression on training set: 0.7500\n",
            "Accuracy of Logistic Regression on test set: 0.8636\n",
            "F1 score of Logistic Regression: 0.8966\n"
          ],
          "name": "stdout"
        }
      ]
    },
    {
      "cell_type": "code",
      "metadata": {
        "colab": {
          "base_uri": "https://localhost:8080/"
        },
        "id": "g3AwUonqFly9",
        "outputId": "069dc06f-4329-4152-e4ab-cc5f5846775f"
      },
      "source": [
        "# Support Vector Machines\n",
        "clf = LinearSVC().fit(X_train, y_train)\n",
        "clf_pred = clf.predict(X_test)\n",
        "print('Accuracy of Linear SVC classifier on training set: {:.4f}'.format(clf.score(X_train, y_train))) # Training Score\n",
        "print('Accuracy of Linear SVC classifier on test set: {:.4f}'.format(clf.score(X_test, y_test))) # Testing Score\n",
        "print('F1 score of Linear SVC classifier: {:.4f}'.format(f1_score(y_test,clf_pred))) # F1 Score"
      ],
      "execution_count": null,
      "outputs": [
        {
          "output_type": "stream",
          "text": [
            "Accuracy of Linear SVC classifier on training set: 0.7500\n",
            "Accuracy of Linear SVC classifier on test set: 0.8636\n",
            "F1 score of Linear SVC classifier: 0.8929\n"
          ],
          "name": "stdout"
        }
      ]
    },
    {
      "cell_type": "code",
      "metadata": {
        "colab": {
          "base_uri": "https://localhost:8080/"
        },
        "id": "K65rXT0QFly-",
        "outputId": "69389278-0ed1-46cf-b79e-b6fdb7d67a6f"
      },
      "source": [
        "# Kernelized Support Vector Machines\n",
        "clf2 = SVC().fit(X_train, y_train)\n",
        "clf2_pred = clf2.predict(X_test)\n",
        "print('Accuracy of RBF-kernel SVC on training set: {:.4f}'.format(clf2.score(X_train, y_train))) # Training Score\n",
        "print('Accuracy of RBF-kernel SVC on test set: {:.4f}'.format(clf2.score(X_test, y_test))) # Testing Score\n",
        "print('F1 score of RBF-kernel SVC: {:.4f}'.format(f1_score(y_test,clf2_pred))) # F1 Score"
      ],
      "execution_count": null,
      "outputs": [
        {
          "output_type": "stream",
          "text": [
            "Accuracy of RBF-kernel SVC on training set: 0.7424\n",
            "Accuracy of RBF-kernel SVC on test set: 0.8864\n",
            "F1 score of RBF-kernel SVC: 0.9123\n"
          ],
          "name": "stdout"
        }
      ]
    },
    {
      "cell_type": "code",
      "metadata": {
        "colab": {
          "base_uri": "https://localhost:8080/"
        },
        "id": "PnNJ_fH0Fly-",
        "outputId": "c7da034f-e578-4480-bdc9-a1fddfbfb59f"
      },
      "source": [
        "# Cross Validation\n",
        "clf3 = KNeighborsClassifier()\n",
        "clfs3 = clf3.fit(X_train, y_train)\n",
        "clf3_pred = clfs3.predict(X_test)\n",
        "print('Accuracy of Cross Validation on training set: ' + str(cross_val_score(clf3, X_train, y_train)))\n",
        "print('Mean of Cross Validation on training set: {:.4f}'.format(np.mean(cross_val_score(clf3, X_train, y_train)))) # Training Score\n",
        "print('Accuracy of Cross Validation on test set: ' + str(cross_val_score(clf3, X_test, y_test)))\n",
        "print('Mean of Cross Validation on test set: {:.4f}'.format(np.mean(cross_val_score(clf3, X_test, y_test)))) # Testing Score\n",
        "print('F1 score of DT classifier: {:.4f}'.format(f1_score(y_test,clf3_pred))) # F1 Score"
      ],
      "execution_count": null,
      "outputs": [
        {
          "output_type": "stream",
          "text": [
            "Accuracy of Cross Validation on training set: [0.66666667 0.7037037  0.53846154 0.65384615 0.73076923]\n",
            "Mean of Cross Validation on training set: 0.6587\n",
            "Accuracy of Cross Validation on test set: [0.77777778 0.88888889 0.77777778 0.77777778 0.625     ]\n",
            "Mean of Cross Validation on test set: 0.7694\n",
            "F1 score of DT classifier: 0.8276\n"
          ],
          "name": "stdout"
        }
      ]
    },
    {
      "cell_type": "code",
      "metadata": {
        "colab": {
          "base_uri": "https://localhost:8080/"
        },
        "id": "pUX4McbWFly-",
        "outputId": "cbafe62d-c7fc-4bf1-eb21-f9cc27223a3f"
      },
      "source": [
        "# Decision Trees\n",
        "clf4 = DecisionTreeClassifier().fit(X_train, y_train)\n",
        "clf4_pred = clf4.predict(X_test)\n",
        "print('Accuracy of DT classifier on training set: {:.2f}'.format(clf4.score(X_train, y_train)))\n",
        "print('Accuracy of DT classifier on test set: {:.2f}'.format(clf4.score(X_test, y_test)))\n",
        "print('F1 score of DT classifier: {:.4f}'.format(f1_score(y_test,clf4_pred))) # F1 Score"
      ],
      "execution_count": null,
      "outputs": [
        {
          "output_type": "stream",
          "text": [
            "Accuracy of DT classifier on training set: 1.00\n",
            "Accuracy of DT classifier on test set: 0.84\n",
            "F1 score of DT classifier: 0.8772\n"
          ],
          "name": "stdout"
        }
      ]
    },
    {
      "cell_type": "code",
      "metadata": {
        "colab": {
          "base_uri": "https://localhost:8080/"
        },
        "id": "D8F4YQOaFly_",
        "outputId": "dd3ede75-74e7-4b11-bc0b-60315386469c"
      },
      "source": [
        "# Confusion Matrix\n",
        "# Precision — What percent of your predictions were correct?\n",
        "# Recall — What percent of the positive cases did you catch?\n",
        "lr_predicted = log_reg.predict(X_test)\n",
        "confusion = confusion_matrix(y_test, lr_predicted)\n",
        "print('Logistic regression classifier \\n', confusion)\n",
        "print(metrics.classification_report(y_test,lr_predicted))\n",
        "\n",
        "SVC_predicted = clf2.predict(X_test)\n",
        "confusion2 = confusion_matrix(y_test, SVC_predicted)\n",
        "print('Kernelized Support Vector Machines \\n', confusion2)\n",
        "print(metrics.classification_report(y_test,SVC_predicted))"
      ],
      "execution_count": null,
      "outputs": [
        {
          "output_type": "stream",
          "text": [
            "Logistic regression classifier \n",
            " [[12  1]\n",
            " [ 5 26]]\n",
            "              precision    recall  f1-score   support\n",
            "\n",
            "           0       0.71      0.92      0.80        13\n",
            "           1       0.96      0.84      0.90        31\n",
            "\n",
            "    accuracy                           0.86        44\n",
            "   macro avg       0.83      0.88      0.85        44\n",
            "weighted avg       0.89      0.86      0.87        44\n",
            "\n",
            "Kernelized Support Vector Machines \n",
            " [[13  0]\n",
            " [ 5 26]]\n",
            "              precision    recall  f1-score   support\n",
            "\n",
            "           0       0.72      1.00      0.84        13\n",
            "           1       1.00      0.84      0.91        31\n",
            "\n",
            "    accuracy                           0.89        44\n",
            "   macro avg       0.86      0.92      0.88        44\n",
            "weighted avg       0.92      0.89      0.89        44\n",
            "\n"
          ],
          "name": "stdout"
        }
      ]
    },
    {
      "cell_type": "code",
      "metadata": {
        "colab": {
          "base_uri": "https://localhost:8080/"
        },
        "id": "aX2dyDpdFly_",
        "outputId": "4eba4f5d-606f-49cf-c792-2fcd20f834b5"
      },
      "source": [
        "# Naive Bayes Classifier\n",
        "nbclf = GaussianNB().fit(X_train, y_train)\n",
        "nbclf_pred = nbclf.predict(X_test)\n",
        "print('Accuracy of GaussianNB classifier on training set: {:.4f}'.format(nbclf.score(X_train, y_train)))\n",
        "print('Accuracy of GaussianNB classifier on test set: {:.4f}'.format(nbclf.score(X_test, y_test)))\n",
        "print('F1 score of GaussianNB classifier: {:.4f}'.format(f1_score(y_test,nbclf_pred))) # F1 Score"
      ],
      "execution_count": null,
      "outputs": [
        {
          "output_type": "stream",
          "text": [
            "Accuracy of GaussianNB classifier on training set: 0.7348\n",
            "Accuracy of GaussianNB classifier on test set: 0.8182\n",
            "F1 score of GaussianNB classifier: 0.8667\n"
          ],
          "name": "stdout"
        }
      ]
    },
    {
      "cell_type": "code",
      "metadata": {
        "colab": {
          "base_uri": "https://localhost:8080/"
        },
        "id": "KnF5Hs3SFlzA",
        "outputId": "9b433270-3975-4cab-85c8-d98892a0fbf1"
      },
      "source": [
        "# Random Forest\n",
        "rfclf = RandomForestClassifier().fit(X_train, y_train)\n",
        "rfclf_pred = rfclf.predict(X_test)\n",
        "print('Accuracy of RF classifier on training set: {:.4f}'.format(rfclf.score(X_train, y_train)))\n",
        "print('Accuracy of RF classifier on test set: {:.4f}'.format(rfclf.score(X_test, y_test)))\n",
        "print('F1 score of RF classifier: {:.4f}'.format(f1_score(y_test,rfclf_pred))) # F1 Score"
      ],
      "execution_count": null,
      "outputs": [
        {
          "output_type": "stream",
          "text": [
            "Accuracy of RF classifier on training set: 1.0000\n",
            "Accuracy of RF classifier on test set: 0.8182\n",
            "F1 score of RF classifier: 0.8571\n"
          ],
          "name": "stdout"
        }
      ]
    },
    {
      "cell_type": "code",
      "metadata": {
        "colab": {
          "base_uri": "https://localhost:8080/"
        },
        "id": "jO8N_hvAFlzA",
        "outputId": "e9d8159c-03d3-4315-dbce-8d05b2beca25"
      },
      "source": [
        "# Gradient-boosted decision trees # Overfit data\n",
        "gbclf = GradientBoostingClassifier().fit(X_train, y_train)\n",
        "gbclf_pred = rfclf.predict(X_test)\n",
        "print('Accuracy of GBDT classifier on training set: {:.4f}'.format(gbclf.score(X_train, y_train)))\n",
        "print('Accuracy of GBDT classifier on test set: {:.4f}'.format(gbclf.score(X_test, y_test)))\n",
        "print('F1 score of GBDT classifier: {:.4f}'.format(f1_score(y_test,gbclf_pred))) # F1 Score"
      ],
      "execution_count": null,
      "outputs": [
        {
          "output_type": "stream",
          "text": [
            "Accuracy of GBDT classifier on training set: 0.9924\n",
            "Accuracy of GBDT classifier on test set: 0.9091\n",
            "F1 score of GBDT classifier: 0.8571\n"
          ],
          "name": "stdout"
        }
      ]
    },
    {
      "cell_type": "code",
      "metadata": {
        "colab": {
          "base_uri": "https://localhost:8080/"
        },
        "id": "Ioa4TIY0FlzA",
        "outputId": "a4179552-a447-4a01-f157-82dfe61fe2e2"
      },
      "source": [
        "# Neural Network\n",
        "scaler = MinMaxScaler()\n",
        "X_train_scaled = scaler.fit_transform(X_train)\n",
        "X_test_scaled = scaler.transform(X_test)\n",
        "nclf = MLPClassifier().fit(X_train_scaled, y_train)\n",
        "nclf_pred = nclf.predict(X_test)\n",
        "print('Accuracy of NN classifier on training set: {:.4f}'.format(nclf.score(X_train_scaled, y_train)))\n",
        "print('Accuracy of NN classifier on test set: {:.4f}'.format(nclf.score(X_test_scaled, y_test)))\n",
        "print('F1 score of NN classifier: {:.4f}'.format(f1_score(y_test,nclf_pred))) # F1 Score"
      ],
      "execution_count": null,
      "outputs": [
        {
          "output_type": "stream",
          "text": [
            "Accuracy of NN classifier on training set: 0.7652\n",
            "Accuracy of NN classifier on test set: 0.8636\n",
            "F1 score of NN classifier: 0.8727\n"
          ],
          "name": "stdout"
        },
        {
          "output_type": "stream",
          "text": [
            "/usr/local/lib/python3.6/dist-packages/sklearn/neural_network/_multilayer_perceptron.py:571: ConvergenceWarning:\n",
            "\n",
            "Stochastic Optimizer: Maximum iterations (200) reached and the optimization hasn't converged yet.\n",
            "\n"
          ],
          "name": "stderr"
        }
      ]
    },
    {
      "cell_type": "code",
      "metadata": {
        "colab": {
          "base_uri": "https://localhost:8080/"
        },
        "id": "utB_MCcx0Q_k",
        "outputId": "a2dae1db-4198-47d7-ff57-29e997739b56"
      },
      "source": [
        "# Since we have less information, we will use KFold by SVC instead of train_test_split to get more accuracy\n",
        "X1 = data[['clock_drawing', 't', 'dates']].to_numpy()\n",
        "y1 = data.diagnosis.to_numpy()\n",
        "accuracy_per_fold_SVC_2 = []\n",
        "f1_score_per_fold_SVC_2 = []\n",
        "fold_no = 1\n",
        "kf = KFold(n_splits=10, shuffle=True)\n",
        "for train, test in kf.split(X1, y1):\n",
        "  svc = SVC()\n",
        "  X_train, y_train = X1[train], y1[train]\n",
        "  X_test, y_test = X1[test], y1[test]\n",
        "  svc.fit(X_train, y_train)\n",
        "  y_pred = svc.predict(X_test)\n",
        "  print('Fold No :', fold_no)\n",
        "  print('Accuracy', accuracy_score(y_pred, y_test), 'F1 Score', f1_score(y_test, y_pred))\n",
        "  accuracy_per_fold_SVC_2.append(accuracy_score(y_pred, y_test))\n",
        "  f1_score_per_fold_SVC_2.append(f1_score(y_pred, y_test))\n",
        "  fold_no += 1"
      ],
      "execution_count": null,
      "outputs": [
        {
          "output_type": "stream",
          "text": [
            "Fold No : 1\n",
            "Accuracy 0.5 F1 Score 0.39999999999999997\n",
            "Fold No : 2\n",
            "Accuracy 0.3888888888888889 F1 Score 0.5599999999999999\n",
            "Fold No : 3\n",
            "Accuracy 0.7222222222222222 F1 Score 0.8\n",
            "Fold No : 4\n",
            "Accuracy 0.5555555555555556 F1 Score 0.6\n",
            "Fold No : 5\n",
            "Accuracy 0.6666666666666666 F1 Score 0.7272727272727273\n",
            "Fold No : 6\n",
            "Accuracy 0.7777777777777778 F1 Score 0.75\n",
            "Fold No : 7\n",
            "Accuracy 0.6470588235294118 F1 Score 0.7272727272727273\n",
            "Fold No : 8\n",
            "Accuracy 0.8235294117647058 F1 Score 0.8421052631578948\n",
            "Fold No : 9\n",
            "Accuracy 0.8823529411764706 F1 Score 0.9090909090909091\n",
            "Fold No : 10\n",
            "Accuracy 0.7647058823529411 F1 Score 0.8461538461538461\n"
          ],
          "name": "stdout"
        }
      ]
    },
    {
      "cell_type": "code",
      "metadata": {
        "colab": {
          "base_uri": "https://localhost:8080/"
        },
        "id": "Qv7-_pKs0Q_y",
        "outputId": "1a71f5e3-9b94-4de7-d8a1-5f0517ea6417"
      },
      "source": [
        "accuracy_per_fold_SVC_2 = np.array(accuracy_per_fold_SVC_2)\n",
        "f1_score_per_fold_SVC_2 = np.array(f1_score_per_fold_SVC_2)\n",
        "print(f'Accuracy Score of KFold with SVC: {accuracy_per_fold_SVC_2.mean()} +- {accuracy_per_fold_SVC_2.std()}')\n",
        "print(f'F1 Score of KFold with SVC: {f1_score_per_fold_SVC_2.mean()} +- {f1_score_per_fold_SVC_2.std()}')\n",
        "print('Different between accuracy score with SVC : {:.4f}'.format(accuracy_per_fold_SVC_2.mean() - accuracy_per_fold_SVC.mean()))\n",
        "print('Different between F1 score with SVC : {:.4f}'.format(f1_score_per_fold_SVC_2.mean() - f1_score_per_fold_SVC.mean()))"
      ],
      "execution_count": null,
      "outputs": [
        {
          "output_type": "stream",
          "text": [
            "Accuracy Score of KFold with SVC: 0.6728758169934641 +- 0.14610036243671481\n",
            "F1 Score of KFold with SVC: 0.7161895472948105 +- 0.1470511644689955\n",
            "Different between accuracy score with SVC : -0.0418\n",
            "Different between F1 score with SVC : -0.0244\n"
          ],
          "name": "stdout"
        }
      ]
    },
    {
      "cell_type": "code",
      "metadata": {
        "colab": {
          "base_uri": "https://localhost:8080/"
        },
        "id": "7W21qE5J0Q_y",
        "outputId": "8f53e359-f86f-4d47-cbf8-2fdb55890003"
      },
      "source": [
        "# Compare with Kfold by logistic regression\n",
        "accuracy_per_fold_lr_2 = []\n",
        "f1_score_per_fold_lr_2 = []\n",
        "fold_no = 1\n",
        "kf = KFold(n_splits=10, shuffle=True)\n",
        "for train, test in kf.split(X1, y1):\n",
        "  lr = LogisticRegression()\n",
        "  X_train, y_train = X1[train], y1[train]\n",
        "  X_test, y_test = X1[test], y1[test]\n",
        "  lr.fit(X_train, y_train)\n",
        "  y_pred = lr.predict(X_test)\n",
        "  print('Fold No :', fold_no)\n",
        "  print('Accuracy', accuracy_score(y_pred, y_test), 'F1 Score', f1_score(y_test, y_pred))\n",
        "  accuracy_per_fold_lr_2.append(accuracy_score(y_pred, y_test))\n",
        "  f1_score_per_fold_lr_2.append(f1_score(y_pred, y_test))\n",
        "  fold_no += 1"
      ],
      "execution_count": null,
      "outputs": [
        {
          "output_type": "stream",
          "text": [
            "Fold No : 1\n",
            "Accuracy 0.6666666666666666 F1 Score 0.7000000000000001\n",
            "Fold No : 2\n",
            "Accuracy 0.7222222222222222 F1 Score 0.7826086956521738\n",
            "Fold No : 3\n",
            "Accuracy 0.7222222222222222 F1 Score 0.7368421052631579\n",
            "Fold No : 4\n",
            "Accuracy 0.8333333333333334 F1 Score 0.888888888888889\n",
            "Fold No : 5\n",
            "Accuracy 0.7222222222222222 F1 Score 0.7826086956521738\n",
            "Fold No : 6\n",
            "Accuracy 0.7777777777777778 F1 Score 0.8571428571428571\n",
            "Fold No : 7\n",
            "Accuracy 0.8235294117647058 F1 Score 0.8571428571428572\n",
            "Fold No : 8\n",
            "Accuracy 0.5882352941176471 F1 Score 0.6666666666666666\n",
            "Fold No : 9\n",
            "Accuracy 0.6470588235294118 F1 Score 0.5\n",
            "Fold No : 10\n",
            "Accuracy 0.8235294117647058 F1 Score 0.8695652173913044\n"
          ],
          "name": "stdout"
        }
      ]
    },
    {
      "cell_type": "code",
      "metadata": {
        "colab": {
          "base_uri": "https://localhost:8080/"
        },
        "id": "wibF9wMj0Q_z",
        "outputId": "3d176012-f687-4151-ec19-ae0ab8a72dff"
      },
      "source": [
        "accuracy_per_fold_lr_2 = np.array(accuracy_per_fold_lr_2)\n",
        "f1_score_per_fold_lr_2 = np.array(f1_score_per_fold_lr_2)\n",
        "print(f'Accuracy Score of KFold with lr: {accuracy_per_fold_lr_2.mean()} +- {accuracy_per_fold_lr_2.std()}')\n",
        "print(f'F1 Score of KFold with lr: {f1_score_per_fold_lr_2.mean()} +- {f1_score_per_fold_lr_2.std()}')\n",
        "print('Different between accuracy score with lr: {:.4f}'.format(accuracy_per_fold_lr_2.mean() - accuracy_per_fold_lr.mean()))\n",
        "print('Different between F1 score with lr: {:.4f}'.format(f1_score_per_fold_lr_2.mean() - f1_score_per_fold_lr.mean()))"
      ],
      "execution_count": null,
      "outputs": [
        {
          "output_type": "stream",
          "text": [
            "Accuracy Score of KFold with lr: 0.7326797385620916 +- 0.0784558785244806\n",
            "F1 Score of KFold with lr: 0.764146598380008 +- 0.11348485122934225\n",
            "Different between accuracy score with lr: -0.0127\n",
            "Different between F1 score with lr: -0.0263\n"
          ],
          "name": "stdout"
        }
      ]
    },
    {
      "cell_type": "markdown",
      "metadata": {
        "id": "qS2BEoh95Ylz"
      },
      "source": [
        "### 2.2.2 'TMSE','t','dates','month','clock_drawing'"
      ]
    },
    {
      "cell_type": "code",
      "metadata": {
        "colab": {
          "base_uri": "https://localhost:8080/"
        },
        "id": "SZTetqXGGQd9",
        "outputId": "a2af1cfe-9ce6-4f02-b9d9-81b164fed732"
      },
      "source": [
        "X = data[['TMSE','t','dates','month','clock_drawing']] # most top 5 relation between 'diagnosis' and features\n",
        "y = data['diagnosis']\n",
        "scaler = StandardScaler()\n",
        "X = scaler.fit_transform(X)\n",
        "X_train, X_test, y_train, y_test = train_test_split(X, y, random_state=1)\n",
        "# Logistic Regression\n",
        "log_reg = LogisticRegression().fit(X_train, y_train)\n",
        "log_reg_pred = log_reg.predict(X_test)\n",
        "# print(y_test)\n",
        "# print(len(y_test))\n",
        "# print(accuracy_score(y_test, log_reg_pred))\n",
        "print('Accuracy of Logistic Regression on training set: {:.4f}'.format(log_reg.score(X_train, y_train))) # Training Score\n",
        "print('Accuracy of Logistic Regression on test set: {:.4f}'.format(log_reg.score(X_test, y_test))) # Testing Score\n",
        "print('F1 score of Logistic Regression: {:.4f}'.format(f1_score(y_test,log_reg_pred))) # F1 Score"
      ],
      "execution_count": null,
      "outputs": [
        {
          "output_type": "stream",
          "text": [
            "Accuracy of Logistic Regression on training set: 0.7803\n",
            "Accuracy of Logistic Regression on test set: 0.7727\n",
            "F1 score of Logistic Regression: 0.8333\n"
          ],
          "name": "stdout"
        }
      ]
    },
    {
      "cell_type": "code",
      "metadata": {
        "colab": {
          "base_uri": "https://localhost:8080/"
        },
        "id": "9WFrFz3PHxYs",
        "outputId": "d1f447da-bca8-4fd4-fbc5-edce587ce281"
      },
      "source": [
        "# Kernelized Support Vector Machines\n",
        "clf2 = SVC().fit(X_train, y_train)\n",
        "clf2_pred = clf2.predict(X_test)\n",
        "print('Accuracy of RBF-kernel SVC on training set: {:.4f}'.format(clf2.score(X_train, y_train))) # Training Score\n",
        "print('Accuracy of RBF-kernel SVC on test set: {:.4f}'.format(clf2.score(X_test, y_test))) # Testing Score\n",
        "print('F1 score of RBF-kernel SVC: {:.4f}'.format(f1_score(y_test,clf2_pred))) # F1 Score"
      ],
      "execution_count": null,
      "outputs": [
        {
          "output_type": "stream",
          "text": [
            "Accuracy of RBF-kernel SVC on training set: 0.8182\n",
            "Accuracy of RBF-kernel SVC on test set: 0.7727\n",
            "F1 score of RBF-kernel SVC: 0.8387\n"
          ],
          "name": "stdout"
        }
      ]
    },
    {
      "cell_type": "code",
      "metadata": {
        "colab": {
          "base_uri": "https://localhost:8080/"
        },
        "id": "jMbm3rYDGQd-",
        "outputId": "00a4015a-1d9e-4e6a-befd-4878ec78c161"
      },
      "source": [
        "# Confusion Matrix\n",
        "# Precision — What percent of your predictions were correct?\n",
        "# Recall — What percent of the positive cases did you catch?\n",
        "lr_predicted = log_reg.predict(X_test)\n",
        "confusion = confusion_matrix(y_test, lr_predicted)\n",
        "print('Logistic regression classifier \\n', confusion)\n",
        "print(metrics.classification_report(y_test,lr_predicted))\n",
        "\n",
        "SVC_predicted = clf2.predict(X_test)\n",
        "confusion2 = confusion_matrix(y_test, SVC_predicted)\n",
        "print('Kernelized Support Vector Machines \\n', confusion2)\n",
        "print(metrics.classification_report(y_test,SVC_predicted))"
      ],
      "execution_count": null,
      "outputs": [
        {
          "output_type": "stream",
          "text": [
            "Logistic regression classifier \n",
            " [[ 9  4]\n",
            " [ 6 25]]\n",
            "              precision    recall  f1-score   support\n",
            "\n",
            "           0       0.60      0.69      0.64        13\n",
            "           1       0.86      0.81      0.83        31\n",
            "\n",
            "    accuracy                           0.77        44\n",
            "   macro avg       0.73      0.75      0.74        44\n",
            "weighted avg       0.78      0.77      0.78        44\n",
            "\n",
            "Kernelized Support Vector Machines \n",
            " [[ 8  5]\n",
            " [ 5 26]]\n",
            "              precision    recall  f1-score   support\n",
            "\n",
            "           0       0.62      0.62      0.62        13\n",
            "           1       0.84      0.84      0.84        31\n",
            "\n",
            "    accuracy                           0.77        44\n",
            "   macro avg       0.73      0.73      0.73        44\n",
            "weighted avg       0.77      0.77      0.77        44\n",
            "\n"
          ],
          "name": "stdout"
        }
      ]
    },
    {
      "cell_type": "code",
      "metadata": {
        "colab": {
          "base_uri": "https://localhost:8080/"
        },
        "id": "CEfjrC892W9c",
        "outputId": "f711811c-9cc9-4db9-9318-8a51dccb00ac"
      },
      "source": [
        "# Since we have less information, we will use KFold by SVC instead of train_test_split to get more accuracy\n",
        "X1 = data[['TMSE','t','dates','month','clock_drawing']].to_numpy()\n",
        "y1 = data.diagnosis.to_numpy()\n",
        "accuracy_per_fold_SVC_2 = []\n",
        "f1_score_per_fold_SVC_2 = []\n",
        "fold_no = 1\n",
        "kf = KFold(n_splits=10, shuffle=True)\n",
        "for train, test in kf.split(X1, y1):\n",
        "  svc = SVC()\n",
        "  X_train, y_train = X1[train], y1[train]\n",
        "  X_test, y_test = X1[test], y1[test]\n",
        "  svc.fit(X_train, y_train)\n",
        "  y_pred = svc.predict(X_test)\n",
        "  print('Fold No :', fold_no)\n",
        "  print('Accuracy', accuracy_score(y_pred, y_test), 'F1 Score', f1_score(y_test, y_pred))\n",
        "  accuracy_per_fold_SVC_2.append(accuracy_score(y_pred, y_test))\n",
        "  f1_score_per_fold_SVC_2.append(f1_score(y_pred, y_test))\n",
        "  fold_no += 1"
      ],
      "execution_count": null,
      "outputs": [
        {
          "output_type": "stream",
          "text": [
            "Fold No : 1\n",
            "Accuracy 0.7222222222222222 F1 Score 0.8\n",
            "Fold No : 2\n",
            "Accuracy 0.8888888888888888 F1 Score 0.9\n",
            "Fold No : 3\n",
            "Accuracy 0.6666666666666666 F1 Score 0.7272727272727273\n",
            "Fold No : 4\n",
            "Accuracy 0.7777777777777778 F1 Score 0.7777777777777777\n",
            "Fold No : 5\n",
            "Accuracy 0.8888888888888888 F1 Score 0.9\n",
            "Fold No : 6\n",
            "Accuracy 0.8888888888888888 F1 Score 0.9230769230769231\n",
            "Fold No : 7\n",
            "Accuracy 0.8235294117647058 F1 Score 0.8695652173913043\n",
            "Fold No : 8\n",
            "Accuracy 0.8823529411764706 F1 Score 0.9090909090909091\n",
            "Fold No : 9\n",
            "Accuracy 0.5882352941176471 F1 Score 0.6666666666666666\n",
            "Fold No : 10\n",
            "Accuracy 0.7058823529411765 F1 Score 0.7058823529411765\n"
          ],
          "name": "stdout"
        }
      ]
    },
    {
      "cell_type": "code",
      "metadata": {
        "colab": {
          "base_uri": "https://localhost:8080/"
        },
        "id": "waXBxcF517y1",
        "outputId": "7cfb62a7-6909-4eda-f50d-2491ac1550f4"
      },
      "source": [
        "accuracy_per_fold_SVC_2 = np.array(accuracy_per_fold_SVC_2)\n",
        "f1_score_per_fold_SVC_2 = np.array(f1_score_per_fold_SVC_2)\n",
        "print(f'Accuracy Score of KFold with SVC: {accuracy_per_fold_SVC_2.mean()} +- {accuracy_per_fold_SVC_2.std()}')\n",
        "print(f'F1 Score of KFold with SVC: {f1_score_per_fold_SVC_2.mean()} +- {f1_score_per_fold_SVC_2.std()}')\n",
        "print('Different between accuracy score with SVC : {:.4f}'.format(accuracy_per_fold_SVC_2.mean() - accuracy_per_fold_SVC.mean()))\n",
        "print('Different between F1 score with SVC : {:.4f}'.format(f1_score_per_fold_SVC_2.mean() - f1_score_per_fold_SVC.mean()))"
      ],
      "execution_count": null,
      "outputs": [
        {
          "output_type": "stream",
          "text": [
            "Accuracy Score of KFold with SVC: 0.7833333333333333 +- 0.10309460503051743\n",
            "F1 Score of KFold with SVC: 0.8179332574217485 +- 0.09005056930304456\n",
            "Different between accuracy score with SVC : 0.0686\n",
            "Different between F1 score with SVC : 0.0774\n"
          ],
          "name": "stdout"
        }
      ]
    },
    {
      "cell_type": "code",
      "metadata": {
        "colab": {
          "base_uri": "https://localhost:8080/"
        },
        "id": "84E-4cbs17y2",
        "outputId": "2fe0bae9-b7bc-4554-8334-1fa382099df7"
      },
      "source": [
        "# Compare with Kfold by logistic regression\n",
        "accuracy_per_fold_lr_2 = []\n",
        "f1_score_per_fold_lr_2 = []\n",
        "fold_no = 1\n",
        "kf = KFold(n_splits=10, shuffle=True)\n",
        "for train, test in kf.split(X1, y1):\n",
        "  lr = LogisticRegression()\n",
        "  X_train, y_train = X1[train], y1[train]\n",
        "  X_test, y_test = X1[test], y1[test]\n",
        "  lr.fit(X_train, y_train)\n",
        "  y_pred = lr.predict(X_test)\n",
        "  print('Fold No :', fold_no)\n",
        "  print('Accuracy', accuracy_score(y_pred, y_test), 'F1 Score', f1_score(y_test, y_pred))\n",
        "  accuracy_per_fold_lr_2.append(accuracy_score(y_pred, y_test))\n",
        "  f1_score_per_fold_lr_2.append(f1_score(y_pred, y_test))\n",
        "  fold_no += 1"
      ],
      "execution_count": null,
      "outputs": [
        {
          "output_type": "stream",
          "text": [
            "Fold No : 1\n",
            "Accuracy 0.7777777777777778 F1 Score 0.8333333333333334\n",
            "Fold No : 2\n",
            "Accuracy 0.7222222222222222 F1 Score 0.7058823529411764\n",
            "Fold No : 3\n",
            "Accuracy 0.6111111111111112 F1 Score 0.6666666666666666\n",
            "Fold No : 4\n",
            "Accuracy 0.8888888888888888 F1 Score 0.923076923076923\n",
            "Fold No : 5\n",
            "Accuracy 0.6666666666666666 F1 Score 0.7272727272727274\n",
            "Fold No : 6\n",
            "Accuracy 0.6666666666666666 F1 Score 0.6666666666666665\n",
            "Fold No : 7\n",
            "Accuracy 0.7058823529411765 F1 Score 0.7826086956521738\n",
            "Fold No : 8\n",
            "Accuracy 0.8823529411764706 F1 Score 0.9\n",
            "Fold No : 9\n",
            "Accuracy 1.0 F1 Score 1.0\n",
            "Fold No : 10\n",
            "Accuracy 0.7058823529411765 F1 Score 0.761904761904762\n"
          ],
          "name": "stdout"
        }
      ]
    },
    {
      "cell_type": "code",
      "metadata": {
        "colab": {
          "base_uri": "https://localhost:8080/"
        },
        "id": "DLnXEH9i17y3",
        "outputId": "fa0e5cd7-0860-4077-b281-ea739a72c321"
      },
      "source": [
        "accuracy_per_fold_lr_2 = np.array(accuracy_per_fold_lr_2)\n",
        "f1_score_per_fold_lr_2 = np.array(f1_score_per_fold_lr_2)\n",
        "print(f'Accuracy Score of KFold with lr: {accuracy_per_fold_lr_2.mean()} +- {accuracy_per_fold_lr_2.std()}')\n",
        "print(f'F1 Score of KFold with lr: {f1_score_per_fold_lr_2.mean()} +- {f1_score_per_fold_lr_2.std()}')\n",
        "print('Different between accuracy score with lr: {:.4f}'.format(accuracy_per_fold_lr_2.mean() - accuracy_per_fold_lr.mean()))\n",
        "print('Different between F1 score with lr: {:.4f}'.format(f1_score_per_fold_lr_2.mean() - f1_score_per_fold_lr.mean()))"
      ],
      "execution_count": null,
      "outputs": [
        {
          "output_type": "stream",
          "text": [
            "Accuracy Score of KFold with lr: 0.7627450980392158 +- 0.11674673658856434\n",
            "F1 Score of KFold with lr: 0.7967412127514428 +- 0.10844790963228564\n",
            "Different between accuracy score with lr: 0.0173\n",
            "Different between F1 score with lr: 0.0063\n"
          ],
          "name": "stdout"
        }
      ]
    },
    {
      "cell_type": "markdown",
      "metadata": {
        "id": "xuplO3U8_mqj"
      },
      "source": [
        "Result in a little bit different accuracy than using every features."
      ]
    },
    {
      "cell_type": "markdown",
      "metadata": {
        "id": "0c0_3jS35spl"
      },
      "source": [
        "### 2.2.3 'dates','TMSE','TMSE_pass'"
      ]
    },
    {
      "cell_type": "code",
      "metadata": {
        "colab": {
          "base_uri": "https://localhost:8080/"
        },
        "id": "gZDQKUleILy-",
        "outputId": "5aab8ffb-30e2-41c9-9746-02b10b747492"
      },
      "source": [
        "X = data[['dates','TMSE','TMSE_pass']] # most top 3 positive relation between 'diagnosis' and features\n",
        "y = data['diagnosis']\n",
        "scaler = StandardScaler()\n",
        "X = scaler.fit_transform(X)\n",
        "X_train, X_test, y_train, y_test = train_test_split(X, y, random_state=1)\n",
        "# Logistic Regression\n",
        "log_reg = LogisticRegression().fit(X_train, y_train)\n",
        "log_reg_pred = log_reg.predict(X_test)\n",
        "# print(y_test)\n",
        "# print(len(y_test))\n",
        "# print(accuracy_score(y_test, log_reg_pred))\n",
        "print('Accuracy of Logistic Regression on training set: {:.4f}'.format(log_reg.score(X_train, y_train))) # Training Score\n",
        "print('Accuracy of Logistic Regression on test set: {:.4f}'.format(log_reg.score(X_test, y_test))) # Testing Score\n",
        "print('F1 score of Logistic Regression: {:.4f}'.format(f1_score(y_test,log_reg_pred))) # F1 Score"
      ],
      "execution_count": null,
      "outputs": [
        {
          "output_type": "stream",
          "text": [
            "Accuracy of Logistic Regression on training set: 0.7879\n",
            "Accuracy of Logistic Regression on test set: 0.8182\n",
            "F1 score of Logistic Regression: 0.8621\n"
          ],
          "name": "stdout"
        }
      ]
    },
    {
      "cell_type": "code",
      "metadata": {
        "colab": {
          "base_uri": "https://localhost:8080/"
        },
        "id": "AmAhqpkY2605",
        "outputId": "63e6fa24-fd17-461d-a786-39c758acfe12"
      },
      "source": [
        "# Kernelized Support Vector Machines\n",
        "clf2 = SVC().fit(X_train, y_train)\n",
        "clf2_pred = clf2.predict(X_test)\n",
        "print('Accuracy of RBF-kernel SVC on training set: {:.4f}'.format(clf2.score(X_train, y_train))) # Training Score\n",
        "print('Accuracy of RBF-kernel SVC on test set: {:.4f}'.format(clf2.score(X_test, y_test))) # Testing Score\n",
        "print('F1 score of RBF-kernel SVC: {:.4f}'.format(f1_score(y_test,clf2_pred))) # F1 Score"
      ],
      "execution_count": null,
      "outputs": [
        {
          "output_type": "stream",
          "text": [
            "Accuracy of RBF-kernel SVC on training set: 0.7576\n",
            "Accuracy of RBF-kernel SVC on test set: 0.8182\n",
            "F1 score of RBF-kernel SVC: 0.8621\n"
          ],
          "name": "stdout"
        }
      ]
    },
    {
      "cell_type": "code",
      "metadata": {
        "colab": {
          "base_uri": "https://localhost:8080/"
        },
        "id": "So4_VoW-2605",
        "outputId": "62bbca9b-3213-4de1-b8df-d9f6c4bcf61f"
      },
      "source": [
        "# Confusion Matrix\n",
        "# Precision — What percent of your predictions were correct?\n",
        "# Recall — What percent of the positive cases did you catch?\n",
        "lr_predicted = log_reg.predict(X_test)\n",
        "confusion = confusion_matrix(y_test, lr_predicted)\n",
        "print('Logistic regression classifier \\n', confusion)\n",
        "print(metrics.classification_report(y_test,lr_predicted))\n",
        "\n",
        "SVC_predicted = clf2.predict(X_test)\n",
        "confusion2 = confusion_matrix(y_test, SVC_predicted)\n",
        "print('Kernelized Support Vector Machines \\n', confusion2)\n",
        "print(metrics.classification_report(y_test,SVC_predicted))"
      ],
      "execution_count": null,
      "outputs": [
        {
          "output_type": "stream",
          "text": [
            "Logistic regression classifier \n",
            " [[11  2]\n",
            " [ 6 25]]\n",
            "              precision    recall  f1-score   support\n",
            "\n",
            "           0       0.65      0.85      0.73        13\n",
            "           1       0.93      0.81      0.86        31\n",
            "\n",
            "    accuracy                           0.82        44\n",
            "   macro avg       0.79      0.83      0.80        44\n",
            "weighted avg       0.84      0.82      0.82        44\n",
            "\n",
            "Kernelized Support Vector Machines \n",
            " [[11  2]\n",
            " [ 6 25]]\n",
            "              precision    recall  f1-score   support\n",
            "\n",
            "           0       0.65      0.85      0.73        13\n",
            "           1       0.93      0.81      0.86        31\n",
            "\n",
            "    accuracy                           0.82        44\n",
            "   macro avg       0.79      0.83      0.80        44\n",
            "weighted avg       0.84      0.82      0.82        44\n",
            "\n"
          ],
          "name": "stdout"
        }
      ]
    },
    {
      "cell_type": "code",
      "metadata": {
        "colab": {
          "base_uri": "https://localhost:8080/"
        },
        "id": "L5hswd2P2606",
        "outputId": "74b5a66a-b821-42d6-fd62-fc8687f8b67b"
      },
      "source": [
        "# Since we have less information, we will use KFold by SVC instead of train_test_split to get more accuracy\n",
        "X1 = data[['dates','TMSE','TMSE_pass']].to_numpy()\n",
        "y1 = data.diagnosis.to_numpy()\n",
        "accuracy_per_fold_SVC_2 = []\n",
        "f1_score_per_fold_SVC_2 = []\n",
        "fold_no = 1\n",
        "kf = KFold(n_splits=10, shuffle=True)\n",
        "for train, test in kf.split(X1, y1):\n",
        "  svc = SVC()\n",
        "  X_train, y_train = X1[train], y1[train]\n",
        "  X_test, y_test = X1[test], y1[test]\n",
        "  svc.fit(X_train, y_train)\n",
        "  y_pred = svc.predict(X_test)\n",
        "  print('Fold No :', fold_no)\n",
        "  print('Accuracy', accuracy_score(y_pred, y_test), 'F1 Score', f1_score(y_test, y_pred))\n",
        "  accuracy_per_fold_SVC_2.append(accuracy_score(y_pred, y_test))\n",
        "  f1_score_per_fold_SVC_2.append(f1_score(y_pred, y_test))\n",
        "  fold_no += 1"
      ],
      "execution_count": null,
      "outputs": [
        {
          "output_type": "stream",
          "text": [
            "Fold No : 1\n",
            "Accuracy 0.7222222222222222 F1 Score 0.761904761904762\n",
            "Fold No : 2\n",
            "Accuracy 0.7777777777777778 F1 Score 0.8333333333333334\n",
            "Fold No : 3\n",
            "Accuracy 0.7777777777777778 F1 Score 0.8181818181818182\n",
            "Fold No : 4\n",
            "Accuracy 0.8333333333333334 F1 Score 0.8571428571428572\n",
            "Fold No : 5\n",
            "Accuracy 0.8333333333333334 F1 Score 0.8799999999999999\n",
            "Fold No : 6\n",
            "Accuracy 0.6666666666666666 F1 Score 0.6666666666666665\n",
            "Fold No : 7\n",
            "Accuracy 0.7058823529411765 F1 Score 0.7058823529411764\n",
            "Fold No : 8\n",
            "Accuracy 0.6470588235294118 F1 Score 0.7000000000000001\n",
            "Fold No : 9\n",
            "Accuracy 0.6470588235294118 F1 Score 0.7000000000000001\n",
            "Fold No : 10\n",
            "Accuracy 0.7058823529411765 F1 Score 0.8\n"
          ],
          "name": "stdout"
        }
      ]
    },
    {
      "cell_type": "code",
      "metadata": {
        "colab": {
          "base_uri": "https://localhost:8080/"
        },
        "id": "Tidltb-v2606",
        "outputId": "6e545905-150d-4bab-dffe-473d3afd96fe"
      },
      "source": [
        "accuracy_per_fold_SVC_2 = np.array(accuracy_per_fold_SVC_2)\n",
        "f1_score_per_fold_SVC_2 = np.array(f1_score_per_fold_SVC_2)\n",
        "print(f'Accuracy Score of KFold with SVC: {accuracy_per_fold_SVC_2.mean()} +- {accuracy_per_fold_SVC_2.std()}')\n",
        "print(f'F1 Score of KFold with SVC: {f1_score_per_fold_SVC_2.mean()} +- {f1_score_per_fold_SVC_2.std()}')\n",
        "print('Different between accuracy score with SVC : {:.4f}'.format(accuracy_per_fold_SVC_2.mean() - accuracy_per_fold_SVC.mean()))\n",
        "print('Different between F1 score with SVC : {:.4f}'.format(f1_score_per_fold_SVC_2.mean() - f1_score_per_fold_SVC.mean()))"
      ],
      "execution_count": null,
      "outputs": [
        {
          "output_type": "stream",
          "text": [
            "Accuracy Score of KFold with SVC: 0.7316993464052288 +- 0.06699665224360202\n",
            "F1 Score of KFold with SVC: 0.7723111790170614 +- 0.07178261913785573\n",
            "Different between accuracy score with SVC : 0.0170\n",
            "Different between F1 score with SVC : 0.0317\n"
          ],
          "name": "stdout"
        }
      ]
    },
    {
      "cell_type": "code",
      "metadata": {
        "colab": {
          "base_uri": "https://localhost:8080/"
        },
        "id": "hiB-RTX52608",
        "outputId": "f161e9c5-721b-4249-f3d9-63fc46927fc1"
      },
      "source": [
        "# Compare with Kfold by logistic regression\n",
        "accuracy_per_fold_lr_2 = []\n",
        "f1_score_per_fold_lr_2 = []\n",
        "fold_no = 1\n",
        "kf = KFold(n_splits=10, shuffle=True)\n",
        "for train, test in kf.split(X1, y1):\n",
        "  lr = LogisticRegression()\n",
        "  X_train, y_train = X1[train], y1[train]\n",
        "  X_test, y_test = X1[test], y1[test]\n",
        "  lr.fit(X_train, y_train)\n",
        "  y_pred = lr.predict(X_test)\n",
        "  print('Fold No :', fold_no)\n",
        "  print('Accuracy', accuracy_score(y_pred, y_test), 'F1 Score', f1_score(y_test, y_pred))\n",
        "  accuracy_per_fold_lr_2.append(accuracy_score(y_pred, y_test))\n",
        "  f1_score_per_fold_lr_2.append(f1_score(y_pred, y_test))\n",
        "  fold_no += 1"
      ],
      "execution_count": null,
      "outputs": [
        {
          "output_type": "stream",
          "text": [
            "Fold No : 1\n",
            "Accuracy 0.8333333333333334 F1 Score 0.8571428571428571\n",
            "Fold No : 2\n",
            "Accuracy 0.7222222222222222 F1 Score 0.761904761904762\n",
            "Fold No : 3\n",
            "Accuracy 0.8888888888888888 F1 Score 0.9333333333333333\n",
            "Fold No : 4\n",
            "Accuracy 0.6666666666666666 F1 Score 0.6666666666666665\n",
            "Fold No : 5\n",
            "Accuracy 0.6111111111111112 F1 Score 0.6956521739130435\n",
            "Fold No : 6\n",
            "Accuracy 0.8333333333333334 F1 Score 0.8695652173913043\n",
            "Fold No : 7\n",
            "Accuracy 0.7058823529411765 F1 Score 0.7826086956521738\n",
            "Fold No : 8\n",
            "Accuracy 0.8235294117647058 F1 Score 0.823529411764706\n",
            "Fold No : 9\n",
            "Accuracy 0.9411764705882353 F1 Score 0.9333333333333333\n",
            "Fold No : 10\n",
            "Accuracy 0.8235294117647058 F1 Score 0.8695652173913043\n"
          ],
          "name": "stdout"
        }
      ]
    },
    {
      "cell_type": "code",
      "metadata": {
        "colab": {
          "base_uri": "https://localhost:8080/"
        },
        "id": "vWWV8Hyt2608",
        "outputId": "770246cf-4926-49bd-aa89-7d7e3dee46a8"
      },
      "source": [
        "accuracy_per_fold_lr_2 = np.array(accuracy_per_fold_lr_2)\n",
        "f1_score_per_fold_lr_2 = np.array(f1_score_per_fold_lr_2)\n",
        "print(f'Accuracy Score of KFold with lr: {accuracy_per_fold_lr_2.mean()} +- {accuracy_per_fold_lr_2.std()}')\n",
        "print(f'F1 Score of KFold with lr: {f1_score_per_fold_lr_2.mean()} +- {f1_score_per_fold_lr_2.std()}')\n",
        "print('Different between accuracy score with lr: {:.4f}'.format(accuracy_per_fold_lr_2.mean() - accuracy_per_fold_lr.mean()))\n",
        "print('Different between F1 score with lr: {:.4f}'.format(f1_score_per_fold_lr_2.mean() - f1_score_per_fold_lr.mean()))"
      ],
      "execution_count": null,
      "outputs": [
        {
          "output_type": "stream",
          "text": [
            "Accuracy Score of KFold with lr: 0.7849673202614379 +- 0.09862353106639113\n",
            "F1 Score of KFold with lr: 0.8193301668493485 +- 0.08702673816274119\n",
            "Different between accuracy score with lr: 0.0395\n",
            "Different between F1 score with lr: 0.0289\n"
          ],
          "name": "stdout"
        }
      ]
    },
    {
      "cell_type": "markdown",
      "metadata": {
        "id": "WEnRXFeLIgkw"
      },
      "source": [
        "### 2.2.4 'TMSE','TMSE_pass','side'"
      ]
    },
    {
      "cell_type": "code",
      "metadata": {
        "colab": {
          "base_uri": "https://localhost:8080/"
        },
        "id": "5kJlNVPLIviA",
        "outputId": "bfb3db4a-e25f-4edb-c452-28e61f09f687"
      },
      "source": [
        "X = data[['TMSE','TMSE_pass','side']] # most top 3 positive relation between 'diagnosis' and features without date and month\n",
        "y = data['diagnosis']\n",
        "scaler = StandardScaler()\n",
        "X = scaler.fit_transform(X)\n",
        "X_train, X_test, y_train, y_test = train_test_split(X, y, random_state=1)\n",
        "# Logistic Regression\n",
        "log_reg = LogisticRegression().fit(X_train, y_train)\n",
        "log_reg_pred = log_reg.predict(X_test)\n",
        "# print(y_test)\n",
        "# print(len(y_test))\n",
        "# print(accuracy_score(y_test, log_reg_pred))\n",
        "print('Accuracy of Logistic Regression on training set: {:.4f}'.format(log_reg.score(X_train, y_train))) # Training Score\n",
        "print('Accuracy of Logistic Regression on test set: {:.4f}'.format(log_reg.score(X_test, y_test))) # Testing Score\n",
        "print('F1 score of Logistic Regression: {:.4f}'.format(f1_score(y_test,log_reg_pred))) # F1 Score"
      ],
      "execution_count": null,
      "outputs": [
        {
          "output_type": "stream",
          "text": [
            "Accuracy of Logistic Regression on training set: 0.6439\n",
            "Accuracy of Logistic Regression on test set: 0.7273\n",
            "F1 score of Logistic Regression: 0.8286\n"
          ],
          "name": "stdout"
        }
      ]
    },
    {
      "cell_type": "code",
      "metadata": {
        "colab": {
          "base_uri": "https://localhost:8080/"
        },
        "id": "-NFx2-5y3G8y",
        "outputId": "1aed8884-fe7f-4405-c760-e0e23c66acd4"
      },
      "source": [
        "# Kernelized Support Vector Machines\n",
        "clf2 = SVC().fit(X_train, y_train)\n",
        "clf2_pred = clf2.predict(X_test)\n",
        "print('Accuracy of RBF-kernel SVC on training set: {:.4f}'.format(clf2.score(X_train, y_train))) # Training Score\n",
        "print('Accuracy of RBF-kernel SVC on test set: {:.4f}'.format(clf2.score(X_test, y_test))) # Testing Score\n",
        "print('F1 score of RBF-kernel SVC: {:.4f}'.format(f1_score(y_test,clf2_pred))) # F1 Score"
      ],
      "execution_count": null,
      "outputs": [
        {
          "output_type": "stream",
          "text": [
            "Accuracy of RBF-kernel SVC on training set: 0.6515\n",
            "Accuracy of RBF-kernel SVC on test set: 0.7045\n",
            "F1 score of RBF-kernel SVC: 0.8169\n"
          ],
          "name": "stdout"
        }
      ]
    },
    {
      "cell_type": "code",
      "metadata": {
        "colab": {
          "base_uri": "https://localhost:8080/"
        },
        "id": "dcmtN7743G8y",
        "outputId": "5e979581-f7a6-463d-e8db-a9d1755ed4f0"
      },
      "source": [
        "# Confusion Matrix\n",
        "# Precision — What percent of your predictions were correct?\n",
        "# Recall — What percent of the positive cases did you catch?\n",
        "lr_predicted = log_reg.predict(X_test)\n",
        "confusion = confusion_matrix(y_test, lr_predicted)\n",
        "print('Logistic regression classifier \\n', confusion)\n",
        "print(metrics.classification_report(y_test,lr_predicted))\n",
        "\n",
        "SVC_predicted = clf2.predict(X_test)\n",
        "confusion2 = confusion_matrix(y_test, SVC_predicted)\n",
        "print('Kernelized Support Vector Machines \\n', confusion2)\n",
        "print(metrics.classification_report(y_test,SVC_predicted))"
      ],
      "execution_count": null,
      "outputs": [
        {
          "output_type": "stream",
          "text": [
            "Logistic regression classifier \n",
            " [[ 3 10]\n",
            " [ 2 29]]\n",
            "              precision    recall  f1-score   support\n",
            "\n",
            "           0       0.60      0.23      0.33        13\n",
            "           1       0.74      0.94      0.83        31\n",
            "\n",
            "    accuracy                           0.73        44\n",
            "   macro avg       0.67      0.58      0.58        44\n",
            "weighted avg       0.70      0.73      0.68        44\n",
            "\n",
            "Kernelized Support Vector Machines \n",
            " [[ 2 11]\n",
            " [ 2 29]]\n",
            "              precision    recall  f1-score   support\n",
            "\n",
            "           0       0.50      0.15      0.24        13\n",
            "           1       0.72      0.94      0.82        31\n",
            "\n",
            "    accuracy                           0.70        44\n",
            "   macro avg       0.61      0.54      0.53        44\n",
            "weighted avg       0.66      0.70      0.65        44\n",
            "\n"
          ],
          "name": "stdout"
        }
      ]
    },
    {
      "cell_type": "code",
      "metadata": {
        "colab": {
          "base_uri": "https://localhost:8080/"
        },
        "id": "fLBMkm8v3G8z",
        "outputId": "27c506c3-07e5-4833-9f13-5e6989564e91"
      },
      "source": [
        "# Since we have less information, we will use KFold by SVC instead of train_test_split to get more accuracy\n",
        "X1 = data[['TMSE','TMSE_pass','side']].to_numpy()\n",
        "y1 = data.diagnosis.to_numpy()\n",
        "accuracy_per_fold_SVC_2 = []\n",
        "f1_score_per_fold_SVC_2 = []\n",
        "fold_no = 1\n",
        "kf = KFold(n_splits=10, shuffle=True)\n",
        "for train, test in kf.split(X1, y1):\n",
        "  svc = SVC()\n",
        "  X_train, y_train = X1[train], y1[train]\n",
        "  X_test, y_test = X1[test], y1[test]\n",
        "  svc.fit(X_train, y_train)\n",
        "  y_pred = svc.predict(X_test)\n",
        "  print('Fold No :', fold_no)\n",
        "  print('Accuracy', accuracy_score(y_pred, y_test), 'F1 Score', f1_score(y_test, y_pred))\n",
        "  accuracy_per_fold_SVC_2.append(accuracy_score(y_pred, y_test))\n",
        "  f1_score_per_fold_SVC_2.append(f1_score(y_pred, y_test))\n",
        "  fold_no += 1"
      ],
      "execution_count": null,
      "outputs": [
        {
          "output_type": "stream",
          "text": [
            "Fold No : 1\n",
            "Accuracy 0.5 F1 Score 0.6666666666666666\n",
            "Fold No : 2\n",
            "Accuracy 0.5555555555555556 F1 Score 0.7142857142857143\n",
            "Fold No : 3\n",
            "Accuracy 0.5555555555555556 F1 Score 0.7142857142857143\n",
            "Fold No : 4\n",
            "Accuracy 0.6111111111111112 F1 Score 0.7586206896551725\n",
            "Fold No : 5\n",
            "Accuracy 0.7777777777777778 F1 Score 0.8750000000000001\n",
            "Fold No : 6\n",
            "Accuracy 0.5555555555555556 F1 Score 0.7142857142857143\n",
            "Fold No : 7\n",
            "Accuracy 0.47058823529411764 F1 Score 0.6399999999999999\n",
            "Fold No : 8\n",
            "Accuracy 0.7647058823529411 F1 Score 0.8666666666666666\n",
            "Fold No : 9\n",
            "Accuracy 0.6470588235294118 F1 Score 0.7857142857142858\n",
            "Fold No : 10\n",
            "Accuracy 0.6470588235294118 F1 Score 0.7857142857142858\n"
          ],
          "name": "stdout"
        }
      ]
    },
    {
      "cell_type": "code",
      "metadata": {
        "colab": {
          "base_uri": "https://localhost:8080/"
        },
        "id": "gy1W7iYq3G8z",
        "outputId": "f88b65ae-c511-41a6-f4e9-2970180006e8"
      },
      "source": [
        "accuracy_per_fold_SVC_2 = np.array(accuracy_per_fold_SVC_2)\n",
        "f1_score_per_fold_SVC_2 = np.array(f1_score_per_fold_SVC_2)\n",
        "print(f'Accuracy Score of KFold with SVC: {accuracy_per_fold_SVC_2.mean()} +- {accuracy_per_fold_SVC_2.std()}')\n",
        "print(f'F1 Score of KFold with SVC: {f1_score_per_fold_SVC_2.mean()} +- {f1_score_per_fold_SVC_2.std()}')\n",
        "print('Different between accuracy score with SVC : {:.4f}'.format(accuracy_per_fold_SVC_2.mean() - accuracy_per_fold_SVC.mean()))\n",
        "print('Different between F1 score with SVC : {:.4f}'.format(f1_score_per_fold_SVC_2.mean() - f1_score_per_fold_SVC.mean()))"
      ],
      "execution_count": null,
      "outputs": [
        {
          "output_type": "stream",
          "text": [
            "Accuracy Score of KFold with SVC: 0.608496732026144 +- 0.09758938195639397\n",
            "F1 Score of KFold with SVC: 0.752123973727422 +- 0.07395086897538579\n",
            "Different between accuracy score with SVC : -0.1062\n",
            "Different between F1 score with SVC : 0.0116\n"
          ],
          "name": "stdout"
        }
      ]
    },
    {
      "cell_type": "code",
      "metadata": {
        "colab": {
          "base_uri": "https://localhost:8080/"
        },
        "id": "FBkNTBng3G81",
        "outputId": "e4da39e4-f550-4403-d036-a52ad84bcae7"
      },
      "source": [
        "# Compare with Kfold by logistic regression\n",
        "accuracy_per_fold_lr_2 = []\n",
        "f1_score_per_fold_lr_2 = []\n",
        "fold_no = 1\n",
        "kf = KFold(n_splits=10, shuffle=True)\n",
        "for train, test in kf.split(X1, y1):\n",
        "  lr = LogisticRegression()\n",
        "  X_train, y_train = X1[train], y1[train]\n",
        "  X_test, y_test = X1[test], y1[test]\n",
        "  lr.fit(X_train, y_train)\n",
        "  y_pred = lr.predict(X_test)\n",
        "  print('Fold No :', fold_no)\n",
        "  print('Accuracy', accuracy_score(y_pred, y_test), 'F1 Score', f1_score(y_test, y_pred))\n",
        "  accuracy_per_fold_lr_2.append(accuracy_score(y_pred, y_test))\n",
        "  f1_score_per_fold_lr_2.append(f1_score(y_pred, y_test))\n",
        "  fold_no += 1"
      ],
      "execution_count": null,
      "outputs": [
        {
          "output_type": "stream",
          "text": [
            "Fold No : 1\n",
            "Accuracy 0.7222222222222222 F1 Score 0.8148148148148148\n",
            "Fold No : 2\n",
            "Accuracy 0.7222222222222222 F1 Score 0.7826086956521738\n",
            "Fold No : 3\n",
            "Accuracy 0.7222222222222222 F1 Score 0.8\n",
            "Fold No : 4\n",
            "Accuracy 0.6666666666666666 F1 Score 0.8000000000000002\n",
            "Fold No : 5\n",
            "Accuracy 0.4444444444444444 F1 Score 0.5454545454545454\n",
            "Fold No : 6\n",
            "Accuracy 0.7777777777777778 F1 Score 0.8461538461538461\n",
            "Fold No : 7\n",
            "Accuracy 0.47058823529411764 F1 Score 0.5714285714285714\n",
            "Fold No : 8\n",
            "Accuracy 0.7058823529411765 F1 Score 0.8\n",
            "Fold No : 9\n",
            "Accuracy 0.6470588235294118 F1 Score 0.7272727272727272\n",
            "Fold No : 10\n",
            "Accuracy 0.7058823529411765 F1 Score 0.8\n"
          ],
          "name": "stdout"
        }
      ]
    },
    {
      "cell_type": "code",
      "metadata": {
        "colab": {
          "base_uri": "https://localhost:8080/"
        },
        "id": "1WpeyU_H3G82",
        "outputId": "03db4bf3-8b0c-4858-d7e9-e3b9b164388d"
      },
      "source": [
        "accuracy_per_fold_lr_2 = np.array(accuracy_per_fold_lr_2)\n",
        "f1_score_per_fold_lr_2 = np.array(f1_score_per_fold_lr_2)\n",
        "print(f'Accuracy Score of KFold with lr: {accuracy_per_fold_lr_2.mean()} +- {accuracy_per_fold_lr_2.std()}')\n",
        "print(f'F1 Score of KFold with lr: {f1_score_per_fold_lr_2.mean()} +- {f1_score_per_fold_lr_2.std()}')\n",
        "print('Different between accuracy score with lr: {:.4f}'.format(accuracy_per_fold_lr_2.mean() - accuracy_per_fold_lr.mean()))\n",
        "print('Different between F1 score with lr: {:.4f}'.format(f1_score_per_fold_lr_2.mean() - f1_score_per_fold_lr.mean()))"
      ],
      "execution_count": null,
      "outputs": [
        {
          "output_type": "stream",
          "text": [
            "Accuracy Score of KFold with lr: 0.6584967320261439 +- 0.10593730922704224\n",
            "F1 Score of KFold with lr: 0.748773320077668 +- 0.09936696078090601\n",
            "Different between accuracy score with lr: -0.0869\n",
            "Different between F1 score with lr: -0.0416\n"
          ],
          "name": "stdout"
        }
      ]
    },
    {
      "cell_type": "markdown",
      "metadata": {
        "id": "Oc9cFhu66GG7"
      },
      "source": [
        "###2.2.5 Making Least accuracy"
      ]
    },
    {
      "cell_type": "code",
      "metadata": {
        "colab": {
          "base_uri": "https://localhost:8080/"
        },
        "id": "rgbZDerkJbRe",
        "outputId": "2aea2f23-7706-46d4-9e18-031b56939cf4"
      },
      "source": [
        "X = data[['pressure_mean','pressure_std','gender']] # most top 3 least relation between 'diagnosis' and features\n",
        "y = data['diagnosis']\n",
        "scaler = StandardScaler()\n",
        "X = scaler.fit_transform(X)\n",
        "X_train, X_test, y_train, y_test = train_test_split(X, y, random_state=1)\n",
        "# Logistic Regression\n",
        "log_reg = LogisticRegression().fit(X_train, y_train)\n",
        "log_reg_pred = log_reg.predict(X_test)\n",
        "# print(y_test)\n",
        "# print(len(y_test))\n",
        "# print(accuracy_score(y_test, log_reg_pred))\n",
        "print('Accuracy of Logistic Regression on training set: {:.4f}'.format(log_reg.score(X_train, y_train))) # Training Score\n",
        "print('Accuracy of Logistic Regression on test set: {:.4f}'.format(log_reg.score(X_test, y_test))) # Testing Score\n",
        "print('F1 score of Logistic Regression: {:.4f}'.format(f1_score(y_test,log_reg_pred))) # F1 Score"
      ],
      "execution_count": null,
      "outputs": [
        {
          "output_type": "stream",
          "text": [
            "Accuracy of Logistic Regression on training set: 0.5758\n",
            "Accuracy of Logistic Regression on test set: 0.6591\n",
            "F1 score of Logistic Regression: 0.7826\n"
          ],
          "name": "stdout"
        }
      ]
    },
    {
      "cell_type": "code",
      "metadata": {
        "colab": {
          "base_uri": "https://localhost:8080/"
        },
        "id": "QpMyKtq03S3t",
        "outputId": "210dc281-7ed3-4f63-bee0-898843c1b773"
      },
      "source": [
        "# Kernelized Support Vector Machines\n",
        "clf2 = SVC().fit(X_train, y_train)\n",
        "clf2_pred = clf2.predict(X_test)\n",
        "print('Accuracy of RBF-kernel SVC on training set: {:.4f}'.format(clf2.score(X_train, y_train))) # Training Score\n",
        "print('Accuracy of RBF-kernel SVC on test set: {:.4f}'.format(clf2.score(X_test, y_test))) # Testing Score\n",
        "print('F1 score of RBF-kernel SVC: {:.4f}'.format(f1_score(y_test,clf2_pred))) # F1 Score"
      ],
      "execution_count": null,
      "outputs": [
        {
          "output_type": "stream",
          "text": [
            "Accuracy of RBF-kernel SVC on training set: 0.6818\n",
            "Accuracy of RBF-kernel SVC on test set: 0.6818\n",
            "F1 score of RBF-kernel SVC: 0.7941\n"
          ],
          "name": "stdout"
        }
      ]
    },
    {
      "cell_type": "code",
      "metadata": {
        "colab": {
          "base_uri": "https://localhost:8080/"
        },
        "id": "pIFYbXHZ3S3u",
        "outputId": "2e077789-228f-4cfd-f32b-09b413470a9c"
      },
      "source": [
        "# Confusion Matrix\n",
        "# Precision — What percent of your predictions were correct?\n",
        "# Recall — What percent of the positive cases did you catch?\n",
        "lr_predicted = log_reg.predict(X_test)\n",
        "confusion = confusion_matrix(y_test, lr_predicted)\n",
        "print('Logistic regression classifier \\n', confusion)\n",
        "print(metrics.classification_report(y_test,lr_predicted))\n",
        "\n",
        "SVC_predicted = clf2.predict(X_test)\n",
        "confusion2 = confusion_matrix(y_test, SVC_predicted)\n",
        "print('Kernelized Support Vector Machines \\n', confusion2)\n",
        "print(metrics.classification_report(y_test,SVC_predicted))"
      ],
      "execution_count": null,
      "outputs": [
        {
          "output_type": "stream",
          "text": [
            "Logistic regression classifier \n",
            " [[ 2 11]\n",
            " [ 4 27]]\n",
            "              precision    recall  f1-score   support\n",
            "\n",
            "           0       0.33      0.15      0.21        13\n",
            "           1       0.71      0.87      0.78        31\n",
            "\n",
            "    accuracy                           0.66        44\n",
            "   macro avg       0.52      0.51      0.50        44\n",
            "weighted avg       0.60      0.66      0.61        44\n",
            "\n",
            "Kernelized Support Vector Machines \n",
            " [[ 3 10]\n",
            " [ 4 27]]\n",
            "              precision    recall  f1-score   support\n",
            "\n",
            "           0       0.43      0.23      0.30        13\n",
            "           1       0.73      0.87      0.79        31\n",
            "\n",
            "    accuracy                           0.68        44\n",
            "   macro avg       0.58      0.55      0.55        44\n",
            "weighted avg       0.64      0.68      0.65        44\n",
            "\n"
          ],
          "name": "stdout"
        }
      ]
    },
    {
      "cell_type": "code",
      "metadata": {
        "colab": {
          "base_uri": "https://localhost:8080/"
        },
        "id": "6D3Pbqj33S3u",
        "outputId": "a38520ac-82a5-4b58-ab40-d2e4c8a2c028"
      },
      "source": [
        "# Since we have less information, we will use KFold by SVC instead of train_test_split to get more accuracy\n",
        "X1 = data[['pressure_mean','pressure_std','gender']].to_numpy()\n",
        "y1 = data.diagnosis.to_numpy()\n",
        "accuracy_per_fold_SVC_2 = []\n",
        "f1_score_per_fold_SVC_2 = []\n",
        "fold_no = 1\n",
        "kf = KFold(n_splits=10, shuffle=True)\n",
        "for train, test in kf.split(X1, y1):\n",
        "  svc = SVC()\n",
        "  X_train, y_train = X1[train], y1[train]\n",
        "  X_test, y_test = X1[test], y1[test]\n",
        "  svc.fit(X_train, y_train)\n",
        "  y_pred = svc.predict(X_test)\n",
        "  print('Fold No :', fold_no)\n",
        "  print('Accuracy', accuracy_score(y_pred, y_test), 'F1 Score', f1_score(y_test, y_pred))\n",
        "  accuracy_per_fold_SVC_2.append(accuracy_score(y_pred, y_test))\n",
        "  f1_score_per_fold_SVC_2.append(f1_score(y_pred, y_test))\n",
        "  fold_no += 1"
      ],
      "execution_count": null,
      "outputs": [
        {
          "output_type": "stream",
          "text": [
            "Fold No : 1\n",
            "Accuracy 0.7222222222222222 F1 Score 0.8387096774193548\n",
            "Fold No : 2\n",
            "Accuracy 0.6666666666666666 F1 Score 0.8\n",
            "Fold No : 3\n",
            "Accuracy 0.6111111111111112 F1 Score 0.7586206896551725\n",
            "Fold No : 4\n",
            "Accuracy 0.5 F1 Score 0.6666666666666666\n",
            "Fold No : 5\n",
            "Accuracy 0.3888888888888889 F1 Score 0.56\n",
            "Fold No : 6\n",
            "Accuracy 0.6111111111111112 F1 Score 0.7586206896551725\n",
            "Fold No : 7\n",
            "Accuracy 0.5294117647058824 F1 Score 0.6923076923076924\n",
            "Fold No : 8\n",
            "Accuracy 0.6470588235294118 F1 Score 0.7857142857142858\n",
            "Fold No : 9\n",
            "Accuracy 0.6470588235294118 F1 Score 0.7857142857142858\n",
            "Fold No : 10\n",
            "Accuracy 0.7647058823529411 F1 Score 0.8666666666666666\n"
          ],
          "name": "stdout"
        }
      ]
    },
    {
      "cell_type": "code",
      "metadata": {
        "colab": {
          "base_uri": "https://localhost:8080/"
        },
        "id": "Zk9Qh33d3S3v",
        "outputId": "7e31db13-bccc-4552-f3e0-916163472f02"
      },
      "source": [
        "accuracy_per_fold_SVC_2 = np.array(accuracy_per_fold_SVC_2)\n",
        "f1_score_per_fold_SVC_2 = np.array(f1_score_per_fold_SVC_2)\n",
        "print(f'Accuracy Score of KFold with SVC: {accuracy_per_fold_SVC_2.mean()} +- {accuracy_per_fold_SVC_2.std()}')\n",
        "print(f'F1 Score of KFold with SVC: {f1_score_per_fold_SVC_2.mean()} +- {f1_score_per_fold_SVC_2.std()}')\n",
        "print('Different between accuracy score with SVC : {:.4f}'.format(accuracy_per_fold_SVC_2.mean() - accuracy_per_fold_SVC.mean()))\n",
        "print('Different between F1 score with SVC : {:.4f}'.format(f1_score_per_fold_SVC_2.mean() - f1_score_per_fold_SVC.mean()))"
      ],
      "execution_count": null,
      "outputs": [
        {
          "output_type": "stream",
          "text": [
            "Accuracy Score of KFold with SVC: 0.6088235294117648 +- 0.1048612304614713\n",
            "F1 Score of KFold with SVC: 0.7513020653799296 +- 0.08546113972803906\n",
            "Different between accuracy score with SVC : -0.1059\n",
            "Different between F1 score with SVC : 0.0107\n"
          ],
          "name": "stdout"
        }
      ]
    },
    {
      "cell_type": "code",
      "metadata": {
        "colab": {
          "base_uri": "https://localhost:8080/"
        },
        "id": "ZR8UlCp23S3w",
        "outputId": "25a374b6-0fd2-4faf-b5a4-36e35a23777a"
      },
      "source": [
        "# Compare with Kfold by logistic regression\n",
        "accuracy_per_fold_lr_2 = []\n",
        "f1_score_per_fold_lr_2 = []\n",
        "fold_no = 1\n",
        "kf = KFold(n_splits=10, shuffle=True)\n",
        "for train, test in kf.split(X1, y1):\n",
        "  lr = LogisticRegression()\n",
        "  X_train, y_train = X1[train], y1[train]\n",
        "  X_test, y_test = X1[test], y1[test]\n",
        "  lr.fit(X_train, y_train)\n",
        "  y_pred = lr.predict(X_test)\n",
        "  print('Fold No :', fold_no)\n",
        "  print('Accuracy', accuracy_score(y_pred, y_test), 'F1 Score', f1_score(y_test, y_pred))\n",
        "  accuracy_per_fold_lr_2.append(accuracy_score(y_pred, y_test))\n",
        "  f1_score_per_fold_lr_2.append(f1_score(y_pred, y_test))\n",
        "  fold_no += 1"
      ],
      "execution_count": null,
      "outputs": [
        {
          "output_type": "stream",
          "text": [
            "Fold No : 1\n",
            "Accuracy 0.5 F1 Score 0.6666666666666666\n",
            "Fold No : 2\n",
            "Accuracy 0.7222222222222222 F1 Score 0.8387096774193548\n",
            "Fold No : 3\n",
            "Accuracy 0.4444444444444444 F1 Score 0.6153846153846153\n",
            "Fold No : 4\n",
            "Accuracy 0.6666666666666666 F1 Score 0.8\n",
            "Fold No : 5\n",
            "Accuracy 0.6111111111111112 F1 Score 0.7586206896551725\n",
            "Fold No : 6\n",
            "Accuracy 0.6111111111111112 F1 Score 0.7586206896551725\n",
            "Fold No : 7\n",
            "Accuracy 0.7058823529411765 F1 Score 0.8275862068965517\n",
            "Fold No : 8\n",
            "Accuracy 0.5294117647058824 F1 Score 0.6923076923076924\n",
            "Fold No : 9\n",
            "Accuracy 0.5882352941176471 F1 Score 0.7407407407407407\n",
            "Fold No : 10\n",
            "Accuracy 0.7058823529411765 F1 Score 0.8275862068965517\n"
          ],
          "name": "stdout"
        }
      ]
    },
    {
      "cell_type": "code",
      "metadata": {
        "colab": {
          "base_uri": "https://localhost:8080/"
        },
        "id": "-PevUASl3S3w",
        "outputId": "bb54a2a9-87bd-47d9-b468-b271c4239c43"
      },
      "source": [
        "accuracy_per_fold_lr_2 = np.array(accuracy_per_fold_lr_2)\n",
        "f1_score_per_fold_lr_2 = np.array(f1_score_per_fold_lr_2)\n",
        "print(f'Accuracy Score of KFold with lr: {accuracy_per_fold_lr_2.mean()} +- {accuracy_per_fold_lr_2.std()}')\n",
        "print(f'F1 Score of KFold with lr: {f1_score_per_fold_lr_2.mean()} +- {f1_score_per_fold_lr_2.std()}')\n",
        "print('Different between accuracy score with lr: {:.4f}'.format(accuracy_per_fold_lr_2.mean() - accuracy_per_fold_lr.mean()))\n",
        "print('Different between F1 score with lr: {:.4f}'.format(f1_score_per_fold_lr_2.mean() - f1_score_per_fold_lr.mean()))"
      ],
      "execution_count": null,
      "outputs": [
        {
          "output_type": "stream",
          "text": [
            "Accuracy Score of KFold with lr: 0.6084967320261438 +- 0.08980449239194101\n",
            "F1 Score of KFold with lr: 0.7526223185622518 +- 0.0713921531902238\n",
            "Different between accuracy score with lr: -0.1369\n",
            "Different between F1 score with lr: -0.0378\n"
          ],
          "name": "stdout"
        }
      ]
    },
    {
      "cell_type": "markdown",
      "metadata": {
        "id": "RIPU3eIYJzYj"
      },
      "source": [
        "##2.3 Use 'clock_image' by deep learning"
      ]
    },
    {
      "cell_type": "code",
      "metadata": {
        "colab": {
          "base_uri": "https://localhost:8080/",
          "height": 287
        },
        "id": "Gvqm0PeOJ9RP",
        "outputId": "a4666cfe-c17b-41ce-e9f8-a1befc422c8e"
      },
      "source": [
        "# Using Deep learning\n",
        "X = clock_image2.reshape((clock_image2.shape[0],1,150,150))\n",
        "y = data['clock_drawing'].values\n",
        "plt.imshow(clock_image2[0], cmap='gray',vmin=0, vmax=1)\n",
        "plt.show()\n",
        "print(X.shape)\n",
        "X = X.astype('float32')\n",
        "X_train, X_val, y_train, y_val = train_test_split(X, y, random_state=1)"
      ],
      "execution_count": 171,
      "outputs": [
        {
          "output_type": "display_data",
          "data": {
            "image/png": "[encoded data removed]",
            "text/plain": [
              "<Figure size 432x288 with 1 Axes>"
            ]
          },
          "metadata": {
            "needs_background": "light"
          }
        },
        {
          "output_type": "stream",
          "name": "stdout",
          "text": [
            "(176, 1, 150, 150)\n"
          ]
        }
      ]
    },
    {
      "cell_type": "code",
      "source": [
        "def format_cuda_version(version):\n",
        "    return 'cu' + version.replace('.', '')\n",
        "CUDA_version = torch.version.cuda\n",
        "CUDA = format_cuda_version(CUDA_version)\n",
        "device = torch.device('cuda' if torch.cuda.is_available() else 'cpu')\n",
        "device"
      ],
      "metadata": {
        "colab": {
          "base_uri": "https://localhost:8080/"
        },
        "id": "WarHeVtyLcD1",
        "outputId": "d8cae9ce-3864-4b13-bc3d-d629f5ea54f7"
      },
      "execution_count": 172,
      "outputs": [
        {
          "output_type": "execute_result",
          "data": {
            "text/plain": [
              "device(type='cuda')"
            ]
          },
          "metadata": {},
          "execution_count": 172
        }
      ]
    },
    {
      "cell_type": "code",
      "source": [
        "class ClockDataSet(Dataset):\n",
        "    def __init__(self, X, y):\n",
        "        self.X = X\n",
        "        self.y = y\n",
        "    def __len__(self):\n",
        "        return self.X.shape[0]\n",
        "    def __getitem__(self, idx):\n",
        "        return self.X[idx], self.y[idx]"
      ],
      "metadata": {
        "id": "JHA32VwkLRIK"
      },
      "execution_count": 173,
      "outputs": []
    },
    {
      "cell_type": "code",
      "source": [
        "training_data = ClockDataSet(torch.tensor(X_train).to(device), torch.tensor(y_train).to(device))\n",
        "validate_data = ClockDataSet(torch.tensor(X_val).to(device), torch.tensor(y_val).to(device))\n",
        "train_dataloader = DataLoader(training_data, batch_size=16, shuffle=True)\n",
        "validate_dataloader = DataLoader(validate_data, batch_size=32)"
      ],
      "metadata": {
        "id": "Z6CDVhDHLGSC"
      },
      "execution_count": 174,
      "outputs": []
    },
    {
      "cell_type": "code",
      "source": [
        "X_train  = torch.from_numpy(X_train).float()\n",
        "y_train = torch.from_numpy(y_train)\n",
        "X_val  = torch.from_numpy(X_val).float()\n",
        "y_val = torch.from_numpy(y_val)"
      ],
      "metadata": {
        "id": "1bn2pqmFMKjp"
      },
      "execution_count": 175,
      "outputs": []
    },
    {
      "cell_type": "code",
      "source": [
        "# For Model that using Dataloader\n",
        "class ImageClassificationBase(nn.Module):\n",
        "    def training_step(self, batch):\n",
        "        images, labels = batch \n",
        "        out = self(images)                  # Generate predictions\n",
        "        loss = F.cross_entropy(out, labels) # Calculate loss\n",
        "        return loss\n",
        "    def validation_step(self, batch):\n",
        "        images, labels = batch \n",
        "        out = self(images)                    # Generate predictions\n",
        "        loss = F.cross_entropy(out, labels)   # Calculate loss\n",
        "        acc = accuracy(out, labels)           # Calculate accuracy\n",
        "        return {'val_loss': loss.detach(), 'val_acc': acc}\n",
        "    def validation_epoch_end(self, outputs):\n",
        "        batch_losses = [x['val_loss'] for x in outputs]\n",
        "        epoch_loss = torch.stack(batch_losses).mean()   # Combine losses\n",
        "        batch_accs = [x['val_acc'] for x in outputs]\n",
        "        epoch_acc = torch.stack(batch_accs).mean()      # Combine accuracies\n",
        "        return {'val_loss': epoch_loss.item(), 'val_acc': epoch_acc.item()} #[val_loss, val_acc]\n",
        "    def epoch_end(self, epoch, result):\n",
        "        print(\"Epoch [{}], train_loss: {:.4f}, val_loss: {:.4f}, val_acc: {:.4f}\".format(\n",
        "            epoch, result['train_loss'], result['val_loss'], result['val_acc']))\n",
        "\n",
        "def accuracy(outputs, labels):\n",
        "    #print(outputs)\n",
        "    _, preds = torch.max(outputs, dim=1)\n",
        "    #print(preds)\n",
        "    #print(labels)\n",
        "    return torch.tensor(torch.sum(preds==labels).item() / len(preds))\n",
        "  \n",
        "@torch.no_grad()\n",
        "def evaluate(model, val_loader):\n",
        "    model.eval()\n",
        "    outputs = [model.validation_step(batch) for batch in val_loader]\n",
        "    return model.validation_epoch_end(outputs)\n",
        "\n",
        "def fit(epochs, lr, model, train_loader, val_loader, opt_func, min):\n",
        "    history = []\n",
        "    optimizer = opt_func(model.parameters(),lr)\n",
        "    scheduler = ReduceLROnPlateau(optimizer, 'min', factor=0.6, patience=1, min_lr=min)\n",
        "    for epoch in range(epochs):  \n",
        "        model.train()\n",
        "        train_losses = []\n",
        "        for batch in train_loader:\n",
        "            loss = model.training_step(batch)\n",
        "            train_losses.append(loss.cpu().detach())\n",
        "            loss.backward()\n",
        "            optimizer.step()\n",
        "            optimizer.zero_grad()      \n",
        "        result = evaluate(model, val_loader)\n",
        "        result['train_loss'] = torch.stack(train_losses).mean().item()\n",
        "        model.epoch_end(epoch, result)\n",
        "        history.append(result) \n",
        "        print(\"Epoch \"+str(epoch)+\" : Done\")\n",
        "        scheduler.step(result['val_loss']) # schedule learning rate on validation loss\n",
        "    return history\n",
        "\n",
        "def plot_accuracies(history):\n",
        "    \"\"\" Plot the history of accuracies\"\"\"\n",
        "    accuracies = [x['val_acc'] for x in history]\n",
        "    plt.plot(accuracies)\n",
        "    plt.xlabel('epoch')\n",
        "    plt.ylabel('accuracy')\n",
        "    plt.title(\"Validation accuracy\")\n",
        "    plt.show()\n",
        "\n",
        "def plot_losses(history):\n",
        "    \"\"\" Plot the losses in each epoch\"\"\"\n",
        "    train_losses = [x.get('train_loss') for x in history]\n",
        "    val_losses = [x['val_loss'] for x in history]\n",
        "    plt.plot(train_losses)\n",
        "    plt.plot(val_losses)\n",
        "    plt.xlabel('epoch')\n",
        "    plt.ylabel('loss')\n",
        "    plt.legend(['Training loss', 'Validation loss'])\n",
        "    plt.title('Training loss and Validation loss');\n",
        "    plt.show()"
      ],
      "metadata": {
        "id": "cY08Rp_W-tai"
      },
      "execution_count": 176,
      "outputs": []
    },
    {
      "cell_type": "code",
      "source": [
        "# For Model that does not using Dataloader\n",
        "def train(model,epoch,x_train,y_train,x_val,y_val):\n",
        "    model.train()\n",
        "    tr_loss = 0\n",
        "    # getting the training set\n",
        "    # x_train, y_train = X_train, y_train\n",
        "    # getting the validation set\n",
        "    # x_val, y_val = X_val, y_val\n",
        "    # converting the data into GPU format\n",
        "    if torch.cuda.is_available():\n",
        "       x_train = x_train.cuda().float()\n",
        "       y_train = y_train.cuda()\n",
        "       x_val = x_val.cuda().float()\n",
        "       y_val = y_val.cuda()\n",
        "    # clearing the Gradients of the model parameters\n",
        "    optimizer.zero_grad()\n",
        "    # prediction for training and validation set\n",
        "    output_train = model(x_train)\n",
        "    output_val = model(x_val)\n",
        "    # computing the training and validation loss\n",
        "    loss_train = criterion(output_train, y_train)\n",
        "    loss_val = criterion(output_val, y_val)\n",
        "    train_losses.append(loss_train.cpu().detach().numpy())\n",
        "    val_losses.append(loss_val.cpu().detach().numpy())\n",
        "    # computing the updated weights of all the model parameters\n",
        "    loss_train.backward()\n",
        "    optimizer.step()\n",
        "    tr_loss = loss_train.item()\n",
        "    if epoch%2 == 0:\n",
        "        # printing the validation loss\n",
        "        print('Epoch : ',epoch+1, '\\t', 'loss :', loss_val)\n",
        "    scheduler.step(loss_val) # schedule learning rate on validation loss\n",
        "  \n",
        "def plot_result(train_losses,val_losses):\n",
        "  plt.plot(train_losses, label='Training loss')\n",
        "  plt.plot(val_losses, label='Validation loss')\n",
        "  plt.xlabel('epoch')\n",
        "  plt.ylabel('loss')\n",
        "  plt.title('Training loss and Validation loss');\n",
        "  plt.legend()\n",
        "  plt.show()\n",
        "  return"
      ],
      "metadata": {
        "id": "lfT8oA8PDGxp"
      },
      "execution_count": 177,
      "outputs": []
    },
    {
      "cell_type": "code",
      "source": [
        "# For Pretrained model\n",
        "def train2(n_epochs,train_dataloader,validate_dataloader,net,optimizer,criterion):\n",
        "  print_every = 5\n",
        "  valid_loss_min = np.Inf\n",
        "  val_loss = []\n",
        "  val_acc = []\n",
        "  train_loss = []\n",
        "  train_acc = []\n",
        "  total_step = len(train_dataloader)\n",
        "  for epoch in range(1, n_epochs+1):\n",
        "      running_loss = 0.0\n",
        "      correct = 0\n",
        "      total=0\n",
        "      print(f'Epoch {epoch}\\n')\n",
        "      for batch_idx, (data_, target_) in enumerate(train_dataloader):\n",
        "          data_, target_ = data_.to(device).float(), target_.to(device).long()\n",
        "          optimizer.zero_grad()\n",
        "          outputs = net(data_)\n",
        "          loss = criterion(outputs, target_)\n",
        "          loss.backward()\n",
        "          optimizer.step()\n",
        "          running_loss += loss.item()\n",
        "          _,pred = torch.max(outputs, dim=1)\n",
        "          correct += torch.sum(pred==target_).item()\n",
        "          total += target_.size(0)\n",
        "          if (batch_idx) % 20 == 0:\n",
        "              print ('Epoch [{}/{}], Step [{}/{}], Loss: {:.4f}' .format(epoch, n_epochs, batch_idx, total_step, loss.item()))\n",
        "      train_acc.append((100 * correct / total))\n",
        "      train_loss.append((running_loss/total_step))\n",
        "      print(f'\\ntrain-loss: {np.mean(train_loss):.4f}, train-acc: {(100 * correct/total):.4f}')\n",
        "      batch_loss = 0\n",
        "      total_t=0\n",
        "      correct_t=0\n",
        "      with torch.no_grad():\n",
        "          net.eval()\n",
        "          for data_t, target_t in (validate_dataloader):\n",
        "              data_t, target_t = data_t.to(device), target_t.to(device)\n",
        "              outputs_t = net(data_t)\n",
        "              loss_t = criterion(outputs_t, target_t)\n",
        "              batch_loss += loss_t.item()\n",
        "              _,pred_t = torch.max(outputs_t, dim=1)\n",
        "              correct_t += torch.sum(pred_t==target_t).item()\n",
        "              total_t += target_t.size(0)\n",
        "          val_acc.append((100 * correct_t/total_t))\n",
        "          val_loss.append((batch_loss/len(validate_dataloader)))\n",
        "          network_learned = batch_loss < valid_loss_min\n",
        "          print(f'validation loss: {np.mean(val_loss):.4f}, validation acc: {(100 * correct_t/total_t):.4f}\\n')\n",
        "          if network_learned:\n",
        "              valid_loss_min = batch_loss\n",
        "              torch.save(net.state_dict(), '/content/gdrive/My Drive/Work/Y1/CD_PD_data/resnet.pt')\n",
        "              print('Improvement-Detected, save-model')\n",
        "      net.train()\n",
        "  return val_loss, val_acc, train_loss, train_acc\n",
        "\n",
        "def visualize_model(net, num_images=4):\n",
        "    images_so_far = 0\n",
        "    #fig = plt.figure(figsize=(15, 10))\n",
        "    for i, data in enumerate(validate_dataloader):\n",
        "        inputs, labels = data\n",
        "        if (device=='cuda'):\n",
        "            inputs, labels = inputs.cuda(), labels.cuda()\n",
        "        outputs = net(inputs)\n",
        "        _, preds = torch.max(outputs.data, 1)\n",
        "        preds = preds.cpu().numpy() if (device=='cuda') else preds.numpy()\n",
        "        for j in range(inputs.size()[0]):\n",
        "            images_so_far += 1\n",
        "            ax = plt.subplot(2, num_images//2, images_so_far)\n",
        "            ax.axis('off')\n",
        "            ax.set_title('predictes: {}'.format(validate_data.y[j])) # get label class\n",
        "            imshow(inputs[j])\n",
        "            if images_so_far == num_images:\n",
        "                return \n",
        "\n",
        "def accuracy2(out, labels):\n",
        "    _,pred = torch.max(out, dim=1)\n",
        "    return torch.sum(pred==labels).item()\n",
        "\n",
        "def imshow(inp, title=None):\n",
        "    inp = inp.cpu() if device else inp\n",
        "    inp = inp.numpy().transpose((1, 2, 0))\n",
        "    #mean = np.array([0.485, 0.456, 0.406])\n",
        "    #std = np.array([0.229, 0.224, 0.225])\n",
        "    #inp = std * inp + mean\n",
        "    inp = np.clip(inp, 0, 1)\n",
        "    plt.imshow(inp)\n",
        "    if title is not None:\n",
        "        plt.title(title)\n",
        "    plt.pause(0.001)\n",
        "\n",
        "def plot_pre_accuracy(train_acc,val_acc):\n",
        "  plt.title(\"Training accuracy and Validation accuracy\")\n",
        "  plt.plot(train_acc, label='Training')\n",
        "  plt.plot(val_acc, label='Validation')\n",
        "  plt.xlabel('epoch')\n",
        "  plt.ylabel('accuracy')\n",
        "  plt.legend(loc='best')\n",
        "  plt.show()\n",
        "\n",
        "def plot_pre_loss(train_losses,val_losses):\n",
        "  plt.plot(train_loss, label='Training')\n",
        "  plt.plot(val_loss, label='Validation')\n",
        "  plt.xlabel('epoch')\n",
        "  plt.ylabel('loss')\n",
        "  plt.legend(loc='best')\n",
        "  plt.title('Training loss and Validation loss');\n",
        "  plt.show()"
      ],
      "metadata": {
        "id": "R3nxLOTA65MH"
      },
      "execution_count": 178,
      "outputs": []
    },
    {
      "cell_type": "markdown",
      "metadata": {
        "id": "fmkqEGk-_UCG"
      },
      "source": [
        "###Model 1"
      ]
    },
    {
      "cell_type": "markdown",
      "source": [
        "#### Training 1 -> Overfit"
      ],
      "metadata": {
        "id": "PY_FPQhXEeiO"
      }
    },
    {
      "cell_type": "code",
      "metadata": {
        "id": "PKOfEdyLD4vF"
      },
      "source": [
        "class Net(Module):   \n",
        "    def __init__(self):\n",
        "        super(Net, self).__init__()\n",
        "        self.cnn_layers = Sequential(\n",
        "            # Defining a 2D convolution layer\n",
        "            Conv2d(1, 4, kernel_size=3, stride=1, padding=1),\n",
        "            BatchNorm2d(4),\n",
        "            ReLU(inplace=True),\n",
        "            MaxPool2d(kernel_size=2, stride=2),\n",
        "            # Defining another 2D convolution layer\n",
        "            Conv2d(4, 4, kernel_size=3, stride=1, padding=1),\n",
        "            BatchNorm2d(4),\n",
        "            ReLU(inplace=True),\n",
        "            MaxPool2d(kernel_size=2, stride=2),\n",
        "        )\n",
        "        self.linear_layers = Sequential(\n",
        "            Linear(5476, 2)\n",
        "        )\n",
        "    # Defining the forward pass    \n",
        "    def forward(self, x):\n",
        "        x = self.cnn_layers(x)\n",
        "        x = x.view(x.size(0), -1)\n",
        "        x = self.linear_layers(x)\n",
        "        return x"
      ],
      "execution_count": 182,
      "outputs": []
    },
    {
      "cell_type": "code",
      "metadata": {
        "colab": {
          "base_uri": "https://localhost:8080/"
        },
        "id": "C8TYxRkoEBwl",
        "outputId": "4c79c632-d229-4020-c840-60b34841c9ee"
      },
      "source": [
        "model_1 = Net()\n",
        "optimizer = optim.Adam(model_1.parameters(), lr=0.0001)\n",
        "criterion = CrossEntropyLoss()\n",
        "scheduler = ReduceLROnPlateau(optimizer, 'min', factor=0.85, patience=2, min_lr=0.000001) # use scheduler to reduce learning rate\n",
        "if torch.cuda.is_available():\n",
        "    model_1 = model_1.cuda()\n",
        "    criterion = criterion.cuda()\n",
        "print(model_1)"
      ],
      "execution_count": 187,
      "outputs": [
        {
          "output_type": "stream",
          "name": "stdout",
          "text": [
            "Net(\n",
            "  (cnn_layers): Sequential(\n",
            "    (0): Conv2d(1, 4, kernel_size=(3, 3), stride=(1, 1), padding=(1, 1))\n",
            "    (1): BatchNorm2d(4, eps=1e-05, momentum=0.1, affine=True, track_running_stats=True)\n",
            "    (2): ReLU(inplace=True)\n",
            "    (3): MaxPool2d(kernel_size=2, stride=2, padding=0, dilation=1, ceil_mode=False)\n",
            "    (4): Conv2d(4, 4, kernel_size=(3, 3), stride=(1, 1), padding=(1, 1))\n",
            "    (5): BatchNorm2d(4, eps=1e-05, momentum=0.1, affine=True, track_running_stats=True)\n",
            "    (6): ReLU(inplace=True)\n",
            "    (7): MaxPool2d(kernel_size=2, stride=2, padding=0, dilation=1, ceil_mode=False)\n",
            "  )\n",
            "  (linear_layers): Sequential(\n",
            "    (0): Linear(in_features=5476, out_features=2, bias=True)\n",
            "  )\n",
            ")\n"
          ]
        }
      ]
    },
    {
      "cell_type": "code",
      "metadata": {
        "colab": {
          "base_uri": "https://localhost:8080/"
        },
        "id": "AXpo2pLDE4yF",
        "outputId": "d303526c-a932-4d92-8e24-c6331ae9b0e3"
      },
      "source": [
        "# Epoch 1-200\n",
        "n_epochs = 300\n",
        "train_losses = []\n",
        "val_losses = []\n",
        "for epoch in range(n_epochs):\n",
        "    train(model_1,epoch,X_train,y_train,X_val,y_val)"
      ],
      "execution_count": 188,
      "outputs": [
        {
          "output_type": "stream",
          "name": "stdout",
          "text": [
            "Epoch :  1 \t loss : tensor(0.9260, device='cuda:0', grad_fn=<NllLossBackward0>)\n",
            "Epoch :  3 \t loss : tensor(0.8411, device='cuda:0', grad_fn=<NllLossBackward0>)\n",
            "Epoch :  5 \t loss : tensor(0.7942, device='cuda:0', grad_fn=<NllLossBackward0>)\n",
            "Epoch :  7 \t loss : tensor(0.7544, device='cuda:0', grad_fn=<NllLossBackward0>)\n",
            "Epoch :  9 \t loss : tensor(0.7151, device='cuda:0', grad_fn=<NllLossBackward0>)\n",
            "Epoch :  11 \t loss : tensor(0.6808, device='cuda:0', grad_fn=<NllLossBackward0>)\n",
            "Epoch :  13 \t loss : tensor(0.6542, device='cuda:0', grad_fn=<NllLossBackward0>)\n",
            "Epoch :  15 \t loss : tensor(0.6346, device='cuda:0', grad_fn=<NllLossBackward0>)\n",
            "Epoch :  17 \t loss : tensor(0.6207, device='cuda:0', grad_fn=<NllLossBackward0>)\n",
            "Epoch :  19 \t loss : tensor(0.6115, device='cuda:0', grad_fn=<NllLossBackward0>)\n",
            "Epoch :  21 \t loss : tensor(0.6056, device='cuda:0', grad_fn=<NllLossBackward0>)\n",
            "Epoch :  23 \t loss : tensor(0.6007, device='cuda:0', grad_fn=<NllLossBackward0>)\n",
            "Epoch :  25 \t loss : tensor(0.5949, device='cuda:0', grad_fn=<NllLossBackward0>)\n",
            "Epoch :  27 \t loss : tensor(0.5880, device='cuda:0', grad_fn=<NllLossBackward0>)\n",
            "Epoch :  29 \t loss : tensor(0.5809, device='cuda:0', grad_fn=<NllLossBackward0>)\n",
            "Epoch :  31 \t loss : tensor(0.5745, device='cuda:0', grad_fn=<NllLossBackward0>)\n",
            "Epoch :  33 \t loss : tensor(0.5695, device='cuda:0', grad_fn=<NllLossBackward0>)\n",
            "Epoch :  35 \t loss : tensor(0.5659, device='cuda:0', grad_fn=<NllLossBackward0>)\n",
            "Epoch :  37 \t loss : tensor(0.5635, device='cuda:0', grad_fn=<NllLossBackward0>)\n",
            "Epoch :  39 \t loss : tensor(0.5619, device='cuda:0', grad_fn=<NllLossBackward0>)\n",
            "Epoch :  41 \t loss : tensor(0.5605, device='cuda:0', grad_fn=<NllLossBackward0>)\n",
            "Epoch :  43 \t loss : tensor(0.5587, device='cuda:0', grad_fn=<NllLossBackward0>)\n",
            "Epoch :  45 \t loss : tensor(0.5561, device='cuda:0', grad_fn=<NllLossBackward0>)\n",
            "Epoch :  47 \t loss : tensor(0.5530, device='cuda:0', grad_fn=<NllLossBackward0>)\n",
            "Epoch :  49 \t loss : tensor(0.5498, device='cuda:0', grad_fn=<NllLossBackward0>)\n",
            "Epoch :  51 \t loss : tensor(0.5470, device='cuda:0', grad_fn=<NllLossBackward0>)\n",
            "Epoch :  53 \t loss : tensor(0.5448, device='cuda:0', grad_fn=<NllLossBackward0>)\n",
            "Epoch :  55 \t loss : tensor(0.5434, device='cuda:0', grad_fn=<NllLossBackward0>)\n",
            "Epoch :  57 \t loss : tensor(0.5426, device='cuda:0', grad_fn=<NllLossBackward0>)\n",
            "Epoch :  59 \t loss : tensor(0.5422, device='cuda:0', grad_fn=<NllLossBackward0>)\n",
            "Epoch :  61 \t loss : tensor(0.5419, device='cuda:0', grad_fn=<NllLossBackward0>)\n",
            "Epoch :  63 \t loss : tensor(0.5414, device='cuda:0', grad_fn=<NllLossBackward0>)\n",
            "Epoch :  65 \t loss : tensor(0.5406, device='cuda:0', grad_fn=<NllLossBackward0>)\n",
            "Epoch :  67 \t loss : tensor(0.5397, device='cuda:0', grad_fn=<NllLossBackward0>)\n",
            "Epoch :  69 \t loss : tensor(0.5389, device='cuda:0', grad_fn=<NllLossBackward0>)\n",
            "Epoch :  71 \t loss : tensor(0.5381, device='cuda:0', grad_fn=<NllLossBackward0>)\n",
            "Epoch :  73 \t loss : tensor(0.5377, device='cuda:0', grad_fn=<NllLossBackward0>)\n",
            "Epoch :  75 \t loss : tensor(0.5376, device='cuda:0', grad_fn=<NllLossBackward0>)\n",
            "Epoch :  77 \t loss : tensor(0.5377, device='cuda:0', grad_fn=<NllLossBackward0>)\n",
            "Epoch :  79 \t loss : tensor(0.5381, device='cuda:0', grad_fn=<NllLossBackward0>)\n",
            "Epoch :  81 \t loss : tensor(0.5386, device='cuda:0', grad_fn=<NllLossBackward0>)\n",
            "Epoch :  83 \t loss : tensor(0.5390, device='cuda:0', grad_fn=<NllLossBackward0>)\n",
            "Epoch :  85 \t loss : tensor(0.5393, device='cuda:0', grad_fn=<NllLossBackward0>)\n",
            "Epoch :  87 \t loss : tensor(0.5396, device='cuda:0', grad_fn=<NllLossBackward0>)\n",
            "Epoch :  89 \t loss : tensor(0.5398, device='cuda:0', grad_fn=<NllLossBackward0>)\n",
            "Epoch :  91 \t loss : tensor(0.5400, device='cuda:0', grad_fn=<NllLossBackward0>)\n",
            "Epoch :  93 \t loss : tensor(0.5402, device='cuda:0', grad_fn=<NllLossBackward0>)\n",
            "Epoch :  95 \t loss : tensor(0.5404, device='cuda:0', grad_fn=<NllLossBackward0>)\n",
            "Epoch :  97 \t loss : tensor(0.5405, device='cuda:0', grad_fn=<NllLossBackward0>)\n",
            "Epoch :  99 \t loss : tensor(0.5407, device='cuda:0', grad_fn=<NllLossBackward0>)\n",
            "Epoch :  101 \t loss : tensor(0.5408, device='cuda:0', grad_fn=<NllLossBackward0>)\n",
            "Epoch :  103 \t loss : tensor(0.5410, device='cuda:0', grad_fn=<NllLossBackward0>)\n",
            "Epoch :  105 \t loss : tensor(0.5411, device='cuda:0', grad_fn=<NllLossBackward0>)\n",
            "Epoch :  107 \t loss : tensor(0.5412, device='cuda:0', grad_fn=<NllLossBackward0>)\n",
            "Epoch :  109 \t loss : tensor(0.5414, device='cuda:0', grad_fn=<NllLossBackward0>)\n",
            "Epoch :  111 \t loss : tensor(0.5415, device='cuda:0', grad_fn=<NllLossBackward0>)\n",
            "Epoch :  113 \t loss : tensor(0.5416, device='cuda:0', grad_fn=<NllLossBackward0>)\n",
            "Epoch :  115 \t loss : tensor(0.5417, device='cuda:0', grad_fn=<NllLossBackward0>)\n",
            "Epoch :  117 \t loss : tensor(0.5418, device='cuda:0', grad_fn=<NllLossBackward0>)\n",
            "Epoch :  119 \t loss : tensor(0.5419, device='cuda:0', grad_fn=<NllLossBackward0>)\n",
            "Epoch :  121 \t loss : tensor(0.5420, device='cuda:0', grad_fn=<NllLossBackward0>)\n",
            "Epoch :  123 \t loss : tensor(0.5421, device='cuda:0', grad_fn=<NllLossBackward0>)\n",
            "Epoch :  125 \t loss : tensor(0.5421, device='cuda:0', grad_fn=<NllLossBackward0>)\n",
            "Epoch :  127 \t loss : tensor(0.5422, device='cuda:0', grad_fn=<NllLossBackward0>)\n",
            "Epoch :  129 \t loss : tensor(0.5423, device='cuda:0', grad_fn=<NllLossBackward0>)\n",
            "Epoch :  131 \t loss : tensor(0.5423, device='cuda:0', grad_fn=<NllLossBackward0>)\n",
            "Epoch :  133 \t loss : tensor(0.5423, device='cuda:0', grad_fn=<NllLossBackward0>)\n",
            "Epoch :  135 \t loss : tensor(0.5424, device='cuda:0', grad_fn=<NllLossBackward0>)\n",
            "Epoch :  137 \t loss : tensor(0.5424, device='cuda:0', grad_fn=<NllLossBackward0>)\n",
            "Epoch :  139 \t loss : tensor(0.5424, device='cuda:0', grad_fn=<NllLossBackward0>)\n",
            "Epoch :  141 \t loss : tensor(0.5425, device='cuda:0', grad_fn=<NllLossBackward0>)\n",
            "Epoch :  143 \t loss : tensor(0.5425, device='cuda:0', grad_fn=<NllLossBackward0>)\n",
            "Epoch :  145 \t loss : tensor(0.5425, device='cuda:0', grad_fn=<NllLossBackward0>)\n",
            "Epoch :  147 \t loss : tensor(0.5425, device='cuda:0', grad_fn=<NllLossBackward0>)\n",
            "Epoch :  149 \t loss : tensor(0.5426, device='cuda:0', grad_fn=<NllLossBackward0>)\n",
            "Epoch :  151 \t loss : tensor(0.5426, device='cuda:0', grad_fn=<NllLossBackward0>)\n",
            "Epoch :  153 \t loss : tensor(0.5426, device='cuda:0', grad_fn=<NllLossBackward0>)\n",
            "Epoch :  155 \t loss : tensor(0.5426, device='cuda:0', grad_fn=<NllLossBackward0>)\n",
            "Epoch :  157 \t loss : tensor(0.5426, device='cuda:0', grad_fn=<NllLossBackward0>)\n",
            "Epoch :  159 \t loss : tensor(0.5426, device='cuda:0', grad_fn=<NllLossBackward0>)\n",
            "Epoch :  161 \t loss : tensor(0.5426, device='cuda:0', grad_fn=<NllLossBackward0>)\n",
            "Epoch :  163 \t loss : tensor(0.5426, device='cuda:0', grad_fn=<NllLossBackward0>)\n",
            "Epoch :  165 \t loss : tensor(0.5426, device='cuda:0', grad_fn=<NllLossBackward0>)\n",
            "Epoch :  167 \t loss : tensor(0.5427, device='cuda:0', grad_fn=<NllLossBackward0>)\n",
            "Epoch :  169 \t loss : tensor(0.5427, device='cuda:0', grad_fn=<NllLossBackward0>)\n",
            "Epoch :  171 \t loss : tensor(0.5427, device='cuda:0', grad_fn=<NllLossBackward0>)\n",
            "Epoch :  173 \t loss : tensor(0.5427, device='cuda:0', grad_fn=<NllLossBackward0>)\n",
            "Epoch :  175 \t loss : tensor(0.5427, device='cuda:0', grad_fn=<NllLossBackward0>)\n",
            "Epoch :  177 \t loss : tensor(0.5427, device='cuda:0', grad_fn=<NllLossBackward0>)\n",
            "Epoch :  179 \t loss : tensor(0.5427, device='cuda:0', grad_fn=<NllLossBackward0>)\n",
            "Epoch :  181 \t loss : tensor(0.5427, device='cuda:0', grad_fn=<NllLossBackward0>)\n",
            "Epoch :  183 \t loss : tensor(0.5427, device='cuda:0', grad_fn=<NllLossBackward0>)\n",
            "Epoch :  185 \t loss : tensor(0.5427, device='cuda:0', grad_fn=<NllLossBackward0>)\n",
            "Epoch :  187 \t loss : tensor(0.5427, device='cuda:0', grad_fn=<NllLossBackward0>)\n",
            "Epoch :  189 \t loss : tensor(0.5428, device='cuda:0', grad_fn=<NllLossBackward0>)\n",
            "Epoch :  191 \t loss : tensor(0.5428, device='cuda:0', grad_fn=<NllLossBackward0>)\n",
            "Epoch :  193 \t loss : tensor(0.5428, device='cuda:0', grad_fn=<NllLossBackward0>)\n",
            "Epoch :  195 \t loss : tensor(0.5428, device='cuda:0', grad_fn=<NllLossBackward0>)\n",
            "Epoch :  197 \t loss : tensor(0.5428, device='cuda:0', grad_fn=<NllLossBackward0>)\n",
            "Epoch :  199 \t loss : tensor(0.5428, device='cuda:0', grad_fn=<NllLossBackward0>)\n",
            "Epoch :  201 \t loss : tensor(0.5428, device='cuda:0', grad_fn=<NllLossBackward0>)\n",
            "Epoch :  203 \t loss : tensor(0.5428, device='cuda:0', grad_fn=<NllLossBackward0>)\n",
            "Epoch :  205 \t loss : tensor(0.5428, device='cuda:0', grad_fn=<NllLossBackward0>)\n",
            "Epoch :  207 \t loss : tensor(0.5428, device='cuda:0', grad_fn=<NllLossBackward0>)\n",
            "Epoch :  209 \t loss : tensor(0.5429, device='cuda:0', grad_fn=<NllLossBackward0>)\n",
            "Epoch :  211 \t loss : tensor(0.5429, device='cuda:0', grad_fn=<NllLossBackward0>)\n",
            "Epoch :  213 \t loss : tensor(0.5429, device='cuda:0', grad_fn=<NllLossBackward0>)\n",
            "Epoch :  215 \t loss : tensor(0.5429, device='cuda:0', grad_fn=<NllLossBackward0>)\n",
            "Epoch :  217 \t loss : tensor(0.5429, device='cuda:0', grad_fn=<NllLossBackward0>)\n",
            "Epoch :  219 \t loss : tensor(0.5429, device='cuda:0', grad_fn=<NllLossBackward0>)\n",
            "Epoch :  221 \t loss : tensor(0.5429, device='cuda:0', grad_fn=<NllLossBackward0>)\n",
            "Epoch :  223 \t loss : tensor(0.5429, device='cuda:0', grad_fn=<NllLossBackward0>)\n",
            "Epoch :  225 \t loss : tensor(0.5429, device='cuda:0', grad_fn=<NllLossBackward0>)\n",
            "Epoch :  227 \t loss : tensor(0.5429, device='cuda:0', grad_fn=<NllLossBackward0>)\n",
            "Epoch :  229 \t loss : tensor(0.5430, device='cuda:0', grad_fn=<NllLossBackward0>)\n",
            "Epoch :  231 \t loss : tensor(0.5430, device='cuda:0', grad_fn=<NllLossBackward0>)\n",
            "Epoch :  233 \t loss : tensor(0.5430, device='cuda:0', grad_fn=<NllLossBackward0>)\n",
            "Epoch :  235 \t loss : tensor(0.5430, device='cuda:0', grad_fn=<NllLossBackward0>)\n",
            "Epoch :  237 \t loss : tensor(0.5430, device='cuda:0', grad_fn=<NllLossBackward0>)\n",
            "Epoch :  239 \t loss : tensor(0.5430, device='cuda:0', grad_fn=<NllLossBackward0>)\n",
            "Epoch :  241 \t loss : tensor(0.5430, device='cuda:0', grad_fn=<NllLossBackward0>)\n",
            "Epoch :  243 \t loss : tensor(0.5430, device='cuda:0', grad_fn=<NllLossBackward0>)\n",
            "Epoch :  245 \t loss : tensor(0.5430, device='cuda:0', grad_fn=<NllLossBackward0>)\n",
            "Epoch :  247 \t loss : tensor(0.5430, device='cuda:0', grad_fn=<NllLossBackward0>)\n",
            "Epoch :  249 \t loss : tensor(0.5431, device='cuda:0', grad_fn=<NllLossBackward0>)\n",
            "Epoch :  251 \t loss : tensor(0.5431, device='cuda:0', grad_fn=<NllLossBackward0>)\n",
            "Epoch :  253 \t loss : tensor(0.5431, device='cuda:0', grad_fn=<NllLossBackward0>)\n",
            "Epoch :  255 \t loss : tensor(0.5431, device='cuda:0', grad_fn=<NllLossBackward0>)\n",
            "Epoch :  257 \t loss : tensor(0.5431, device='cuda:0', grad_fn=<NllLossBackward0>)\n",
            "Epoch :  259 \t loss : tensor(0.5431, device='cuda:0', grad_fn=<NllLossBackward0>)\n",
            "Epoch :  261 \t loss : tensor(0.5431, device='cuda:0', grad_fn=<NllLossBackward0>)\n",
            "Epoch :  263 \t loss : tensor(0.5431, device='cuda:0', grad_fn=<NllLossBackward0>)\n",
            "Epoch :  265 \t loss : tensor(0.5431, device='cuda:0', grad_fn=<NllLossBackward0>)\n",
            "Epoch :  267 \t loss : tensor(0.5432, device='cuda:0', grad_fn=<NllLossBackward0>)\n",
            "Epoch :  269 \t loss : tensor(0.5432, device='cuda:0', grad_fn=<NllLossBackward0>)\n",
            "Epoch :  271 \t loss : tensor(0.5432, device='cuda:0', grad_fn=<NllLossBackward0>)\n",
            "Epoch :  273 \t loss : tensor(0.5432, device='cuda:0', grad_fn=<NllLossBackward0>)\n",
            "Epoch :  275 \t loss : tensor(0.5432, device='cuda:0', grad_fn=<NllLossBackward0>)\n",
            "Epoch :  277 \t loss : tensor(0.5432, device='cuda:0', grad_fn=<NllLossBackward0>)\n",
            "Epoch :  279 \t loss : tensor(0.5432, device='cuda:0', grad_fn=<NllLossBackward0>)\n",
            "Epoch :  281 \t loss : tensor(0.5432, device='cuda:0', grad_fn=<NllLossBackward0>)\n",
            "Epoch :  283 \t loss : tensor(0.5432, device='cuda:0', grad_fn=<NllLossBackward0>)\n",
            "Epoch :  285 \t loss : tensor(0.5433, device='cuda:0', grad_fn=<NllLossBackward0>)\n",
            "Epoch :  287 \t loss : tensor(0.5433, device='cuda:0', grad_fn=<NllLossBackward0>)\n",
            "Epoch :  289 \t loss : tensor(0.5433, device='cuda:0', grad_fn=<NllLossBackward0>)\n",
            "Epoch :  291 \t loss : tensor(0.5433, device='cuda:0', grad_fn=<NllLossBackward0>)\n",
            "Epoch :  293 \t loss : tensor(0.5433, device='cuda:0', grad_fn=<NllLossBackward0>)\n",
            "Epoch :  295 \t loss : tensor(0.5433, device='cuda:0', grad_fn=<NllLossBackward0>)\n",
            "Epoch :  297 \t loss : tensor(0.5433, device='cuda:0', grad_fn=<NllLossBackward0>)\n",
            "Epoch :  299 \t loss : tensor(0.5433, device='cuda:0', grad_fn=<NllLossBackward0>)\n"
          ]
        }
      ]
    },
    {
      "cell_type": "code",
      "metadata": {
        "colab": {
          "base_uri": "https://localhost:8080/",
          "height": 295
        },
        "id": "UprQIsCDJmGd",
        "outputId": "d872bda0-a14f-4be4-a489-be1cc22a5d18"
      },
      "source": [
        "plot_result(train_losses,val_losses)"
      ],
      "execution_count": 189,
      "outputs": [
        {
          "output_type": "display_data",
          "data": {
            "image/png": "[encoded data removed]",
            "text/plain": [
              "<Figure size 432x288 with 1 Axes>"
            ]
          },
          "metadata": {
            "needs_background": "light"
          }
        }
      ]
    },
    {
      "cell_type": "code",
      "source": [
        "torch.save(model_1.state_dict(), '/content/gdrive/My Drive/Work/Y1/CD_PD_data/CNN-1-1.pt')"
      ],
      "metadata": {
        "id": "CnhHgwiDDeSN"
      },
      "execution_count": 190,
      "outputs": []
    },
    {
      "cell_type": "code",
      "source": [
        "model = Net().to(device)\n",
        "model.load_state_dict(torch.load('/content/gdrive/My Drive/Work/Y1/CD_PD_data/CNN-1-1.pt'))"
      ],
      "metadata": {
        "id": "t4FKnz7ODoK7",
        "colab": {
          "base_uri": "https://localhost:8080/"
        },
        "outputId": "9632d8a6-2fac-44a0-acb9-daaf2b1b2654"
      },
      "execution_count": 191,
      "outputs": [
        {
          "output_type": "execute_result",
          "data": {
            "text/plain": [
              "<All keys matched successfully>"
            ]
          },
          "metadata": {},
          "execution_count": 191
        }
      ]
    },
    {
      "cell_type": "code",
      "source": [
        "# prediction for training set\n",
        "with torch.no_grad():\n",
        "  if (torch.cuda.is_available()):\n",
        "    output = model(X_train.cuda())\n",
        "  else:\n",
        "    output = model(X_train)\n",
        "softmax = torch.exp(output).cpu()\n",
        "prob = list(softmax.numpy())\n",
        "predictions = np.argmax(prob, axis=1)\n",
        "print(\"Training accuracy: \"+str(accuracy_score(y_train, predictions)))"
      ],
      "metadata": {
        "colab": {
          "base_uri": "https://localhost:8080/"
        },
        "id": "VDOsTHvIEQHL",
        "outputId": "11822c17-a9be-408f-8bbf-03a3055034bd"
      },
      "execution_count": 192,
      "outputs": [
        {
          "output_type": "stream",
          "name": "stdout",
          "text": [
            "Training accuracy: 1.0\n"
          ]
        }
      ]
    },
    {
      "cell_type": "code",
      "metadata": {
        "colab": {
          "base_uri": "https://localhost:8080/"
        },
        "id": "UzEill9kJytN",
        "outputId": "fff5ff4b-4b71-48d5-f673-f8e5a7631803"
      },
      "source": [
        "# prediction for validation set\n",
        "with torch.no_grad():\n",
        "  if (torch.cuda.is_available()):\n",
        "    output = model(X_val.cuda())\n",
        "  else:\n",
        "    output = model(X_val)\n",
        "softmax = torch.exp(output).cpu()\n",
        "prob = list(softmax.numpy())\n",
        "predictions = np.argmax(prob, axis=1)\n",
        "print(\"Validate accuracy: \"+str(accuracy_score(y_val, predictions)))"
      ],
      "execution_count": 193,
      "outputs": [
        {
          "output_type": "stream",
          "name": "stdout",
          "text": [
            "Validate accuracy: 0.7727272727272727\n"
          ]
        }
      ]
    },
    {
      "cell_type": "markdown",
      "source": [
        "#### Training 2 (Dropout)"
      ],
      "metadata": {
        "id": "uyzuoKUyI7r-"
      }
    },
    {
      "cell_type": "code",
      "metadata": {
        "id": "15SLuZ5Uwwrp"
      },
      "source": [
        "class Net(Module):   \n",
        "    def __init__(self):\n",
        "        super(Net, self).__init__()\n",
        "        self.cnn_layers = Sequential(\n",
        "            # Defining a 2D convolution layer\n",
        "            Conv2d(1, 4, kernel_size=3, stride=1, padding=1),\n",
        "            BatchNorm2d(4),\n",
        "            ReLU(inplace=True),\n",
        "            MaxPool2d(kernel_size=2, stride=2),\n",
        "            nn.Dropout(0.2),\n",
        "            # Defining another 2D convolution layer\n",
        "            Conv2d(4, 4, kernel_size=3, stride=1, padding=1),\n",
        "            BatchNorm2d(4),\n",
        "            ReLU(inplace=True),\n",
        "            MaxPool2d(kernel_size=2, stride=2),\n",
        "        )\n",
        "        self.linear_layers = Sequential(\n",
        "            nn.Dropout(0.2),\n",
        "            Linear(5476, 2)\n",
        "        )\n",
        "    # Defining the forward pass    \n",
        "    def forward(self, x):\n",
        "        x = self.cnn_layers(x)\n",
        "        x = x.view(x.size(0), -1)\n",
        "        x = self.linear_layers(x)\n",
        "        return x"
      ],
      "execution_count": 198,
      "outputs": []
    },
    {
      "cell_type": "code",
      "metadata": {
        "colab": {
          "base_uri": "https://localhost:8080/"
        },
        "outputId": "398c5ba9-5889-4571-f190-e35b9bd1efd4",
        "id": "ANHn7mXBwwrp"
      },
      "source": [
        "model_1 = Net()\n",
        "optimizer = optim.Adam(model_1.parameters(), lr=0.0001)\n",
        "criterion = CrossEntropyLoss()\n",
        "scheduler = ReduceLROnPlateau(optimizer, 'min', factor=0.85, patience=2, min_lr=0.000001)\n",
        "if torch.cuda.is_available():\n",
        "    model_1 = model_1.cuda()\n",
        "    criterion = criterion.cuda()\n",
        "print(model_1)"
      ],
      "execution_count": 200,
      "outputs": [
        {
          "output_type": "stream",
          "name": "stdout",
          "text": [
            "Net(\n",
            "  (cnn_layers): Sequential(\n",
            "    (0): Conv2d(1, 4, kernel_size=(3, 3), stride=(1, 1), padding=(1, 1))\n",
            "    (1): BatchNorm2d(4, eps=1e-05, momentum=0.1, affine=True, track_running_stats=True)\n",
            "    (2): ReLU(inplace=True)\n",
            "    (3): MaxPool2d(kernel_size=2, stride=2, padding=0, dilation=1, ceil_mode=False)\n",
            "    (4): Dropout(p=0.2, inplace=False)\n",
            "    (5): Conv2d(4, 4, kernel_size=(3, 3), stride=(1, 1), padding=(1, 1))\n",
            "    (6): BatchNorm2d(4, eps=1e-05, momentum=0.1, affine=True, track_running_stats=True)\n",
            "    (7): ReLU(inplace=True)\n",
            "    (8): MaxPool2d(kernel_size=2, stride=2, padding=0, dilation=1, ceil_mode=False)\n",
            "  )\n",
            "  (linear_layers): Sequential(\n",
            "    (0): Dropout(p=0.2, inplace=False)\n",
            "    (1): Linear(in_features=5476, out_features=2, bias=True)\n",
            "  )\n",
            ")\n"
          ]
        }
      ]
    },
    {
      "cell_type": "code",
      "metadata": {
        "colab": {
          "base_uri": "https://localhost:8080/"
        },
        "outputId": "1865547c-d87e-491f-8946-cf6064c17f56",
        "id": "j37dOX4wwwrp"
      },
      "source": [
        "# Epoch 1-200\n",
        "n_epochs = 200\n",
        "train_losses = []\n",
        "val_losses = []\n",
        "for epoch in range(n_epochs):\n",
        "    train(model_1,epoch,X_train,y_train,X_val,y_val)"
      ],
      "execution_count": 201,
      "outputs": [
        {
          "output_type": "stream",
          "name": "stdout",
          "text": [
            "Epoch :  1 \t loss : tensor(0.8999, device='cuda:0', grad_fn=<NllLossBackward0>)\n",
            "Epoch :  3 \t loss : tensor(0.7615, device='cuda:0', grad_fn=<NllLossBackward0>)\n",
            "Epoch :  5 \t loss : tensor(0.8839, device='cuda:0', grad_fn=<NllLossBackward0>)\n",
            "Epoch :  7 \t loss : tensor(0.8231, device='cuda:0', grad_fn=<NllLossBackward0>)\n",
            "Epoch :  9 \t loss : tensor(0.7376, device='cuda:0', grad_fn=<NllLossBackward0>)\n",
            "Epoch :  11 \t loss : tensor(0.7203, device='cuda:0', grad_fn=<NllLossBackward0>)\n",
            "Epoch :  13 \t loss : tensor(0.6602, device='cuda:0', grad_fn=<NllLossBackward0>)\n",
            "Epoch :  15 \t loss : tensor(0.8119, device='cuda:0', grad_fn=<NllLossBackward0>)\n",
            "Epoch :  17 \t loss : tensor(0.7049, device='cuda:0', grad_fn=<NllLossBackward0>)\n",
            "Epoch :  19 \t loss : tensor(0.6355, device='cuda:0', grad_fn=<NllLossBackward0>)\n",
            "Epoch :  21 \t loss : tensor(0.7340, device='cuda:0', grad_fn=<NllLossBackward0>)\n",
            "Epoch :  23 \t loss : tensor(0.6983, device='cuda:0', grad_fn=<NllLossBackward0>)\n",
            "Epoch :  25 \t loss : tensor(0.6510, device='cuda:0', grad_fn=<NllLossBackward0>)\n",
            "Epoch :  27 \t loss : tensor(0.6808, device='cuda:0', grad_fn=<NllLossBackward0>)\n",
            "Epoch :  29 \t loss : tensor(0.7532, device='cuda:0', grad_fn=<NllLossBackward0>)\n",
            "Epoch :  31 \t loss : tensor(0.7605, device='cuda:0', grad_fn=<NllLossBackward0>)\n",
            "Epoch :  33 \t loss : tensor(0.6826, device='cuda:0', grad_fn=<NllLossBackward0>)\n",
            "Epoch :  35 \t loss : tensor(0.7172, device='cuda:0', grad_fn=<NllLossBackward0>)\n",
            "Epoch :  37 \t loss : tensor(0.6227, device='cuda:0', grad_fn=<NllLossBackward0>)\n",
            "Epoch :  39 \t loss : tensor(0.7149, device='cuda:0', grad_fn=<NllLossBackward0>)\n",
            "Epoch :  41 \t loss : tensor(0.6107, device='cuda:0', grad_fn=<NllLossBackward0>)\n",
            "Epoch :  43 \t loss : tensor(0.6932, device='cuda:0', grad_fn=<NllLossBackward0>)\n",
            "Epoch :  45 \t loss : tensor(0.7637, device='cuda:0', grad_fn=<NllLossBackward0>)\n",
            "Epoch :  47 \t loss : tensor(0.6982, device='cuda:0', grad_fn=<NllLossBackward0>)\n",
            "Epoch :  49 \t loss : tensor(0.6427, device='cuda:0', grad_fn=<NllLossBackward0>)\n",
            "Epoch :  51 \t loss : tensor(0.6808, device='cuda:0', grad_fn=<NllLossBackward0>)\n",
            "Epoch :  53 \t loss : tensor(0.6661, device='cuda:0', grad_fn=<NllLossBackward0>)\n",
            "Epoch :  55 \t loss : tensor(0.6749, device='cuda:0', grad_fn=<NllLossBackward0>)\n",
            "Epoch :  57 \t loss : tensor(0.6582, device='cuda:0', grad_fn=<NllLossBackward0>)\n",
            "Epoch :  59 \t loss : tensor(0.6125, device='cuda:0', grad_fn=<NllLossBackward0>)\n",
            "Epoch :  61 \t loss : tensor(0.6292, device='cuda:0', grad_fn=<NllLossBackward0>)\n",
            "Epoch :  63 \t loss : tensor(0.5921, device='cuda:0', grad_fn=<NllLossBackward0>)\n",
            "Epoch :  65 \t loss : tensor(0.6386, device='cuda:0', grad_fn=<NllLossBackward0>)\n",
            "Epoch :  67 \t loss : tensor(0.6595, device='cuda:0', grad_fn=<NllLossBackward0>)\n",
            "Epoch :  69 \t loss : tensor(0.7373, device='cuda:0', grad_fn=<NllLossBackward0>)\n",
            "Epoch :  71 \t loss : tensor(0.6981, device='cuda:0', grad_fn=<NllLossBackward0>)\n",
            "Epoch :  73 \t loss : tensor(0.6793, device='cuda:0', grad_fn=<NllLossBackward0>)\n",
            "Epoch :  75 \t loss : tensor(0.7216, device='cuda:0', grad_fn=<NllLossBackward0>)\n",
            "Epoch :  77 \t loss : tensor(0.6986, device='cuda:0', grad_fn=<NllLossBackward0>)\n",
            "Epoch :  79 \t loss : tensor(0.7552, device='cuda:0', grad_fn=<NllLossBackward0>)\n",
            "Epoch :  81 \t loss : tensor(0.5728, device='cuda:0', grad_fn=<NllLossBackward0>)\n",
            "Epoch :  83 \t loss : tensor(0.7418, device='cuda:0', grad_fn=<NllLossBackward0>)\n",
            "Epoch :  85 \t loss : tensor(0.6638, device='cuda:0', grad_fn=<NllLossBackward0>)\n",
            "Epoch :  87 \t loss : tensor(0.6777, device='cuda:0', grad_fn=<NllLossBackward0>)\n",
            "Epoch :  89 \t loss : tensor(0.6928, device='cuda:0', grad_fn=<NllLossBackward0>)\n",
            "Epoch :  91 \t loss : tensor(0.6087, device='cuda:0', grad_fn=<NllLossBackward0>)\n",
            "Epoch :  93 \t loss : tensor(0.6125, device='cuda:0', grad_fn=<NllLossBackward0>)\n",
            "Epoch :  95 \t loss : tensor(0.7011, device='cuda:0', grad_fn=<NllLossBackward0>)\n",
            "Epoch :  97 \t loss : tensor(0.5917, device='cuda:0', grad_fn=<NllLossBackward0>)\n",
            "Epoch :  99 \t loss : tensor(0.7384, device='cuda:0', grad_fn=<NllLossBackward0>)\n",
            "Epoch :  101 \t loss : tensor(0.6414, device='cuda:0', grad_fn=<NllLossBackward0>)\n",
            "Epoch :  103 \t loss : tensor(0.6362, device='cuda:0', grad_fn=<NllLossBackward0>)\n",
            "Epoch :  105 \t loss : tensor(0.6362, device='cuda:0', grad_fn=<NllLossBackward0>)\n",
            "Epoch :  107 \t loss : tensor(0.6782, device='cuda:0', grad_fn=<NllLossBackward0>)\n",
            "Epoch :  109 \t loss : tensor(0.7619, device='cuda:0', grad_fn=<NllLossBackward0>)\n",
            "Epoch :  111 \t loss : tensor(0.6565, device='cuda:0', grad_fn=<NllLossBackward0>)\n",
            "Epoch :  113 \t loss : tensor(0.5805, device='cuda:0', grad_fn=<NllLossBackward0>)\n",
            "Epoch :  115 \t loss : tensor(0.6726, device='cuda:0', grad_fn=<NllLossBackward0>)\n",
            "Epoch :  117 \t loss : tensor(0.6853, device='cuda:0', grad_fn=<NllLossBackward0>)\n",
            "Epoch :  119 \t loss : tensor(0.6189, device='cuda:0', grad_fn=<NllLossBackward0>)\n",
            "Epoch :  121 \t loss : tensor(0.6590, device='cuda:0', grad_fn=<NllLossBackward0>)\n",
            "Epoch :  123 \t loss : tensor(0.6869, device='cuda:0', grad_fn=<NllLossBackward0>)\n",
            "Epoch :  125 \t loss : tensor(0.6213, device='cuda:0', grad_fn=<NllLossBackward0>)\n",
            "Epoch :  127 \t loss : tensor(0.7079, device='cuda:0', grad_fn=<NllLossBackward0>)\n",
            "Epoch :  129 \t loss : tensor(0.6667, device='cuda:0', grad_fn=<NllLossBackward0>)\n",
            "Epoch :  131 \t loss : tensor(0.6731, device='cuda:0', grad_fn=<NllLossBackward0>)\n",
            "Epoch :  133 \t loss : tensor(0.6723, device='cuda:0', grad_fn=<NllLossBackward0>)\n",
            "Epoch :  135 \t loss : tensor(0.6878, device='cuda:0', grad_fn=<NllLossBackward0>)\n",
            "Epoch :  137 \t loss : tensor(0.6296, device='cuda:0', grad_fn=<NllLossBackward0>)\n",
            "Epoch :  139 \t loss : tensor(0.6284, device='cuda:0', grad_fn=<NllLossBackward0>)\n",
            "Epoch :  141 \t loss : tensor(0.6077, device='cuda:0', grad_fn=<NllLossBackward0>)\n",
            "Epoch :  143 \t loss : tensor(0.6999, device='cuda:0', grad_fn=<NllLossBackward0>)\n",
            "Epoch :  145 \t loss : tensor(0.5830, device='cuda:0', grad_fn=<NllLossBackward0>)\n",
            "Epoch :  147 \t loss : tensor(0.5641, device='cuda:0', grad_fn=<NllLossBackward0>)\n",
            "Epoch :  149 \t loss : tensor(0.6183, device='cuda:0', grad_fn=<NllLossBackward0>)\n",
            "Epoch :  151 \t loss : tensor(0.6398, device='cuda:0', grad_fn=<NllLossBackward0>)\n",
            "Epoch :  153 \t loss : tensor(0.5226, device='cuda:0', grad_fn=<NllLossBackward0>)\n",
            "Epoch :  155 \t loss : tensor(0.5787, device='cuda:0', grad_fn=<NllLossBackward0>)\n",
            "Epoch :  157 \t loss : tensor(0.6627, device='cuda:0', grad_fn=<NllLossBackward0>)\n",
            "Epoch :  159 \t loss : tensor(0.6572, device='cuda:0', grad_fn=<NllLossBackward0>)\n",
            "Epoch :  161 \t loss : tensor(0.7091, device='cuda:0', grad_fn=<NllLossBackward0>)\n",
            "Epoch :  163 \t loss : tensor(0.6871, device='cuda:0', grad_fn=<NllLossBackward0>)\n",
            "Epoch :  165 \t loss : tensor(0.6093, device='cuda:0', grad_fn=<NllLossBackward0>)\n",
            "Epoch :  167 \t loss : tensor(0.6925, device='cuda:0', grad_fn=<NllLossBackward0>)\n",
            "Epoch :  169 \t loss : tensor(0.6682, device='cuda:0', grad_fn=<NllLossBackward0>)\n",
            "Epoch :  171 \t loss : tensor(0.7103, device='cuda:0', grad_fn=<NllLossBackward0>)\n",
            "Epoch :  173 \t loss : tensor(0.6320, device='cuda:0', grad_fn=<NllLossBackward0>)\n",
            "Epoch :  175 \t loss : tensor(0.6814, device='cuda:0', grad_fn=<NllLossBackward0>)\n",
            "Epoch :  177 \t loss : tensor(0.7237, device='cuda:0', grad_fn=<NllLossBackward0>)\n",
            "Epoch :  179 \t loss : tensor(0.6972, device='cuda:0', grad_fn=<NllLossBackward0>)\n",
            "Epoch :  181 \t loss : tensor(0.5957, device='cuda:0', grad_fn=<NllLossBackward0>)\n",
            "Epoch :  183 \t loss : tensor(0.6069, device='cuda:0', grad_fn=<NllLossBackward0>)\n",
            "Epoch :  185 \t loss : tensor(0.6700, device='cuda:0', grad_fn=<NllLossBackward0>)\n",
            "Epoch :  187 \t loss : tensor(0.7117, device='cuda:0', grad_fn=<NllLossBackward0>)\n",
            "Epoch :  189 \t loss : tensor(0.6573, device='cuda:0', grad_fn=<NllLossBackward0>)\n",
            "Epoch :  191 \t loss : tensor(0.6811, device='cuda:0', grad_fn=<NllLossBackward0>)\n",
            "Epoch :  193 \t loss : tensor(0.7188, device='cuda:0', grad_fn=<NllLossBackward0>)\n",
            "Epoch :  195 \t loss : tensor(0.5930, device='cuda:0', grad_fn=<NllLossBackward0>)\n",
            "Epoch :  197 \t loss : tensor(0.6333, device='cuda:0', grad_fn=<NllLossBackward0>)\n",
            "Epoch :  199 \t loss : tensor(0.6404, device='cuda:0', grad_fn=<NllLossBackward0>)\n"
          ]
        }
      ]
    },
    {
      "cell_type": "code",
      "metadata": {
        "colab": {
          "base_uri": "https://localhost:8080/",
          "height": 295
        },
        "outputId": "55462920-afa8-41cd-be48-dc1e923a3dea",
        "id": "yBQys_1Rwwrq"
      },
      "source": [
        "plot_result(train_losses,val_losses)"
      ],
      "execution_count": 202,
      "outputs": [
        {
          "output_type": "display_data",
          "data": {
            "image/png": "[encoded data removed]",
            "text/plain": [
              "<Figure size 432x288 with 1 Axes>"
            ]
          },
          "metadata": {
            "needs_background": "light"
          }
        }
      ]
    },
    {
      "cell_type": "code",
      "source": [
        "torch.save(model_1.state_dict(), '/content/gdrive/My Drive/Work/Y1/CD_PD_data/CNN-1-2.pt')"
      ],
      "metadata": {
        "id": "W9wtl2_kwwrq"
      },
      "execution_count": 203,
      "outputs": []
    },
    {
      "cell_type": "code",
      "source": [
        "model = Net().to(device)\n",
        "model.load_state_dict(torch.load('/content/gdrive/My Drive/Work/Y1/CD_PD_data/CNN-1-2.pt'))"
      ],
      "metadata": {
        "colab": {
          "base_uri": "https://localhost:8080/"
        },
        "outputId": "c087d085-bfdb-42bb-8901-30cdfee9a15b",
        "id": "vgF2Y2pDwwrq"
      },
      "execution_count": 204,
      "outputs": [
        {
          "output_type": "execute_result",
          "data": {
            "text/plain": [
              "<All keys matched successfully>"
            ]
          },
          "metadata": {},
          "execution_count": 204
        }
      ]
    },
    {
      "cell_type": "code",
      "source": [
        "# prediction for training set\n",
        "with torch.no_grad():\n",
        "  if (torch.cuda.is_available()):\n",
        "    output = model(X_train.cuda())\n",
        "  else:\n",
        "    output = model(X_train)\n",
        "softmax = torch.exp(output).cpu()\n",
        "prob = list(softmax.numpy())\n",
        "predictions = np.argmax(prob, axis=1)\n",
        "print(\"Training accuracy: \"+str(accuracy_score(y_train, predictions)))"
      ],
      "metadata": {
        "colab": {
          "base_uri": "https://localhost:8080/"
        },
        "outputId": "34ab015d-b004-486b-cff0-68120bb60daf",
        "id": "om2Hg49rwwrq"
      },
      "execution_count": 205,
      "outputs": [
        {
          "output_type": "stream",
          "name": "stdout",
          "text": [
            "Training accuracy: 0.9015151515151515\n"
          ]
        }
      ]
    },
    {
      "cell_type": "code",
      "metadata": {
        "colab": {
          "base_uri": "https://localhost:8080/"
        },
        "outputId": "39fbefbc-5de1-4cb0-f46f-77e731bb5506",
        "id": "_mSZRaIuwwrq"
      },
      "source": [
        "# prediction for validation set\n",
        "with torch.no_grad():\n",
        "  if (torch.cuda.is_available()):\n",
        "    output = model(X_val.cuda())\n",
        "  else:\n",
        "    output = model(X_val)\n",
        "softmax = torch.exp(output).cpu()\n",
        "prob = list(softmax.numpy())\n",
        "predictions = np.argmax(prob, axis=1)\n",
        "print(\"Validate accuracy: \"+str(accuracy_score(y_val, predictions)))"
      ],
      "execution_count": 206,
      "outputs": [
        {
          "output_type": "stream",
          "name": "stdout",
          "text": [
            "Validate accuracy: 0.75\n"
          ]
        }
      ]
    },
    {
      "cell_type": "markdown",
      "source": [
        "#### Training 3 (Dataloader)"
      ],
      "metadata": {
        "id": "Cag9lVN8C7vx"
      }
    },
    {
      "cell_type": "code",
      "source": [
        "class ClockClassification(ImageClassificationBase):\n",
        "    def __init__(self):\n",
        "        super().__init__()\n",
        "        self.network = nn.Sequential(\n",
        "            Conv2d(1, 4, kernel_size=3, stride=1, padding=1),\n",
        "            BatchNorm2d(4),\n",
        "            ReLU(inplace=True),\n",
        "            MaxPool2d(kernel_size=2, stride=2),\n",
        "            nn.Dropout(0.2),\n",
        "            # Defining another 2D convolution layer\n",
        "            Conv2d(4, 4, kernel_size=3, stride=1, padding=1),\n",
        "            BatchNorm2d(4),\n",
        "            ReLU(inplace=True),\n",
        "            MaxPool2d(kernel_size=2, stride=2),\n",
        "            nn.Dropout(0.2),\n",
        "            nn.Flatten(),\n",
        "            Linear(5476, 2),\n",
        "        )\n",
        "    def forward(self, xb):\n",
        "        return self.network(xb)"
      ],
      "metadata": {
        "id": "u9kdvGvRCciJ"
      },
      "execution_count": 218,
      "outputs": []
    },
    {
      "cell_type": "code",
      "metadata": {
        "colab": {
          "base_uri": "https://localhost:8080/"
        },
        "outputId": "6243860e-d1e0-42aa-f40b-a1e2df0084ac",
        "id": "Zvr4_Z31DUOU"
      },
      "source": [
        "model_1 = ClockClassification().to(device)\n",
        "print(model_1)"
      ],
      "execution_count": 219,
      "outputs": [
        {
          "output_type": "stream",
          "name": "stdout",
          "text": [
            "ClockClassification(\n",
            "  (network): Sequential(\n",
            "    (0): Conv2d(1, 4, kernel_size=(3, 3), stride=(1, 1), padding=(1, 1))\n",
            "    (1): BatchNorm2d(4, eps=1e-05, momentum=0.1, affine=True, track_running_stats=True)\n",
            "    (2): ReLU(inplace=True)\n",
            "    (3): MaxPool2d(kernel_size=2, stride=2, padding=0, dilation=1, ceil_mode=False)\n",
            "    (4): Dropout(p=0.2, inplace=False)\n",
            "    (5): Conv2d(4, 4, kernel_size=(3, 3), stride=(1, 1), padding=(1, 1))\n",
            "    (6): BatchNorm2d(4, eps=1e-05, momentum=0.1, affine=True, track_running_stats=True)\n",
            "    (7): ReLU(inplace=True)\n",
            "    (8): MaxPool2d(kernel_size=2, stride=2, padding=0, dilation=1, ceil_mode=False)\n",
            "    (9): Dropout(p=0.2, inplace=False)\n",
            "    (10): Flatten(start_dim=1, end_dim=-1)\n",
            "    (11): Linear(in_features=5476, out_features=2, bias=True)\n",
            "  )\n",
            ")\n"
          ]
        }
      ]
    },
    {
      "cell_type": "code",
      "metadata": {
        "colab": {
          "base_uri": "https://localhost:8080/"
        },
        "outputId": "43adbbdc-dda5-457b-a4a0-f1d38cdfcd40",
        "id": "Duzqrzr-DUOU"
      },
      "source": [
        "# Epoch 1-200\n",
        "num_epochs = 200\n",
        "opt_func = torch.optim.Adam\n",
        "lr = 0.0001\n",
        "#fitting the model on training data and record the result after each epoch\n",
        "history = fit(num_epochs, lr, model_1, train_dataloader, validate_dataloader, opt_func, 0.00001)"
      ],
      "execution_count": 220,
      "outputs": [
        {
          "output_type": "stream",
          "name": "stdout",
          "text": [
            "Epoch [0], train_loss: 1.0116, val_loss: 0.6800, val_acc: 0.5833\n",
            "Epoch 0 : Done\n",
            "Epoch [1], train_loss: 0.7353, val_loss: 0.6720, val_acc: 0.5833\n",
            "Epoch 1 : Done\n",
            "Epoch [2], train_loss: 0.5986, val_loss: 0.6644, val_acc: 0.5990\n",
            "Epoch 2 : Done\n",
            "Epoch [3], train_loss: 0.5004, val_loss: 0.6526, val_acc: 0.6875\n",
            "Epoch 3 : Done\n",
            "Epoch [4], train_loss: 0.4507, val_loss: 0.6337, val_acc: 0.6615\n",
            "Epoch 4 : Done\n",
            "Epoch [5], train_loss: 0.4274, val_loss: 0.6219, val_acc: 0.6615\n",
            "Epoch 5 : Done\n",
            "Epoch [6], train_loss: 0.3614, val_loss: 0.6198, val_acc: 0.6615\n",
            "Epoch 6 : Done\n",
            "Epoch [7], train_loss: 0.3968, val_loss: 0.6289, val_acc: 0.6615\n",
            "Epoch 7 : Done\n",
            "Epoch [8], train_loss: 0.3472, val_loss: 0.6326, val_acc: 0.6615\n",
            "Epoch 8 : Done\n",
            "Epoch [9], train_loss: 0.3072, val_loss: 0.6416, val_acc: 0.6615\n",
            "Epoch 9 : Done\n",
            "Epoch [10], train_loss: 0.3229, val_loss: 0.6469, val_acc: 0.6771\n",
            "Epoch 10 : Done\n",
            "Epoch [11], train_loss: 0.2928, val_loss: 0.6461, val_acc: 0.6771\n",
            "Epoch 11 : Done\n",
            "Epoch [12], train_loss: 0.3126, val_loss: 0.6332, val_acc: 0.6927\n",
            "Epoch 12 : Done\n",
            "Epoch [13], train_loss: 0.2663, val_loss: 0.6310, val_acc: 0.6927\n",
            "Epoch 13 : Done\n",
            "Epoch [14], train_loss: 0.3281, val_loss: 0.6319, val_acc: 0.6927\n",
            "Epoch 14 : Done\n",
            "Epoch [15], train_loss: 0.2763, val_loss: 0.6323, val_acc: 0.6927\n",
            "Epoch 15 : Done\n",
            "Epoch [16], train_loss: 0.2721, val_loss: 0.6308, val_acc: 0.6927\n",
            "Epoch 16 : Done\n",
            "Epoch [17], train_loss: 0.2669, val_loss: 0.6345, val_acc: 0.6927\n",
            "Epoch 17 : Done\n",
            "Epoch [18], train_loss: 0.3008, val_loss: 0.6390, val_acc: 0.6771\n",
            "Epoch 18 : Done\n",
            "Epoch [19], train_loss: 0.2522, val_loss: 0.6389, val_acc: 0.6771\n",
            "Epoch 19 : Done\n",
            "Epoch [20], train_loss: 0.2679, val_loss: 0.6355, val_acc: 0.6771\n",
            "Epoch 20 : Done\n",
            "Epoch [21], train_loss: 0.3179, val_loss: 0.6350, val_acc: 0.6771\n",
            "Epoch 21 : Done\n",
            "Epoch [22], train_loss: 0.2787, val_loss: 0.6363, val_acc: 0.6771\n",
            "Epoch 22 : Done\n",
            "Epoch [23], train_loss: 0.2700, val_loss: 0.6309, val_acc: 0.6771\n",
            "Epoch 23 : Done\n",
            "Epoch [24], train_loss: 0.2486, val_loss: 0.6291, val_acc: 0.6771\n",
            "Epoch 24 : Done\n",
            "Epoch [25], train_loss: 0.2495, val_loss: 0.6297, val_acc: 0.6771\n",
            "Epoch 25 : Done\n",
            "Epoch [26], train_loss: 0.2393, val_loss: 0.6316, val_acc: 0.6771\n",
            "Epoch 26 : Done\n",
            "Epoch [27], train_loss: 0.2765, val_loss: 0.6317, val_acc: 0.6771\n",
            "Epoch 27 : Done\n",
            "Epoch [28], train_loss: 0.2757, val_loss: 0.6313, val_acc: 0.6771\n",
            "Epoch 28 : Done\n",
            "Epoch [29], train_loss: 0.2672, val_loss: 0.6341, val_acc: 0.6771\n",
            "Epoch 29 : Done\n",
            "Epoch [30], train_loss: 0.2391, val_loss: 0.6331, val_acc: 0.6771\n",
            "Epoch 30 : Done\n",
            "Epoch [31], train_loss: 0.2352, val_loss: 0.6350, val_acc: 0.6771\n",
            "Epoch 31 : Done\n",
            "Epoch [32], train_loss: 0.2560, val_loss: 0.6359, val_acc: 0.6771\n",
            "Epoch 32 : Done\n",
            "Epoch [33], train_loss: 0.2351, val_loss: 0.6363, val_acc: 0.6771\n",
            "Epoch 33 : Done\n",
            "Epoch [34], train_loss: 0.2490, val_loss: 0.6343, val_acc: 0.6771\n",
            "Epoch 34 : Done\n",
            "Epoch [35], train_loss: 0.2285, val_loss: 0.6320, val_acc: 0.6771\n",
            "Epoch 35 : Done\n",
            "Epoch [36], train_loss: 0.2545, val_loss: 0.6319, val_acc: 0.6771\n",
            "Epoch 36 : Done\n",
            "Epoch [37], train_loss: 0.2541, val_loss: 0.6272, val_acc: 0.6927\n",
            "Epoch 37 : Done\n",
            "Epoch [38], train_loss: 0.2560, val_loss: 0.6267, val_acc: 0.6927\n",
            "Epoch 38 : Done\n",
            "Epoch [39], train_loss: 0.2647, val_loss: 0.6288, val_acc: 0.6771\n",
            "Epoch 39 : Done\n",
            "Epoch [40], train_loss: 0.2288, val_loss: 0.6300, val_acc: 0.6771\n",
            "Epoch 40 : Done\n",
            "Epoch [41], train_loss: 0.2075, val_loss: 0.6286, val_acc: 0.6771\n",
            "Epoch 41 : Done\n",
            "Epoch [42], train_loss: 0.2297, val_loss: 0.6302, val_acc: 0.6771\n",
            "Epoch 42 : Done\n",
            "Epoch [43], train_loss: 0.2348, val_loss: 0.6303, val_acc: 0.6771\n",
            "Epoch 43 : Done\n",
            "Epoch [44], train_loss: 0.2372, val_loss: 0.6269, val_acc: 0.6771\n",
            "Epoch 44 : Done\n",
            "Epoch [45], train_loss: 0.2178, val_loss: 0.6270, val_acc: 0.6771\n",
            "Epoch 45 : Done\n",
            "Epoch [46], train_loss: 0.2068, val_loss: 0.6293, val_acc: 0.6771\n",
            "Epoch 46 : Done\n",
            "Epoch [47], train_loss: 0.2237, val_loss: 0.6260, val_acc: 0.6771\n",
            "Epoch 47 : Done\n",
            "Epoch [48], train_loss: 0.2179, val_loss: 0.6312, val_acc: 0.6771\n",
            "Epoch 48 : Done\n",
            "Epoch [49], train_loss: 0.2102, val_loss: 0.6277, val_acc: 0.6771\n",
            "Epoch 49 : Done\n",
            "Epoch [50], train_loss: 0.2385, val_loss: 0.6322, val_acc: 0.6771\n",
            "Epoch 50 : Done\n",
            "Epoch [51], train_loss: 0.2068, val_loss: 0.6284, val_acc: 0.6771\n",
            "Epoch 51 : Done\n",
            "Epoch [52], train_loss: 0.2054, val_loss: 0.6240, val_acc: 0.6771\n",
            "Epoch 52 : Done\n",
            "Epoch [53], train_loss: 0.2277, val_loss: 0.6256, val_acc: 0.6771\n",
            "Epoch 53 : Done\n",
            "Epoch [54], train_loss: 0.2068, val_loss: 0.6301, val_acc: 0.6771\n",
            "Epoch 54 : Done\n",
            "Epoch [55], train_loss: 0.2128, val_loss: 0.6308, val_acc: 0.6771\n",
            "Epoch 55 : Done\n",
            "Epoch [56], train_loss: 0.1909, val_loss: 0.6335, val_acc: 0.6771\n",
            "Epoch 56 : Done\n",
            "Epoch [57], train_loss: 0.2136, val_loss: 0.6300, val_acc: 0.6771\n",
            "Epoch 57 : Done\n",
            "Epoch [58], train_loss: 0.1906, val_loss: 0.6294, val_acc: 0.6771\n",
            "Epoch 58 : Done\n",
            "Epoch [59], train_loss: 0.1805, val_loss: 0.6326, val_acc: 0.6771\n",
            "Epoch 59 : Done\n",
            "Epoch [60], train_loss: 0.2405, val_loss: 0.6312, val_acc: 0.6771\n",
            "Epoch 60 : Done\n",
            "Epoch [61], train_loss: 0.2337, val_loss: 0.6241, val_acc: 0.6771\n",
            "Epoch 61 : Done\n",
            "Epoch [62], train_loss: 0.2027, val_loss: 0.6201, val_acc: 0.6927\n",
            "Epoch 62 : Done\n",
            "Epoch [63], train_loss: 0.2042, val_loss: 0.6194, val_acc: 0.6927\n",
            "Epoch 63 : Done\n",
            "Epoch [64], train_loss: 0.2053, val_loss: 0.6196, val_acc: 0.6771\n",
            "Epoch 64 : Done\n",
            "Epoch [65], train_loss: 0.2067, val_loss: 0.6195, val_acc: 0.6771\n",
            "Epoch 65 : Done\n",
            "Epoch [66], train_loss: 0.1923, val_loss: 0.6186, val_acc: 0.6771\n",
            "Epoch 66 : Done\n",
            "Epoch [67], train_loss: 0.1954, val_loss: 0.6202, val_acc: 0.6771\n",
            "Epoch 67 : Done\n",
            "Epoch [68], train_loss: 0.2031, val_loss: 0.6243, val_acc: 0.6771\n",
            "Epoch 68 : Done\n",
            "Epoch [69], train_loss: 0.1967, val_loss: 0.6223, val_acc: 0.6771\n",
            "Epoch 69 : Done\n",
            "Epoch [70], train_loss: 0.1951, val_loss: 0.6212, val_acc: 0.6771\n",
            "Epoch 70 : Done\n",
            "Epoch [71], train_loss: 0.1776, val_loss: 0.6191, val_acc: 0.6771\n",
            "Epoch 71 : Done\n",
            "Epoch [72], train_loss: 0.1802, val_loss: 0.6187, val_acc: 0.6771\n",
            "Epoch 72 : Done\n",
            "Epoch [73], train_loss: 0.2036, val_loss: 0.6194, val_acc: 0.6771\n",
            "Epoch 73 : Done\n",
            "Epoch [74], train_loss: 0.2014, val_loss: 0.6193, val_acc: 0.6771\n",
            "Epoch 74 : Done\n",
            "Epoch [75], train_loss: 0.1817, val_loss: 0.6211, val_acc: 0.6771\n",
            "Epoch 75 : Done\n",
            "Epoch [76], train_loss: 0.1768, val_loss: 0.6218, val_acc: 0.6771\n",
            "Epoch 76 : Done\n",
            "Epoch [77], train_loss: 0.1707, val_loss: 0.6235, val_acc: 0.6771\n",
            "Epoch 77 : Done\n",
            "Epoch [78], train_loss: 0.2066, val_loss: 0.6221, val_acc: 0.6771\n",
            "Epoch 78 : Done\n",
            "Epoch [79], train_loss: 0.2156, val_loss: 0.6245, val_acc: 0.6771\n",
            "Epoch 79 : Done\n",
            "Epoch [80], train_loss: 0.1898, val_loss: 0.6206, val_acc: 0.6771\n",
            "Epoch 80 : Done\n",
            "Epoch [81], train_loss: 0.1984, val_loss: 0.6260, val_acc: 0.6771\n",
            "Epoch 81 : Done\n",
            "Epoch [82], train_loss: 0.2006, val_loss: 0.6207, val_acc: 0.6771\n",
            "Epoch 82 : Done\n",
            "Epoch [83], train_loss: 0.2179, val_loss: 0.6170, val_acc: 0.6771\n",
            "Epoch 83 : Done\n",
            "Epoch [84], train_loss: 0.1732, val_loss: 0.6141, val_acc: 0.6771\n",
            "Epoch 84 : Done\n",
            "Epoch [85], train_loss: 0.1978, val_loss: 0.6108, val_acc: 0.6771\n",
            "Epoch 85 : Done\n",
            "Epoch [86], train_loss: 0.1684, val_loss: 0.6104, val_acc: 0.6771\n",
            "Epoch 86 : Done\n",
            "Epoch [87], train_loss: 0.1839, val_loss: 0.6157, val_acc: 0.6771\n",
            "Epoch 87 : Done\n",
            "Epoch [88], train_loss: 0.1975, val_loss: 0.6211, val_acc: 0.6771\n",
            "Epoch 88 : Done\n",
            "Epoch [89], train_loss: 0.1971, val_loss: 0.6156, val_acc: 0.6771\n",
            "Epoch 89 : Done\n",
            "Epoch [90], train_loss: 0.1776, val_loss: 0.6108, val_acc: 0.6771\n",
            "Epoch 90 : Done\n",
            "Epoch [91], train_loss: 0.1761, val_loss: 0.6107, val_acc: 0.6771\n",
            "Epoch 91 : Done\n",
            "Epoch [92], train_loss: 0.1867, val_loss: 0.6161, val_acc: 0.7188\n",
            "Epoch 92 : Done\n",
            "Epoch [93], train_loss: 0.1676, val_loss: 0.6123, val_acc: 0.7188\n",
            "Epoch 93 : Done\n",
            "Epoch [94], train_loss: 0.1636, val_loss: 0.6115, val_acc: 0.7188\n",
            "Epoch 94 : Done\n",
            "Epoch [95], train_loss: 0.1585, val_loss: 0.6107, val_acc: 0.7188\n",
            "Epoch 95 : Done\n",
            "Epoch [96], train_loss: 0.1555, val_loss: 0.6148, val_acc: 0.7188\n",
            "Epoch 96 : Done\n",
            "Epoch [97], train_loss: 0.1567, val_loss: 0.6130, val_acc: 0.7188\n",
            "Epoch 97 : Done\n",
            "Epoch [98], train_loss: 0.1671, val_loss: 0.6139, val_acc: 0.7188\n",
            "Epoch 98 : Done\n",
            "Epoch [99], train_loss: 0.1703, val_loss: 0.6132, val_acc: 0.7188\n",
            "Epoch 99 : Done\n",
            "Epoch [100], train_loss: 0.1905, val_loss: 0.6128, val_acc: 0.7188\n",
            "Epoch 100 : Done\n",
            "Epoch [101], train_loss: 0.1809, val_loss: 0.6152, val_acc: 0.7188\n",
            "Epoch 101 : Done\n",
            "Epoch [102], train_loss: 0.1735, val_loss: 0.6089, val_acc: 0.7188\n",
            "Epoch 102 : Done\n",
            "Epoch [103], train_loss: 0.1565, val_loss: 0.6085, val_acc: 0.7188\n",
            "Epoch 103 : Done\n",
            "Epoch [104], train_loss: 0.1462, val_loss: 0.6108, val_acc: 0.7188\n",
            "Epoch 104 : Done\n",
            "Epoch [105], train_loss: 0.1675, val_loss: 0.6144, val_acc: 0.7188\n",
            "Epoch 105 : Done\n",
            "Epoch [106], train_loss: 0.1857, val_loss: 0.6135, val_acc: 0.7188\n",
            "Epoch 106 : Done\n",
            "Epoch [107], train_loss: 0.1699, val_loss: 0.6125, val_acc: 0.7188\n",
            "Epoch 107 : Done\n",
            "Epoch [108], train_loss: 0.1754, val_loss: 0.6164, val_acc: 0.7188\n",
            "Epoch 108 : Done\n",
            "Epoch [109], train_loss: 0.1490, val_loss: 0.6123, val_acc: 0.7188\n",
            "Epoch 109 : Done\n",
            "Epoch [110], train_loss: 0.1528, val_loss: 0.6131, val_acc: 0.7188\n",
            "Epoch 110 : Done\n",
            "Epoch [111], train_loss: 0.1536, val_loss: 0.6081, val_acc: 0.7188\n",
            "Epoch 111 : Done\n",
            "Epoch [112], train_loss: 0.1606, val_loss: 0.6111, val_acc: 0.7188\n",
            "Epoch 112 : Done\n",
            "Epoch [113], train_loss: 0.1705, val_loss: 0.6084, val_acc: 0.7188\n",
            "Epoch 113 : Done\n",
            "Epoch [114], train_loss: 0.1372, val_loss: 0.6021, val_acc: 0.7188\n",
            "Epoch 114 : Done\n",
            "Epoch [115], train_loss: 0.1555, val_loss: 0.6051, val_acc: 0.7188\n",
            "Epoch 115 : Done\n",
            "Epoch [116], train_loss: 0.1478, val_loss: 0.6093, val_acc: 0.7188\n",
            "Epoch 116 : Done\n",
            "Epoch [117], train_loss: 0.1332, val_loss: 0.6078, val_acc: 0.7188\n",
            "Epoch 117 : Done\n",
            "Epoch [118], train_loss: 0.1487, val_loss: 0.6103, val_acc: 0.7188\n",
            "Epoch 118 : Done\n",
            "Epoch [119], train_loss: 0.1548, val_loss: 0.6061, val_acc: 0.7188\n",
            "Epoch 119 : Done\n",
            "Epoch [120], train_loss: 0.1555, val_loss: 0.6094, val_acc: 0.7188\n",
            "Epoch 120 : Done\n",
            "Epoch [121], train_loss: 0.1282, val_loss: 0.6087, val_acc: 0.7188\n",
            "Epoch 121 : Done\n",
            "Epoch [122], train_loss: 0.1586, val_loss: 0.6136, val_acc: 0.7188\n",
            "Epoch 122 : Done\n",
            "Epoch [123], train_loss: 0.1394, val_loss: 0.6138, val_acc: 0.7188\n",
            "Epoch 123 : Done\n",
            "Epoch [124], train_loss: 0.1431, val_loss: 0.6195, val_acc: 0.7188\n",
            "Epoch 124 : Done\n",
            "Epoch [125], train_loss: 0.1321, val_loss: 0.6155, val_acc: 0.7188\n",
            "Epoch 125 : Done\n",
            "Epoch [126], train_loss: 0.1256, val_loss: 0.6176, val_acc: 0.7188\n",
            "Epoch 126 : Done\n",
            "Epoch [127], train_loss: 0.1187, val_loss: 0.6128, val_acc: 0.7188\n",
            "Epoch 127 : Done\n",
            "Epoch [128], train_loss: 0.1312, val_loss: 0.6136, val_acc: 0.7188\n",
            "Epoch 128 : Done\n",
            "Epoch [129], train_loss: 0.1283, val_loss: 0.6105, val_acc: 0.7188\n",
            "Epoch 129 : Done\n",
            "Epoch [130], train_loss: 0.1609, val_loss: 0.6072, val_acc: 0.7188\n",
            "Epoch 130 : Done\n",
            "Epoch [131], train_loss: 0.1200, val_loss: 0.6044, val_acc: 0.7188\n",
            "Epoch 131 : Done\n",
            "Epoch [132], train_loss: 0.1555, val_loss: 0.6054, val_acc: 0.7188\n",
            "Epoch 132 : Done\n",
            "Epoch [133], train_loss: 0.1402, val_loss: 0.6044, val_acc: 0.7188\n",
            "Epoch 133 : Done\n",
            "Epoch [134], train_loss: 0.1258, val_loss: 0.6040, val_acc: 0.7188\n",
            "Epoch 134 : Done\n",
            "Epoch [135], train_loss: 0.1341, val_loss: 0.6013, val_acc: 0.7188\n",
            "Epoch 135 : Done\n",
            "Epoch [136], train_loss: 0.1151, val_loss: 0.6044, val_acc: 0.7188\n",
            "Epoch 136 : Done\n",
            "Epoch [137], train_loss: 0.1311, val_loss: 0.6045, val_acc: 0.7188\n",
            "Epoch 137 : Done\n",
            "Epoch [138], train_loss: 0.1243, val_loss: 0.6057, val_acc: 0.7188\n",
            "Epoch 138 : Done\n",
            "Epoch [139], train_loss: 0.1200, val_loss: 0.6039, val_acc: 0.7188\n",
            "Epoch 139 : Done\n",
            "Epoch [140], train_loss: 0.1406, val_loss: 0.6076, val_acc: 0.7188\n",
            "Epoch 140 : Done\n",
            "Epoch [141], train_loss: 0.1219, val_loss: 0.6122, val_acc: 0.7188\n",
            "Epoch 141 : Done\n",
            "Epoch [142], train_loss: 0.1300, val_loss: 0.6101, val_acc: 0.7188\n",
            "Epoch 142 : Done\n",
            "Epoch [143], train_loss: 0.1289, val_loss: 0.6055, val_acc: 0.7188\n",
            "Epoch 143 : Done\n",
            "Epoch [144], train_loss: 0.1198, val_loss: 0.6054, val_acc: 0.7188\n",
            "Epoch 144 : Done\n",
            "Epoch [145], train_loss: 0.1464, val_loss: 0.6099, val_acc: 0.7188\n",
            "Epoch 145 : Done\n",
            "Epoch [146], train_loss: 0.1151, val_loss: 0.6039, val_acc: 0.7188\n",
            "Epoch 146 : Done\n",
            "Epoch [147], train_loss: 0.1319, val_loss: 0.6060, val_acc: 0.7188\n",
            "Epoch 147 : Done\n",
            "Epoch [148], train_loss: 0.1245, val_loss: 0.6022, val_acc: 0.7188\n",
            "Epoch 148 : Done\n",
            "Epoch [149], train_loss: 0.1352, val_loss: 0.6091, val_acc: 0.7188\n",
            "Epoch 149 : Done\n",
            "Epoch [150], train_loss: 0.1190, val_loss: 0.6099, val_acc: 0.7188\n",
            "Epoch 150 : Done\n",
            "Epoch [151], train_loss: 0.1195, val_loss: 0.6080, val_acc: 0.7188\n",
            "Epoch 151 : Done\n",
            "Epoch [152], train_loss: 0.1362, val_loss: 0.6075, val_acc: 0.7188\n",
            "Epoch 152 : Done\n",
            "Epoch [153], train_loss: 0.1395, val_loss: 0.6040, val_acc: 0.7188\n",
            "Epoch 153 : Done\n",
            "Epoch [154], train_loss: 0.1195, val_loss: 0.6028, val_acc: 0.7188\n",
            "Epoch 154 : Done\n",
            "Epoch [155], train_loss: 0.1297, val_loss: 0.6098, val_acc: 0.7188\n",
            "Epoch 155 : Done\n",
            "Epoch [156], train_loss: 0.1056, val_loss: 0.6023, val_acc: 0.7188\n",
            "Epoch 156 : Done\n",
            "Epoch [157], train_loss: 0.1144, val_loss: 0.6032, val_acc: 0.7188\n",
            "Epoch 157 : Done\n",
            "Epoch [158], train_loss: 0.1175, val_loss: 0.6041, val_acc: 0.7188\n",
            "Epoch 158 : Done\n",
            "Epoch [159], train_loss: 0.1120, val_loss: 0.6062, val_acc: 0.7188\n",
            "Epoch 159 : Done\n",
            "Epoch [160], train_loss: 0.1270, val_loss: 0.6017, val_acc: 0.7188\n",
            "Epoch 160 : Done\n",
            "Epoch [161], train_loss: 0.1086, val_loss: 0.6037, val_acc: 0.7188\n",
            "Epoch 161 : Done\n",
            "Epoch [162], train_loss: 0.1317, val_loss: 0.6078, val_acc: 0.7188\n",
            "Epoch 162 : Done\n",
            "Epoch [163], train_loss: 0.1167, val_loss: 0.6063, val_acc: 0.7188\n",
            "Epoch 163 : Done\n",
            "Epoch [164], train_loss: 0.1146, val_loss: 0.6062, val_acc: 0.7188\n",
            "Epoch 164 : Done\n",
            "Epoch [165], train_loss: 0.1190, val_loss: 0.6123, val_acc: 0.7188\n",
            "Epoch 165 : Done\n",
            "Epoch [166], train_loss: 0.1169, val_loss: 0.6066, val_acc: 0.7188\n",
            "Epoch 166 : Done\n",
            "Epoch [167], train_loss: 0.1230, val_loss: 0.6039, val_acc: 0.7188\n",
            "Epoch 167 : Done\n",
            "Epoch [168], train_loss: 0.0948, val_loss: 0.6013, val_acc: 0.7188\n",
            "Epoch 168 : Done\n",
            "Epoch [169], train_loss: 0.1136, val_loss: 0.5982, val_acc: 0.7188\n",
            "Epoch 169 : Done\n",
            "Epoch [170], train_loss: 0.1128, val_loss: 0.6003, val_acc: 0.7188\n",
            "Epoch 170 : Done\n",
            "Epoch [171], train_loss: 0.1099, val_loss: 0.6028, val_acc: 0.7188\n",
            "Epoch 171 : Done\n",
            "Epoch [172], train_loss: 0.1173, val_loss: 0.5985, val_acc: 0.7188\n",
            "Epoch 172 : Done\n",
            "Epoch [173], train_loss: 0.1072, val_loss: 0.5952, val_acc: 0.7188\n",
            "Epoch 173 : Done\n",
            "Epoch [174], train_loss: 0.1064, val_loss: 0.5988, val_acc: 0.7188\n",
            "Epoch 174 : Done\n",
            "Epoch [175], train_loss: 0.1073, val_loss: 0.6008, val_acc: 0.7188\n",
            "Epoch 175 : Done\n",
            "Epoch [176], train_loss: 0.1028, val_loss: 0.6030, val_acc: 0.7188\n",
            "Epoch 176 : Done\n",
            "Epoch [177], train_loss: 0.1176, val_loss: 0.6050, val_acc: 0.7188\n",
            "Epoch 177 : Done\n",
            "Epoch [178], train_loss: 0.1098, val_loss: 0.6095, val_acc: 0.7188\n",
            "Epoch 178 : Done\n",
            "Epoch [179], train_loss: 0.1184, val_loss: 0.6076, val_acc: 0.7188\n",
            "Epoch 179 : Done\n",
            "Epoch [180], train_loss: 0.1010, val_loss: 0.6045, val_acc: 0.7188\n",
            "Epoch 180 : Done\n",
            "Epoch [181], train_loss: 0.1115, val_loss: 0.6062, val_acc: 0.7188\n",
            "Epoch 181 : Done\n",
            "Epoch [182], train_loss: 0.1263, val_loss: 0.6033, val_acc: 0.7188\n",
            "Epoch 182 : Done\n",
            "Epoch [183], train_loss: 0.0991, val_loss: 0.6017, val_acc: 0.7188\n",
            "Epoch 183 : Done\n",
            "Epoch [184], train_loss: 0.1033, val_loss: 0.5936, val_acc: 0.7188\n",
            "Epoch 184 : Done\n",
            "Epoch [185], train_loss: 0.1138, val_loss: 0.5967, val_acc: 0.7188\n",
            "Epoch 185 : Done\n",
            "Epoch [186], train_loss: 0.0973, val_loss: 0.5936, val_acc: 0.7188\n",
            "Epoch 186 : Done\n",
            "Epoch [187], train_loss: 0.1209, val_loss: 0.5982, val_acc: 0.7188\n",
            "Epoch 187 : Done\n",
            "Epoch [188], train_loss: 0.1013, val_loss: 0.5958, val_acc: 0.7188\n",
            "Epoch 188 : Done\n",
            "Epoch [189], train_loss: 0.1036, val_loss: 0.5965, val_acc: 0.7188\n",
            "Epoch 189 : Done\n",
            "Epoch [190], train_loss: 0.1105, val_loss: 0.5929, val_acc: 0.7188\n",
            "Epoch 190 : Done\n",
            "Epoch [191], train_loss: 0.1087, val_loss: 0.5931, val_acc: 0.7188\n",
            "Epoch 191 : Done\n",
            "Epoch [192], train_loss: 0.1026, val_loss: 0.5977, val_acc: 0.7188\n",
            "Epoch 192 : Done\n",
            "Epoch [193], train_loss: 0.1078, val_loss: 0.6056, val_acc: 0.7188\n",
            "Epoch 193 : Done\n",
            "Epoch [194], train_loss: 0.0986, val_loss: 0.6058, val_acc: 0.7188\n",
            "Epoch 194 : Done\n",
            "Epoch [195], train_loss: 0.1030, val_loss: 0.6039, val_acc: 0.7188\n",
            "Epoch 195 : Done\n",
            "Epoch [196], train_loss: 0.0938, val_loss: 0.5988, val_acc: 0.7188\n",
            "Epoch 196 : Done\n",
            "Epoch [197], train_loss: 0.1027, val_loss: 0.6028, val_acc: 0.7188\n",
            "Epoch 197 : Done\n",
            "Epoch [198], train_loss: 0.1065, val_loss: 0.5980, val_acc: 0.7188\n",
            "Epoch 198 : Done\n",
            "Epoch [199], train_loss: 0.0990, val_loss: 0.5987, val_acc: 0.7188\n",
            "Epoch 199 : Done\n"
          ]
        }
      ]
    },
    {
      "cell_type": "code",
      "metadata": {
        "colab": {
          "base_uri": "https://localhost:8080/",
          "height": 573
        },
        "outputId": "104c0a09-61bb-4432-dac6-5c89153ca27e",
        "id": "NkD6QAKMDUOV"
      },
      "source": [
        "plot_accuracies(history)\n",
        "plot_losses(history)"
      ],
      "execution_count": 221,
      "outputs": [
        {
          "output_type": "display_data",
          "data": {
            "image/png": "[encoded data removed]",
            "text/plain": [
              "<Figure size 432x288 with 1 Axes>"
            ]
          },
          "metadata": {
            "needs_background": "light"
          }
        },
        {
          "output_type": "display_data",
          "data": {
            "image/png": "[encoded data removed]",
            "text/plain": [
              "<Figure size 432x288 with 1 Axes>"
            ]
          },
          "metadata": {
            "needs_background": "light"
          }
        }
      ]
    },
    {
      "cell_type": "code",
      "metadata": {
        "id": "hrXQqMtZDUOV"
      },
      "source": [
        "torch.save(model_1.state_dict(), '/content/gdrive/My Drive/Work/Y1/CD_PD_data/CNN-1-3.pt')"
      ],
      "execution_count": 222,
      "outputs": []
    },
    {
      "cell_type": "code",
      "source": [
        "model_1 = ClockClassification().to(device)\n",
        "model_1.load_state_dict(torch.load('/content/gdrive/My Drive/Work/Y1/CD_PD_data/CNN-1-3.pt'))"
      ],
      "metadata": {
        "colab": {
          "base_uri": "https://localhost:8080/"
        },
        "outputId": "c3c355ae-2305-45fe-b7b1-d163f328bf6c",
        "id": "THtmmhLeDUOV"
      },
      "execution_count": 223,
      "outputs": [
        {
          "output_type": "execute_result",
          "data": {
            "text/plain": [
              "<All keys matched successfully>"
            ]
          },
          "metadata": {},
          "execution_count": 223
        }
      ]
    },
    {
      "cell_type": "code",
      "source": [
        "train_result = evaluate(model_1, train_dataloader)\n",
        "print(\"Training accuracy: \" + str(train_result['val_acc']))"
      ],
      "metadata": {
        "colab": {
          "base_uri": "https://localhost:8080/"
        },
        "outputId": "7a175634-b537-4b56-85f5-c833d134ed93",
        "id": "2qcde21ADUOV"
      },
      "execution_count": 224,
      "outputs": [
        {
          "output_type": "stream",
          "name": "stdout",
          "text": [
            "Training accuracy: 1.0\n"
          ]
        }
      ]
    },
    {
      "cell_type": "code",
      "source": [
        "val_result = evaluate(model_1, validate_dataloader)\n",
        "print(\"Validate accuracy: \" + str(val_result['val_acc']))"
      ],
      "metadata": {
        "colab": {
          "base_uri": "https://localhost:8080/"
        },
        "outputId": "827ecb6c-c848-47f1-951c-5efc5c83a6b7",
        "id": "xOBkwyAYDUOV"
      },
      "execution_count": 225,
      "outputs": [
        {
          "output_type": "stream",
          "name": "stdout",
          "text": [
            "Validate accuracy: 0.71875\n"
          ]
        }
      ]
    },
    {
      "cell_type": "markdown",
      "metadata": {
        "id": "nYK0u1NTJzVN"
      },
      "source": [
        "###Model 2"
      ]
    },
    {
      "cell_type": "code",
      "source": [
        "class ClockClassification(ImageClassificationBase):\n",
        "    def __init__(self):\n",
        "        super().__init__()\n",
        "        self.network = nn.Sequential(\n",
        "            nn.Conv2d(1, 32, kernel_size = 3, padding = 1),\n",
        "            nn.ReLU(),\n",
        "            nn.Conv2d(32,64, kernel_size = 3, stride = 1, padding = 1),\n",
        "            nn.ReLU(),\n",
        "            nn.MaxPool2d(2,2),\n",
        "            nn.Conv2d(64, 128, kernel_size = 3, stride = 1, padding = 1),\n",
        "            nn.ReLU(),\n",
        "            nn.Conv2d(128,128, kernel_size = 3, stride = 1, padding = 1),\n",
        "            nn.ReLU(),\n",
        "            nn.MaxPool2d(2,2),\n",
        "            nn.Conv2d(128, 256, kernel_size = 3, stride = 1, padding = 1),\n",
        "            nn.ReLU(),\n",
        "            nn.Conv2d(256,256, kernel_size = 3, stride = 1, padding = 1),\n",
        "            nn.ReLU(),\n",
        "            nn.MaxPool2d(2,2),\n",
        "            nn.Flatten(),\n",
        "            nn.Linear(82944,1024), # adjust number here\n",
        "            nn.ReLU(),\n",
        "            nn.Linear(1024,512),\n",
        "            nn.ReLU(),\n",
        "            nn.Linear(512,2)\n",
        "        )\n",
        "    def forward(self, xb):\n",
        "        return self.network(xb)"
      ],
      "metadata": {
        "id": "S-dVvwwKiGk5"
      },
      "execution_count": 226,
      "outputs": []
    },
    {
      "cell_type": "code",
      "metadata": {
        "colab": {
          "base_uri": "https://localhost:8080/"
        },
        "id": "n-aDGzODHdjP",
        "outputId": "fe0f2de5-4375-4faa-fc1f-8a567dba6be5"
      },
      "source": [
        "model_2 = ClockClassification().to(device)\n",
        "print(model_2)"
      ],
      "execution_count": 231,
      "outputs": [
        {
          "output_type": "stream",
          "name": "stdout",
          "text": [
            "ClockClassification(\n",
            "  (network): Sequential(\n",
            "    (0): Conv2d(1, 32, kernel_size=(3, 3), stride=(1, 1), padding=(1, 1))\n",
            "    (1): ReLU()\n",
            "    (2): Conv2d(32, 64, kernel_size=(3, 3), stride=(1, 1), padding=(1, 1))\n",
            "    (3): ReLU()\n",
            "    (4): MaxPool2d(kernel_size=2, stride=2, padding=0, dilation=1, ceil_mode=False)\n",
            "    (5): Conv2d(64, 128, kernel_size=(3, 3), stride=(1, 1), padding=(1, 1))\n",
            "    (6): ReLU()\n",
            "    (7): Conv2d(128, 128, kernel_size=(3, 3), stride=(1, 1), padding=(1, 1))\n",
            "    (8): ReLU()\n",
            "    (9): MaxPool2d(kernel_size=2, stride=2, padding=0, dilation=1, ceil_mode=False)\n",
            "    (10): Conv2d(128, 256, kernel_size=(3, 3), stride=(1, 1), padding=(1, 1))\n",
            "    (11): ReLU()\n",
            "    (12): Conv2d(256, 256, kernel_size=(3, 3), stride=(1, 1), padding=(1, 1))\n",
            "    (13): ReLU()\n",
            "    (14): MaxPool2d(kernel_size=2, stride=2, padding=0, dilation=1, ceil_mode=False)\n",
            "    (15): Flatten(start_dim=1, end_dim=-1)\n",
            "    (16): Linear(in_features=82944, out_features=1024, bias=True)\n",
            "    (17): ReLU()\n",
            "    (18): Linear(in_features=1024, out_features=512, bias=True)\n",
            "    (19): ReLU()\n",
            "    (20): Linear(in_features=512, out_features=2, bias=True)\n",
            "  )\n",
            ")\n"
          ]
        }
      ]
    },
    {
      "cell_type": "code",
      "metadata": {
        "colab": {
          "base_uri": "https://localhost:8080/"
        },
        "id": "H7BYrsSLFFBb",
        "outputId": "dfbf90ec-3880-48e9-dafb-9b5fdbfe4884"
      },
      "source": [
        "for images, labels in train_dataloader:\n",
        "    print('images.shape:', images.shape)\n",
        "    out = model_2(images)\n",
        "    print('out.shape:', out.shape)\n",
        "    print('out[0]:', out[0])\n",
        "    break"
      ],
      "execution_count": 228,
      "outputs": [
        {
          "output_type": "stream",
          "name": "stdout",
          "text": [
            "images.shape: torch.Size([16, 1, 150, 150])\n",
            "out.shape: torch.Size([16, 2])\n",
            "out[0]: tensor([0.0441, 0.0178], device='cuda:0', grad_fn=<SelectBackward0>)\n"
          ]
        }
      ]
    },
    {
      "cell_type": "code",
      "metadata": {
        "id": "wBW4rkiCHQd-",
        "colab": {
          "base_uri": "https://localhost:8080/"
        },
        "outputId": "2837ddcd-5051-4080-eb42-3d1794fdf74f"
      },
      "source": [
        "num_epochs = 100\n",
        "opt_func = torch.optim.Adam\n",
        "lr = 0.0001\n",
        "#fitting the model on training data and record the result after each epoch\n",
        "history = fit(num_epochs, lr, model_2, train_dataloader, validate_dataloader, opt_func, 0.0000005)"
      ],
      "execution_count": 232,
      "outputs": [
        {
          "output_type": "stream",
          "name": "stdout",
          "text": [
            "Epoch [0], train_loss: 0.6937, val_loss: 0.6861, val_acc: 0.5833\n",
            "Epoch 0 : Done\n",
            "Epoch [1], train_loss: 0.7019, val_loss: 0.6792, val_acc: 0.5833\n",
            "Epoch 1 : Done\n",
            "Epoch [2], train_loss: 0.6759, val_loss: 0.6804, val_acc: 0.5833\n",
            "Epoch 2 : Done\n",
            "Epoch [3], train_loss: 0.6712, val_loss: 0.6794, val_acc: 0.5833\n",
            "Epoch 3 : Done\n",
            "Epoch [4], train_loss: 0.6904, val_loss: 0.6789, val_acc: 0.5833\n",
            "Epoch 4 : Done\n",
            "Epoch [5], train_loss: 0.6876, val_loss: 0.6784, val_acc: 0.5833\n",
            "Epoch 5 : Done\n",
            "Epoch [6], train_loss: 0.6791, val_loss: 0.6782, val_acc: 0.5833\n",
            "Epoch 6 : Done\n",
            "Epoch [7], train_loss: 0.6802, val_loss: 0.6758, val_acc: 0.5833\n",
            "Epoch 7 : Done\n",
            "Epoch [8], train_loss: 0.6610, val_loss: 0.6646, val_acc: 0.5833\n",
            "Epoch 8 : Done\n",
            "Epoch [9], train_loss: 0.6214, val_loss: 0.6145, val_acc: 0.7031\n",
            "Epoch 9 : Done\n",
            "Epoch [10], train_loss: 0.5798, val_loss: 0.6062, val_acc: 0.7031\n",
            "Epoch 10 : Done\n",
            "Epoch [11], train_loss: 0.3877, val_loss: 0.6305, val_acc: 0.7188\n",
            "Epoch 11 : Done\n",
            "Epoch [12], train_loss: 0.3505, val_loss: 1.4715, val_acc: 0.4635\n",
            "Epoch 12 : Done\n",
            "Epoch [13], train_loss: 0.6617, val_loss: 0.8286, val_acc: 0.6562\n",
            "Epoch 13 : Done\n",
            "Epoch [14], train_loss: 0.4725, val_loss: 0.6322, val_acc: 0.6562\n",
            "Epoch 14 : Done\n",
            "Epoch [15], train_loss: 0.4404, val_loss: 0.5882, val_acc: 0.7344\n",
            "Epoch 15 : Done\n",
            "Epoch [16], train_loss: 0.3954, val_loss: 0.5822, val_acc: 0.6823\n",
            "Epoch 16 : Done\n",
            "Epoch [17], train_loss: 0.3624, val_loss: 0.6179, val_acc: 0.7500\n",
            "Epoch 17 : Done\n",
            "Epoch [18], train_loss: 0.3287, val_loss: 0.6409, val_acc: 0.7240\n",
            "Epoch 18 : Done\n",
            "Epoch [19], train_loss: 0.3380, val_loss: 0.6736, val_acc: 0.7656\n",
            "Epoch 19 : Done\n",
            "Epoch [20], train_loss: 0.2952, val_loss: 0.6442, val_acc: 0.6823\n",
            "Epoch 20 : Done\n",
            "Epoch [21], train_loss: 0.2762, val_loss: 0.6563, val_acc: 0.6823\n",
            "Epoch 21 : Done\n",
            "Epoch [22], train_loss: 0.2763, val_loss: 0.6771, val_acc: 0.7656\n",
            "Epoch 22 : Done\n",
            "Epoch [23], train_loss: 0.2822, val_loss: 0.6764, val_acc: 0.7656\n",
            "Epoch 23 : Done\n",
            "Epoch [24], train_loss: 0.2845, val_loss: 0.6793, val_acc: 0.7656\n",
            "Epoch 24 : Done\n",
            "Epoch [25], train_loss: 0.2662, val_loss: 0.6828, val_acc: 0.7656\n",
            "Epoch 25 : Done\n",
            "Epoch [26], train_loss: 0.2619, val_loss: 0.6845, val_acc: 0.7656\n",
            "Epoch 26 : Done\n",
            "Epoch [27], train_loss: 0.2481, val_loss: 0.6847, val_acc: 0.7656\n",
            "Epoch 27 : Done\n",
            "Epoch [28], train_loss: 0.2920, val_loss: 0.6850, val_acc: 0.7656\n",
            "Epoch 28 : Done\n",
            "Epoch [29], train_loss: 0.2646, val_loss: 0.6824, val_acc: 0.7656\n",
            "Epoch 29 : Done\n",
            "Epoch [30], train_loss: 0.2514, val_loss: 0.6830, val_acc: 0.7656\n",
            "Epoch 30 : Done\n",
            "Epoch [31], train_loss: 0.2508, val_loss: 0.6825, val_acc: 0.7656\n",
            "Epoch 31 : Done\n",
            "Epoch [32], train_loss: 0.2969, val_loss: 0.6816, val_acc: 0.7656\n",
            "Epoch 32 : Done\n",
            "Epoch [33], train_loss: 0.2811, val_loss: 0.6808, val_acc: 0.7656\n",
            "Epoch 33 : Done\n",
            "Epoch [34], train_loss: 0.2684, val_loss: 0.6824, val_acc: 0.7656\n",
            "Epoch 34 : Done\n",
            "Epoch [35], train_loss: 0.2803, val_loss: 0.6828, val_acc: 0.7656\n",
            "Epoch 35 : Done\n",
            "Epoch [36], train_loss: 0.2731, val_loss: 0.6837, val_acc: 0.7656\n",
            "Epoch 36 : Done\n",
            "Epoch [37], train_loss: 0.2451, val_loss: 0.6849, val_acc: 0.7656\n",
            "Epoch 37 : Done\n",
            "Epoch [38], train_loss: 0.2595, val_loss: 0.6851, val_acc: 0.7656\n",
            "Epoch 38 : Done\n",
            "Epoch [39], train_loss: 0.2727, val_loss: 0.6854, val_acc: 0.7656\n",
            "Epoch 39 : Done\n",
            "Epoch [40], train_loss: 0.2401, val_loss: 0.6839, val_acc: 0.7656\n",
            "Epoch 40 : Done\n",
            "Epoch [41], train_loss: 0.2508, val_loss: 0.6829, val_acc: 0.7656\n",
            "Epoch 41 : Done\n",
            "Epoch [42], train_loss: 0.2477, val_loss: 0.6825, val_acc: 0.7656\n",
            "Epoch 42 : Done\n",
            "Epoch [43], train_loss: 0.2411, val_loss: 0.6823, val_acc: 0.7656\n",
            "Epoch 43 : Done\n",
            "Epoch [44], train_loss: 0.2430, val_loss: 0.6816, val_acc: 0.7656\n",
            "Epoch 44 : Done\n",
            "Epoch [45], train_loss: 0.2424, val_loss: 0.6819, val_acc: 0.7656\n",
            "Epoch 45 : Done\n",
            "Epoch [46], train_loss: 0.2445, val_loss: 0.6823, val_acc: 0.7656\n",
            "Epoch 46 : Done\n",
            "Epoch [47], train_loss: 0.2801, val_loss: 0.6832, val_acc: 0.7656\n",
            "Epoch 47 : Done\n",
            "Epoch [48], train_loss: 0.2470, val_loss: 0.6812, val_acc: 0.7656\n",
            "Epoch 48 : Done\n",
            "Epoch [49], train_loss: 0.2919, val_loss: 0.6795, val_acc: 0.7656\n",
            "Epoch 49 : Done\n",
            "Epoch [50], train_loss: 0.2415, val_loss: 0.6793, val_acc: 0.7656\n",
            "Epoch 50 : Done\n",
            "Epoch [51], train_loss: 0.2581, val_loss: 0.6792, val_acc: 0.7656\n",
            "Epoch 51 : Done\n",
            "Epoch [52], train_loss: 0.2418, val_loss: 0.6789, val_acc: 0.7656\n",
            "Epoch 52 : Done\n",
            "Epoch [53], train_loss: 0.2560, val_loss: 0.6802, val_acc: 0.7656\n",
            "Epoch 53 : Done\n",
            "Epoch [54], train_loss: 0.3168, val_loss: 0.6810, val_acc: 0.7656\n",
            "Epoch 54 : Done\n",
            "Epoch [55], train_loss: 0.2354, val_loss: 0.6785, val_acc: 0.7656\n",
            "Epoch 55 : Done\n",
            "Epoch [56], train_loss: 0.2518, val_loss: 0.6782, val_acc: 0.7656\n",
            "Epoch 56 : Done\n",
            "Epoch [57], train_loss: 0.2401, val_loss: 0.6788, val_acc: 0.7656\n",
            "Epoch 57 : Done\n",
            "Epoch [58], train_loss: 0.2482, val_loss: 0.6803, val_acc: 0.7656\n",
            "Epoch 58 : Done\n",
            "Epoch [59], train_loss: 0.2715, val_loss: 0.6794, val_acc: 0.7656\n",
            "Epoch 59 : Done\n",
            "Epoch [60], train_loss: 0.2901, val_loss: 0.6795, val_acc: 0.7656\n",
            "Epoch 60 : Done\n",
            "Epoch [61], train_loss: 0.2418, val_loss: 0.6800, val_acc: 0.7656\n",
            "Epoch 61 : Done\n",
            "Epoch [62], train_loss: 0.2370, val_loss: 0.6811, val_acc: 0.7656\n",
            "Epoch 62 : Done\n",
            "Epoch [63], train_loss: 0.2822, val_loss: 0.6815, val_acc: 0.7656\n",
            "Epoch 63 : Done\n",
            "Epoch [64], train_loss: 0.2634, val_loss: 0.6806, val_acc: 0.7656\n",
            "Epoch 64 : Done\n",
            "Epoch [65], train_loss: 0.2349, val_loss: 0.6806, val_acc: 0.7656\n",
            "Epoch 65 : Done\n",
            "Epoch [66], train_loss: 0.2473, val_loss: 0.6811, val_acc: 0.7656\n",
            "Epoch 66 : Done\n",
            "Epoch [67], train_loss: 0.2408, val_loss: 0.6815, val_acc: 0.7656\n",
            "Epoch 67 : Done\n",
            "Epoch [68], train_loss: 0.2574, val_loss: 0.6834, val_acc: 0.7656\n",
            "Epoch 68 : Done\n",
            "Epoch [69], train_loss: 0.2465, val_loss: 0.6833, val_acc: 0.7656\n",
            "Epoch 69 : Done\n",
            "Epoch [70], train_loss: 0.2871, val_loss: 0.6831, val_acc: 0.7656\n",
            "Epoch 70 : Done\n",
            "Epoch [71], train_loss: 0.2374, val_loss: 0.6859, val_acc: 0.7656\n",
            "Epoch 71 : Done\n",
            "Epoch [72], train_loss: 0.2404, val_loss: 0.6872, val_acc: 0.7656\n",
            "Epoch 72 : Done\n",
            "Epoch [73], train_loss: 0.2833, val_loss: 0.6870, val_acc: 0.7656\n",
            "Epoch 73 : Done\n",
            "Epoch [74], train_loss: 0.2933, val_loss: 0.6860, val_acc: 0.7656\n",
            "Epoch 74 : Done\n",
            "Epoch [75], train_loss: 0.2353, val_loss: 0.6856, val_acc: 0.7656\n",
            "Epoch 75 : Done\n",
            "Epoch [76], train_loss: 0.2344, val_loss: 0.6866, val_acc: 0.7656\n",
            "Epoch 76 : Done\n",
            "Epoch [77], train_loss: 0.2381, val_loss: 0.6865, val_acc: 0.7656\n",
            "Epoch 77 : Done\n",
            "Epoch [78], train_loss: 0.2351, val_loss: 0.6876, val_acc: 0.7656\n",
            "Epoch 78 : Done\n",
            "Epoch [79], train_loss: 0.2388, val_loss: 0.6874, val_acc: 0.7656\n",
            "Epoch 79 : Done\n",
            "Epoch [80], train_loss: 0.2287, val_loss: 0.6877, val_acc: 0.7656\n",
            "Epoch 80 : Done\n",
            "Epoch [81], train_loss: 0.2301, val_loss: 0.6887, val_acc: 0.7656\n",
            "Epoch 81 : Done\n",
            "Epoch [82], train_loss: 0.2691, val_loss: 0.6885, val_acc: 0.7656\n",
            "Epoch 82 : Done\n",
            "Epoch [83], train_loss: 0.2376, val_loss: 0.6880, val_acc: 0.7656\n",
            "Epoch 83 : Done\n",
            "Epoch [84], train_loss: 0.2387, val_loss: 0.6871, val_acc: 0.7656\n",
            "Epoch 84 : Done\n",
            "Epoch [85], train_loss: 0.2640, val_loss: 0.6873, val_acc: 0.7656\n",
            "Epoch 85 : Done\n",
            "Epoch [86], train_loss: 0.2524, val_loss: 0.6892, val_acc: 0.7656\n",
            "Epoch 86 : Done\n",
            "Epoch [87], train_loss: 0.2359, val_loss: 0.6891, val_acc: 0.7656\n",
            "Epoch 87 : Done\n",
            "Epoch [88], train_loss: 0.2478, val_loss: 0.6887, val_acc: 0.7656\n",
            "Epoch 88 : Done\n",
            "Epoch [89], train_loss: 0.2262, val_loss: 0.6893, val_acc: 0.7656\n",
            "Epoch 89 : Done\n",
            "Epoch [90], train_loss: 0.2450, val_loss: 0.6900, val_acc: 0.7656\n",
            "Epoch 90 : Done\n",
            "Epoch [91], train_loss: 0.2342, val_loss: 0.6905, val_acc: 0.7656\n",
            "Epoch 91 : Done\n",
            "Epoch [92], train_loss: 0.2276, val_loss: 0.6901, val_acc: 0.7656\n",
            "Epoch 92 : Done\n",
            "Epoch [93], train_loss: 0.2918, val_loss: 0.6903, val_acc: 0.7656\n",
            "Epoch 93 : Done\n",
            "Epoch [94], train_loss: 0.2390, val_loss: 0.6894, val_acc: 0.7656\n",
            "Epoch 94 : Done\n",
            "Epoch [95], train_loss: 0.2514, val_loss: 0.6889, val_acc: 0.7656\n",
            "Epoch 95 : Done\n",
            "Epoch [96], train_loss: 0.2725, val_loss: 0.6903, val_acc: 0.7656\n",
            "Epoch 96 : Done\n",
            "Epoch [97], train_loss: 0.2461, val_loss: 0.6894, val_acc: 0.7656\n",
            "Epoch 97 : Done\n",
            "Epoch [98], train_loss: 0.2511, val_loss: 0.6903, val_acc: 0.7656\n",
            "Epoch 98 : Done\n",
            "Epoch [99], train_loss: 0.2575, val_loss: 0.6907, val_acc: 0.7656\n",
            "Epoch 99 : Done\n"
          ]
        }
      ]
    },
    {
      "cell_type": "code",
      "metadata": {
        "id": "UEFEklAE02HN",
        "colab": {
          "base_uri": "https://localhost:8080/",
          "height": 573
        },
        "outputId": "74a73b7e-19d4-4da6-f995-41bbf918abdf"
      },
      "source": [
        "plot_accuracies(history)\n",
        "plot_losses(history)"
      ],
      "execution_count": 233,
      "outputs": [
        {
          "output_type": "display_data",
          "data": {
            "image/png": "[encoded data removed]",
            "text/plain": [
              "<Figure size 432x288 with 1 Axes>"
            ]
          },
          "metadata": {
            "needs_background": "light"
          }
        },
        {
          "output_type": "display_data",
          "data": {
            "image/png": "[encoded data removed]",
            "text/plain": [
              "<Figure size 432x288 with 1 Axes>"
            ]
          },
          "metadata": {
            "needs_background": "light"
          }
        }
      ]
    },
    {
      "cell_type": "code",
      "metadata": {
        "id": "_NEw2OB1VZSW"
      },
      "source": [
        "torch.save(model_2.state_dict(), '/content/gdrive/My Drive/Work/Y1/CD_PD_data/CNN-2-1.pt')"
      ],
      "execution_count": 234,
      "outputs": []
    },
    {
      "cell_type": "code",
      "source": [
        "model_2 = ClockClassification().to(device)\n",
        "model_2.load_state_dict(torch.load('/content/gdrive/My Drive/Work/Y1/CD_PD_data/CNN-2-1.pt'))"
      ],
      "metadata": {
        "id": "o_w0a-c1fA4A",
        "colab": {
          "base_uri": "https://localhost:8080/"
        },
        "outputId": "48e294a5-4150-43dc-9a48-911e911448bc"
      },
      "execution_count": 235,
      "outputs": [
        {
          "output_type": "execute_result",
          "data": {
            "text/plain": [
              "<All keys matched successfully>"
            ]
          },
          "metadata": {},
          "execution_count": 235
        }
      ]
    },
    {
      "cell_type": "code",
      "source": [
        "train_result = evaluate(model_2, train_dataloader)\n",
        "print(\"Training accuracy: \" + str(train_result['val_acc']))"
      ],
      "metadata": {
        "id": "GNuexrKb6FwR",
        "colab": {
          "base_uri": "https://localhost:8080/"
        },
        "outputId": "4daf4723-f20a-46f8-b863-1cc39732afa5"
      },
      "execution_count": 236,
      "outputs": [
        {
          "output_type": "stream",
          "name": "stdout",
          "text": [
            "Training accuracy: 0.9097222089767456\n"
          ]
        }
      ]
    },
    {
      "cell_type": "code",
      "source": [
        "val_result = evaluate(model_2, validate_dataloader)\n",
        "print(\"Validate accuracy: \" + str(val_result['val_acc']))"
      ],
      "metadata": {
        "id": "FDvErUK877G5",
        "colab": {
          "base_uri": "https://localhost:8080/"
        },
        "outputId": "e30e425c-ef27-4814-c784-cff639c6d1bc"
      },
      "execution_count": 237,
      "outputs": [
        {
          "output_type": "stream",
          "name": "stdout",
          "text": [
            "Validate accuracy: 0.765625\n"
          ]
        }
      ]
    },
    {
      "cell_type": "markdown",
      "metadata": {
        "id": "NhUXsh533inM"
      },
      "source": [
        "### Model 3: (Pretrained model): Resnet"
      ]
    },
    {
      "cell_type": "code",
      "source": [
        "images, labels = next(iter(train_dataloader)) \n",
        "print(\"images-size:\", images.shape)\n",
        "out = torchvision.utils.make_grid(images)\n",
        "print(\"out-size:\", out.shape)"
      ],
      "metadata": {
        "colab": {
          "base_uri": "https://localhost:8080/"
        },
        "id": "Gr_AmjWTWSj-",
        "outputId": "3726f829-35b5-4dd6-f7f9-2e6e8fccd5b8"
      },
      "execution_count": 241,
      "outputs": [
        {
          "output_type": "stream",
          "name": "stdout",
          "text": [
            "images-size: torch.Size([16, 1, 150, 150])\n",
            "out-size: torch.Size([3, 306, 1218])\n"
          ]
        }
      ]
    },
    {
      "cell_type": "code",
      "source": [
        "net = models.resnet18(pretrained=True)\n",
        "net = net.cuda() if torch.cuda.is_available() else net\n",
        "num_ftrs = net.fc.in_features\n",
        "net.fc = nn.Linear(num_ftrs, 16)\n",
        "net.fc = net.fc.cuda() if torch.cuda.is_available() else net.fc\n",
        "net.conv1 = Conv2d(1, 64, kernel_size=(7, 7), stride=(2, 2), padding=(3, 3), bias=False)\n",
        "net.conv1 = net.conv1.cuda() if torch.cuda.is_available() else net.conv1"
      ],
      "metadata": {
        "id": "FdNsQjbQW2Il"
      },
      "execution_count": 242,
      "outputs": []
    },
    {
      "cell_type": "code",
      "source": [
        "criterion = nn.CrossEntropyLoss()\n",
        "optimizer = optim.SGD(net.parameters(), lr=0.0001, momentum=0.9)\n",
        "n_epochs = 100\n",
        "val_loss,val_acc,train_loss,train_acc = train2(n_epochs,train_dataloader,validate_dataloader,net,optimizer,criterion)"
      ],
      "metadata": {
        "id": "INbHQVXRXLGV",
        "colab": {
          "base_uri": "https://localhost:8080/"
        },
        "outputId": "411dcd52-5859-4829-d31c-f1ac9533a5b1"
      },
      "execution_count": 243,
      "outputs": [
        {
          "output_type": "stream",
          "name": "stdout",
          "text": [
            "Epoch 1\n",
            "\n",
            "Epoch [1/100], Step [0/9], Loss: 2.5064\n",
            "\n",
            "train-loss: 2.3754, train-acc: 21.2121\n",
            "validation loss: 2.4655, validation acc: 54.5455\n",
            "\n",
            "Improvement-Detected, save-model\n",
            "Epoch 2\n",
            "\n",
            "Epoch [2/100], Step [0/9], Loss: 1.9217\n",
            "\n",
            "train-loss: 1.9763, train-acc: 63.6364\n",
            "validation loss: 2.1953, validation acc: 54.5455\n",
            "\n",
            "Improvement-Detected, save-model\n",
            "Epoch 3\n",
            "\n",
            "Epoch [3/100], Step [0/9], Loss: 0.9826\n",
            "\n",
            "train-loss: 1.6266, train-acc: 71.2121\n",
            "validation loss: 2.0272, validation acc: 54.5455\n",
            "\n",
            "Improvement-Detected, save-model\n",
            "Epoch 4\n",
            "\n",
            "Epoch [4/100], Step [0/9], Loss: 0.7245\n",
            "\n",
            "train-loss: 1.3746, train-acc: 82.5758\n",
            "validation loss: 1.8868, validation acc: 40.9091\n",
            "\n",
            "Improvement-Detected, save-model\n",
            "Epoch 5\n",
            "\n",
            "Epoch [5/100], Step [0/9], Loss: 0.4571\n",
            "\n",
            "train-loss: 1.1917, train-acc: 89.3939\n",
            "validation loss: 1.7542, validation acc: 43.1818\n",
            "\n",
            "Improvement-Detected, save-model\n",
            "Epoch 6\n",
            "\n",
            "Epoch [6/100], Step [0/9], Loss: 0.3944\n",
            "\n",
            "train-loss: 1.0512, train-acc: 96.9697\n",
            "validation loss: 1.6381, validation acc: 45.4545\n",
            "\n",
            "Improvement-Detected, save-model\n",
            "Epoch 7\n",
            "\n",
            "Epoch [7/100], Step [0/9], Loss: 0.3088\n",
            "\n",
            "train-loss: 0.9430, train-acc: 96.9697\n",
            "validation loss: 1.5236, validation acc: 61.3636\n",
            "\n",
            "Improvement-Detected, save-model\n",
            "Epoch 8\n",
            "\n",
            "Epoch [8/100], Step [0/9], Loss: 0.3047\n",
            "\n",
            "train-loss: 0.8587, train-acc: 97.7273\n",
            "validation loss: 1.4112, validation acc: 75.0000\n",
            "\n",
            "Improvement-Detected, save-model\n",
            "Epoch 9\n",
            "\n",
            "Epoch [9/100], Step [0/9], Loss: 0.2179\n",
            "\n",
            "train-loss: 0.7882, train-acc: 96.9697\n",
            "validation loss: 1.3191, validation acc: 75.0000\n",
            "\n",
            "Improvement-Detected, save-model\n",
            "Epoch 10\n",
            "\n",
            "Epoch [10/100], Step [0/9], Loss: 0.1961\n",
            "\n",
            "train-loss: 0.7348, train-acc: 96.9697\n",
            "validation loss: 1.2426, validation acc: 77.2727\n",
            "\n",
            "Improvement-Detected, save-model\n",
            "Epoch 11\n",
            "\n",
            "Epoch [11/100], Step [0/9], Loss: 0.4148\n",
            "\n",
            "train-loss: 0.6889, train-acc: 96.9697\n",
            "validation loss: 1.1789, validation acc: 77.2727\n",
            "\n",
            "Improvement-Detected, save-model\n",
            "Epoch 12\n",
            "\n",
            "Epoch [12/100], Step [0/9], Loss: 0.1420\n",
            "\n",
            "train-loss: 0.6466, train-acc: 99.2424\n",
            "validation loss: 1.1256, validation acc: 68.1818\n",
            "\n",
            "Improvement-Detected, save-model\n",
            "Epoch 13\n",
            "\n",
            "Epoch [13/100], Step [0/9], Loss: 0.2129\n",
            "\n",
            "train-loss: 0.6136, train-acc: 98.4848\n",
            "validation loss: 1.0797, validation acc: 68.1818\n",
            "\n",
            "Improvement-Detected, save-model\n",
            "Epoch 14\n",
            "\n",
            "Epoch [14/100], Step [0/9], Loss: 0.1544\n",
            "\n",
            "train-loss: 0.5834, train-acc: 97.7273\n",
            "validation loss: 1.0404, validation acc: 68.1818\n",
            "\n",
            "Improvement-Detected, save-model\n",
            "Epoch 15\n",
            "\n",
            "Epoch [15/100], Step [0/9], Loss: 0.0837\n",
            "\n",
            "train-loss: 0.5543, train-acc: 100.0000\n",
            "validation loss: 1.0062, validation acc: 68.1818\n",
            "\n",
            "Improvement-Detected, save-model\n",
            "Epoch 16\n",
            "\n",
            "Epoch [16/100], Step [0/9], Loss: 0.0806\n",
            "\n",
            "train-loss: 0.5272, train-acc: 100.0000\n",
            "validation loss: 0.9757, validation acc: 72.7273\n",
            "\n",
            "Improvement-Detected, save-model\n",
            "Epoch 17\n",
            "\n",
            "Epoch [17/100], Step [0/9], Loss: 0.1080\n",
            "\n",
            "train-loss: 0.5028, train-acc: 99.2424\n",
            "validation loss: 0.9497, validation acc: 70.4545\n",
            "\n",
            "Epoch 18\n",
            "\n",
            "Epoch [18/100], Step [0/9], Loss: 0.0821\n",
            "\n",
            "train-loss: 0.4814, train-acc: 99.2424\n",
            "validation loss: 0.9264, validation acc: 70.4545\n",
            "\n",
            "Epoch 19\n",
            "\n",
            "Epoch [19/100], Step [0/9], Loss: 0.1262\n",
            "\n",
            "train-loss: 0.4610, train-acc: 100.0000\n",
            "validation loss: 0.9045, validation acc: 72.7273\n",
            "\n",
            "Improvement-Detected, save-model\n",
            "Epoch 20\n",
            "\n",
            "Epoch [20/100], Step [0/9], Loss: 0.1116\n",
            "\n",
            "train-loss: 0.4446, train-acc: 99.2424\n",
            "validation loss: 0.8842, validation acc: 70.4545\n",
            "\n",
            "Improvement-Detected, save-model\n",
            "Epoch 21\n",
            "\n",
            "Epoch [21/100], Step [0/9], Loss: 0.0776\n",
            "\n",
            "train-loss: 0.4277, train-acc: 100.0000\n",
            "validation loss: 0.8668, validation acc: 72.7273\n",
            "\n",
            "Epoch 22\n",
            "\n",
            "Epoch [22/100], Step [0/9], Loss: 0.0670\n",
            "\n",
            "train-loss: 0.4117, train-acc: 100.0000\n",
            "validation loss: 0.8516, validation acc: 72.7273\n",
            "\n",
            "Epoch 23\n",
            "\n",
            "Epoch [23/100], Step [0/9], Loss: 0.0600\n",
            "\n",
            "train-loss: 0.3973, train-acc: 100.0000\n",
            "validation loss: 0.8367, validation acc: 72.7273\n",
            "\n",
            "Epoch 24\n",
            "\n",
            "Epoch [24/100], Step [0/9], Loss: 0.0607\n",
            "\n",
            "train-loss: 0.3837, train-acc: 100.0000\n",
            "validation loss: 0.8234, validation acc: 72.7273\n",
            "\n",
            "Epoch 25\n",
            "\n",
            "Epoch [25/100], Step [0/9], Loss: 0.1272\n",
            "\n",
            "train-loss: 0.3712, train-acc: 100.0000\n",
            "validation loss: 0.8106, validation acc: 72.7273\n",
            "\n",
            "Epoch 26\n",
            "\n",
            "Epoch [26/100], Step [0/9], Loss: 0.0489\n",
            "\n",
            "train-loss: 0.3592, train-acc: 100.0000\n",
            "validation loss: 0.7982, validation acc: 75.0000\n",
            "\n",
            "Improvement-Detected, save-model\n",
            "Epoch 27\n",
            "\n",
            "Epoch [27/100], Step [0/9], Loss: 0.0474\n",
            "\n",
            "train-loss: 0.3488, train-acc: 100.0000\n",
            "validation loss: 0.7864, validation acc: 77.2727\n",
            "\n",
            "Improvement-Detected, save-model\n",
            "Epoch 28\n",
            "\n",
            "Epoch [28/100], Step [0/9], Loss: 0.0670\n",
            "\n",
            "train-loss: 0.3405, train-acc: 100.0000\n",
            "validation loss: 0.7762, validation acc: 72.7273\n",
            "\n",
            "Epoch 29\n",
            "\n",
            "Epoch [29/100], Step [0/9], Loss: 0.0566\n",
            "\n",
            "train-loss: 0.3307, train-acc: 100.0000\n",
            "validation loss: 0.7660, validation acc: 75.0000\n",
            "\n",
            "Improvement-Detected, save-model\n",
            "Epoch 30\n",
            "\n",
            "Epoch [30/100], Step [0/9], Loss: 0.1245\n",
            "\n",
            "train-loss: 0.3215, train-acc: 100.0000\n",
            "validation loss: 0.7567, validation acc: 72.7273\n",
            "\n",
            "Epoch 31\n",
            "\n",
            "Epoch [31/100], Step [0/9], Loss: 0.0381\n",
            "\n",
            "train-loss: 0.3137, train-acc: 100.0000\n",
            "validation loss: 0.7490, validation acc: 72.7273\n",
            "\n",
            "Epoch 32\n",
            "\n",
            "Epoch [32/100], Step [0/9], Loss: 0.0432\n",
            "\n",
            "train-loss: 0.3055, train-acc: 100.0000\n",
            "validation loss: 0.7408, validation acc: 77.2727\n",
            "\n",
            "Epoch 33\n",
            "\n",
            "Epoch [33/100], Step [0/9], Loss: 0.0495\n",
            "\n",
            "train-loss: 0.2978, train-acc: 100.0000\n",
            "validation loss: 0.7327, validation acc: 75.0000\n",
            "\n",
            "Improvement-Detected, save-model\n",
            "Epoch 34\n",
            "\n",
            "Epoch [34/100], Step [0/9], Loss: 0.0301\n",
            "\n",
            "train-loss: 0.2918, train-acc: 99.2424\n",
            "validation loss: 0.7249, validation acc: 77.2727\n",
            "\n",
            "Improvement-Detected, save-model\n",
            "Epoch 35\n",
            "\n",
            "Epoch [35/100], Step [0/9], Loss: 0.0486\n",
            "\n",
            "train-loss: 0.2847, train-acc: 100.0000\n",
            "validation loss: 0.7175, validation acc: 77.2727\n",
            "\n",
            "Epoch 36\n",
            "\n",
            "Epoch [36/100], Step [0/9], Loss: 0.0237\n",
            "\n",
            "train-loss: 0.2781, train-acc: 100.0000\n",
            "validation loss: 0.7107, validation acc: 79.5455\n",
            "\n",
            "Epoch 37\n",
            "\n",
            "Epoch [37/100], Step [0/9], Loss: 0.0259\n",
            "\n",
            "train-loss: 0.2715, train-acc: 100.0000\n",
            "validation loss: 0.7049, validation acc: 75.0000\n",
            "\n",
            "Epoch 38\n",
            "\n",
            "Epoch [38/100], Step [0/9], Loss: 0.0327\n",
            "\n",
            "train-loss: 0.2661, train-acc: 100.0000\n",
            "validation loss: 0.6998, validation acc: 75.0000\n",
            "\n",
            "Epoch 39\n",
            "\n",
            "Epoch [39/100], Step [0/9], Loss: 0.0224\n",
            "\n",
            "train-loss: 0.2602, train-acc: 100.0000\n",
            "validation loss: 0.6949, validation acc: 75.0000\n",
            "\n",
            "Epoch 40\n",
            "\n",
            "Epoch [40/100], Step [0/9], Loss: 0.0386\n",
            "\n",
            "train-loss: 0.2545, train-acc: 100.0000\n",
            "validation loss: 0.6896, validation acc: 72.7273\n",
            "\n",
            "Epoch 41\n",
            "\n",
            "Epoch [41/100], Step [0/9], Loss: 0.0211\n",
            "\n",
            "train-loss: 0.2493, train-acc: 100.0000\n",
            "validation loss: 0.6842, validation acc: 75.0000\n",
            "\n",
            "Epoch 42\n",
            "\n",
            "Epoch [42/100], Step [0/9], Loss: 0.0193\n",
            "\n",
            "train-loss: 0.2440, train-acc: 100.0000\n",
            "validation loss: 0.6796, validation acc: 75.0000\n",
            "\n",
            "Epoch 43\n",
            "\n",
            "Epoch [43/100], Step [0/9], Loss: 0.0370\n",
            "\n",
            "train-loss: 0.2395, train-acc: 100.0000\n",
            "validation loss: 0.6753, validation acc: 75.0000\n",
            "\n",
            "Epoch 44\n",
            "\n",
            "Epoch [44/100], Step [0/9], Loss: 0.0674\n",
            "\n",
            "train-loss: 0.2353, train-acc: 100.0000\n",
            "validation loss: 0.6704, validation acc: 77.2727\n",
            "\n",
            "Improvement-Detected, save-model\n",
            "Epoch 45\n",
            "\n",
            "Epoch [45/100], Step [0/9], Loss: 0.0197\n",
            "\n",
            "train-loss: 0.2307, train-acc: 100.0000\n",
            "validation loss: 0.6656, validation acc: 77.2727\n",
            "\n",
            "Improvement-Detected, save-model\n",
            "Epoch 46\n",
            "\n",
            "Epoch [46/100], Step [0/9], Loss: 0.0190\n",
            "\n",
            "train-loss: 0.2266, train-acc: 100.0000\n",
            "validation loss: 0.6610, validation acc: 77.2727\n",
            "\n",
            "Epoch 47\n",
            "\n",
            "Epoch [47/100], Step [0/9], Loss: 0.0439\n",
            "\n",
            "train-loss: 0.2226, train-acc: 100.0000\n",
            "validation loss: 0.6572, validation acc: 75.0000\n",
            "\n",
            "Epoch 48\n",
            "\n",
            "Epoch [48/100], Step [0/9], Loss: 0.0226\n",
            "\n",
            "train-loss: 0.2193, train-acc: 100.0000\n",
            "validation loss: 0.6538, validation acc: 75.0000\n",
            "\n",
            "Epoch 49\n",
            "\n",
            "Epoch [49/100], Step [0/9], Loss: 0.0184\n",
            "\n",
            "train-loss: 0.2166, train-acc: 99.2424\n",
            "validation loss: 0.6497, validation acc: 77.2727\n",
            "\n",
            "Improvement-Detected, save-model\n",
            "Epoch 50\n",
            "\n",
            "Epoch [50/100], Step [0/9], Loss: 0.0217\n",
            "\n",
            "train-loss: 0.2138, train-acc: 98.4848\n",
            "validation loss: 0.6458, validation acc: 79.5455\n",
            "\n",
            "Epoch 51\n",
            "\n",
            "Epoch [51/100], Step [0/9], Loss: 0.0215\n",
            "\n",
            "train-loss: 0.2109, train-acc: 100.0000\n",
            "validation loss: 0.6423, validation acc: 77.2727\n",
            "\n",
            "Epoch 52\n",
            "\n",
            "Epoch [52/100], Step [0/9], Loss: 0.1090\n",
            "\n",
            "train-loss: 0.2076, train-acc: 100.0000\n",
            "validation loss: 0.6400, validation acc: 77.2727\n",
            "\n",
            "Epoch 53\n",
            "\n",
            "Epoch [53/100], Step [0/9], Loss: 0.0443\n",
            "\n",
            "train-loss: 0.2044, train-acc: 100.0000\n",
            "validation loss: 0.6381, validation acc: 75.0000\n",
            "\n",
            "Epoch 54\n",
            "\n",
            "Epoch [54/100], Step [0/9], Loss: 0.0120\n",
            "\n",
            "train-loss: 0.2014, train-acc: 100.0000\n",
            "validation loss: 0.6356, validation acc: 77.2727\n",
            "\n",
            "Epoch 55\n",
            "\n",
            "Epoch [55/100], Step [0/9], Loss: 0.0325\n",
            "\n",
            "train-loss: 0.1982, train-acc: 100.0000\n",
            "validation loss: 0.6334, validation acc: 75.0000\n",
            "\n",
            "Epoch 56\n",
            "\n",
            "Epoch [56/100], Step [0/9], Loss: 0.0191\n",
            "\n",
            "train-loss: 0.1955, train-acc: 100.0000\n",
            "validation loss: 0.6319, validation acc: 75.0000\n",
            "\n",
            "Epoch 57\n",
            "\n",
            "Epoch [57/100], Step [0/9], Loss: 0.0140\n",
            "\n",
            "train-loss: 0.1925, train-acc: 100.0000\n",
            "validation loss: 0.6301, validation acc: 77.2727\n",
            "\n",
            "Epoch 58\n",
            "\n",
            "Epoch [58/100], Step [0/9], Loss: 0.0165\n",
            "\n",
            "train-loss: 0.1896, train-acc: 100.0000\n",
            "validation loss: 0.6280, validation acc: 75.0000\n",
            "\n",
            "Epoch 59\n",
            "\n",
            "Epoch [59/100], Step [0/9], Loss: 0.0145\n",
            "\n",
            "train-loss: 0.1868, train-acc: 100.0000\n",
            "validation loss: 0.6258, validation acc: 75.0000\n",
            "\n",
            "Epoch 60\n",
            "\n",
            "Epoch [60/100], Step [0/9], Loss: 0.0137\n",
            "\n",
            "train-loss: 0.1840, train-acc: 100.0000\n",
            "validation loss: 0.6233, validation acc: 79.5455\n",
            "\n",
            "Epoch 61\n",
            "\n",
            "Epoch [61/100], Step [0/9], Loss: 0.0133\n",
            "\n",
            "train-loss: 0.1814, train-acc: 100.0000\n",
            "validation loss: 0.6209, validation acc: 77.2727\n",
            "\n",
            "Epoch 62\n",
            "\n",
            "Epoch [62/100], Step [0/9], Loss: 0.0130\n",
            "\n",
            "train-loss: 0.1789, train-acc: 100.0000\n",
            "validation loss: 0.6187, validation acc: 77.2727\n",
            "\n",
            "Epoch 63\n",
            "\n",
            "Epoch [63/100], Step [0/9], Loss: 0.0159\n",
            "\n",
            "train-loss: 0.1768, train-acc: 100.0000\n",
            "validation loss: 0.6171, validation acc: 75.0000\n",
            "\n",
            "Epoch 64\n",
            "\n",
            "Epoch [64/100], Step [0/9], Loss: 0.0153\n",
            "\n",
            "train-loss: 0.1743, train-acc: 100.0000\n",
            "validation loss: 0.6152, validation acc: 72.7273\n",
            "\n",
            "Epoch 65\n",
            "\n",
            "Epoch [65/100], Step [0/9], Loss: 0.0135\n",
            "\n",
            "train-loss: 0.1720, train-acc: 100.0000\n",
            "validation loss: 0.6129, validation acc: 79.5455\n",
            "\n",
            "Epoch 66\n",
            "\n",
            "Epoch [66/100], Step [0/9], Loss: 0.0218\n",
            "\n",
            "train-loss: 0.1699, train-acc: 100.0000\n",
            "validation loss: 0.6108, validation acc: 79.5455\n",
            "\n",
            "Epoch 67\n",
            "\n",
            "Epoch [67/100], Step [0/9], Loss: 0.0140\n",
            "\n",
            "train-loss: 0.1698, train-acc: 96.9697\n",
            "validation loss: 0.6093, validation acc: 75.0000\n",
            "\n",
            "Epoch 68\n",
            "\n",
            "Epoch [68/100], Step [0/9], Loss: 0.0180\n",
            "\n",
            "train-loss: 0.1678, train-acc: 100.0000\n",
            "validation loss: 0.6072, validation acc: 79.5455\n",
            "\n",
            "Epoch 69\n",
            "\n",
            "Epoch [69/100], Step [0/9], Loss: 0.0105\n",
            "\n",
            "train-loss: 0.1655, train-acc: 100.0000\n",
            "validation loss: 0.6050, validation acc: 79.5455\n",
            "\n",
            "Epoch 70\n",
            "\n",
            "Epoch [70/100], Step [0/9], Loss: 0.0119\n",
            "\n",
            "train-loss: 0.1635, train-acc: 100.0000\n",
            "validation loss: 0.6027, validation acc: 84.0909\n",
            "\n",
            "Improvement-Detected, save-model\n",
            "Epoch 71\n",
            "\n",
            "Epoch [71/100], Step [0/9], Loss: 0.0087\n",
            "\n",
            "train-loss: 0.1618, train-acc: 99.2424\n",
            "validation loss: 0.6005, validation acc: 79.5455\n",
            "\n",
            "Epoch 72\n",
            "\n",
            "Epoch [72/100], Step [0/9], Loss: 0.0069\n",
            "\n",
            "train-loss: 0.1606, train-acc: 99.2424\n",
            "validation loss: 0.5983, validation acc: 81.8182\n",
            "\n",
            "Improvement-Detected, save-model\n",
            "Epoch 73\n",
            "\n",
            "Epoch [73/100], Step [0/9], Loss: 0.0087\n",
            "\n",
            "train-loss: 0.1586, train-acc: 100.0000\n",
            "validation loss: 0.5964, validation acc: 77.2727\n",
            "\n",
            "Epoch 74\n",
            "\n",
            "Epoch [74/100], Step [0/9], Loss: 0.0169\n",
            "\n",
            "train-loss: 0.1569, train-acc: 100.0000\n",
            "validation loss: 0.5951, validation acc: 72.7273\n",
            "\n",
            "Epoch 75\n",
            "\n",
            "Epoch [75/100], Step [0/9], Loss: 0.0090\n",
            "\n",
            "train-loss: 0.1552, train-acc: 100.0000\n",
            "validation loss: 0.5942, validation acc: 77.2727\n",
            "\n",
            "Epoch 76\n",
            "\n",
            "Epoch [76/100], Step [0/9], Loss: 0.0264\n",
            "\n",
            "train-loss: 0.1535, train-acc: 100.0000\n",
            "validation loss: 0.5932, validation acc: 75.0000\n",
            "\n",
            "Epoch 77\n",
            "\n",
            "Epoch [77/100], Step [0/9], Loss: 0.0137\n",
            "\n",
            "train-loss: 0.1517, train-acc: 100.0000\n",
            "validation loss: 0.5914, validation acc: 79.5455\n",
            "\n",
            "Epoch 78\n",
            "\n",
            "Epoch [78/100], Step [0/9], Loss: 0.0121\n",
            "\n",
            "train-loss: 0.1500, train-acc: 100.0000\n",
            "validation loss: 0.5898, validation acc: 77.2727\n",
            "\n",
            "Epoch 79\n",
            "\n",
            "Epoch [79/100], Step [0/9], Loss: 0.0105\n",
            "\n",
            "train-loss: 0.1482, train-acc: 100.0000\n",
            "validation loss: 0.5882, validation acc: 77.2727\n",
            "\n",
            "Epoch 80\n",
            "\n",
            "Epoch [80/100], Step [0/9], Loss: 0.0068\n",
            "\n",
            "train-loss: 0.1472, train-acc: 99.2424\n",
            "validation loss: 0.5865, validation acc: 79.5455\n",
            "\n",
            "Epoch 81\n",
            "\n",
            "Epoch [81/100], Step [0/9], Loss: 0.0141\n",
            "\n",
            "train-loss: 0.1456, train-acc: 100.0000\n",
            "validation loss: 0.5855, validation acc: 72.7273\n",
            "\n",
            "Epoch 82\n",
            "\n",
            "Epoch [82/100], Step [0/9], Loss: 0.0379\n",
            "\n",
            "train-loss: 0.1441, train-acc: 100.0000\n",
            "validation loss: 0.5846, validation acc: 77.2727\n",
            "\n",
            "Epoch 83\n",
            "\n",
            "Epoch [83/100], Step [0/9], Loss: 0.0108\n",
            "\n",
            "train-loss: 0.1429, train-acc: 100.0000\n",
            "validation loss: 0.5836, validation acc: 75.0000\n",
            "\n",
            "Epoch 84\n",
            "\n",
            "Epoch [84/100], Step [0/9], Loss: 0.0195\n",
            "\n",
            "train-loss: 0.1417, train-acc: 100.0000\n",
            "validation loss: 0.5834, validation acc: 77.2727\n",
            "\n",
            "Epoch 85\n",
            "\n",
            "Epoch [85/100], Step [0/9], Loss: 0.0103\n",
            "\n",
            "train-loss: 0.1403, train-acc: 100.0000\n",
            "validation loss: 0.5830, validation acc: 75.0000\n",
            "\n",
            "Epoch 86\n",
            "\n",
            "Epoch [86/100], Step [0/9], Loss: 0.0106\n",
            "\n",
            "train-loss: 0.1388, train-acc: 100.0000\n",
            "validation loss: 0.5822, validation acc: 75.0000\n",
            "\n",
            "Epoch 87\n",
            "\n",
            "Epoch [87/100], Step [0/9], Loss: 0.0216\n",
            "\n",
            "train-loss: 0.1374, train-acc: 100.0000\n",
            "validation loss: 0.5811, validation acc: 75.0000\n",
            "\n",
            "Epoch 88\n",
            "\n",
            "Epoch [88/100], Step [0/9], Loss: 0.0082\n",
            "\n",
            "train-loss: 0.1360, train-acc: 100.0000\n",
            "validation loss: 0.5802, validation acc: 75.0000\n",
            "\n",
            "Epoch 89\n",
            "\n",
            "Epoch [89/100], Step [0/9], Loss: 0.0068\n",
            "\n",
            "train-loss: 0.1368, train-acc: 97.7273\n",
            "validation loss: 0.5801, validation acc: 75.0000\n",
            "\n",
            "Epoch 90\n",
            "\n",
            "Epoch [90/100], Step [0/9], Loss: 0.0058\n",
            "\n",
            "train-loss: 0.1354, train-acc: 100.0000\n",
            "validation loss: 0.5790, validation acc: 77.2727\n",
            "\n",
            "Epoch 91\n",
            "\n",
            "Epoch [91/100], Step [0/9], Loss: 0.0082\n",
            "\n",
            "train-loss: 0.1347, train-acc: 99.2424\n",
            "validation loss: 0.5776, validation acc: 81.8182\n",
            "\n",
            "Epoch 92\n",
            "\n",
            "Epoch [92/100], Step [0/9], Loss: 0.0175\n",
            "\n",
            "train-loss: 0.1339, train-acc: 99.2424\n",
            "validation loss: 0.5763, validation acc: 81.8182\n",
            "\n",
            "Epoch 93\n",
            "\n",
            "Epoch [93/100], Step [0/9], Loss: 0.0296\n",
            "\n",
            "train-loss: 0.1328, train-acc: 100.0000\n",
            "validation loss: 0.5756, validation acc: 77.2727\n",
            "\n",
            "Epoch 94\n",
            "\n",
            "Epoch [94/100], Step [0/9], Loss: 0.0214\n",
            "\n",
            "train-loss: 0.1316, train-acc: 100.0000\n",
            "validation loss: 0.5749, validation acc: 77.2727\n",
            "\n",
            "Epoch 95\n",
            "\n",
            "Epoch [95/100], Step [0/9], Loss: 0.0087\n",
            "\n",
            "train-loss: 0.1307, train-acc: 100.0000\n",
            "validation loss: 0.5744, validation acc: 77.2727\n",
            "\n",
            "Epoch 96\n",
            "\n",
            "Epoch [96/100], Step [0/9], Loss: 0.0318\n",
            "\n",
            "train-loss: 0.1295, train-acc: 100.0000\n",
            "validation loss: 0.5737, validation acc: 77.2727\n",
            "\n",
            "Epoch 97\n",
            "\n",
            "Epoch [97/100], Step [0/9], Loss: 0.0097\n",
            "\n",
            "train-loss: 0.1284, train-acc: 100.0000\n",
            "validation loss: 0.5733, validation acc: 77.2727\n",
            "\n",
            "Epoch 98\n",
            "\n",
            "Epoch [98/100], Step [0/9], Loss: 0.0060\n",
            "\n",
            "train-loss: 0.1276, train-acc: 100.0000\n",
            "validation loss: 0.5723, validation acc: 81.8182\n",
            "\n",
            "Epoch 99\n",
            "\n",
            "Epoch [99/100], Step [0/9], Loss: 0.0088\n",
            "\n",
            "train-loss: 0.1264, train-acc: 100.0000\n",
            "validation loss: 0.5715, validation acc: 79.5455\n",
            "\n",
            "Epoch 100\n",
            "\n",
            "Epoch [100/100], Step [0/9], Loss: 0.0061\n",
            "\n",
            "train-loss: 0.1252, train-acc: 100.0000\n",
            "validation loss: 0.5709, validation acc: 77.2727\n",
            "\n"
          ]
        }
      ]
    },
    {
      "cell_type": "code",
      "source": [
        "plot_pre_accuracy(train_acc,val_acc)\n",
        "plot_pre_loss(train_loss,val_loss)"
      ],
      "metadata": {
        "id": "0Nl8XgMtnLam",
        "colab": {
          "base_uri": "https://localhost:8080/",
          "height": 573
        },
        "outputId": "77a0d410-64d3-4ea3-bca3-c9cbf2d8df91"
      },
      "execution_count": 244,
      "outputs": [
        {
          "output_type": "display_data",
          "data": {
            "image/png": "[encoded data removed]",
            "text/plain": [
              "<Figure size 432x288 with 1 Axes>"
            ]
          },
          "metadata": {
            "needs_background": "light"
          }
        },
        {
          "output_type": "display_data",
          "data": {
            "image/png": "[encoded data removed]",
            "text/plain": [
              "<Figure size 432x288 with 1 Axes>"
            ]
          },
          "metadata": {
            "needs_background": "light"
          }
        }
      ]
    },
    {
      "cell_type": "code",
      "source": [
        "model = models.resnet18(pretrained=True)\n",
        "model = model.cuda() if torch.cuda.is_available() else model\n",
        "num_ftrs = model.fc.in_features\n",
        "model.fc = nn.Linear(num_ftrs, 16)\n",
        "model.fc = model.fc.cuda() if torch.cuda.is_available() else model.fc\n",
        "model.conv1 = Conv2d(1, 64, kernel_size=(7, 7), stride=(2, 2), padding=(3, 3), bias=False)\n",
        "model.conv1 = model.conv1.cuda() if torch.cuda.is_available() else model.conv1\n",
        "model.load_state_dict(torch.load('/content/gdrive/My Drive/Work/Y1/CD_PD_data/resnet.pt'))"
      ],
      "metadata": {
        "colab": {
          "base_uri": "https://localhost:8080/"
        },
        "id": "UND6fO6mDtsF",
        "outputId": "6acb553b-2812-441b-b105-10bd08d1845b"
      },
      "execution_count": 245,
      "outputs": [
        {
          "output_type": "execute_result",
          "data": {
            "text/plain": [
              "<All keys matched successfully>"
            ]
          },
          "metadata": {},
          "execution_count": 245
        }
      ]
    },
    {
      "cell_type": "code",
      "source": [
        "# prediction for training set\n",
        "with torch.no_grad():\n",
        "  if (torch.cuda.is_available()):\n",
        "    output = model(X_train.cuda())\n",
        "  else:\n",
        "    output = model(X_train)\n",
        "softmax = torch.exp(output).cpu()\n",
        "prob = list(softmax.numpy())\n",
        "predictions = np.argmax(prob, axis=1)\n",
        "print(\"Training accuracy: \"+str(accuracy_score(y_train, predictions)))"
      ],
      "metadata": {
        "colab": {
          "base_uri": "https://localhost:8080/"
        },
        "outputId": "268ceffd-04a9-458d-874a-aef653db553a",
        "id": "uEVQKKOTEGQ0"
      },
      "execution_count": 246,
      "outputs": [
        {
          "output_type": "stream",
          "name": "stdout",
          "text": [
            "Training accuracy: 1.0\n"
          ]
        }
      ]
    },
    {
      "cell_type": "code",
      "metadata": {
        "colab": {
          "base_uri": "https://localhost:8080/"
        },
        "outputId": "80f2586c-551d-4beb-e7c4-474905c84bac",
        "id": "YYXMQ11EEGQ0"
      },
      "source": [
        "# prediction for validation set\n",
        "with torch.no_grad():\n",
        "  if (torch.cuda.is_available()):\n",
        "    output = model(X_val.cuda())\n",
        "  else:\n",
        "    output = model(X_val)\n",
        "softmax = torch.exp(output).cpu()\n",
        "prob = list(softmax.numpy())\n",
        "predictions = np.argmax(prob, axis=1)\n",
        "print(\"Validate accuracy: \"+str(accuracy_score(y_val, predictions)))"
      ],
      "execution_count": 247,
      "outputs": [
        {
          "output_type": "stream",
          "name": "stdout",
          "text": [
            "Validate accuracy: 0.7954545454545454\n"
          ]
        }
      ]
    },
    {
      "cell_type": "markdown",
      "metadata": {
        "id": "B7KAsjjfiLtF"
      },
      "source": [
        "### Model 4 (Tensorflow)"
      ]
    },
    {
      "cell_type": "code",
      "source": [
        "X = clock_image2.reshape((-1,150,150,1))\n",
        "y = data.clock_drawing\n",
        "\n",
        "X_train, X_val, y_train, y_val = train_test_split(X, y, random_state=1)"
      ],
      "metadata": {
        "id": "_A8uDhg5XZZO"
      },
      "execution_count": 156,
      "outputs": []
    },
    {
      "cell_type": "code",
      "metadata": {
        "colab": {
          "base_uri": "https://localhost:8080/"
        },
        "id": "nKkcPaAWgddI",
        "outputId": "205bc5e8-ba66-4040-99fa-2c9437daff9c"
      },
      "source": [
        "# Model 4 (Change compile loss and output activation)\n",
        "input_ = Input(shape=(150, 150, 1))\n",
        "x = Conv2D(16, (5, 5),padding='same',activation='relu')(input_)\n",
        "x = MaxPool2D((3, 3))(x)\n",
        "x = Conv2D(32, (5, 5),padding='same',activation='relu')(x)\n",
        "x = MaxPool2D((3, 3))(x)\n",
        "x = Flatten()(x)\n",
        "output = Dense(1 ,activation='sigmoid')(x)\n",
        "model = Model(inputs=input_, outputs=output)\n",
        "model.compile(optimizer='adam', loss='binary_crossentropy', metrics=['accuracy'])\n",
        "\n",
        "print(model.summary())"
      ],
      "execution_count": 160,
      "outputs": [
        {
          "output_type": "stream",
          "name": "stdout",
          "text": [
            "Model: \"model_1\"\n",
            "_________________________________________________________________\n",
            " Layer (type)                Output Shape              Param #   \n",
            "=================================================================\n",
            " input_3 (InputLayer)        [(None, 150, 150, 1)]     0         \n",
            "                                                                 \n",
            " conv2d_3 (Conv2D)           (None, 150, 150, 16)      416       \n",
            "                                                                 \n",
            " max_pooling2d_3 (MaxPooling  (None, 50, 50, 16)       0         \n",
            " 2D)                                                             \n",
            "                                                                 \n",
            " conv2d_4 (Conv2D)           (None, 50, 50, 32)        12832     \n",
            "                                                                 \n",
            " max_pooling2d_4 (MaxPooling  (None, 16, 16, 32)       0         \n",
            " 2D)                                                             \n",
            "                                                                 \n",
            " flatten_1 (Flatten)         (None, 8192)              0         \n",
            "                                                                 \n",
            " dense_1 (Dense)             (None, 1)                 8193      \n",
            "                                                                 \n",
            "=================================================================\n",
            "Total params: 21,441\n",
            "Trainable params: 21,441\n",
            "Non-trainable params: 0\n",
            "_________________________________________________________________\n",
            "None\n"
          ]
        }
      ]
    },
    {
      "cell_type": "code",
      "metadata": {
        "colab": {
          "base_uri": "https://localhost:8080/"
        },
        "id": "_Azjs46jgmg_",
        "outputId": "ec267319-aa6e-4610-f26f-f2a5b3280a18"
      },
      "source": [
        "hist = model.fit(X_train, y_train, epochs=100, batch_size=32, validation_data=(X_val, y_val))"
      ],
      "execution_count": 161,
      "outputs": [
        {
          "output_type": "stream",
          "name": "stdout",
          "text": [
            "Epoch 1/100\n",
            "5/5 [==============================] - 2s 125ms/step - loss: 0.6579 - accuracy: 0.6061 - val_loss: 0.6831 - val_accuracy: 0.5455\n",
            "Epoch 2/100\n",
            "5/5 [==============================] - 0s 48ms/step - loss: 0.6062 - accuracy: 0.6136 - val_loss: 0.6435 - val_accuracy: 0.6364\n",
            "Epoch 3/100\n",
            "5/5 [==============================] - 0s 48ms/step - loss: 0.5215 - accuracy: 0.7576 - val_loss: 0.5825 - val_accuracy: 0.6818\n",
            "Epoch 4/100\n",
            "5/5 [==============================] - 0s 45ms/step - loss: 0.4594 - accuracy: 0.7803 - val_loss: 0.5946 - val_accuracy: 0.6364\n",
            "Epoch 5/100\n",
            "5/5 [==============================] - 0s 45ms/step - loss: 0.4063 - accuracy: 0.8030 - val_loss: 0.6253 - val_accuracy: 0.7045\n",
            "Epoch 6/100\n",
            "5/5 [==============================] - 0s 38ms/step - loss: 0.3521 - accuracy: 0.8182 - val_loss: 0.5486 - val_accuracy: 0.7045\n",
            "Epoch 7/100\n",
            "5/5 [==============================] - 0s 46ms/step - loss: 0.3358 - accuracy: 0.8485 - val_loss: 0.6276 - val_accuracy: 0.7727\n",
            "Epoch 8/100\n",
            "5/5 [==============================] - 0s 52ms/step - loss: 0.2869 - accuracy: 0.8788 - val_loss: 0.6237 - val_accuracy: 0.7955\n",
            "Epoch 9/100\n",
            "5/5 [==============================] - 0s 49ms/step - loss: 0.2697 - accuracy: 0.8864 - val_loss: 0.6890 - val_accuracy: 0.7727\n",
            "Epoch 10/100\n",
            "5/5 [==============================] - 0s 51ms/step - loss: 0.2657 - accuracy: 0.8864 - val_loss: 0.5821 - val_accuracy: 0.7955\n",
            "Epoch 11/100\n",
            "5/5 [==============================] - 0s 51ms/step - loss: 0.2385 - accuracy: 0.9242 - val_loss: 0.5441 - val_accuracy: 0.7500\n",
            "Epoch 12/100\n",
            "5/5 [==============================] - 0s 41ms/step - loss: 0.2318 - accuracy: 0.9091 - val_loss: 0.5801 - val_accuracy: 0.7500\n",
            "Epoch 13/100\n",
            "5/5 [==============================] - 0s 45ms/step - loss: 0.1976 - accuracy: 0.9318 - val_loss: 0.6544 - val_accuracy: 0.7500\n",
            "Epoch 14/100\n",
            "5/5 [==============================] - 0s 56ms/step - loss: 0.1919 - accuracy: 0.9167 - val_loss: 0.6036 - val_accuracy: 0.7500\n",
            "Epoch 15/100\n",
            "5/5 [==============================] - 0s 52ms/step - loss: 0.1724 - accuracy: 0.9318 - val_loss: 0.5649 - val_accuracy: 0.7500\n",
            "Epoch 16/100\n",
            "5/5 [==============================] - 0s 53ms/step - loss: 0.1712 - accuracy: 0.9167 - val_loss: 0.6152 - val_accuracy: 0.7500\n",
            "Epoch 17/100\n",
            "5/5 [==============================] - 0s 49ms/step - loss: 0.1692 - accuracy: 0.9167 - val_loss: 0.6840 - val_accuracy: 0.7273\n",
            "Epoch 18/100\n",
            "5/5 [==============================] - 0s 50ms/step - loss: 0.1279 - accuracy: 0.9545 - val_loss: 0.5410 - val_accuracy: 0.8182\n",
            "Epoch 19/100\n",
            "5/5 [==============================] - 0s 43ms/step - loss: 0.1371 - accuracy: 0.9545 - val_loss: 0.6772 - val_accuracy: 0.7045\n",
            "Epoch 20/100\n",
            "5/5 [==============================] - 0s 43ms/step - loss: 0.1036 - accuracy: 0.9697 - val_loss: 0.5919 - val_accuracy: 0.7955\n",
            "Epoch 21/100\n",
            "5/5 [==============================] - 0s 54ms/step - loss: 0.0974 - accuracy: 0.9621 - val_loss: 0.7996 - val_accuracy: 0.7273\n",
            "Epoch 22/100\n",
            "5/5 [==============================] - 0s 48ms/step - loss: 0.0934 - accuracy: 0.9621 - val_loss: 0.7783 - val_accuracy: 0.7273\n",
            "Epoch 23/100\n",
            "5/5 [==============================] - 0s 51ms/step - loss: 0.0795 - accuracy: 0.9621 - val_loss: 0.7593 - val_accuracy: 0.7273\n",
            "Epoch 24/100\n",
            "5/5 [==============================] - 0s 52ms/step - loss: 0.0661 - accuracy: 0.9773 - val_loss: 0.7289 - val_accuracy: 0.7500\n",
            "Epoch 25/100\n",
            "5/5 [==============================] - 0s 55ms/step - loss: 0.0562 - accuracy: 0.9773 - val_loss: 0.8209 - val_accuracy: 0.7500\n",
            "Epoch 26/100\n",
            "5/5 [==============================] - 0s 54ms/step - loss: 0.0496 - accuracy: 0.9924 - val_loss: 0.8342 - val_accuracy: 0.7500\n",
            "Epoch 27/100\n",
            "5/5 [==============================] - 0s 57ms/step - loss: 0.0430 - accuracy: 0.9924 - val_loss: 0.8205 - val_accuracy: 0.7727\n",
            "Epoch 28/100\n",
            "5/5 [==============================] - 0s 46ms/step - loss: 0.0350 - accuracy: 0.9924 - val_loss: 1.0002 - val_accuracy: 0.7500\n",
            "Epoch 29/100\n",
            "5/5 [==============================] - 0s 57ms/step - loss: 0.0562 - accuracy: 0.9773 - val_loss: 1.0328 - val_accuracy: 0.7727\n",
            "Epoch 30/100\n",
            "5/5 [==============================] - 0s 52ms/step - loss: 0.0322 - accuracy: 0.9924 - val_loss: 0.8113 - val_accuracy: 0.8182\n",
            "Epoch 31/100\n",
            "5/5 [==============================] - 0s 43ms/step - loss: 0.0303 - accuracy: 0.9924 - val_loss: 1.0282 - val_accuracy: 0.7727\n",
            "Epoch 32/100\n",
            "5/5 [==============================] - 0s 51ms/step - loss: 0.0200 - accuracy: 1.0000 - val_loss: 0.9715 - val_accuracy: 0.7727\n",
            "Epoch 33/100\n",
            "5/5 [==============================] - 0s 57ms/step - loss: 0.0187 - accuracy: 1.0000 - val_loss: 1.0678 - val_accuracy: 0.7727\n",
            "Epoch 34/100\n",
            "5/5 [==============================] - 0s 53ms/step - loss: 0.0174 - accuracy: 1.0000 - val_loss: 1.0570 - val_accuracy: 0.7727\n",
            "Epoch 35/100\n",
            "5/5 [==============================] - 0s 53ms/step - loss: 0.0192 - accuracy: 1.0000 - val_loss: 0.9028 - val_accuracy: 0.7955\n",
            "Epoch 36/100\n",
            "5/5 [==============================] - 0s 51ms/step - loss: 0.0163 - accuracy: 1.0000 - val_loss: 1.1377 - val_accuracy: 0.7727\n",
            "Epoch 37/100\n",
            "5/5 [==============================] - 0s 59ms/step - loss: 0.0142 - accuracy: 1.0000 - val_loss: 1.1707 - val_accuracy: 0.7727\n",
            "Epoch 38/100\n",
            "5/5 [==============================] - 0s 52ms/step - loss: 0.0116 - accuracy: 1.0000 - val_loss: 0.9693 - val_accuracy: 0.7955\n",
            "Epoch 39/100\n",
            "5/5 [==============================] - 0s 48ms/step - loss: 0.0098 - accuracy: 1.0000 - val_loss: 1.2147 - val_accuracy: 0.7727\n",
            "Epoch 40/100\n",
            "5/5 [==============================] - 0s 48ms/step - loss: 0.0102 - accuracy: 1.0000 - val_loss: 1.3757 - val_accuracy: 0.7500\n",
            "Epoch 41/100\n",
            "5/5 [==============================] - 0s 60ms/step - loss: 0.0081 - accuracy: 1.0000 - val_loss: 1.2205 - val_accuracy: 0.7727\n",
            "Epoch 42/100\n",
            "5/5 [==============================] - 0s 38ms/step - loss: 0.0059 - accuracy: 1.0000 - val_loss: 1.1521 - val_accuracy: 0.7727\n",
            "Epoch 43/100\n",
            "5/5 [==============================] - 0s 42ms/step - loss: 0.0059 - accuracy: 1.0000 - val_loss: 1.2330 - val_accuracy: 0.7727\n",
            "Epoch 44/100\n",
            "5/5 [==============================] - 0s 60ms/step - loss: 0.0046 - accuracy: 1.0000 - val_loss: 1.3544 - val_accuracy: 0.7727\n",
            "Epoch 45/100\n",
            "5/5 [==============================] - 0s 46ms/step - loss: 0.0044 - accuracy: 1.0000 - val_loss: 1.3530 - val_accuracy: 0.7727\n",
            "Epoch 46/100\n",
            "5/5 [==============================] - 0s 60ms/step - loss: 0.0040 - accuracy: 1.0000 - val_loss: 1.3311 - val_accuracy: 0.7727\n",
            "Epoch 47/100\n",
            "5/5 [==============================] - 0s 44ms/step - loss: 0.0037 - accuracy: 1.0000 - val_loss: 1.3597 - val_accuracy: 0.7727\n",
            "Epoch 48/100\n",
            "5/5 [==============================] - 0s 62ms/step - loss: 0.0035 - accuracy: 1.0000 - val_loss: 1.3937 - val_accuracy: 0.7727\n",
            "Epoch 49/100\n",
            "5/5 [==============================] - 0s 55ms/step - loss: 0.0033 - accuracy: 1.0000 - val_loss: 1.4278 - val_accuracy: 0.7727\n",
            "Epoch 50/100\n",
            "5/5 [==============================] - 0s 51ms/step - loss: 0.0032 - accuracy: 1.0000 - val_loss: 1.4758 - val_accuracy: 0.7727\n",
            "Epoch 51/100\n",
            "5/5 [==============================] - 0s 50ms/step - loss: 0.0029 - accuracy: 1.0000 - val_loss: 1.4171 - val_accuracy: 0.7727\n",
            "Epoch 52/100\n",
            "5/5 [==============================] - 0s 49ms/step - loss: 0.0028 - accuracy: 1.0000 - val_loss: 1.3690 - val_accuracy: 0.7727\n",
            "Epoch 53/100\n",
            "5/5 [==============================] - 0s 49ms/step - loss: 0.0028 - accuracy: 1.0000 - val_loss: 1.4143 - val_accuracy: 0.7727\n",
            "Epoch 54/100\n",
            "5/5 [==============================] - 0s 52ms/step - loss: 0.0024 - accuracy: 1.0000 - val_loss: 1.4778 - val_accuracy: 0.7727\n",
            "Epoch 55/100\n",
            "5/5 [==============================] - 0s 50ms/step - loss: 0.0024 - accuracy: 1.0000 - val_loss: 1.4993 - val_accuracy: 0.7727\n",
            "Epoch 56/100\n",
            "5/5 [==============================] - 0s 48ms/step - loss: 0.0023 - accuracy: 1.0000 - val_loss: 1.4885 - val_accuracy: 0.7727\n",
            "Epoch 57/100\n",
            "5/5 [==============================] - 0s 53ms/step - loss: 0.0021 - accuracy: 1.0000 - val_loss: 1.4844 - val_accuracy: 0.7727\n",
            "Epoch 58/100\n",
            "5/5 [==============================] - 0s 60ms/step - loss: 0.0021 - accuracy: 1.0000 - val_loss: 1.4809 - val_accuracy: 0.7727\n",
            "Epoch 59/100\n",
            "5/5 [==============================] - 0s 51ms/step - loss: 0.0019 - accuracy: 1.0000 - val_loss: 1.5685 - val_accuracy: 0.7727\n",
            "Epoch 60/100\n",
            "5/5 [==============================] - 0s 63ms/step - loss: 0.0019 - accuracy: 1.0000 - val_loss: 1.6183 - val_accuracy: 0.7727\n",
            "Epoch 61/100\n",
            "5/5 [==============================] - 0s 43ms/step - loss: 0.0019 - accuracy: 1.0000 - val_loss: 1.5829 - val_accuracy: 0.7727\n",
            "Epoch 62/100\n",
            "5/5 [==============================] - 0s 66ms/step - loss: 0.0017 - accuracy: 1.0000 - val_loss: 1.5050 - val_accuracy: 0.7727\n",
            "Epoch 63/100\n",
            "5/5 [==============================] - 0s 45ms/step - loss: 0.0016 - accuracy: 1.0000 - val_loss: 1.5006 - val_accuracy: 0.7727\n",
            "Epoch 64/100\n",
            "5/5 [==============================] - 0s 55ms/step - loss: 0.0016 - accuracy: 1.0000 - val_loss: 1.5476 - val_accuracy: 0.7727\n",
            "Epoch 65/100\n",
            "5/5 [==============================] - 0s 55ms/step - loss: 0.0015 - accuracy: 1.0000 - val_loss: 1.5962 - val_accuracy: 0.7727\n",
            "Epoch 66/100\n",
            "5/5 [==============================] - 0s 51ms/step - loss: 0.0014 - accuracy: 1.0000 - val_loss: 1.6175 - val_accuracy: 0.7727\n",
            "Epoch 67/100\n",
            "5/5 [==============================] - 0s 45ms/step - loss: 0.0013 - accuracy: 1.0000 - val_loss: 1.6324 - val_accuracy: 0.7727\n",
            "Epoch 68/100\n",
            "5/5 [==============================] - 0s 45ms/step - loss: 0.0013 - accuracy: 1.0000 - val_loss: 1.6270 - val_accuracy: 0.7727\n",
            "Epoch 69/100\n",
            "5/5 [==============================] - 0s 42ms/step - loss: 0.0013 - accuracy: 1.0000 - val_loss: 1.5723 - val_accuracy: 0.7727\n",
            "Epoch 70/100\n",
            "5/5 [==============================] - 0s 55ms/step - loss: 0.0012 - accuracy: 1.0000 - val_loss: 1.5742 - val_accuracy: 0.7727\n",
            "Epoch 71/100\n",
            "5/5 [==============================] - 0s 56ms/step - loss: 0.0012 - accuracy: 1.0000 - val_loss: 1.6095 - val_accuracy: 0.7727\n",
            "Epoch 72/100\n",
            "5/5 [==============================] - 0s 55ms/step - loss: 0.0011 - accuracy: 1.0000 - val_loss: 1.6682 - val_accuracy: 0.7727\n",
            "Epoch 73/100\n",
            "5/5 [==============================] - 0s 59ms/step - loss: 0.0011 - accuracy: 1.0000 - val_loss: 1.6666 - val_accuracy: 0.7727\n",
            "Epoch 74/100\n",
            "5/5 [==============================] - 0s 61ms/step - loss: 0.0011 - accuracy: 1.0000 - val_loss: 1.6568 - val_accuracy: 0.7727\n",
            "Epoch 75/100\n",
            "5/5 [==============================] - 0s 59ms/step - loss: 0.0010 - accuracy: 1.0000 - val_loss: 1.6498 - val_accuracy: 0.7727\n",
            "Epoch 76/100\n",
            "5/5 [==============================] - 0s 48ms/step - loss: 9.9323e-04 - accuracy: 1.0000 - val_loss: 1.6377 - val_accuracy: 0.7727\n",
            "Epoch 77/100\n",
            "5/5 [==============================] - 0s 86ms/step - loss: 9.7049e-04 - accuracy: 1.0000 - val_loss: 1.6502 - val_accuracy: 0.7727\n",
            "Epoch 78/100\n",
            "5/5 [==============================] - 0s 75ms/step - loss: 9.4660e-04 - accuracy: 1.0000 - val_loss: 1.6861 - val_accuracy: 0.7727\n",
            "Epoch 79/100\n",
            "5/5 [==============================] - 0s 70ms/step - loss: 9.1448e-04 - accuracy: 1.0000 - val_loss: 1.6992 - val_accuracy: 0.7727\n",
            "Epoch 80/100\n",
            "5/5 [==============================] - 0s 73ms/step - loss: 8.9275e-04 - accuracy: 1.0000 - val_loss: 1.6995 - val_accuracy: 0.7727\n",
            "Epoch 81/100\n",
            "5/5 [==============================] - 0s 77ms/step - loss: 8.6823e-04 - accuracy: 1.0000 - val_loss: 1.6938 - val_accuracy: 0.7727\n",
            "Epoch 82/100\n",
            "5/5 [==============================] - 0s 74ms/step - loss: 8.4186e-04 - accuracy: 1.0000 - val_loss: 1.6978 - val_accuracy: 0.7727\n",
            "Epoch 83/100\n",
            "5/5 [==============================] - 0s 84ms/step - loss: 8.2224e-04 - accuracy: 1.0000 - val_loss: 1.6938 - val_accuracy: 0.7727\n",
            "Epoch 84/100\n",
            "5/5 [==============================] - 0s 64ms/step - loss: 8.0236e-04 - accuracy: 1.0000 - val_loss: 1.6619 - val_accuracy: 0.7727\n",
            "Epoch 85/100\n",
            "5/5 [==============================] - 0s 64ms/step - loss: 7.9286e-04 - accuracy: 1.0000 - val_loss: 1.6639 - val_accuracy: 0.7727\n",
            "Epoch 86/100\n",
            "5/5 [==============================] - 0s 39ms/step - loss: 7.7685e-04 - accuracy: 1.0000 - val_loss: 1.6855 - val_accuracy: 0.7727\n",
            "Epoch 87/100\n",
            "5/5 [==============================] - 0s 58ms/step - loss: 7.3865e-04 - accuracy: 1.0000 - val_loss: 1.6632 - val_accuracy: 0.7727\n",
            "Epoch 88/100\n",
            "5/5 [==============================] - 0s 69ms/step - loss: 7.4700e-04 - accuracy: 1.0000 - val_loss: 1.6599 - val_accuracy: 0.7727\n",
            "Epoch 89/100\n",
            "5/5 [==============================] - 0s 58ms/step - loss: 6.9289e-04 - accuracy: 1.0000 - val_loss: 1.7188 - val_accuracy: 0.7727\n",
            "Epoch 90/100\n",
            "5/5 [==============================] - 0s 54ms/step - loss: 7.0685e-04 - accuracy: 1.0000 - val_loss: 1.7809 - val_accuracy: 0.7727\n",
            "Epoch 91/100\n",
            "5/5 [==============================] - 0s 63ms/step - loss: 6.8210e-04 - accuracy: 1.0000 - val_loss: 1.7718 - val_accuracy: 0.7727\n",
            "Epoch 92/100\n",
            "5/5 [==============================] - 0s 58ms/step - loss: 6.4884e-04 - accuracy: 1.0000 - val_loss: 1.7515 - val_accuracy: 0.7727\n",
            "Epoch 93/100\n",
            "5/5 [==============================] - 0s 54ms/step - loss: 6.1411e-04 - accuracy: 1.0000 - val_loss: 1.7058 - val_accuracy: 0.7727\n",
            "Epoch 94/100\n",
            "5/5 [==============================] - 0s 69ms/step - loss: 6.1701e-04 - accuracy: 1.0000 - val_loss: 1.7026 - val_accuracy: 0.7727\n",
            "Epoch 95/100\n",
            "5/5 [==============================] - 0s 68ms/step - loss: 6.0285e-04 - accuracy: 1.0000 - val_loss: 1.7271 - val_accuracy: 0.7727\n",
            "Epoch 96/100\n",
            "5/5 [==============================] - 0s 58ms/step - loss: 5.7799e-04 - accuracy: 1.0000 - val_loss: 1.7526 - val_accuracy: 0.7727\n",
            "Epoch 97/100\n",
            "5/5 [==============================] - 0s 58ms/step - loss: 5.6221e-04 - accuracy: 1.0000 - val_loss: 1.7722 - val_accuracy: 0.7727\n",
            "Epoch 98/100\n",
            "5/5 [==============================] - 0s 59ms/step - loss: 5.5039e-04 - accuracy: 1.0000 - val_loss: 1.7804 - val_accuracy: 0.7727\n",
            "Epoch 99/100\n",
            "5/5 [==============================] - 0s 63ms/step - loss: 5.4233e-04 - accuracy: 1.0000 - val_loss: 1.7615 - val_accuracy: 0.7727\n",
            "Epoch 100/100\n",
            "5/5 [==============================] - 0s 49ms/step - loss: 5.2889e-04 - accuracy: 1.0000 - val_loss: 1.7651 - val_accuracy: 0.7727\n"
          ]
        }
      ]
    },
    {
      "cell_type": "code",
      "metadata": {
        "colab": {
          "base_uri": "https://localhost:8080/",
          "height": 355
        },
        "id": "eXkgt3H2es6R",
        "outputId": "4d845cbf-fd5f-49f6-b3bf-8a5268328032"
      },
      "source": [
        "fig, ax = plt.subplots(1, 2, figsize=(15, 5))\n",
        "ax[0].set_title('loss')\n",
        "ax[0].plot(hist.epoch, hist.history['loss'], label='train loss')\n",
        "ax[0].plot(hist.epoch, hist.history['val_loss'], label='val loss')\n",
        "ax[1].set_title('accuracy')\n",
        "ax[1].plot(hist.epoch, hist.history['accuracy'], label='train accuracy')\n",
        "ax[1].plot(hist.epoch, hist.history['val_accuracy'], label='val accuracy')\n",
        "ax[0].legend()\n",
        "ax[1].legend()"
      ],
      "execution_count": 162,
      "outputs": [
        {
          "output_type": "execute_result",
          "data": {
            "text/plain": [
              "<matplotlib.legend.Legend at 0x7faf70a26550>"
            ]
          },
          "metadata": {},
          "execution_count": 162
        },
        {
          "output_type": "display_data",
          "data": {
            "image/png": "[encoded data removed]",
            "text/plain": [
              "<Figure size 1080x360 with 2 Axes>"
            ]
          },
          "metadata": {
            "needs_background": "light"
          }
        }
      ]
    },
    {
      "cell_type": "code",
      "metadata": {
        "colab": {
          "base_uri": "https://localhost:8080/"
        },
        "id": "kILdpJDOmxce",
        "outputId": "000780f0-1b46-4211-f337-f2e7adfab884"
      },
      "source": [
        "y_pred = model.predict(X_val); # Overfit because train loss and val loss are very far\n",
        "y_pred = y_pred>=0.5\n",
        "print('Accuracy Score : '+str(accuracy_score(y_val, y_pred)))"
      ],
      "execution_count": 165,
      "outputs": [
        {
          "output_type": "stream",
          "name": "stdout",
          "text": [
            "Accuracy Score : 0.7727272727272727\n"
          ]
        }
      ]
    },
    {
      "cell_type": "markdown",
      "metadata": {
        "id": "m7KNip3hitLM"
      },
      "source": [
        "### Model 5: Dropout Model (Reduce Overfit)"
      ]
    },
    {
      "cell_type": "code",
      "metadata": {
        "id": "vKfkh5F1ixpy"
      },
      "source": [
        "# Model 3 : https://www.bualabs.com/archives/1533/what-is-dropout-benefits-dropout-reduce-overfit-deep-learning-training-model-deep-neural-network-regularization-ep-2/\n",
        "# Using default value (0.5)\n",
        "input = Input(shape=(150, 150, 1))\n",
        "x = Conv2D(32, (5, 5),padding='same',activation='relu')(input)\n",
        "x = MaxPool2D((3, 3))(x)\n",
        "x = Conv2D(64, (5, 5),padding='same',activation='relu')(x)\n",
        "x = MaxPool2D((3, 3))(x)\n",
        "x = Flatten()(x)\n",
        "x = Dropout(0.5)(x)\n",
        "output = Dense(1 ,activation='sigmoid')(x)\n",
        "model = Model(inputs=input, outputs=output)\n",
        "model.compile(optimizer='adam', loss='binary_crossentropy', metrics=['accuracy'])"
      ],
      "execution_count": 166,
      "outputs": []
    },
    {
      "cell_type": "code",
      "metadata": {
        "colab": {
          "base_uri": "https://localhost:8080/"
        },
        "id": "yGQ_eFDQi7pg",
        "outputId": "7b0d6021-e38c-4562-bb8e-5213572f6e4b"
      },
      "source": [
        "hist = model.fit(X_train, y_train, epochs=100, batch_size=32, validation_data=(X_val, y_val))"
      ],
      "execution_count": 167,
      "outputs": [
        {
          "output_type": "stream",
          "name": "stdout",
          "text": [
            "Epoch 1/100\n",
            "5/5 [==============================] - 3s 223ms/step - loss: 0.6707 - accuracy: 0.5303 - val_loss: 0.6696 - val_accuracy: 0.5682\n",
            "Epoch 2/100\n",
            "5/5 [==============================] - 0s 58ms/step - loss: 0.6075 - accuracy: 0.6212 - val_loss: 0.6393 - val_accuracy: 0.6136\n",
            "Epoch 3/100\n",
            "5/5 [==============================] - 0s 57ms/step - loss: 0.5551 - accuracy: 0.7045 - val_loss: 0.6259 - val_accuracy: 0.6364\n",
            "Epoch 4/100\n",
            "5/5 [==============================] - 0s 62ms/step - loss: 0.4833 - accuracy: 0.7727 - val_loss: 0.5599 - val_accuracy: 0.7273\n",
            "Epoch 5/100\n",
            "5/5 [==============================] - 0s 50ms/step - loss: 0.4265 - accuracy: 0.7955 - val_loss: 0.6336 - val_accuracy: 0.6591\n",
            "Epoch 6/100\n",
            "5/5 [==============================] - 0s 57ms/step - loss: 0.3915 - accuracy: 0.8409 - val_loss: 0.5523 - val_accuracy: 0.7500\n",
            "Epoch 7/100\n",
            "5/5 [==============================] - 0s 59ms/step - loss: 0.3145 - accuracy: 0.8788 - val_loss: 0.5512 - val_accuracy: 0.7273\n",
            "Epoch 8/100\n",
            "5/5 [==============================] - 0s 57ms/step - loss: 0.2826 - accuracy: 0.8712 - val_loss: 0.7046 - val_accuracy: 0.7727\n",
            "Epoch 9/100\n",
            "5/5 [==============================] - 0s 63ms/step - loss: 0.2496 - accuracy: 0.8939 - val_loss: 0.5690 - val_accuracy: 0.7273\n",
            "Epoch 10/100\n",
            "5/5 [==============================] - 0s 62ms/step - loss: 0.2484 - accuracy: 0.9091 - val_loss: 0.6341 - val_accuracy: 0.7273\n",
            "Epoch 11/100\n",
            "5/5 [==============================] - 0s 57ms/step - loss: 0.2135 - accuracy: 0.9167 - val_loss: 0.6414 - val_accuracy: 0.7727\n",
            "Epoch 12/100\n",
            "5/5 [==============================] - 0s 58ms/step - loss: 0.1847 - accuracy: 0.9167 - val_loss: 0.5923 - val_accuracy: 0.7500\n",
            "Epoch 13/100\n",
            "5/5 [==============================] - 0s 47ms/step - loss: 0.1606 - accuracy: 0.9394 - val_loss: 0.6299 - val_accuracy: 0.7500\n",
            "Epoch 14/100\n",
            "5/5 [==============================] - 0s 61ms/step - loss: 0.1414 - accuracy: 0.9545 - val_loss: 0.6671 - val_accuracy: 0.7273\n",
            "Epoch 15/100\n",
            "5/5 [==============================] - 0s 45ms/step - loss: 0.1314 - accuracy: 0.9470 - val_loss: 0.5296 - val_accuracy: 0.7500\n",
            "Epoch 16/100\n",
            "5/5 [==============================] - 0s 59ms/step - loss: 0.1407 - accuracy: 0.9318 - val_loss: 0.6692 - val_accuracy: 0.7273\n",
            "Epoch 17/100\n",
            "5/5 [==============================] - 0s 56ms/step - loss: 0.1091 - accuracy: 0.9470 - val_loss: 0.5020 - val_accuracy: 0.7955\n",
            "Epoch 18/100\n",
            "5/5 [==============================] - 0s 51ms/step - loss: 0.0943 - accuracy: 0.9697 - val_loss: 0.6171 - val_accuracy: 0.7500\n",
            "Epoch 19/100\n",
            "5/5 [==============================] - 0s 61ms/step - loss: 0.0826 - accuracy: 0.9773 - val_loss: 0.6251 - val_accuracy: 0.7500\n",
            "Epoch 20/100\n",
            "5/5 [==============================] - 0s 65ms/step - loss: 0.1092 - accuracy: 0.9545 - val_loss: 0.5636 - val_accuracy: 0.7727\n",
            "Epoch 21/100\n",
            "5/5 [==============================] - 0s 55ms/step - loss: 0.0841 - accuracy: 0.9773 - val_loss: 0.8167 - val_accuracy: 0.7273\n",
            "Epoch 22/100\n",
            "5/5 [==============================] - 0s 50ms/step - loss: 0.0514 - accuracy: 0.9924 - val_loss: 0.6512 - val_accuracy: 0.8182\n",
            "Epoch 23/100\n",
            "5/5 [==============================] - 0s 59ms/step - loss: 0.0695 - accuracy: 0.9621 - val_loss: 0.9986 - val_accuracy: 0.7273\n",
            "Epoch 24/100\n",
            "5/5 [==============================] - 0s 55ms/step - loss: 0.0758 - accuracy: 0.9773 - val_loss: 1.2978 - val_accuracy: 0.7273\n",
            "Epoch 25/100\n",
            "5/5 [==============================] - 0s 66ms/step - loss: 0.0632 - accuracy: 0.9773 - val_loss: 0.6473 - val_accuracy: 0.7727\n",
            "Epoch 26/100\n",
            "5/5 [==============================] - 0s 65ms/step - loss: 0.0649 - accuracy: 0.9848 - val_loss: 0.8928 - val_accuracy: 0.7273\n",
            "Epoch 27/100\n",
            "5/5 [==============================] - 0s 46ms/step - loss: 0.0604 - accuracy: 0.9848 - val_loss: 1.0987 - val_accuracy: 0.7273\n",
            "Epoch 28/100\n",
            "5/5 [==============================] - 0s 61ms/step - loss: 0.0620 - accuracy: 0.9848 - val_loss: 0.7325 - val_accuracy: 0.8182\n",
            "Epoch 29/100\n",
            "5/5 [==============================] - 0s 55ms/step - loss: 0.0334 - accuracy: 0.9924 - val_loss: 1.1614 - val_accuracy: 0.7273\n",
            "Epoch 30/100\n",
            "5/5 [==============================] - 0s 64ms/step - loss: 0.0404 - accuracy: 0.9773 - val_loss: 0.9503 - val_accuracy: 0.7727\n",
            "Epoch 31/100\n",
            "5/5 [==============================] - 0s 64ms/step - loss: 0.0169 - accuracy: 1.0000 - val_loss: 0.8376 - val_accuracy: 0.7727\n",
            "Epoch 32/100\n",
            "5/5 [==============================] - 0s 68ms/step - loss: 0.0289 - accuracy: 0.9924 - val_loss: 1.0159 - val_accuracy: 0.7500\n",
            "Epoch 33/100\n",
            "5/5 [==============================] - 0s 37ms/step - loss: 0.0182 - accuracy: 1.0000 - val_loss: 1.0495 - val_accuracy: 0.7500\n",
            "Epoch 34/100\n",
            "5/5 [==============================] - 0s 51ms/step - loss: 0.0148 - accuracy: 1.0000 - val_loss: 0.9349 - val_accuracy: 0.7955\n",
            "Epoch 35/100\n",
            "5/5 [==============================] - 0s 52ms/step - loss: 0.0176 - accuracy: 1.0000 - val_loss: 0.9250 - val_accuracy: 0.7955\n",
            "Epoch 36/100\n",
            "5/5 [==============================] - 0s 43ms/step - loss: 0.0113 - accuracy: 1.0000 - val_loss: 1.0406 - val_accuracy: 0.7727\n",
            "Epoch 37/100\n",
            "5/5 [==============================] - 0s 42ms/step - loss: 0.0251 - accuracy: 0.9848 - val_loss: 1.0664 - val_accuracy: 0.7500\n",
            "Epoch 38/100\n",
            "5/5 [==============================] - 0s 55ms/step - loss: 0.0286 - accuracy: 0.9848 - val_loss: 1.4033 - val_accuracy: 0.7273\n",
            "Epoch 39/100\n",
            "5/5 [==============================] - 0s 53ms/step - loss: 0.0392 - accuracy: 0.9924 - val_loss: 0.9031 - val_accuracy: 0.7955\n",
            "Epoch 40/100\n",
            "5/5 [==============================] - 0s 52ms/step - loss: 0.0140 - accuracy: 1.0000 - val_loss: 1.3460 - val_accuracy: 0.7500\n",
            "Epoch 41/100\n",
            "5/5 [==============================] - 0s 52ms/step - loss: 0.0198 - accuracy: 0.9924 - val_loss: 1.3452 - val_accuracy: 0.7500\n",
            "Epoch 42/100\n",
            "5/5 [==============================] - 0s 50ms/step - loss: 0.0144 - accuracy: 1.0000 - val_loss: 1.0455 - val_accuracy: 0.7500\n",
            "Epoch 43/100\n",
            "5/5 [==============================] - 0s 41ms/step - loss: 0.0131 - accuracy: 1.0000 - val_loss: 1.0438 - val_accuracy: 0.7500\n",
            "Epoch 44/100\n",
            "5/5 [==============================] - 0s 44ms/step - loss: 0.0108 - accuracy: 1.0000 - val_loss: 1.3086 - val_accuracy: 0.7500\n",
            "Epoch 45/100\n",
            "5/5 [==============================] - 0s 52ms/step - loss: 0.0062 - accuracy: 1.0000 - val_loss: 1.3837 - val_accuracy: 0.7500\n",
            "Epoch 46/100\n",
            "5/5 [==============================] - 0s 48ms/step - loss: 0.0145 - accuracy: 0.9924 - val_loss: 1.0234 - val_accuracy: 0.7500\n",
            "Epoch 47/100\n",
            "5/5 [==============================] - 0s 43ms/step - loss: 0.0195 - accuracy: 0.9924 - val_loss: 1.3561 - val_accuracy: 0.7500\n",
            "Epoch 48/100\n",
            "5/5 [==============================] - 0s 43ms/step - loss: 0.0065 - accuracy: 1.0000 - val_loss: 1.5109 - val_accuracy: 0.7273\n",
            "Epoch 49/100\n",
            "5/5 [==============================] - 0s 48ms/step - loss: 0.0053 - accuracy: 1.0000 - val_loss: 1.1124 - val_accuracy: 0.7727\n",
            "Epoch 50/100\n",
            "5/5 [==============================] - 0s 58ms/step - loss: 0.0122 - accuracy: 1.0000 - val_loss: 1.2399 - val_accuracy: 0.7500\n",
            "Epoch 51/100\n",
            "5/5 [==============================] - 0s 52ms/step - loss: 0.0023 - accuracy: 1.0000 - val_loss: 1.5399 - val_accuracy: 0.7273\n",
            "Epoch 52/100\n",
            "5/5 [==============================] - 0s 44ms/step - loss: 0.0077 - accuracy: 1.0000 - val_loss: 1.6491 - val_accuracy: 0.7273\n",
            "Epoch 53/100\n",
            "5/5 [==============================] - 0s 43ms/step - loss: 0.0073 - accuracy: 1.0000 - val_loss: 1.2669 - val_accuracy: 0.7727\n",
            "Epoch 54/100\n",
            "5/5 [==============================] - 0s 42ms/step - loss: 0.0066 - accuracy: 1.0000 - val_loss: 1.0221 - val_accuracy: 0.8182\n",
            "Epoch 55/100\n",
            "5/5 [==============================] - 0s 56ms/step - loss: 0.0103 - accuracy: 0.9924 - val_loss: 1.2409 - val_accuracy: 0.7727\n",
            "Epoch 56/100\n",
            "5/5 [==============================] - 0s 51ms/step - loss: 0.0078 - accuracy: 1.0000 - val_loss: 1.3814 - val_accuracy: 0.7727\n",
            "Epoch 57/100\n",
            "5/5 [==============================] - 0s 52ms/step - loss: 0.0055 - accuracy: 1.0000 - val_loss: 1.3360 - val_accuracy: 0.7500\n",
            "Epoch 58/100\n",
            "5/5 [==============================] - 0s 45ms/step - loss: 0.0023 - accuracy: 1.0000 - val_loss: 1.3041 - val_accuracy: 0.7500\n",
            "Epoch 59/100\n",
            "5/5 [==============================] - 0s 51ms/step - loss: 0.0032 - accuracy: 1.0000 - val_loss: 1.4015 - val_accuracy: 0.7500\n",
            "Epoch 60/100\n",
            "5/5 [==============================] - 0s 44ms/step - loss: 0.0018 - accuracy: 1.0000 - val_loss: 1.4477 - val_accuracy: 0.7500\n",
            "Epoch 61/100\n",
            "5/5 [==============================] - 0s 50ms/step - loss: 0.0019 - accuracy: 1.0000 - val_loss: 1.4710 - val_accuracy: 0.7500\n",
            "Epoch 62/100\n",
            "5/5 [==============================] - 0s 43ms/step - loss: 0.0057 - accuracy: 1.0000 - val_loss: 1.2834 - val_accuracy: 0.7500\n",
            "Epoch 63/100\n",
            "5/5 [==============================] - 0s 41ms/step - loss: 0.0013 - accuracy: 1.0000 - val_loss: 1.1693 - val_accuracy: 0.7727\n",
            "Epoch 64/100\n",
            "5/5 [==============================] - 0s 52ms/step - loss: 0.0022 - accuracy: 1.0000 - val_loss: 1.1471 - val_accuracy: 0.7955\n",
            "Epoch 65/100\n",
            "5/5 [==============================] - 0s 52ms/step - loss: 0.0029 - accuracy: 1.0000 - val_loss: 1.2958 - val_accuracy: 0.7500\n",
            "Epoch 66/100\n",
            "5/5 [==============================] - 0s 51ms/step - loss: 0.0018 - accuracy: 1.0000 - val_loss: 1.4172 - val_accuracy: 0.7500\n",
            "Epoch 67/100\n",
            "5/5 [==============================] - 0s 53ms/step - loss: 0.0027 - accuracy: 1.0000 - val_loss: 1.4225 - val_accuracy: 0.7500\n",
            "Epoch 68/100\n",
            "5/5 [==============================] - 0s 42ms/step - loss: 0.0017 - accuracy: 1.0000 - val_loss: 1.4198 - val_accuracy: 0.7500\n",
            "Epoch 69/100\n",
            "5/5 [==============================] - 0s 56ms/step - loss: 0.0046 - accuracy: 1.0000 - val_loss: 1.2681 - val_accuracy: 0.7500\n",
            "Epoch 70/100\n",
            "5/5 [==============================] - 0s 48ms/step - loss: 0.0011 - accuracy: 1.0000 - val_loss: 1.2169 - val_accuracy: 0.7727\n",
            "Epoch 71/100\n",
            "5/5 [==============================] - 0s 46ms/step - loss: 0.0024 - accuracy: 1.0000 - val_loss: 1.2967 - val_accuracy: 0.7500\n",
            "Epoch 72/100\n",
            "5/5 [==============================] - 0s 50ms/step - loss: 0.0024 - accuracy: 1.0000 - val_loss: 1.4554 - val_accuracy: 0.7500\n",
            "Epoch 73/100\n",
            "5/5 [==============================] - 0s 50ms/step - loss: 0.0022 - accuracy: 1.0000 - val_loss: 1.5514 - val_accuracy: 0.7500\n",
            "Epoch 74/100\n",
            "5/5 [==============================] - 0s 42ms/step - loss: 0.0018 - accuracy: 1.0000 - val_loss: 1.5416 - val_accuracy: 0.7500\n",
            "Epoch 75/100\n",
            "5/5 [==============================] - 0s 57ms/step - loss: 0.0063 - accuracy: 1.0000 - val_loss: 1.1859 - val_accuracy: 0.7955\n",
            "Epoch 76/100\n",
            "5/5 [==============================] - 0s 44ms/step - loss: 0.0042 - accuracy: 1.0000 - val_loss: 1.1625 - val_accuracy: 0.8182\n",
            "Epoch 77/100\n",
            "5/5 [==============================] - 0s 42ms/step - loss: 0.0067 - accuracy: 1.0000 - val_loss: 1.9931 - val_accuracy: 0.7273\n",
            "Epoch 78/100\n",
            "5/5 [==============================] - 0s 51ms/step - loss: 0.0900 - accuracy: 0.9621 - val_loss: 2.0818 - val_accuracy: 0.7273\n",
            "Epoch 79/100\n",
            "5/5 [==============================] - 0s 54ms/step - loss: 0.0382 - accuracy: 0.9848 - val_loss: 1.1903 - val_accuracy: 0.8182\n",
            "Epoch 80/100\n",
            "5/5 [==============================] - 0s 53ms/step - loss: 0.0086 - accuracy: 1.0000 - val_loss: 1.7097 - val_accuracy: 0.7500\n",
            "Epoch 81/100\n",
            "5/5 [==============================] - 0s 46ms/step - loss: 0.0066 - accuracy: 1.0000 - val_loss: 1.7515 - val_accuracy: 0.7273\n",
            "Epoch 82/100\n",
            "5/5 [==============================] - 0s 54ms/step - loss: 0.0037 - accuracy: 1.0000 - val_loss: 1.6354 - val_accuracy: 0.7955\n",
            "Epoch 83/100\n",
            "5/5 [==============================] - 0s 42ms/step - loss: 0.0031 - accuracy: 1.0000 - val_loss: 1.5882 - val_accuracy: 0.7955\n",
            "Epoch 84/100\n",
            "5/5 [==============================] - 0s 44ms/step - loss: 0.0019 - accuracy: 1.0000 - val_loss: 1.6395 - val_accuracy: 0.7955\n",
            "Epoch 85/100\n",
            "5/5 [==============================] - 0s 56ms/step - loss: 0.0043 - accuracy: 1.0000 - val_loss: 1.6687 - val_accuracy: 0.7955\n",
            "Epoch 86/100\n",
            "5/5 [==============================] - 0s 53ms/step - loss: 0.0012 - accuracy: 1.0000 - val_loss: 1.6182 - val_accuracy: 0.7955\n",
            "Epoch 87/100\n",
            "5/5 [==============================] - 0s 42ms/step - loss: 0.0097 - accuracy: 0.9924 - val_loss: 1.3977 - val_accuracy: 0.8182\n",
            "Epoch 88/100\n",
            "5/5 [==============================] - 0s 42ms/step - loss: 0.0060 - accuracy: 1.0000 - val_loss: 1.4573 - val_accuracy: 0.8182\n",
            "Epoch 89/100\n",
            "5/5 [==============================] - 0s 41ms/step - loss: 0.0069 - accuracy: 0.9924 - val_loss: 2.0859 - val_accuracy: 0.7273\n",
            "Epoch 90/100\n",
            "5/5 [==============================] - 0s 51ms/step - loss: 0.0484 - accuracy: 0.9697 - val_loss: 2.2195 - val_accuracy: 0.7273\n",
            "Epoch 91/100\n",
            "5/5 [==============================] - 0s 56ms/step - loss: 0.0303 - accuracy: 0.9924 - val_loss: 1.1284 - val_accuracy: 0.8409\n",
            "Epoch 92/100\n",
            "5/5 [==============================] - 0s 53ms/step - loss: 0.0428 - accuracy: 0.9924 - val_loss: 2.8298 - val_accuracy: 0.7045\n",
            "Epoch 93/100\n",
            "5/5 [==============================] - 0s 52ms/step - loss: 0.1616 - accuracy: 0.9545 - val_loss: 2.0625 - val_accuracy: 0.7500\n",
            "Epoch 94/100\n",
            "5/5 [==============================] - 0s 52ms/step - loss: 0.0036 - accuracy: 1.0000 - val_loss: 1.3401 - val_accuracy: 0.7727\n",
            "Epoch 95/100\n",
            "5/5 [==============================] - 0s 52ms/step - loss: 0.0781 - accuracy: 0.9773 - val_loss: 1.7064 - val_accuracy: 0.7727\n",
            "Epoch 96/100\n",
            "5/5 [==============================] - 0s 56ms/step - loss: 0.0202 - accuracy: 0.9924 - val_loss: 2.3133 - val_accuracy: 0.7273\n",
            "Epoch 97/100\n",
            "5/5 [==============================] - 0s 55ms/step - loss: 0.0482 - accuracy: 0.9848 - val_loss: 1.8187 - val_accuracy: 0.7500\n",
            "Epoch 98/100\n",
            "5/5 [==============================] - 0s 55ms/step - loss: 0.0147 - accuracy: 0.9924 - val_loss: 1.2736 - val_accuracy: 0.7727\n",
            "Epoch 99/100\n",
            "5/5 [==============================] - 0s 56ms/step - loss: 0.0128 - accuracy: 0.9924 - val_loss: 1.2250 - val_accuracy: 0.7955\n",
            "Epoch 100/100\n",
            "5/5 [==============================] - 0s 52ms/step - loss: 0.0018 - accuracy: 1.0000 - val_loss: 1.3195 - val_accuracy: 0.8182\n"
          ]
        }
      ]
    },
    {
      "cell_type": "code",
      "metadata": {
        "colab": {
          "base_uri": "https://localhost:8080/",
          "height": 355
        },
        "id": "B2OW52yqi-F9",
        "outputId": "bfab3e43-8645-4f46-d84f-c4959b428379"
      },
      "source": [
        "fig, ax = plt.subplots(1, 2, figsize=(15, 5))\n",
        "ax[0].set_title('loss')\n",
        "ax[0].plot(hist.epoch, hist.history['loss'], label='train loss')\n",
        "ax[0].plot(hist.epoch, hist.history['val_loss'], label='val loss')\n",
        "ax[1].set_title('accuracy')\n",
        "ax[1].plot(hist.epoch, hist.history['accuracy'], label='train accuracy')\n",
        "ax[1].plot(hist.epoch, hist.history['val_accuracy'], label='val accuracy')\n",
        "ax[0].legend()\n",
        "ax[1].legend()"
      ],
      "execution_count": 168,
      "outputs": [
        {
          "output_type": "execute_result",
          "data": {
            "text/plain": [
              "<matplotlib.legend.Legend at 0x7faf70f90090>"
            ]
          },
          "metadata": {},
          "execution_count": 168
        },
        {
          "output_type": "display_data",
          "data": {
            "image/png": "[encoded data removed]",
            "text/plain": [
              "<Figure size 1080x360 with 2 Axes>"
            ]
          },
          "metadata": {
            "needs_background": "light"
          }
        }
      ]
    },
    {
      "cell_type": "code",
      "metadata": {
        "colab": {
          "base_uri": "https://localhost:8080/"
        },
        "id": "UwMCLCPpjoo9",
        "outputId": "6e5417e3-85cc-4e4e-9c60-22bfd0fd6729"
      },
      "source": [
        "y_pred = model.predict(X_val); # Less overfit\n",
        "y_pred = y_pred>=0.5\n",
        "print('Accuracy Score : '+str(accuracy_score(y_val, y_pred)))"
      ],
      "execution_count": 170,
      "outputs": [
        {
          "output_type": "stream",
          "name": "stdout",
          "text": [
            "Accuracy Score : 0.8181818181818182\n"
          ]
        }
      ]
    }
  ]
}